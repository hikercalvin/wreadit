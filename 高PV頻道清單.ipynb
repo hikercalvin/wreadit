{
 "cells": [
  {
   "cell_type": "code",
   "execution_count": 2,
   "source": [
    "from dateutil import parser\r\n",
    "from plotly.offline import download_plotlyjs, init_notebook_mode, plot, iplot\r\n",
    "import plotly.graph_objs as go\r\n",
    "import pandas as pd\r\n",
    "import re \r\n",
    "import numpy as np"
   ],
   "outputs": [],
   "metadata": {}
  },
  {
   "cell_type": "code",
   "execution_count": 6,
   "source": [
    "all_data = pd.read_csv(\"Pagevalue_20210101-20200810.csv\")"
   ],
   "outputs": [],
   "metadata": {}
  },
  {
   "cell_type": "code",
   "execution_count": 7,
   "source": [
    "pv_data = pd.read_csv('系列PV綜整.csv')"
   ],
   "outputs": [],
   "metadata": {}
  },
  {
   "cell_type": "code",
   "execution_count": 8,
   "source": [
    "all_data_2021 = pd.read_csv('process_data_pv.csv')"
   ],
   "outputs": [],
   "metadata": {}
  },
  {
   "cell_type": "code",
   "execution_count": 9,
   "source": [
    "pv_data"
   ],
   "outputs": [
    {
     "output_type": "execute_result",
     "data": {
      "text/plain": [
       "   Unnamed: 0    頻道   瀏覽量\n",
       "0           6  美食旅遊  2924\n",
       "1           2  娛樂遊戲  2682\n",
       "2           5  生活休閒  2403\n",
       "3           3  寰宇綜合  1197\n",
       "4           8  金融理財  1026\n",
       "5           0  3c科技   873\n",
       "6           1  健康運動   594\n",
       "7           4  時尚美妝   531\n",
       "8           7  親子育兒   306"
      ],
      "text/html": [
       "<div>\n",
       "<style scoped>\n",
       "    .dataframe tbody tr th:only-of-type {\n",
       "        vertical-align: middle;\n",
       "    }\n",
       "\n",
       "    .dataframe tbody tr th {\n",
       "        vertical-align: top;\n",
       "    }\n",
       "\n",
       "    .dataframe thead th {\n",
       "        text-align: right;\n",
       "    }\n",
       "</style>\n",
       "<table border=\"1\" class=\"dataframe\">\n",
       "  <thead>\n",
       "    <tr style=\"text-align: right;\">\n",
       "      <th></th>\n",
       "      <th>Unnamed: 0</th>\n",
       "      <th>頻道</th>\n",
       "      <th>瀏覽量</th>\n",
       "    </tr>\n",
       "  </thead>\n",
       "  <tbody>\n",
       "    <tr>\n",
       "      <th>0</th>\n",
       "      <td>6</td>\n",
       "      <td>美食旅遊</td>\n",
       "      <td>2924</td>\n",
       "    </tr>\n",
       "    <tr>\n",
       "      <th>1</th>\n",
       "      <td>2</td>\n",
       "      <td>娛樂遊戲</td>\n",
       "      <td>2682</td>\n",
       "    </tr>\n",
       "    <tr>\n",
       "      <th>2</th>\n",
       "      <td>5</td>\n",
       "      <td>生活休閒</td>\n",
       "      <td>2403</td>\n",
       "    </tr>\n",
       "    <tr>\n",
       "      <th>3</th>\n",
       "      <td>3</td>\n",
       "      <td>寰宇綜合</td>\n",
       "      <td>1197</td>\n",
       "    </tr>\n",
       "    <tr>\n",
       "      <th>4</th>\n",
       "      <td>8</td>\n",
       "      <td>金融理財</td>\n",
       "      <td>1026</td>\n",
       "    </tr>\n",
       "    <tr>\n",
       "      <th>5</th>\n",
       "      <td>0</td>\n",
       "      <td>3c科技</td>\n",
       "      <td>873</td>\n",
       "    </tr>\n",
       "    <tr>\n",
       "      <th>6</th>\n",
       "      <td>1</td>\n",
       "      <td>健康運動</td>\n",
       "      <td>594</td>\n",
       "    </tr>\n",
       "    <tr>\n",
       "      <th>7</th>\n",
       "      <td>4</td>\n",
       "      <td>時尚美妝</td>\n",
       "      <td>531</td>\n",
       "    </tr>\n",
       "    <tr>\n",
       "      <th>8</th>\n",
       "      <td>7</td>\n",
       "      <td>親子育兒</td>\n",
       "      <td>306</td>\n",
       "    </tr>\n",
       "  </tbody>\n",
       "</table>\n",
       "</div>"
      ]
     },
     "metadata": {},
     "execution_count": 9
    }
   ],
   "metadata": {}
  },
  {
   "cell_type": "code",
   "execution_count": 10,
   "source": [
    "pv_data[\"瀏覽量佔比\"] = pv_data[\"瀏覽量\"] / pv_data[\"瀏覽量\"].sum()"
   ],
   "outputs": [],
   "metadata": {}
  },
  {
   "cell_type": "code",
   "execution_count": 13,
   "source": [
    "pv_data[\"累計瀏覽量佔比\"] = pv_data[\"瀏覽量佔比\"].cumsum()"
   ],
   "outputs": [],
   "metadata": {}
  },
  {
   "cell_type": "code",
   "execution_count": 14,
   "source": [
    "pv_data"
   ],
   "outputs": [
    {
     "output_type": "execute_result",
     "data": {
      "text/plain": [
       "   Unnamed: 0    頻道   瀏覽量     瀏覽量佔比   累計瀏覽量佔比\n",
       "0           6  美食旅遊  2924  0.233248  0.233248\n",
       "1           2  娛樂遊戲  2682  0.213944  0.447192\n",
       "2           5  生活休閒  2403  0.191688  0.638880\n",
       "3           3  寰宇綜合  1197  0.095485  0.734365\n",
       "4           8  金融理財  1026  0.081844  0.816209\n",
       "5           0  3c科技   873  0.069639  0.885849\n",
       "6           1  健康運動   594  0.047384  0.933232\n",
       "7           4  時尚美妝   531  0.042358  0.975590\n",
       "8           7  親子育兒   306  0.024410  1.000000"
      ],
      "text/html": [
       "<div>\n",
       "<style scoped>\n",
       "    .dataframe tbody tr th:only-of-type {\n",
       "        vertical-align: middle;\n",
       "    }\n",
       "\n",
       "    .dataframe tbody tr th {\n",
       "        vertical-align: top;\n",
       "    }\n",
       "\n",
       "    .dataframe thead th {\n",
       "        text-align: right;\n",
       "    }\n",
       "</style>\n",
       "<table border=\"1\" class=\"dataframe\">\n",
       "  <thead>\n",
       "    <tr style=\"text-align: right;\">\n",
       "      <th></th>\n",
       "      <th>Unnamed: 0</th>\n",
       "      <th>頻道</th>\n",
       "      <th>瀏覽量</th>\n",
       "      <th>瀏覽量佔比</th>\n",
       "      <th>累計瀏覽量佔比</th>\n",
       "    </tr>\n",
       "  </thead>\n",
       "  <tbody>\n",
       "    <tr>\n",
       "      <th>0</th>\n",
       "      <td>6</td>\n",
       "      <td>美食旅遊</td>\n",
       "      <td>2924</td>\n",
       "      <td>0.233248</td>\n",
       "      <td>0.233248</td>\n",
       "    </tr>\n",
       "    <tr>\n",
       "      <th>1</th>\n",
       "      <td>2</td>\n",
       "      <td>娛樂遊戲</td>\n",
       "      <td>2682</td>\n",
       "      <td>0.213944</td>\n",
       "      <td>0.447192</td>\n",
       "    </tr>\n",
       "    <tr>\n",
       "      <th>2</th>\n",
       "      <td>5</td>\n",
       "      <td>生活休閒</td>\n",
       "      <td>2403</td>\n",
       "      <td>0.191688</td>\n",
       "      <td>0.638880</td>\n",
       "    </tr>\n",
       "    <tr>\n",
       "      <th>3</th>\n",
       "      <td>3</td>\n",
       "      <td>寰宇綜合</td>\n",
       "      <td>1197</td>\n",
       "      <td>0.095485</td>\n",
       "      <td>0.734365</td>\n",
       "    </tr>\n",
       "    <tr>\n",
       "      <th>4</th>\n",
       "      <td>8</td>\n",
       "      <td>金融理財</td>\n",
       "      <td>1026</td>\n",
       "      <td>0.081844</td>\n",
       "      <td>0.816209</td>\n",
       "    </tr>\n",
       "    <tr>\n",
       "      <th>5</th>\n",
       "      <td>0</td>\n",
       "      <td>3c科技</td>\n",
       "      <td>873</td>\n",
       "      <td>0.069639</td>\n",
       "      <td>0.885849</td>\n",
       "    </tr>\n",
       "    <tr>\n",
       "      <th>6</th>\n",
       "      <td>1</td>\n",
       "      <td>健康運動</td>\n",
       "      <td>594</td>\n",
       "      <td>0.047384</td>\n",
       "      <td>0.933232</td>\n",
       "    </tr>\n",
       "    <tr>\n",
       "      <th>7</th>\n",
       "      <td>4</td>\n",
       "      <td>時尚美妝</td>\n",
       "      <td>531</td>\n",
       "      <td>0.042358</td>\n",
       "      <td>0.975590</td>\n",
       "    </tr>\n",
       "    <tr>\n",
       "      <th>8</th>\n",
       "      <td>7</td>\n",
       "      <td>親子育兒</td>\n",
       "      <td>306</td>\n",
       "      <td>0.024410</td>\n",
       "      <td>1.000000</td>\n",
       "    </tr>\n",
       "  </tbody>\n",
       "</table>\n",
       "</div>"
      ]
     },
     "metadata": {},
     "execution_count": 14
    }
   ],
   "metadata": {}
  },
  {
   "cell_type": "code",
   "execution_count": 15,
   "source": [
    "#頻道比\r\n",
    "pv_data[\"累計頻道次數\"] = range(1, len(pv_data)+1)"
   ],
   "outputs": [],
   "metadata": {}
  },
  {
   "cell_type": "code",
   "execution_count": 17,
   "source": [
    "pv_data[\"累計頻道佔比\"] = pv_data[\"累計頻道次數\"] / len(pv_data) "
   ],
   "outputs": [],
   "metadata": {}
  },
  {
   "cell_type": "code",
   "execution_count": 18,
   "source": [
    "pv_data"
   ],
   "outputs": [
    {
     "output_type": "execute_result",
     "data": {
      "text/plain": [
       "   Unnamed: 0    頻道   瀏覽量     瀏覽量佔比   累計瀏覽量佔比  累計頻道次數    累計頻道佔比\n",
       "0           6  美食旅遊  2924  0.233248  0.233248       1  0.111111\n",
       "1           2  娛樂遊戲  2682  0.213944  0.447192       2  0.222222\n",
       "2           5  生活休閒  2403  0.191688  0.638880       3  0.333333\n",
       "3           3  寰宇綜合  1197  0.095485  0.734365       4  0.444444\n",
       "4           8  金融理財  1026  0.081844  0.816209       5  0.555556\n",
       "5           0  3c科技   873  0.069639  0.885849       6  0.666667\n",
       "6           1  健康運動   594  0.047384  0.933232       7  0.777778\n",
       "7           4  時尚美妝   531  0.042358  0.975590       8  0.888889\n",
       "8           7  親子育兒   306  0.024410  1.000000       9  1.000000"
      ],
      "text/html": [
       "<div>\n",
       "<style scoped>\n",
       "    .dataframe tbody tr th:only-of-type {\n",
       "        vertical-align: middle;\n",
       "    }\n",
       "\n",
       "    .dataframe tbody tr th {\n",
       "        vertical-align: top;\n",
       "    }\n",
       "\n",
       "    .dataframe thead th {\n",
       "        text-align: right;\n",
       "    }\n",
       "</style>\n",
       "<table border=\"1\" class=\"dataframe\">\n",
       "  <thead>\n",
       "    <tr style=\"text-align: right;\">\n",
       "      <th></th>\n",
       "      <th>Unnamed: 0</th>\n",
       "      <th>頻道</th>\n",
       "      <th>瀏覽量</th>\n",
       "      <th>瀏覽量佔比</th>\n",
       "      <th>累計瀏覽量佔比</th>\n",
       "      <th>累計頻道次數</th>\n",
       "      <th>累計頻道佔比</th>\n",
       "    </tr>\n",
       "  </thead>\n",
       "  <tbody>\n",
       "    <tr>\n",
       "      <th>0</th>\n",
       "      <td>6</td>\n",
       "      <td>美食旅遊</td>\n",
       "      <td>2924</td>\n",
       "      <td>0.233248</td>\n",
       "      <td>0.233248</td>\n",
       "      <td>1</td>\n",
       "      <td>0.111111</td>\n",
       "    </tr>\n",
       "    <tr>\n",
       "      <th>1</th>\n",
       "      <td>2</td>\n",
       "      <td>娛樂遊戲</td>\n",
       "      <td>2682</td>\n",
       "      <td>0.213944</td>\n",
       "      <td>0.447192</td>\n",
       "      <td>2</td>\n",
       "      <td>0.222222</td>\n",
       "    </tr>\n",
       "    <tr>\n",
       "      <th>2</th>\n",
       "      <td>5</td>\n",
       "      <td>生活休閒</td>\n",
       "      <td>2403</td>\n",
       "      <td>0.191688</td>\n",
       "      <td>0.638880</td>\n",
       "      <td>3</td>\n",
       "      <td>0.333333</td>\n",
       "    </tr>\n",
       "    <tr>\n",
       "      <th>3</th>\n",
       "      <td>3</td>\n",
       "      <td>寰宇綜合</td>\n",
       "      <td>1197</td>\n",
       "      <td>0.095485</td>\n",
       "      <td>0.734365</td>\n",
       "      <td>4</td>\n",
       "      <td>0.444444</td>\n",
       "    </tr>\n",
       "    <tr>\n",
       "      <th>4</th>\n",
       "      <td>8</td>\n",
       "      <td>金融理財</td>\n",
       "      <td>1026</td>\n",
       "      <td>0.081844</td>\n",
       "      <td>0.816209</td>\n",
       "      <td>5</td>\n",
       "      <td>0.555556</td>\n",
       "    </tr>\n",
       "    <tr>\n",
       "      <th>5</th>\n",
       "      <td>0</td>\n",
       "      <td>3c科技</td>\n",
       "      <td>873</td>\n",
       "      <td>0.069639</td>\n",
       "      <td>0.885849</td>\n",
       "      <td>6</td>\n",
       "      <td>0.666667</td>\n",
       "    </tr>\n",
       "    <tr>\n",
       "      <th>6</th>\n",
       "      <td>1</td>\n",
       "      <td>健康運動</td>\n",
       "      <td>594</td>\n",
       "      <td>0.047384</td>\n",
       "      <td>0.933232</td>\n",
       "      <td>7</td>\n",
       "      <td>0.777778</td>\n",
       "    </tr>\n",
       "    <tr>\n",
       "      <th>7</th>\n",
       "      <td>4</td>\n",
       "      <td>時尚美妝</td>\n",
       "      <td>531</td>\n",
       "      <td>0.042358</td>\n",
       "      <td>0.975590</td>\n",
       "      <td>8</td>\n",
       "      <td>0.888889</td>\n",
       "    </tr>\n",
       "    <tr>\n",
       "      <th>8</th>\n",
       "      <td>7</td>\n",
       "      <td>親子育兒</td>\n",
       "      <td>306</td>\n",
       "      <td>0.024410</td>\n",
       "      <td>1.000000</td>\n",
       "      <td>9</td>\n",
       "      <td>1.000000</td>\n",
       "    </tr>\n",
       "  </tbody>\n",
       "</table>\n",
       "</div>"
      ]
     },
     "metadata": {},
     "execution_count": 18
    }
   ],
   "metadata": {}
  },
  {
   "cell_type": "code",
   "execution_count": 19,
   "source": [
    "# 四捨五入\r\n",
    "pv_data= round(pv_data, 2)"
   ],
   "outputs": [],
   "metadata": {}
  },
  {
   "cell_type": "code",
   "execution_count": 20,
   "source": [
    "pv_data.to_csv(\"0_高PV頻道組合清單.csv\", encoding= \"utf-8-sig\")"
   ],
   "outputs": [],
   "metadata": {}
  },
  {
   "cell_type": "code",
   "execution_count": 22,
   "source": [
    "# 篩選貢獻80%PV的文章\r\n",
    "pv_percent = 0.8\r\n",
    "\r\n",
    "# 問題：抓取小於且等於「累計利潤佔比」的產品\r\n",
    "pv_data_selected = pv_data[pv_data[\"累計瀏覽量佔比\"]<=pv_percent]\r\n",
    "pv_data_selected"
   ],
   "outputs": [
    {
     "output_type": "execute_result",
     "data": {
      "text/plain": [
       "   Unnamed: 0    頻道   瀏覽量  瀏覽量佔比  累計瀏覽量佔比  累計頻道次數  累計頻道佔比\n",
       "0           6  美食旅遊  2924   0.23     0.23       1    0.11\n",
       "1           2  娛樂遊戲  2682   0.21     0.45       2    0.22\n",
       "2           5  生活休閒  2403   0.19     0.64       3    0.33\n",
       "3           3  寰宇綜合  1197   0.10     0.73       4    0.44"
      ],
      "text/html": [
       "<div>\n",
       "<style scoped>\n",
       "    .dataframe tbody tr th:only-of-type {\n",
       "        vertical-align: middle;\n",
       "    }\n",
       "\n",
       "    .dataframe tbody tr th {\n",
       "        vertical-align: top;\n",
       "    }\n",
       "\n",
       "    .dataframe thead th {\n",
       "        text-align: right;\n",
       "    }\n",
       "</style>\n",
       "<table border=\"1\" class=\"dataframe\">\n",
       "  <thead>\n",
       "    <tr style=\"text-align: right;\">\n",
       "      <th></th>\n",
       "      <th>Unnamed: 0</th>\n",
       "      <th>頻道</th>\n",
       "      <th>瀏覽量</th>\n",
       "      <th>瀏覽量佔比</th>\n",
       "      <th>累計瀏覽量佔比</th>\n",
       "      <th>累計頻道次數</th>\n",
       "      <th>累計頻道佔比</th>\n",
       "    </tr>\n",
       "  </thead>\n",
       "  <tbody>\n",
       "    <tr>\n",
       "      <th>0</th>\n",
       "      <td>6</td>\n",
       "      <td>美食旅遊</td>\n",
       "      <td>2924</td>\n",
       "      <td>0.23</td>\n",
       "      <td>0.23</td>\n",
       "      <td>1</td>\n",
       "      <td>0.11</td>\n",
       "    </tr>\n",
       "    <tr>\n",
       "      <th>1</th>\n",
       "      <td>2</td>\n",
       "      <td>娛樂遊戲</td>\n",
       "      <td>2682</td>\n",
       "      <td>0.21</td>\n",
       "      <td>0.45</td>\n",
       "      <td>2</td>\n",
       "      <td>0.22</td>\n",
       "    </tr>\n",
       "    <tr>\n",
       "      <th>2</th>\n",
       "      <td>5</td>\n",
       "      <td>生活休閒</td>\n",
       "      <td>2403</td>\n",
       "      <td>0.19</td>\n",
       "      <td>0.64</td>\n",
       "      <td>3</td>\n",
       "      <td>0.33</td>\n",
       "    </tr>\n",
       "    <tr>\n",
       "      <th>3</th>\n",
       "      <td>3</td>\n",
       "      <td>寰宇綜合</td>\n",
       "      <td>1197</td>\n",
       "      <td>0.10</td>\n",
       "      <td>0.73</td>\n",
       "      <td>4</td>\n",
       "      <td>0.44</td>\n",
       "    </tr>\n",
       "  </tbody>\n",
       "</table>\n",
       "</div>"
      ]
     },
     "metadata": {},
     "execution_count": 22
    }
   ],
   "metadata": {}
  },
  {
   "cell_type": "code",
   "execution_count": 27,
   "source": [
    "pv_data_selected.to_csv( '1_' + '貢獻' + str(pv_percent*100) + '%的' + '高PV頻道組合清單'+'.csv' , encoding = 'utf-8-sig')"
   ],
   "outputs": [],
   "metadata": {}
  },
  {
   "cell_type": "code",
   "execution_count": 29,
   "source": [
    "import plotly.express as px\r\n",
    "\r\n",
    "fig = px.bar(pv_data, x='頻道', y='瀏覽量佔比',\r\n",
    "             hover_data=['累計瀏覽量佔比', '累計頻道佔比'], \r\n",
    "             color='瀏覽量',\r\n",
    "             text = '累計瀏覽量佔比',\r\n",
    "             height= 400,\r\n",
    "             title='高PV頻道組合長條圖'\r\n",
    "             )\r\n",
    "fig.update_traces( textposition='outside')\r\n",
    "plot(fig, filename= '0_高PV頻道組合長條圖.html')"
   ],
   "outputs": [
    {
     "output_type": "execute_result",
     "data": {
      "text/plain": [
       "'0_高PV頻道組合長條圖.html'"
      ]
     },
     "metadata": {},
     "execution_count": 29
    }
   ],
   "metadata": {}
  },
  {
   "cell_type": "code",
   "execution_count": 30,
   "source": [
    "#篩選貢獻80%PV的頻道\r\n",
    "import plotly.express as px\r\n",
    "\r\n",
    "fig = px.bar(pv_data, x='頻道', y='瀏覽量佔比',\r\n",
    "             hover_data=['累計瀏覽量佔比', '累計頻道佔比'], \r\n",
    "             color='瀏覽量',\r\n",
    "             text = '累計瀏覽量佔比',\r\n",
    "             height= 600,\r\n",
    "             title=\"貢獻\" + str(pv_percent*100) + \"%的\" + '高PV頻道組合長條圖'\r\n",
    "             )\r\n",
    "fig.update_traces( textposition='outside')\r\n",
    "plot(fig, filename= \"1_高PV_\" + \"貢獻\" + str(pv_percent*100) + \"%的\" + '高PV頻道組合長條圖.html')"
   ],
   "outputs": [
    {
     "output_type": "execute_result",
     "data": {
      "text/plain": [
       "'1_高PV_貢獻80.0%的高PV頻道組合長條圖.html'"
      ]
     },
     "metadata": {},
     "execution_count": 30
    }
   ],
   "metadata": {}
  },
  {
   "cell_type": "code",
   "execution_count": null,
   "source": [],
   "outputs": [],
   "metadata": {}
  }
 ],
 "metadata": {
  "orig_nbformat": 4,
  "language_info": {
   "name": "python",
   "version": "3.7.9",
   "mimetype": "text/x-python",
   "codemirror_mode": {
    "name": "ipython",
    "version": 3
   },
   "pygments_lexer": "ipython3",
   "nbconvert_exporter": "python",
   "file_extension": ".py"
  },
  "kernelspec": {
   "name": "python3",
   "display_name": "Python 3.7.9 64-bit"
  },
  "interpreter": {
   "hash": "959132b49615f13f630dc734f9094f552b96240b5e799cd7fd7b08689b4b82c5"
  }
 },
 "nbformat": 4,
 "nbformat_minor": 2
}