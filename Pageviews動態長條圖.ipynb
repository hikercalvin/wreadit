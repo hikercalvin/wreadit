{
 "cells": [
  {
   "cell_type": "code",
   "execution_count": 8,
   "source": [
    "!pip install pandas"
   ],
   "outputs": [
    {
     "output_type": "stream",
     "name": "stdout",
     "text": [
      "Requirement already satisfied: pandas in c:\\programdata\\anaconda3\\lib\\site-packages (1.2.4)\n",
      "Requirement already satisfied: python-dateutil>=2.7.3 in c:\\programdata\\anaconda3\\lib\\site-packages (from pandas) (2.8.1)\n",
      "Requirement already satisfied: pytz>=2017.3 in c:\\programdata\\anaconda3\\lib\\site-packages (from pandas) (2021.1)\n",
      "Requirement already satisfied: numpy>=1.16.5 in c:\\programdata\\anaconda3\\lib\\site-packages (from pandas) (1.20.1)\n",
      "Requirement already satisfied: six>=1.5 in c:\\programdata\\anaconda3\\lib\\site-packages (from python-dateutil>=2.7.3->pandas) (1.15.0)\n"
     ]
    }
   ],
   "metadata": {}
  },
  {
   "cell_type": "code",
   "execution_count": 14,
   "source": [
    "import pandas as pd\r\n",
    "import numpy as np\r\n",
    "from datetime import timedelta, datetime\r\n",
    "import os\r\n",
    "import plotly.express as px\r\n",
    "from plotly.offline import download_plotlyjs, init_notebook_mode, plot, iplot"
   ],
   "outputs": [],
   "metadata": {}
  },
  {
   "cell_type": "code",
   "execution_count": 30,
   "source": [
    "all_data = pd.read_csv('Pagevalue_20210101-20200810.csv')"
   ],
   "outputs": [],
   "metadata": {}
  },
  {
   "cell_type": "code",
   "execution_count": 31,
   "source": [
    "print(all_data)"
   ],
   "outputs": [
    {
     "output_type": "stream",
     "name": "stdout",
     "text": [
      "                   20_Hit Timestamp 04_Navigation Channel  \\\n",
      "0     2021-04-25T22:53:08.885+08:00                  美食旅遊   \n",
      "1     2021-04-24T00:06:11.811+08:00                  時尚美妝   \n",
      "2     2021-05-12T09:16:02.962+08:00                  寰宇綜合   \n",
      "3     2021-01-14T12:23:33.647+08:00                  美食旅遊   \n",
      "4     2021-01-18T14:34:12.533+08:00                  娛樂遊戲   \n",
      "...                             ...                   ...   \n",
      "1387  2021-01-14T11:32:33.437+08:00                  生活休閒   \n",
      "1388  2021-01-11T12:02:09.632+08:00                  美食旅遊   \n",
      "1389  2021-03-09T18:16:26.769+08:00                  娛樂遊戲   \n",
      "1390  2021-04-27T16:58:55.911+08:00                  健康運動   \n",
      "1391  2021-08-09T19:49:26.552+08:00                  寰宇綜合   \n",
      "\n",
      "                                       03_Content Title  Unique Pageviews  \\\n",
      "0                                         嘉義美食X國民特色排隊小吃                 0   \n",
      "1     2021未來媽媽/廢財闖天關/巡天者等...華劇女主角教你如何從女孩穿到女人~可不能錯過的！...                 0   \n",
      "2                                   特殊經歷：聯合國，我為什麼選擇離開了你                 9   \n",
      "3     【TOP10南機場夜市必吃小吃】台北最強夜市懶人包｜阿男麻油雞、山內雞肉、好記刀削麵、八棟圓...                 0   \n",
      "4                       《柏捷頓家族》（Bridgerton）小說第四集「情聖的戀愛」                 0   \n",
      "...                                                 ...               ...   \n",
      "1387                      艾姬答客問：他是愛上妳還是愛「上」妳？ - 艾姬的情慾故事                 9   \n",
      "1388                         【高雄】草衙道鈴鹿賽道樂園-卡丁車初體驗「飆速求生」                 9   \n",
      "1389                           運彩NBA 2021 西區 NBA球員名單大公開                 9   \n",
      "1390                         超震撼！李光洙宣布退出RM，病痛纏身告別11年節目！                 9   \n",
      "1391                      鬼故事大全 - 有沒有覺得肩膀很重 ! 看完讓你不敢睡 !                 9   \n",
      "\n",
      "      Pageviews  Page Value  \n",
      "0            17    0.000000  \n",
      "1             9    0.000000  \n",
      "2             9    9.527927  \n",
      "3             9    0.000000  \n",
      "4             9    0.000000  \n",
      "...         ...         ...  \n",
      "1387          9    0.000000  \n",
      "1388          9    0.952793  \n",
      "1389          9    0.000000  \n",
      "1390          9    0.000000  \n",
      "1391          9    0.000000  \n",
      "\n",
      "[1392 rows x 6 columns]\n"
     ]
    }
   ],
   "metadata": {}
  },
  {
   "cell_type": "code",
   "execution_count": 32,
   "source": [
    "all_data.info()"
   ],
   "outputs": [
    {
     "output_type": "stream",
     "name": "stdout",
     "text": [
      "<class 'pandas.core.frame.DataFrame'>\n",
      "RangeIndex: 1392 entries, 0 to 1391\n",
      "Data columns (total 6 columns):\n",
      " #   Column                 Non-Null Count  Dtype  \n",
      "---  ------                 --------------  -----  \n",
      " 0   20_Hit Timestamp       1392 non-null   object \n",
      " 1   04_Navigation Channel  1392 non-null   object \n",
      " 2   03_Content Title       1392 non-null   object \n",
      " 3   Unique Pageviews       1392 non-null   int64  \n",
      " 4   Pageviews              1392 non-null   int64  \n",
      " 5   Page Value             1392 non-null   float64\n",
      "dtypes: float64(1), int64(2), object(3)\n",
      "memory usage: 65.4+ KB\n"
     ]
    }
   ],
   "metadata": {}
  },
  {
   "cell_type": "code",
   "execution_count": 33,
   "source": [
    "all_data.columns"
   ],
   "outputs": [
    {
     "output_type": "execute_result",
     "data": {
      "text/plain": [
       "Index(['20_Hit Timestamp', '04_Navigation Channel', '03_Content Title',\n",
       "       'Unique Pageviews', 'Pageviews', 'Page Value'],\n",
       "      dtype='object')"
      ]
     },
     "metadata": {},
     "execution_count": 33
    }
   ],
   "metadata": {}
  },
  {
   "cell_type": "code",
   "execution_count": 34,
   "source": [
    "print(all_data['20_Hit Timestamp'])"
   ],
   "outputs": [
    {
     "output_type": "stream",
     "name": "stdout",
     "text": [
      "0       2021-04-25T22:53:08.885+08:00\n",
      "1       2021-04-24T00:06:11.811+08:00\n",
      "2       2021-05-12T09:16:02.962+08:00\n",
      "3       2021-01-14T12:23:33.647+08:00\n",
      "4       2021-01-18T14:34:12.533+08:00\n",
      "                    ...              \n",
      "1387    2021-01-14T11:32:33.437+08:00\n",
      "1388    2021-01-11T12:02:09.632+08:00\n",
      "1389    2021-03-09T18:16:26.769+08:00\n",
      "1390    2021-04-27T16:58:55.911+08:00\n",
      "1391    2021-08-09T19:49:26.552+08:00\n",
      "Name: 20_Hit Timestamp, Length: 1392, dtype: object\n"
     ]
    }
   ],
   "metadata": {}
  },
  {
   "cell_type": "code",
   "execution_count": 35,
   "source": [
    "Timestamp = [e[:19] for e in all_data[\"20_Hit Timestamp\"]]\r\n",
    "all_data[\"Timestamp\"] = Timestamp\r\n",
    "all_data"
   ],
   "outputs": [
    {
     "output_type": "execute_result",
     "data": {
      "text/plain": [
       "                   20_Hit Timestamp 04_Navigation Channel  \\\n",
       "0     2021-04-25T22:53:08.885+08:00                  美食旅遊   \n",
       "1     2021-04-24T00:06:11.811+08:00                  時尚美妝   \n",
       "2     2021-05-12T09:16:02.962+08:00                  寰宇綜合   \n",
       "3     2021-01-14T12:23:33.647+08:00                  美食旅遊   \n",
       "4     2021-01-18T14:34:12.533+08:00                  娛樂遊戲   \n",
       "...                             ...                   ...   \n",
       "1387  2021-01-14T11:32:33.437+08:00                  生活休閒   \n",
       "1388  2021-01-11T12:02:09.632+08:00                  美食旅遊   \n",
       "1389  2021-03-09T18:16:26.769+08:00                  娛樂遊戲   \n",
       "1390  2021-04-27T16:58:55.911+08:00                  健康運動   \n",
       "1391  2021-08-09T19:49:26.552+08:00                  寰宇綜合   \n",
       "\n",
       "                                       03_Content Title  Unique Pageviews  \\\n",
       "0                                         嘉義美食X國民特色排隊小吃                 0   \n",
       "1     2021未來媽媽/廢財闖天關/巡天者等...華劇女主角教你如何從女孩穿到女人~可不能錯過的！...                 0   \n",
       "2                                   特殊經歷：聯合國，我為什麼選擇離開了你                 9   \n",
       "3     【TOP10南機場夜市必吃小吃】台北最強夜市懶人包｜阿男麻油雞、山內雞肉、好記刀削麵、八棟圓...                 0   \n",
       "4                       《柏捷頓家族》（Bridgerton）小說第四集「情聖的戀愛」                 0   \n",
       "...                                                 ...               ...   \n",
       "1387                      艾姬答客問：他是愛上妳還是愛「上」妳？ - 艾姬的情慾故事                 9   \n",
       "1388                         【高雄】草衙道鈴鹿賽道樂園-卡丁車初體驗「飆速求生」                 9   \n",
       "1389                           運彩NBA 2021 西區 NBA球員名單大公開                 9   \n",
       "1390                         超震撼！李光洙宣布退出RM，病痛纏身告別11年節目！                 9   \n",
       "1391                      鬼故事大全 - 有沒有覺得肩膀很重 ! 看完讓你不敢睡 !                 9   \n",
       "\n",
       "      Pageviews  Page Value            Timestamp  \n",
       "0            17    0.000000  2021-04-25T22:53:08  \n",
       "1             9    0.000000  2021-04-24T00:06:11  \n",
       "2             9    9.527927  2021-05-12T09:16:02  \n",
       "3             9    0.000000  2021-01-14T12:23:33  \n",
       "4             9    0.000000  2021-01-18T14:34:12  \n",
       "...         ...         ...                  ...  \n",
       "1387          9    0.000000  2021-01-14T11:32:33  \n",
       "1388          9    0.952793  2021-01-11T12:02:09  \n",
       "1389          9    0.000000  2021-03-09T18:16:26  \n",
       "1390          9    0.000000  2021-04-27T16:58:55  \n",
       "1391          9    0.000000  2021-08-09T19:49:26  \n",
       "\n",
       "[1392 rows x 7 columns]"
      ],
      "text/html": [
       "<div>\n",
       "<style scoped>\n",
       "    .dataframe tbody tr th:only-of-type {\n",
       "        vertical-align: middle;\n",
       "    }\n",
       "\n",
       "    .dataframe tbody tr th {\n",
       "        vertical-align: top;\n",
       "    }\n",
       "\n",
       "    .dataframe thead th {\n",
       "        text-align: right;\n",
       "    }\n",
       "</style>\n",
       "<table border=\"1\" class=\"dataframe\">\n",
       "  <thead>\n",
       "    <tr style=\"text-align: right;\">\n",
       "      <th></th>\n",
       "      <th>20_Hit Timestamp</th>\n",
       "      <th>04_Navigation Channel</th>\n",
       "      <th>03_Content Title</th>\n",
       "      <th>Unique Pageviews</th>\n",
       "      <th>Pageviews</th>\n",
       "      <th>Page Value</th>\n",
       "      <th>Timestamp</th>\n",
       "    </tr>\n",
       "  </thead>\n",
       "  <tbody>\n",
       "    <tr>\n",
       "      <th>0</th>\n",
       "      <td>2021-04-25T22:53:08.885+08:00</td>\n",
       "      <td>美食旅遊</td>\n",
       "      <td>嘉義美食X國民特色排隊小吃</td>\n",
       "      <td>0</td>\n",
       "      <td>17</td>\n",
       "      <td>0.000000</td>\n",
       "      <td>2021-04-25T22:53:08</td>\n",
       "    </tr>\n",
       "    <tr>\n",
       "      <th>1</th>\n",
       "      <td>2021-04-24T00:06:11.811+08:00</td>\n",
       "      <td>時尚美妝</td>\n",
       "      <td>2021未來媽媽/廢財闖天關/巡天者等...華劇女主角教你如何從女孩穿到女人~可不能錯過的！...</td>\n",
       "      <td>0</td>\n",
       "      <td>9</td>\n",
       "      <td>0.000000</td>\n",
       "      <td>2021-04-24T00:06:11</td>\n",
       "    </tr>\n",
       "    <tr>\n",
       "      <th>2</th>\n",
       "      <td>2021-05-12T09:16:02.962+08:00</td>\n",
       "      <td>寰宇綜合</td>\n",
       "      <td>特殊經歷：聯合國，我為什麼選擇離開了你</td>\n",
       "      <td>9</td>\n",
       "      <td>9</td>\n",
       "      <td>9.527927</td>\n",
       "      <td>2021-05-12T09:16:02</td>\n",
       "    </tr>\n",
       "    <tr>\n",
       "      <th>3</th>\n",
       "      <td>2021-01-14T12:23:33.647+08:00</td>\n",
       "      <td>美食旅遊</td>\n",
       "      <td>【TOP10南機場夜市必吃小吃】台北最強夜市懶人包｜阿男麻油雞、山內雞肉、好記刀削麵、八棟圓...</td>\n",
       "      <td>0</td>\n",
       "      <td>9</td>\n",
       "      <td>0.000000</td>\n",
       "      <td>2021-01-14T12:23:33</td>\n",
       "    </tr>\n",
       "    <tr>\n",
       "      <th>4</th>\n",
       "      <td>2021-01-18T14:34:12.533+08:00</td>\n",
       "      <td>娛樂遊戲</td>\n",
       "      <td>《柏捷頓家族》（Bridgerton）小說第四集「情聖的戀愛」</td>\n",
       "      <td>0</td>\n",
       "      <td>9</td>\n",
       "      <td>0.000000</td>\n",
       "      <td>2021-01-18T14:34:12</td>\n",
       "    </tr>\n",
       "    <tr>\n",
       "      <th>...</th>\n",
       "      <td>...</td>\n",
       "      <td>...</td>\n",
       "      <td>...</td>\n",
       "      <td>...</td>\n",
       "      <td>...</td>\n",
       "      <td>...</td>\n",
       "      <td>...</td>\n",
       "    </tr>\n",
       "    <tr>\n",
       "      <th>1387</th>\n",
       "      <td>2021-01-14T11:32:33.437+08:00</td>\n",
       "      <td>生活休閒</td>\n",
       "      <td>艾姬答客問：他是愛上妳還是愛「上」妳？ - 艾姬的情慾故事</td>\n",
       "      <td>9</td>\n",
       "      <td>9</td>\n",
       "      <td>0.000000</td>\n",
       "      <td>2021-01-14T11:32:33</td>\n",
       "    </tr>\n",
       "    <tr>\n",
       "      <th>1388</th>\n",
       "      <td>2021-01-11T12:02:09.632+08:00</td>\n",
       "      <td>美食旅遊</td>\n",
       "      <td>【高雄】草衙道鈴鹿賽道樂園-卡丁車初體驗「飆速求生」</td>\n",
       "      <td>9</td>\n",
       "      <td>9</td>\n",
       "      <td>0.952793</td>\n",
       "      <td>2021-01-11T12:02:09</td>\n",
       "    </tr>\n",
       "    <tr>\n",
       "      <th>1389</th>\n",
       "      <td>2021-03-09T18:16:26.769+08:00</td>\n",
       "      <td>娛樂遊戲</td>\n",
       "      <td>運彩NBA 2021 西區 NBA球員名單大公開</td>\n",
       "      <td>9</td>\n",
       "      <td>9</td>\n",
       "      <td>0.000000</td>\n",
       "      <td>2021-03-09T18:16:26</td>\n",
       "    </tr>\n",
       "    <tr>\n",
       "      <th>1390</th>\n",
       "      <td>2021-04-27T16:58:55.911+08:00</td>\n",
       "      <td>健康運動</td>\n",
       "      <td>超震撼！李光洙宣布退出RM，病痛纏身告別11年節目！</td>\n",
       "      <td>9</td>\n",
       "      <td>9</td>\n",
       "      <td>0.000000</td>\n",
       "      <td>2021-04-27T16:58:55</td>\n",
       "    </tr>\n",
       "    <tr>\n",
       "      <th>1391</th>\n",
       "      <td>2021-08-09T19:49:26.552+08:00</td>\n",
       "      <td>寰宇綜合</td>\n",
       "      <td>鬼故事大全 - 有沒有覺得肩膀很重 ! 看完讓你不敢睡 !</td>\n",
       "      <td>9</td>\n",
       "      <td>9</td>\n",
       "      <td>0.000000</td>\n",
       "      <td>2021-08-09T19:49:26</td>\n",
       "    </tr>\n",
       "  </tbody>\n",
       "</table>\n",
       "<p>1392 rows × 7 columns</p>\n",
       "</div>"
      ]
     },
     "metadata": {},
     "execution_count": 35
    }
   ],
   "metadata": {}
  },
  {
   "cell_type": "code",
   "execution_count": 36,
   "source": [
    "all_data[\"Timestamp\"] = all_data[\"Timestamp\"].str.replace(\"T\", \" \")\r\n",
    "all_data[\"Timestamp\"]"
   ],
   "outputs": [
    {
     "output_type": "execute_result",
     "data": {
      "text/plain": [
       "0       2021-04-25 22:53:08\n",
       "1       2021-04-24 00:06:11\n",
       "2       2021-05-12 09:16:02\n",
       "3       2021-01-14 12:23:33\n",
       "4       2021-01-18 14:34:12\n",
       "               ...         \n",
       "1387    2021-01-14 11:32:33\n",
       "1388    2021-01-11 12:02:09\n",
       "1389    2021-03-09 18:16:26\n",
       "1390    2021-04-27 16:58:55\n",
       "1391    2021-08-09 19:49:26\n",
       "Name: Timestamp, Length: 1392, dtype: object"
      ]
     },
     "metadata": {},
     "execution_count": 36
    }
   ],
   "metadata": {}
  },
  {
   "cell_type": "code",
   "execution_count": 37,
   "source": [
    "all_data[\"Timestamp\"] = pd.to_datetime(all_data[\"Timestamp\"])"
   ],
   "outputs": [],
   "metadata": {}
  },
  {
   "cell_type": "code",
   "execution_count": 40,
   "source": [
    "for_bar_data = all_data.groupby(\"04_Navigation Channel\", as_index= False)[\"Pageviews\"].sum()"
   ],
   "outputs": [],
   "metadata": {}
  },
  {
   "cell_type": "code",
   "execution_count": 41,
   "source": [
    "for_bar_data"
   ],
   "outputs": [
    {
     "output_type": "execute_result",
     "data": {
      "text/plain": [
       "  04_Navigation Channel  Pageviews\n",
       "0                  3c科技        873\n",
       "1                  健康運動        594\n",
       "2                  娛樂遊戲       2682\n",
       "3                  寰宇綜合       1197\n",
       "4                  時尚美妝        531\n",
       "5                  生活休閒       2403\n",
       "6                  美食旅遊       2924\n",
       "7                  親子育兒        306\n",
       "8                  金融理財       1026"
      ],
      "text/html": [
       "<div>\n",
       "<style scoped>\n",
       "    .dataframe tbody tr th:only-of-type {\n",
       "        vertical-align: middle;\n",
       "    }\n",
       "\n",
       "    .dataframe tbody tr th {\n",
       "        vertical-align: top;\n",
       "    }\n",
       "\n",
       "    .dataframe thead th {\n",
       "        text-align: right;\n",
       "    }\n",
       "</style>\n",
       "<table border=\"1\" class=\"dataframe\">\n",
       "  <thead>\n",
       "    <tr style=\"text-align: right;\">\n",
       "      <th></th>\n",
       "      <th>04_Navigation Channel</th>\n",
       "      <th>Pageviews</th>\n",
       "    </tr>\n",
       "  </thead>\n",
       "  <tbody>\n",
       "    <tr>\n",
       "      <th>0</th>\n",
       "      <td>3c科技</td>\n",
       "      <td>873</td>\n",
       "    </tr>\n",
       "    <tr>\n",
       "      <th>1</th>\n",
       "      <td>健康運動</td>\n",
       "      <td>594</td>\n",
       "    </tr>\n",
       "    <tr>\n",
       "      <th>2</th>\n",
       "      <td>娛樂遊戲</td>\n",
       "      <td>2682</td>\n",
       "    </tr>\n",
       "    <tr>\n",
       "      <th>3</th>\n",
       "      <td>寰宇綜合</td>\n",
       "      <td>1197</td>\n",
       "    </tr>\n",
       "    <tr>\n",
       "      <th>4</th>\n",
       "      <td>時尚美妝</td>\n",
       "      <td>531</td>\n",
       "    </tr>\n",
       "    <tr>\n",
       "      <th>5</th>\n",
       "      <td>生活休閒</td>\n",
       "      <td>2403</td>\n",
       "    </tr>\n",
       "    <tr>\n",
       "      <th>6</th>\n",
       "      <td>美食旅遊</td>\n",
       "      <td>2924</td>\n",
       "    </tr>\n",
       "    <tr>\n",
       "      <th>7</th>\n",
       "      <td>親子育兒</td>\n",
       "      <td>306</td>\n",
       "    </tr>\n",
       "    <tr>\n",
       "      <th>8</th>\n",
       "      <td>金融理財</td>\n",
       "      <td>1026</td>\n",
       "    </tr>\n",
       "  </tbody>\n",
       "</table>\n",
       "</div>"
      ]
     },
     "metadata": {},
     "execution_count": 41
    }
   ],
   "metadata": {}
  },
  {
   "cell_type": "code",
   "execution_count": 42,
   "source": [
    "for_bar_data.to_csv('系列PV綜整.csv', encoding = 'utf-8-sig')"
   ],
   "outputs": [],
   "metadata": {}
  },
  {
   "cell_type": "markdown",
   "source": [],
   "metadata": {}
  },
  {
   "cell_type": "code",
   "execution_count": 43,
   "source": [
    "all_data.to_csv(\"process_data_pv.csv\", encoding = \"utf-8-sig\")"
   ],
   "outputs": [],
   "metadata": {}
  },
  {
   "cell_type": "code",
   "execution_count": 45,
   "source": [
    "for_bar_data = for_bar_data.sort_values(\"Pageviews\", ascending = False)\r\n",
    "for_bar_data"
   ],
   "outputs": [
    {
     "output_type": "execute_result",
     "data": {
      "text/plain": [
       "  04_Navigation Channel  Pageviews\n",
       "6                  美食旅遊       2924\n",
       "2                  娛樂遊戲       2682\n",
       "5                  生活休閒       2403\n",
       "3                  寰宇綜合       1197\n",
       "8                  金融理財       1026\n",
       "0                  3c科技        873\n",
       "1                  健康運動        594\n",
       "4                  時尚美妝        531\n",
       "7                  親子育兒        306"
      ],
      "text/html": [
       "<div>\n",
       "<style scoped>\n",
       "    .dataframe tbody tr th:only-of-type {\n",
       "        vertical-align: middle;\n",
       "    }\n",
       "\n",
       "    .dataframe tbody tr th {\n",
       "        vertical-align: top;\n",
       "    }\n",
       "\n",
       "    .dataframe thead th {\n",
       "        text-align: right;\n",
       "    }\n",
       "</style>\n",
       "<table border=\"1\" class=\"dataframe\">\n",
       "  <thead>\n",
       "    <tr style=\"text-align: right;\">\n",
       "      <th></th>\n",
       "      <th>04_Navigation Channel</th>\n",
       "      <th>Pageviews</th>\n",
       "    </tr>\n",
       "  </thead>\n",
       "  <tbody>\n",
       "    <tr>\n",
       "      <th>6</th>\n",
       "      <td>美食旅遊</td>\n",
       "      <td>2924</td>\n",
       "    </tr>\n",
       "    <tr>\n",
       "      <th>2</th>\n",
       "      <td>娛樂遊戲</td>\n",
       "      <td>2682</td>\n",
       "    </tr>\n",
       "    <tr>\n",
       "      <th>5</th>\n",
       "      <td>生活休閒</td>\n",
       "      <td>2403</td>\n",
       "    </tr>\n",
       "    <tr>\n",
       "      <th>3</th>\n",
       "      <td>寰宇綜合</td>\n",
       "      <td>1197</td>\n",
       "    </tr>\n",
       "    <tr>\n",
       "      <th>8</th>\n",
       "      <td>金融理財</td>\n",
       "      <td>1026</td>\n",
       "    </tr>\n",
       "    <tr>\n",
       "      <th>0</th>\n",
       "      <td>3c科技</td>\n",
       "      <td>873</td>\n",
       "    </tr>\n",
       "    <tr>\n",
       "      <th>1</th>\n",
       "      <td>健康運動</td>\n",
       "      <td>594</td>\n",
       "    </tr>\n",
       "    <tr>\n",
       "      <th>4</th>\n",
       "      <td>時尚美妝</td>\n",
       "      <td>531</td>\n",
       "    </tr>\n",
       "    <tr>\n",
       "      <th>7</th>\n",
       "      <td>親子育兒</td>\n",
       "      <td>306</td>\n",
       "    </tr>\n",
       "  </tbody>\n",
       "</table>\n",
       "</div>"
      ]
     },
     "metadata": {},
     "execution_count": 45
    }
   ],
   "metadata": {}
  },
  {
   "cell_type": "code",
   "execution_count": 48,
   "source": [
    "for_bar_data.columns"
   ],
   "outputs": [
    {
     "output_type": "execute_result",
     "data": {
      "text/plain": [
       "Index(['04_Navigation Channel', 'Pageviews'], dtype='object')"
      ]
     },
     "metadata": {},
     "execution_count": 48
    }
   ],
   "metadata": {}
  },
  {
   "cell_type": "code",
   "execution_count": 50,
   "source": [
    "#改變欄位名稱\r\n",
    "for_bar_data = for_bar_data.rename(columns = {\"04_Navigation Channel\":\"頻道\", \"Pageviews\":\"瀏覽量\"})\r\n",
    "for_bar_data"
   ],
   "outputs": [
    {
     "output_type": "execute_result",
     "data": {
      "text/plain": [
       "     頻道   瀏覽量\n",
       "6  美食旅遊  2924\n",
       "2  娛樂遊戲  2682\n",
       "5  生活休閒  2403\n",
       "3  寰宇綜合  1197\n",
       "8  金融理財  1026\n",
       "0  3c科技   873\n",
       "1  健康運動   594\n",
       "4  時尚美妝   531\n",
       "7  親子育兒   306"
      ],
      "text/html": [
       "<div>\n",
       "<style scoped>\n",
       "    .dataframe tbody tr th:only-of-type {\n",
       "        vertical-align: middle;\n",
       "    }\n",
       "\n",
       "    .dataframe tbody tr th {\n",
       "        vertical-align: top;\n",
       "    }\n",
       "\n",
       "    .dataframe thead th {\n",
       "        text-align: right;\n",
       "    }\n",
       "</style>\n",
       "<table border=\"1\" class=\"dataframe\">\n",
       "  <thead>\n",
       "    <tr style=\"text-align: right;\">\n",
       "      <th></th>\n",
       "      <th>頻道</th>\n",
       "      <th>瀏覽量</th>\n",
       "    </tr>\n",
       "  </thead>\n",
       "  <tbody>\n",
       "    <tr>\n",
       "      <th>6</th>\n",
       "      <td>美食旅遊</td>\n",
       "      <td>2924</td>\n",
       "    </tr>\n",
       "    <tr>\n",
       "      <th>2</th>\n",
       "      <td>娛樂遊戲</td>\n",
       "      <td>2682</td>\n",
       "    </tr>\n",
       "    <tr>\n",
       "      <th>5</th>\n",
       "      <td>生活休閒</td>\n",
       "      <td>2403</td>\n",
       "    </tr>\n",
       "    <tr>\n",
       "      <th>3</th>\n",
       "      <td>寰宇綜合</td>\n",
       "      <td>1197</td>\n",
       "    </tr>\n",
       "    <tr>\n",
       "      <th>8</th>\n",
       "      <td>金融理財</td>\n",
       "      <td>1026</td>\n",
       "    </tr>\n",
       "    <tr>\n",
       "      <th>0</th>\n",
       "      <td>3c科技</td>\n",
       "      <td>873</td>\n",
       "    </tr>\n",
       "    <tr>\n",
       "      <th>1</th>\n",
       "      <td>健康運動</td>\n",
       "      <td>594</td>\n",
       "    </tr>\n",
       "    <tr>\n",
       "      <th>4</th>\n",
       "      <td>時尚美妝</td>\n",
       "      <td>531</td>\n",
       "    </tr>\n",
       "    <tr>\n",
       "      <th>7</th>\n",
       "      <td>親子育兒</td>\n",
       "      <td>306</td>\n",
       "    </tr>\n",
       "  </tbody>\n",
       "</table>\n",
       "</div>"
      ]
     },
     "metadata": {},
     "execution_count": 50
    }
   ],
   "metadata": {}
  },
  {
   "cell_type": "code",
   "execution_count": 52,
   "source": [
    "fig = px.bar(for_bar_data,\r\n",
    "             x = '頻道', y = '瀏覽量',\r\n",
    "             title='2020年各頻道瀏覽量排序長條圖(WR會員)_依據瀏覽量由大至小排序' ,\r\n",
    "             color = '瀏覽量')\r\n",
    "\r\n",
    "# 於notebook產出動態圖\r\n",
    "iplot(fig)\r\n",
    "\r\n",
    "# 於檔案總管產出html動態圖\r\n",
    "plot(fig, filename = '2020年各頻道瀏覽量排序長條圖(WR會員)_依據瀏覽量由大至小排序.html')"
   ],
   "outputs": [
    {
     "output_type": "display_data",
     "data": {
      "application/vnd.plotly.v1+json": {
       "config": {
        "linkText": "Export to plot.ly",
        "plotlyServerURL": "https://plot.ly",
        "showLink": false
       },
       "data": [
        {
         "alignmentgroup": "True",
         "hovertemplate": "頻道=%{x}<br>瀏覽量=%{marker.color}<extra></extra>",
         "legendgroup": "",
         "marker": {
          "color": [
           2924,
           2682,
           2403,
           1197,
           1026,
           873,
           594,
           531,
           306
          ],
          "coloraxis": "coloraxis",
          "pattern": {
           "shape": ""
          }
         },
         "name": "",
         "offsetgroup": "",
         "orientation": "v",
         "showlegend": false,
         "textposition": "auto",
         "type": "bar",
         "x": [
          "美食旅遊",
          "娛樂遊戲",
          "生活休閒",
          "寰宇綜合",
          "金融理財",
          "3c科技",
          "健康運動",
          "時尚美妝",
          "親子育兒"
         ],
         "xaxis": "x",
         "y": [
          2924,
          2682,
          2403,
          1197,
          1026,
          873,
          594,
          531,
          306
         ],
         "yaxis": "y"
        }
       ],
       "layout": {
        "barmode": "relative",
        "coloraxis": {
         "colorbar": {
          "title": {
           "text": "瀏覽量"
          }
         },
         "colorscale": [
          [
           0,
           "#0d0887"
          ],
          [
           0.1111111111111111,
           "#46039f"
          ],
          [
           0.2222222222222222,
           "#7201a8"
          ],
          [
           0.3333333333333333,
           "#9c179e"
          ],
          [
           0.4444444444444444,
           "#bd3786"
          ],
          [
           0.5555555555555556,
           "#d8576b"
          ],
          [
           0.6666666666666666,
           "#ed7953"
          ],
          [
           0.7777777777777778,
           "#fb9f3a"
          ],
          [
           0.8888888888888888,
           "#fdca26"
          ],
          [
           1,
           "#f0f921"
          ]
         ]
        },
        "legend": {
         "tracegroupgap": 0
        },
        "template": {
         "data": {
          "bar": [
           {
            "error_x": {
             "color": "#2a3f5f"
            },
            "error_y": {
             "color": "#2a3f5f"
            },
            "marker": {
             "line": {
              "color": "#E5ECF6",
              "width": 0.5
             },
             "pattern": {
              "fillmode": "overlay",
              "size": 10,
              "solidity": 0.2
             }
            },
            "type": "bar"
           }
          ],
          "barpolar": [
           {
            "marker": {
             "line": {
              "color": "#E5ECF6",
              "width": 0.5
             },
             "pattern": {
              "fillmode": "overlay",
              "size": 10,
              "solidity": 0.2
             }
            },
            "type": "barpolar"
           }
          ],
          "carpet": [
           {
            "aaxis": {
             "endlinecolor": "#2a3f5f",
             "gridcolor": "white",
             "linecolor": "white",
             "minorgridcolor": "white",
             "startlinecolor": "#2a3f5f"
            },
            "baxis": {
             "endlinecolor": "#2a3f5f",
             "gridcolor": "white",
             "linecolor": "white",
             "minorgridcolor": "white",
             "startlinecolor": "#2a3f5f"
            },
            "type": "carpet"
           }
          ],
          "choropleth": [
           {
            "colorbar": {
             "outlinewidth": 0,
             "ticks": ""
            },
            "type": "choropleth"
           }
          ],
          "contour": [
           {
            "colorbar": {
             "outlinewidth": 0,
             "ticks": ""
            },
            "colorscale": [
             [
              0,
              "#0d0887"
             ],
             [
              0.1111111111111111,
              "#46039f"
             ],
             [
              0.2222222222222222,
              "#7201a8"
             ],
             [
              0.3333333333333333,
              "#9c179e"
             ],
             [
              0.4444444444444444,
              "#bd3786"
             ],
             [
              0.5555555555555556,
              "#d8576b"
             ],
             [
              0.6666666666666666,
              "#ed7953"
             ],
             [
              0.7777777777777778,
              "#fb9f3a"
             ],
             [
              0.8888888888888888,
              "#fdca26"
             ],
             [
              1,
              "#f0f921"
             ]
            ],
            "type": "contour"
           }
          ],
          "contourcarpet": [
           {
            "colorbar": {
             "outlinewidth": 0,
             "ticks": ""
            },
            "type": "contourcarpet"
           }
          ],
          "heatmap": [
           {
            "colorbar": {
             "outlinewidth": 0,
             "ticks": ""
            },
            "colorscale": [
             [
              0,
              "#0d0887"
             ],
             [
              0.1111111111111111,
              "#46039f"
             ],
             [
              0.2222222222222222,
              "#7201a8"
             ],
             [
              0.3333333333333333,
              "#9c179e"
             ],
             [
              0.4444444444444444,
              "#bd3786"
             ],
             [
              0.5555555555555556,
              "#d8576b"
             ],
             [
              0.6666666666666666,
              "#ed7953"
             ],
             [
              0.7777777777777778,
              "#fb9f3a"
             ],
             [
              0.8888888888888888,
              "#fdca26"
             ],
             [
              1,
              "#f0f921"
             ]
            ],
            "type": "heatmap"
           }
          ],
          "heatmapgl": [
           {
            "colorbar": {
             "outlinewidth": 0,
             "ticks": ""
            },
            "colorscale": [
             [
              0,
              "#0d0887"
             ],
             [
              0.1111111111111111,
              "#46039f"
             ],
             [
              0.2222222222222222,
              "#7201a8"
             ],
             [
              0.3333333333333333,
              "#9c179e"
             ],
             [
              0.4444444444444444,
              "#bd3786"
             ],
             [
              0.5555555555555556,
              "#d8576b"
             ],
             [
              0.6666666666666666,
              "#ed7953"
             ],
             [
              0.7777777777777778,
              "#fb9f3a"
             ],
             [
              0.8888888888888888,
              "#fdca26"
             ],
             [
              1,
              "#f0f921"
             ]
            ],
            "type": "heatmapgl"
           }
          ],
          "histogram": [
           {
            "marker": {
             "pattern": {
              "fillmode": "overlay",
              "size": 10,
              "solidity": 0.2
             }
            },
            "type": "histogram"
           }
          ],
          "histogram2d": [
           {
            "colorbar": {
             "outlinewidth": 0,
             "ticks": ""
            },
            "colorscale": [
             [
              0,
              "#0d0887"
             ],
             [
              0.1111111111111111,
              "#46039f"
             ],
             [
              0.2222222222222222,
              "#7201a8"
             ],
             [
              0.3333333333333333,
              "#9c179e"
             ],
             [
              0.4444444444444444,
              "#bd3786"
             ],
             [
              0.5555555555555556,
              "#d8576b"
             ],
             [
              0.6666666666666666,
              "#ed7953"
             ],
             [
              0.7777777777777778,
              "#fb9f3a"
             ],
             [
              0.8888888888888888,
              "#fdca26"
             ],
             [
              1,
              "#f0f921"
             ]
            ],
            "type": "histogram2d"
           }
          ],
          "histogram2dcontour": [
           {
            "colorbar": {
             "outlinewidth": 0,
             "ticks": ""
            },
            "colorscale": [
             [
              0,
              "#0d0887"
             ],
             [
              0.1111111111111111,
              "#46039f"
             ],
             [
              0.2222222222222222,
              "#7201a8"
             ],
             [
              0.3333333333333333,
              "#9c179e"
             ],
             [
              0.4444444444444444,
              "#bd3786"
             ],
             [
              0.5555555555555556,
              "#d8576b"
             ],
             [
              0.6666666666666666,
              "#ed7953"
             ],
             [
              0.7777777777777778,
              "#fb9f3a"
             ],
             [
              0.8888888888888888,
              "#fdca26"
             ],
             [
              1,
              "#f0f921"
             ]
            ],
            "type": "histogram2dcontour"
           }
          ],
          "mesh3d": [
           {
            "colorbar": {
             "outlinewidth": 0,
             "ticks": ""
            },
            "type": "mesh3d"
           }
          ],
          "parcoords": [
           {
            "line": {
             "colorbar": {
              "outlinewidth": 0,
              "ticks": ""
             }
            },
            "type": "parcoords"
           }
          ],
          "pie": [
           {
            "automargin": true,
            "type": "pie"
           }
          ],
          "scatter": [
           {
            "marker": {
             "colorbar": {
              "outlinewidth": 0,
              "ticks": ""
             }
            },
            "type": "scatter"
           }
          ],
          "scatter3d": [
           {
            "line": {
             "colorbar": {
              "outlinewidth": 0,
              "ticks": ""
             }
            },
            "marker": {
             "colorbar": {
              "outlinewidth": 0,
              "ticks": ""
             }
            },
            "type": "scatter3d"
           }
          ],
          "scattercarpet": [
           {
            "marker": {
             "colorbar": {
              "outlinewidth": 0,
              "ticks": ""
             }
            },
            "type": "scattercarpet"
           }
          ],
          "scattergeo": [
           {
            "marker": {
             "colorbar": {
              "outlinewidth": 0,
              "ticks": ""
             }
            },
            "type": "scattergeo"
           }
          ],
          "scattergl": [
           {
            "marker": {
             "colorbar": {
              "outlinewidth": 0,
              "ticks": ""
             }
            },
            "type": "scattergl"
           }
          ],
          "scattermapbox": [
           {
            "marker": {
             "colorbar": {
              "outlinewidth": 0,
              "ticks": ""
             }
            },
            "type": "scattermapbox"
           }
          ],
          "scatterpolar": [
           {
            "marker": {
             "colorbar": {
              "outlinewidth": 0,
              "ticks": ""
             }
            },
            "type": "scatterpolar"
           }
          ],
          "scatterpolargl": [
           {
            "marker": {
             "colorbar": {
              "outlinewidth": 0,
              "ticks": ""
             }
            },
            "type": "scatterpolargl"
           }
          ],
          "scatterternary": [
           {
            "marker": {
             "colorbar": {
              "outlinewidth": 0,
              "ticks": ""
             }
            },
            "type": "scatterternary"
           }
          ],
          "surface": [
           {
            "colorbar": {
             "outlinewidth": 0,
             "ticks": ""
            },
            "colorscale": [
             [
              0,
              "#0d0887"
             ],
             [
              0.1111111111111111,
              "#46039f"
             ],
             [
              0.2222222222222222,
              "#7201a8"
             ],
             [
              0.3333333333333333,
              "#9c179e"
             ],
             [
              0.4444444444444444,
              "#bd3786"
             ],
             [
              0.5555555555555556,
              "#d8576b"
             ],
             [
              0.6666666666666666,
              "#ed7953"
             ],
             [
              0.7777777777777778,
              "#fb9f3a"
             ],
             [
              0.8888888888888888,
              "#fdca26"
             ],
             [
              1,
              "#f0f921"
             ]
            ],
            "type": "surface"
           }
          ],
          "table": [
           {
            "cells": {
             "fill": {
              "color": "#EBF0F8"
             },
             "line": {
              "color": "white"
             }
            },
            "header": {
             "fill": {
              "color": "#C8D4E3"
             },
             "line": {
              "color": "white"
             }
            },
            "type": "table"
           }
          ]
         },
         "layout": {
          "annotationdefaults": {
           "arrowcolor": "#2a3f5f",
           "arrowhead": 0,
           "arrowwidth": 1
          },
          "autotypenumbers": "strict",
          "coloraxis": {
           "colorbar": {
            "outlinewidth": 0,
            "ticks": ""
           }
          },
          "colorscale": {
           "diverging": [
            [
             0,
             "#8e0152"
            ],
            [
             0.1,
             "#c51b7d"
            ],
            [
             0.2,
             "#de77ae"
            ],
            [
             0.3,
             "#f1b6da"
            ],
            [
             0.4,
             "#fde0ef"
            ],
            [
             0.5,
             "#f7f7f7"
            ],
            [
             0.6,
             "#e6f5d0"
            ],
            [
             0.7,
             "#b8e186"
            ],
            [
             0.8,
             "#7fbc41"
            ],
            [
             0.9,
             "#4d9221"
            ],
            [
             1,
             "#276419"
            ]
           ],
           "sequential": [
            [
             0,
             "#0d0887"
            ],
            [
             0.1111111111111111,
             "#46039f"
            ],
            [
             0.2222222222222222,
             "#7201a8"
            ],
            [
             0.3333333333333333,
             "#9c179e"
            ],
            [
             0.4444444444444444,
             "#bd3786"
            ],
            [
             0.5555555555555556,
             "#d8576b"
            ],
            [
             0.6666666666666666,
             "#ed7953"
            ],
            [
             0.7777777777777778,
             "#fb9f3a"
            ],
            [
             0.8888888888888888,
             "#fdca26"
            ],
            [
             1,
             "#f0f921"
            ]
           ],
           "sequentialminus": [
            [
             0,
             "#0d0887"
            ],
            [
             0.1111111111111111,
             "#46039f"
            ],
            [
             0.2222222222222222,
             "#7201a8"
            ],
            [
             0.3333333333333333,
             "#9c179e"
            ],
            [
             0.4444444444444444,
             "#bd3786"
            ],
            [
             0.5555555555555556,
             "#d8576b"
            ],
            [
             0.6666666666666666,
             "#ed7953"
            ],
            [
             0.7777777777777778,
             "#fb9f3a"
            ],
            [
             0.8888888888888888,
             "#fdca26"
            ],
            [
             1,
             "#f0f921"
            ]
           ]
          },
          "colorway": [
           "#636efa",
           "#EF553B",
           "#00cc96",
           "#ab63fa",
           "#FFA15A",
           "#19d3f3",
           "#FF6692",
           "#B6E880",
           "#FF97FF",
           "#FECB52"
          ],
          "font": {
           "color": "#2a3f5f"
          },
          "geo": {
           "bgcolor": "white",
           "lakecolor": "white",
           "landcolor": "#E5ECF6",
           "showlakes": true,
           "showland": true,
           "subunitcolor": "white"
          },
          "hoverlabel": {
           "align": "left"
          },
          "hovermode": "closest",
          "mapbox": {
           "style": "light"
          },
          "paper_bgcolor": "white",
          "plot_bgcolor": "#E5ECF6",
          "polar": {
           "angularaxis": {
            "gridcolor": "white",
            "linecolor": "white",
            "ticks": ""
           },
           "bgcolor": "#E5ECF6",
           "radialaxis": {
            "gridcolor": "white",
            "linecolor": "white",
            "ticks": ""
           }
          },
          "scene": {
           "xaxis": {
            "backgroundcolor": "#E5ECF6",
            "gridcolor": "white",
            "gridwidth": 2,
            "linecolor": "white",
            "showbackground": true,
            "ticks": "",
            "zerolinecolor": "white"
           },
           "yaxis": {
            "backgroundcolor": "#E5ECF6",
            "gridcolor": "white",
            "gridwidth": 2,
            "linecolor": "white",
            "showbackground": true,
            "ticks": "",
            "zerolinecolor": "white"
           },
           "zaxis": {
            "backgroundcolor": "#E5ECF6",
            "gridcolor": "white",
            "gridwidth": 2,
            "linecolor": "white",
            "showbackground": true,
            "ticks": "",
            "zerolinecolor": "white"
           }
          },
          "shapedefaults": {
           "line": {
            "color": "#2a3f5f"
           }
          },
          "ternary": {
           "aaxis": {
            "gridcolor": "white",
            "linecolor": "white",
            "ticks": ""
           },
           "baxis": {
            "gridcolor": "white",
            "linecolor": "white",
            "ticks": ""
           },
           "bgcolor": "#E5ECF6",
           "caxis": {
            "gridcolor": "white",
            "linecolor": "white",
            "ticks": ""
           }
          },
          "title": {
           "x": 0.05
          },
          "xaxis": {
           "automargin": true,
           "gridcolor": "white",
           "linecolor": "white",
           "ticks": "",
           "title": {
            "standoff": 15
           },
           "zerolinecolor": "white",
           "zerolinewidth": 2
          },
          "yaxis": {
           "automargin": true,
           "gridcolor": "white",
           "linecolor": "white",
           "ticks": "",
           "title": {
            "standoff": 15
           },
           "zerolinecolor": "white",
           "zerolinewidth": 2
          }
         }
        },
        "title": {
         "text": "2020年各頻道瀏覽量排序長條圖(WR會員)_依據瀏覽量由大至小排序"
        },
        "xaxis": {
         "anchor": "y",
         "domain": [
          0,
          1
         ],
         "title": {
          "text": "頻道"
         }
        },
        "yaxis": {
         "anchor": "x",
         "domain": [
          0,
          1
         ],
         "title": {
          "text": "瀏覽量"
         }
        }
       }
      }
     },
     "metadata": {}
    },
    {
     "output_type": "execute_result",
     "data": {
      "text/plain": [
       "'2020年各頻道瀏覽量排序長條圖(WR會員)_依據瀏覽量由大至小排序.html'"
      ]
     },
     "metadata": {},
     "execution_count": 52
    }
   ],
   "metadata": {}
  },
  {
   "cell_type": "code",
   "execution_count": null,
   "source": [],
   "outputs": [],
   "metadata": {}
  }
 ],
 "metadata": {
  "orig_nbformat": 4,
  "language_info": {
   "name": "python",
   "version": "3.7.9",
   "mimetype": "text/x-python",
   "codemirror_mode": {
    "name": "ipython",
    "version": 3
   },
   "pygments_lexer": "ipython3",
   "nbconvert_exporter": "python",
   "file_extension": ".py"
  },
  "kernelspec": {
   "name": "python3",
   "display_name": "Python 3.7.9 64-bit"
  },
  "interpreter": {
   "hash": "959132b49615f13f630dc734f9094f552b96240b5e799cd7fd7b08689b4b82c5"
  }
 },
 "nbformat": 4,
 "nbformat_minor": 2
}