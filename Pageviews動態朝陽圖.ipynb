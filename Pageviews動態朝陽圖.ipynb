{
 "cells": [
  {
   "cell_type": "code",
   "execution_count": 116,
   "source": [
    "import pandas as pd\r\n",
    "import numpy as np\r\n",
    "from datetime import timedelta, datetime\r\n",
    "import os\r\n",
    "import plotly.express as px\r\n",
    "from plotly.offline import download_plotlyjs, init_notebook_mode, plot, iplot"
   ],
   "outputs": [],
   "metadata": {}
  },
  {
   "cell_type": "code",
   "execution_count": 117,
   "source": [
    "pv_data = pd.read_csv('系列PV綜整.csv')"
   ],
   "outputs": [],
   "metadata": {}
  },
  {
   "cell_type": "code",
   "execution_count": 118,
   "source": [
    "all_data_2019 = pd.read_csv('process_data_pv.csv')"
   ],
   "outputs": [],
   "metadata": {}
  },
  {
   "cell_type": "code",
   "execution_count": 119,
   "source": [
    "pv_data = pv_data.sort_values(\"瀏覽量\", ascending= False)\r\n",
    "pv_data"
   ],
   "outputs": [
    {
     "output_type": "execute_result",
     "data": {
      "text/plain": [
       "   Unnamed: 0    頻道   瀏覽量\n",
       "0           6  美食旅遊  2924\n",
       "1           2  娛樂遊戲  2682\n",
       "2           5  生活休閒  2403\n",
       "3           3  寰宇綜合  1197\n",
       "4           8  金融理財  1026\n",
       "5           0  3c科技   873\n",
       "6           1  健康運動   594\n",
       "7           4  時尚美妝   531\n",
       "8           7  親子育兒   306"
      ],
      "text/html": [
       "<div>\n",
       "<style scoped>\n",
       "    .dataframe tbody tr th:only-of-type {\n",
       "        vertical-align: middle;\n",
       "    }\n",
       "\n",
       "    .dataframe tbody tr th {\n",
       "        vertical-align: top;\n",
       "    }\n",
       "\n",
       "    .dataframe thead th {\n",
       "        text-align: right;\n",
       "    }\n",
       "</style>\n",
       "<table border=\"1\" class=\"dataframe\">\n",
       "  <thead>\n",
       "    <tr style=\"text-align: right;\">\n",
       "      <th></th>\n",
       "      <th>Unnamed: 0</th>\n",
       "      <th>頻道</th>\n",
       "      <th>瀏覽量</th>\n",
       "    </tr>\n",
       "  </thead>\n",
       "  <tbody>\n",
       "    <tr>\n",
       "      <th>0</th>\n",
       "      <td>6</td>\n",
       "      <td>美食旅遊</td>\n",
       "      <td>2924</td>\n",
       "    </tr>\n",
       "    <tr>\n",
       "      <th>1</th>\n",
       "      <td>2</td>\n",
       "      <td>娛樂遊戲</td>\n",
       "      <td>2682</td>\n",
       "    </tr>\n",
       "    <tr>\n",
       "      <th>2</th>\n",
       "      <td>5</td>\n",
       "      <td>生活休閒</td>\n",
       "      <td>2403</td>\n",
       "    </tr>\n",
       "    <tr>\n",
       "      <th>3</th>\n",
       "      <td>3</td>\n",
       "      <td>寰宇綜合</td>\n",
       "      <td>1197</td>\n",
       "    </tr>\n",
       "    <tr>\n",
       "      <th>4</th>\n",
       "      <td>8</td>\n",
       "      <td>金融理財</td>\n",
       "      <td>1026</td>\n",
       "    </tr>\n",
       "    <tr>\n",
       "      <th>5</th>\n",
       "      <td>0</td>\n",
       "      <td>3c科技</td>\n",
       "      <td>873</td>\n",
       "    </tr>\n",
       "    <tr>\n",
       "      <th>6</th>\n",
       "      <td>1</td>\n",
       "      <td>健康運動</td>\n",
       "      <td>594</td>\n",
       "    </tr>\n",
       "    <tr>\n",
       "      <th>7</th>\n",
       "      <td>4</td>\n",
       "      <td>時尚美妝</td>\n",
       "      <td>531</td>\n",
       "    </tr>\n",
       "    <tr>\n",
       "      <th>8</th>\n",
       "      <td>7</td>\n",
       "      <td>親子育兒</td>\n",
       "      <td>306</td>\n",
       "    </tr>\n",
       "  </tbody>\n",
       "</table>\n",
       "</div>"
      ]
     },
     "metadata": {},
     "execution_count": 119
    }
   ],
   "metadata": {}
  },
  {
   "cell_type": "code",
   "execution_count": 120,
   "source": [
    "pv_data = pv_data[[\"頻道\", \"瀏覽量\"]]\r\n",
    "pv_data"
   ],
   "outputs": [
    {
     "output_type": "execute_result",
     "data": {
      "text/plain": [
       "     頻道   瀏覽量\n",
       "0  美食旅遊  2924\n",
       "1  娛樂遊戲  2682\n",
       "2  生活休閒  2403\n",
       "3  寰宇綜合  1197\n",
       "4  金融理財  1026\n",
       "5  3c科技   873\n",
       "6  健康運動   594\n",
       "7  時尚美妝   531\n",
       "8  親子育兒   306"
      ],
      "text/html": [
       "<div>\n",
       "<style scoped>\n",
       "    .dataframe tbody tr th:only-of-type {\n",
       "        vertical-align: middle;\n",
       "    }\n",
       "\n",
       "    .dataframe tbody tr th {\n",
       "        vertical-align: top;\n",
       "    }\n",
       "\n",
       "    .dataframe thead th {\n",
       "        text-align: right;\n",
       "    }\n",
       "</style>\n",
       "<table border=\"1\" class=\"dataframe\">\n",
       "  <thead>\n",
       "    <tr style=\"text-align: right;\">\n",
       "      <th></th>\n",
       "      <th>頻道</th>\n",
       "      <th>瀏覽量</th>\n",
       "    </tr>\n",
       "  </thead>\n",
       "  <tbody>\n",
       "    <tr>\n",
       "      <th>0</th>\n",
       "      <td>美食旅遊</td>\n",
       "      <td>2924</td>\n",
       "    </tr>\n",
       "    <tr>\n",
       "      <th>1</th>\n",
       "      <td>娛樂遊戲</td>\n",
       "      <td>2682</td>\n",
       "    </tr>\n",
       "    <tr>\n",
       "      <th>2</th>\n",
       "      <td>生活休閒</td>\n",
       "      <td>2403</td>\n",
       "    </tr>\n",
       "    <tr>\n",
       "      <th>3</th>\n",
       "      <td>寰宇綜合</td>\n",
       "      <td>1197</td>\n",
       "    </tr>\n",
       "    <tr>\n",
       "      <th>4</th>\n",
       "      <td>金融理財</td>\n",
       "      <td>1026</td>\n",
       "    </tr>\n",
       "    <tr>\n",
       "      <th>5</th>\n",
       "      <td>3c科技</td>\n",
       "      <td>873</td>\n",
       "    </tr>\n",
       "    <tr>\n",
       "      <th>6</th>\n",
       "      <td>健康運動</td>\n",
       "      <td>594</td>\n",
       "    </tr>\n",
       "    <tr>\n",
       "      <th>7</th>\n",
       "      <td>時尚美妝</td>\n",
       "      <td>531</td>\n",
       "    </tr>\n",
       "    <tr>\n",
       "      <th>8</th>\n",
       "      <td>親子育兒</td>\n",
       "      <td>306</td>\n",
       "    </tr>\n",
       "  </tbody>\n",
       "</table>\n",
       "</div>"
      ]
     },
     "metadata": {},
     "execution_count": 120
    }
   ],
   "metadata": {}
  },
  {
   "cell_type": "code",
   "execution_count": 121,
   "source": [
    "pv_data[\"瀏覽量百分比\"] = pv_data[\"瀏覽量\"] / pv_data[\"瀏覽量\"].sum()\r\n",
    "pv_data"
   ],
   "outputs": [
    {
     "output_type": "execute_result",
     "data": {
      "text/plain": [
       "     頻道   瀏覽量    瀏覽量百分比\n",
       "0  美食旅遊  2924  0.233248\n",
       "1  娛樂遊戲  2682  0.213944\n",
       "2  生活休閒  2403  0.191688\n",
       "3  寰宇綜合  1197  0.095485\n",
       "4  金融理財  1026  0.081844\n",
       "5  3c科技   873  0.069639\n",
       "6  健康運動   594  0.047384\n",
       "7  時尚美妝   531  0.042358\n",
       "8  親子育兒   306  0.024410"
      ],
      "text/html": [
       "<div>\n",
       "<style scoped>\n",
       "    .dataframe tbody tr th:only-of-type {\n",
       "        vertical-align: middle;\n",
       "    }\n",
       "\n",
       "    .dataframe tbody tr th {\n",
       "        vertical-align: top;\n",
       "    }\n",
       "\n",
       "    .dataframe thead th {\n",
       "        text-align: right;\n",
       "    }\n",
       "</style>\n",
       "<table border=\"1\" class=\"dataframe\">\n",
       "  <thead>\n",
       "    <tr style=\"text-align: right;\">\n",
       "      <th></th>\n",
       "      <th>頻道</th>\n",
       "      <th>瀏覽量</th>\n",
       "      <th>瀏覽量百分比</th>\n",
       "    </tr>\n",
       "  </thead>\n",
       "  <tbody>\n",
       "    <tr>\n",
       "      <th>0</th>\n",
       "      <td>美食旅遊</td>\n",
       "      <td>2924</td>\n",
       "      <td>0.233248</td>\n",
       "    </tr>\n",
       "    <tr>\n",
       "      <th>1</th>\n",
       "      <td>娛樂遊戲</td>\n",
       "      <td>2682</td>\n",
       "      <td>0.213944</td>\n",
       "    </tr>\n",
       "    <tr>\n",
       "      <th>2</th>\n",
       "      <td>生活休閒</td>\n",
       "      <td>2403</td>\n",
       "      <td>0.191688</td>\n",
       "    </tr>\n",
       "    <tr>\n",
       "      <th>3</th>\n",
       "      <td>寰宇綜合</td>\n",
       "      <td>1197</td>\n",
       "      <td>0.095485</td>\n",
       "    </tr>\n",
       "    <tr>\n",
       "      <th>4</th>\n",
       "      <td>金融理財</td>\n",
       "      <td>1026</td>\n",
       "      <td>0.081844</td>\n",
       "    </tr>\n",
       "    <tr>\n",
       "      <th>5</th>\n",
       "      <td>3c科技</td>\n",
       "      <td>873</td>\n",
       "      <td>0.069639</td>\n",
       "    </tr>\n",
       "    <tr>\n",
       "      <th>6</th>\n",
       "      <td>健康運動</td>\n",
       "      <td>594</td>\n",
       "      <td>0.047384</td>\n",
       "    </tr>\n",
       "    <tr>\n",
       "      <th>7</th>\n",
       "      <td>時尚美妝</td>\n",
       "      <td>531</td>\n",
       "      <td>0.042358</td>\n",
       "    </tr>\n",
       "    <tr>\n",
       "      <th>8</th>\n",
       "      <td>親子育兒</td>\n",
       "      <td>306</td>\n",
       "      <td>0.024410</td>\n",
       "    </tr>\n",
       "  </tbody>\n",
       "</table>\n",
       "</div>"
      ]
     },
     "metadata": {},
     "execution_count": 121
    }
   ],
   "metadata": {}
  },
  {
   "cell_type": "code",
   "execution_count": 122,
   "source": [
    "all_data_2019_tmp = all_data_2019[all_data_2019['頻道']=='美食旅遊']\r\n",
    "all_data_2019_tmp"
   ],
   "outputs": [
    {
     "output_type": "execute_result",
     "data": {
      "text/plain": [
       "      Unnamed: 0               20_Hit Timestamp    頻道  \\\n",
       "0              0  2021-04-25T22:53:08.885+08:00  美食旅遊   \n",
       "3              3  2021-01-14T12:23:33.647+08:00  美食旅遊   \n",
       "14            14  2021-01-15T12:40:22.548+08:00  美食旅遊   \n",
       "29            29  2021-07-07T14:50:38.341+08:00  美食旅遊   \n",
       "34            34  2021-04-13T11:41:17.629+08:00  美食旅遊   \n",
       "...          ...                            ...   ...   \n",
       "1369        1369  2021-02-08T11:27:40.227+08:00  美食旅遊   \n",
       "1375        1375  2021-06-15T10:43:49.555+08:00  美食旅遊   \n",
       "1378        1378  2021-02-01T09:31:30.492+08:00  美食旅遊   \n",
       "1379        1379  2021-04-10T17:34:32.119+08:00  美食旅遊   \n",
       "1388        1388  2021-01-11T12:02:09.632+08:00  美食旅遊   \n",
       "\n",
       "                                                   文章標題  不重複瀏覽量  瀏覽量  \\\n",
       "0                                         嘉義美食X國民特色排隊小吃       0   17   \n",
       "3     【TOP10南機場夜市必吃小吃】台北最強夜市懶人包｜阿男麻油雞、山內雞肉、好記刀削麵、八棟圓...       0    9   \n",
       "14    【台中親子景點】台中草莓園｜友田珍鄉有機農場～有機無毒高架採草莓、採蕃茄，還有美味草莓酒香腸...       9    9   \n",
       "29                     二哥炒鱔魚，海安路宵夜美食，大火快炒的鑊氣，鱔魚跟意麵都很 Q！       9    9   \n",
       "34    【台北中山】日暮裏冷藏和牛鍋物放題 台北南京店，個人和牛火鍋吃到飽，冷藏熟成肉品，個人火鍋推...       9    9   \n",
       "...                                                 ...     ...  ...   \n",
       "1369    近南庄老街，寧靜、神祕任你選，草地、碎石隨你搭 | 苗栗南庄-麒麟山露營區 | 露境隨俗去露營       0    9   \n",
       "1375  【餐廳懶人包】最低只要五折！新冠肺炎疫情期間吃什麼？全台超過100家防疫餐廳報你知，外帶、自...       9    9   \n",
       "1378  嘉義中埔)果然茶香觀光工廠/輕食區/兒童設施免費玩/天然果乾、茶品/小火車、賓士卡丁車、槌球...       9    9   \n",
       "1379             台中｜市場美食｜第五市場蚵仔粥用鮮甜贏得人心 - Ms. Y.C. Luuu       9    9   \n",
       "1388                         【高雄】草衙道鈴鹿賽道樂園-卡丁車初體驗「飆速求生」       9    9   \n",
       "\n",
       "          網頁價值                 時間戳記  \n",
       "0     0.000000  2021-04-25 22:53:08  \n",
       "3     0.000000  2021-01-14 12:23:33  \n",
       "14    5.716756  2021-01-15 12:40:22  \n",
       "29    0.000000  2021-07-07 14:50:38  \n",
       "34    0.000000  2021-04-13 11:41:17  \n",
       "...        ...                  ...  \n",
       "1369  0.000000  2021-02-08 11:27:40  \n",
       "1375  9.527927  2021-06-15 10:43:49  \n",
       "1378  0.000000  2021-02-01 09:31:30  \n",
       "1379  7.622341  2021-04-10 17:34:32  \n",
       "1388  0.952793  2021-01-11 12:02:09  \n",
       "\n",
       "[324 rows x 8 columns]"
      ],
      "text/html": [
       "<div>\n",
       "<style scoped>\n",
       "    .dataframe tbody tr th:only-of-type {\n",
       "        vertical-align: middle;\n",
       "    }\n",
       "\n",
       "    .dataframe tbody tr th {\n",
       "        vertical-align: top;\n",
       "    }\n",
       "\n",
       "    .dataframe thead th {\n",
       "        text-align: right;\n",
       "    }\n",
       "</style>\n",
       "<table border=\"1\" class=\"dataframe\">\n",
       "  <thead>\n",
       "    <tr style=\"text-align: right;\">\n",
       "      <th></th>\n",
       "      <th>Unnamed: 0</th>\n",
       "      <th>20_Hit Timestamp</th>\n",
       "      <th>頻道</th>\n",
       "      <th>文章標題</th>\n",
       "      <th>不重複瀏覽量</th>\n",
       "      <th>瀏覽量</th>\n",
       "      <th>網頁價值</th>\n",
       "      <th>時間戳記</th>\n",
       "    </tr>\n",
       "  </thead>\n",
       "  <tbody>\n",
       "    <tr>\n",
       "      <th>0</th>\n",
       "      <td>0</td>\n",
       "      <td>2021-04-25T22:53:08.885+08:00</td>\n",
       "      <td>美食旅遊</td>\n",
       "      <td>嘉義美食X國民特色排隊小吃</td>\n",
       "      <td>0</td>\n",
       "      <td>17</td>\n",
       "      <td>0.000000</td>\n",
       "      <td>2021-04-25 22:53:08</td>\n",
       "    </tr>\n",
       "    <tr>\n",
       "      <th>3</th>\n",
       "      <td>3</td>\n",
       "      <td>2021-01-14T12:23:33.647+08:00</td>\n",
       "      <td>美食旅遊</td>\n",
       "      <td>【TOP10南機場夜市必吃小吃】台北最強夜市懶人包｜阿男麻油雞、山內雞肉、好記刀削麵、八棟圓...</td>\n",
       "      <td>0</td>\n",
       "      <td>9</td>\n",
       "      <td>0.000000</td>\n",
       "      <td>2021-01-14 12:23:33</td>\n",
       "    </tr>\n",
       "    <tr>\n",
       "      <th>14</th>\n",
       "      <td>14</td>\n",
       "      <td>2021-01-15T12:40:22.548+08:00</td>\n",
       "      <td>美食旅遊</td>\n",
       "      <td>【台中親子景點】台中草莓園｜友田珍鄉有機農場～有機無毒高架採草莓、採蕃茄，還有美味草莓酒香腸...</td>\n",
       "      <td>9</td>\n",
       "      <td>9</td>\n",
       "      <td>5.716756</td>\n",
       "      <td>2021-01-15 12:40:22</td>\n",
       "    </tr>\n",
       "    <tr>\n",
       "      <th>29</th>\n",
       "      <td>29</td>\n",
       "      <td>2021-07-07T14:50:38.341+08:00</td>\n",
       "      <td>美食旅遊</td>\n",
       "      <td>二哥炒鱔魚，海安路宵夜美食，大火快炒的鑊氣，鱔魚跟意麵都很 Q！</td>\n",
       "      <td>9</td>\n",
       "      <td>9</td>\n",
       "      <td>0.000000</td>\n",
       "      <td>2021-07-07 14:50:38</td>\n",
       "    </tr>\n",
       "    <tr>\n",
       "      <th>34</th>\n",
       "      <td>34</td>\n",
       "      <td>2021-04-13T11:41:17.629+08:00</td>\n",
       "      <td>美食旅遊</td>\n",
       "      <td>【台北中山】日暮裏冷藏和牛鍋物放題 台北南京店，個人和牛火鍋吃到飽，冷藏熟成肉品，個人火鍋推...</td>\n",
       "      <td>9</td>\n",
       "      <td>9</td>\n",
       "      <td>0.000000</td>\n",
       "      <td>2021-04-13 11:41:17</td>\n",
       "    </tr>\n",
       "    <tr>\n",
       "      <th>...</th>\n",
       "      <td>...</td>\n",
       "      <td>...</td>\n",
       "      <td>...</td>\n",
       "      <td>...</td>\n",
       "      <td>...</td>\n",
       "      <td>...</td>\n",
       "      <td>...</td>\n",
       "      <td>...</td>\n",
       "    </tr>\n",
       "    <tr>\n",
       "      <th>1369</th>\n",
       "      <td>1369</td>\n",
       "      <td>2021-02-08T11:27:40.227+08:00</td>\n",
       "      <td>美食旅遊</td>\n",
       "      <td>近南庄老街，寧靜、神祕任你選，草地、碎石隨你搭 | 苗栗南庄-麒麟山露營區 | 露境隨俗去露營</td>\n",
       "      <td>0</td>\n",
       "      <td>9</td>\n",
       "      <td>0.000000</td>\n",
       "      <td>2021-02-08 11:27:40</td>\n",
       "    </tr>\n",
       "    <tr>\n",
       "      <th>1375</th>\n",
       "      <td>1375</td>\n",
       "      <td>2021-06-15T10:43:49.555+08:00</td>\n",
       "      <td>美食旅遊</td>\n",
       "      <td>【餐廳懶人包】最低只要五折！新冠肺炎疫情期間吃什麼？全台超過100家防疫餐廳報你知，外帶、自...</td>\n",
       "      <td>9</td>\n",
       "      <td>9</td>\n",
       "      <td>9.527927</td>\n",
       "      <td>2021-06-15 10:43:49</td>\n",
       "    </tr>\n",
       "    <tr>\n",
       "      <th>1378</th>\n",
       "      <td>1378</td>\n",
       "      <td>2021-02-01T09:31:30.492+08:00</td>\n",
       "      <td>美食旅遊</td>\n",
       "      <td>嘉義中埔)果然茶香觀光工廠/輕食區/兒童設施免費玩/天然果乾、茶品/小火車、賓士卡丁車、槌球...</td>\n",
       "      <td>9</td>\n",
       "      <td>9</td>\n",
       "      <td>0.000000</td>\n",
       "      <td>2021-02-01 09:31:30</td>\n",
       "    </tr>\n",
       "    <tr>\n",
       "      <th>1379</th>\n",
       "      <td>1379</td>\n",
       "      <td>2021-04-10T17:34:32.119+08:00</td>\n",
       "      <td>美食旅遊</td>\n",
       "      <td>台中｜市場美食｜第五市場蚵仔粥用鮮甜贏得人心 - Ms. Y.C. Luuu</td>\n",
       "      <td>9</td>\n",
       "      <td>9</td>\n",
       "      <td>7.622341</td>\n",
       "      <td>2021-04-10 17:34:32</td>\n",
       "    </tr>\n",
       "    <tr>\n",
       "      <th>1388</th>\n",
       "      <td>1388</td>\n",
       "      <td>2021-01-11T12:02:09.632+08:00</td>\n",
       "      <td>美食旅遊</td>\n",
       "      <td>【高雄】草衙道鈴鹿賽道樂園-卡丁車初體驗「飆速求生」</td>\n",
       "      <td>9</td>\n",
       "      <td>9</td>\n",
       "      <td>0.952793</td>\n",
       "      <td>2021-01-11 12:02:09</td>\n",
       "    </tr>\n",
       "  </tbody>\n",
       "</table>\n",
       "<p>324 rows × 8 columns</p>\n",
       "</div>"
      ]
     },
     "metadata": {},
     "execution_count": 122
    }
   ],
   "metadata": {}
  },
  {
   "cell_type": "code",
   "execution_count": 123,
   "source": [
    "all_data_2019_tmp = all_data_2019_tmp.groupby('文章標題', as_index= False)['瀏覽量'].sum()\r\n",
    "all_data_2019_tmp"
   ],
   "outputs": [
    {
     "output_type": "execute_result",
     "data": {
      "text/plain": [
       "                                                  文章標題  瀏覽量\n",
       "0    (台南)犬首燒雞蛋糕-法鬥月餅禮盒可愛無極限 五種口味包餡還有蝦米!!! 沒預訂還吃不到~ ...   18\n",
       "1    (府中站)板橋美食-黃石市場內一天只賣二小時的紅燒肉,雞捲(天下牙醫前),紅燒肉真的有厲害，...    9\n",
       "2    (忠孝敦化站/忠孝復興站)東區火鍋吃到飽-火鍋殿,多種肉類,海鮮吃到飽,生啤喝到爽,滿滿貝類...    9\n",
       "3    (高雄美食)蒸鮮腸粉港式飲茶-手工港式素食，自然素吃精緻，素食者必吃港式料理這幾道 | 高雄...   27\n",
       "4                           - 旅行履行中 / 一日遊、懶人包、景點、美食、住宿    9\n",
       "..                                                 ...  ...\n",
       "196           高海拔好抵達，露營還可探祕境 | 苗栗泰安 | 鑽石林露營區 | 露境隨俗去露營    9\n",
       "197  高雄【CHIC CAFE &pastry 奇可手作】漢神百貨 B3 夢幻義式美食料理.令人驚...    9\n",
       "198  鹽埕區 新糖庄之韓國雞蛋糕｜俏皮可愛花生燒、核桃燒 X 隱藏版下午茶點心 - 跟著尼力吃喝玩...    9\n",
       "199  ﹝新竹市北區食記﹞北門炸粿　傳承四代、百年老店的古早味銅板美食，卡滋作響不膩口的傳統簡單炸物...    9\n",
       "200  ｜﻿台北美食｜Rise Bakery麵包高cp值/信義安和站大馬路旁/巨大司康.肉桂捲.可頌...    9\n",
       "\n",
       "[201 rows x 2 columns]"
      ],
      "text/html": [
       "<div>\n",
       "<style scoped>\n",
       "    .dataframe tbody tr th:only-of-type {\n",
       "        vertical-align: middle;\n",
       "    }\n",
       "\n",
       "    .dataframe tbody tr th {\n",
       "        vertical-align: top;\n",
       "    }\n",
       "\n",
       "    .dataframe thead th {\n",
       "        text-align: right;\n",
       "    }\n",
       "</style>\n",
       "<table border=\"1\" class=\"dataframe\">\n",
       "  <thead>\n",
       "    <tr style=\"text-align: right;\">\n",
       "      <th></th>\n",
       "      <th>文章標題</th>\n",
       "      <th>瀏覽量</th>\n",
       "    </tr>\n",
       "  </thead>\n",
       "  <tbody>\n",
       "    <tr>\n",
       "      <th>0</th>\n",
       "      <td>(台南)犬首燒雞蛋糕-法鬥月餅禮盒可愛無極限 五種口味包餡還有蝦米!!! 沒預訂還吃不到~ ...</td>\n",
       "      <td>18</td>\n",
       "    </tr>\n",
       "    <tr>\n",
       "      <th>1</th>\n",
       "      <td>(府中站)板橋美食-黃石市場內一天只賣二小時的紅燒肉,雞捲(天下牙醫前),紅燒肉真的有厲害，...</td>\n",
       "      <td>9</td>\n",
       "    </tr>\n",
       "    <tr>\n",
       "      <th>2</th>\n",
       "      <td>(忠孝敦化站/忠孝復興站)東區火鍋吃到飽-火鍋殿,多種肉類,海鮮吃到飽,生啤喝到爽,滿滿貝類...</td>\n",
       "      <td>9</td>\n",
       "    </tr>\n",
       "    <tr>\n",
       "      <th>3</th>\n",
       "      <td>(高雄美食)蒸鮮腸粉港式飲茶-手工港式素食，自然素吃精緻，素食者必吃港式料理這幾道 | 高雄...</td>\n",
       "      <td>27</td>\n",
       "    </tr>\n",
       "    <tr>\n",
       "      <th>4</th>\n",
       "      <td>- 旅行履行中 / 一日遊、懶人包、景點、美食、住宿</td>\n",
       "      <td>9</td>\n",
       "    </tr>\n",
       "    <tr>\n",
       "      <th>...</th>\n",
       "      <td>...</td>\n",
       "      <td>...</td>\n",
       "    </tr>\n",
       "    <tr>\n",
       "      <th>196</th>\n",
       "      <td>高海拔好抵達，露營還可探祕境 | 苗栗泰安 | 鑽石林露營區 | 露境隨俗去露營</td>\n",
       "      <td>9</td>\n",
       "    </tr>\n",
       "    <tr>\n",
       "      <th>197</th>\n",
       "      <td>高雄【CHIC CAFE &amp;pastry 奇可手作】漢神百貨 B3 夢幻義式美食料理.令人驚...</td>\n",
       "      <td>9</td>\n",
       "    </tr>\n",
       "    <tr>\n",
       "      <th>198</th>\n",
       "      <td>鹽埕區 新糖庄之韓國雞蛋糕｜俏皮可愛花生燒、核桃燒 X 隱藏版下午茶點心 - 跟著尼力吃喝玩...</td>\n",
       "      <td>9</td>\n",
       "    </tr>\n",
       "    <tr>\n",
       "      <th>199</th>\n",
       "      <td>﹝新竹市北區食記﹞北門炸粿　傳承四代、百年老店的古早味銅板美食，卡滋作響不膩口的傳統簡單炸物...</td>\n",
       "      <td>9</td>\n",
       "    </tr>\n",
       "    <tr>\n",
       "      <th>200</th>\n",
       "      <td>｜﻿台北美食｜Rise Bakery麵包高cp值/信義安和站大馬路旁/巨大司康.肉桂捲.可頌...</td>\n",
       "      <td>9</td>\n",
       "    </tr>\n",
       "  </tbody>\n",
       "</table>\n",
       "<p>201 rows × 2 columns</p>\n",
       "</div>"
      ]
     },
     "metadata": {},
     "execution_count": 123
    }
   ],
   "metadata": {}
  },
  {
   "cell_type": "code",
   "execution_count": 124,
   "source": [
    "all_data_2019_tmp = all_data_2019_tmp.sort_values('瀏覽量', ascending= False)\r\n",
    "all_data_2019_tmp"
   ],
   "outputs": [
    {
     "output_type": "execute_result",
     "data": {
      "text/plain": [
       "                                                  文章標題  瀏覽量\n",
       "137                 寫作平台新選擇—WREADIT銳誌，原創作者強烈招募中 – 頭殼總長  153\n",
       "58   【台北中山】日暮裏冷藏和牛鍋物放題 台北南京店，個人和牛火鍋吃到飽，冷藏熟成肉品，個人火鍋推...   90\n",
       "104                    兩日限定！曜畫廊特獻 風靡歐洲百年的超現實藝術、音樂與美食體驗   72\n",
       "40   【TOP10南機場夜市必吃小吃】台北最強夜市懶人包｜阿男麻油雞、山內雞肉、好記刀削麵、八棟圓...   72\n",
       "112             台中｜一中街美食｜兩津芙蓉蛋塔為什麼大排長龍 - Ms. Y.C. Luuu   54\n",
       "..                                                 ...  ...\n",
       "78                【彰化。二水】Sweego 水水果饌－二水體驗館。下午茶。IG網美咖啡廳    9\n",
       "79   【彰化景點推薦】成美文化園，網美必拍打卡景點，兼六園、嘉明湖、落雨松大道、油紙傘巷一次全收齊...    9\n",
       "80   【新北蘆洲】川蜀冒菜，蘆洲特色小吃，蘆洲公車總站旁，特色四川冒菜，受歡迎的酸辣粉，附菜單 @...    9\n",
       "82   【新竹美食】犬首燒 新竹店。法鬥造型雞蛋糕，近新竹城隍廟創意甜點小吃。(芋頭麻糬．花生麻糬．...    9\n",
       "200  ｜﻿台北美食｜Rise Bakery麵包高cp值/信義安和站大馬路旁/巨大司康.肉桂捲.可頌...    9\n",
       "\n",
       "[201 rows x 2 columns]"
      ],
      "text/html": [
       "<div>\n",
       "<style scoped>\n",
       "    .dataframe tbody tr th:only-of-type {\n",
       "        vertical-align: middle;\n",
       "    }\n",
       "\n",
       "    .dataframe tbody tr th {\n",
       "        vertical-align: top;\n",
       "    }\n",
       "\n",
       "    .dataframe thead th {\n",
       "        text-align: right;\n",
       "    }\n",
       "</style>\n",
       "<table border=\"1\" class=\"dataframe\">\n",
       "  <thead>\n",
       "    <tr style=\"text-align: right;\">\n",
       "      <th></th>\n",
       "      <th>文章標題</th>\n",
       "      <th>瀏覽量</th>\n",
       "    </tr>\n",
       "  </thead>\n",
       "  <tbody>\n",
       "    <tr>\n",
       "      <th>137</th>\n",
       "      <td>寫作平台新選擇—WREADIT銳誌，原創作者強烈招募中 – 頭殼總長</td>\n",
       "      <td>153</td>\n",
       "    </tr>\n",
       "    <tr>\n",
       "      <th>58</th>\n",
       "      <td>【台北中山】日暮裏冷藏和牛鍋物放題 台北南京店，個人和牛火鍋吃到飽，冷藏熟成肉品，個人火鍋推...</td>\n",
       "      <td>90</td>\n",
       "    </tr>\n",
       "    <tr>\n",
       "      <th>104</th>\n",
       "      <td>兩日限定！曜畫廊特獻 風靡歐洲百年的超現實藝術、音樂與美食體驗</td>\n",
       "      <td>72</td>\n",
       "    </tr>\n",
       "    <tr>\n",
       "      <th>40</th>\n",
       "      <td>【TOP10南機場夜市必吃小吃】台北最強夜市懶人包｜阿男麻油雞、山內雞肉、好記刀削麵、八棟圓...</td>\n",
       "      <td>72</td>\n",
       "    </tr>\n",
       "    <tr>\n",
       "      <th>112</th>\n",
       "      <td>台中｜一中街美食｜兩津芙蓉蛋塔為什麼大排長龍 - Ms. Y.C. Luuu</td>\n",
       "      <td>54</td>\n",
       "    </tr>\n",
       "    <tr>\n",
       "      <th>...</th>\n",
       "      <td>...</td>\n",
       "      <td>...</td>\n",
       "    </tr>\n",
       "    <tr>\n",
       "      <th>78</th>\n",
       "      <td>【彰化。二水】Sweego 水水果饌－二水體驗館。下午茶。IG網美咖啡廳</td>\n",
       "      <td>9</td>\n",
       "    </tr>\n",
       "    <tr>\n",
       "      <th>79</th>\n",
       "      <td>【彰化景點推薦】成美文化園，網美必拍打卡景點，兼六園、嘉明湖、落雨松大道、油紙傘巷一次全收齊...</td>\n",
       "      <td>9</td>\n",
       "    </tr>\n",
       "    <tr>\n",
       "      <th>80</th>\n",
       "      <td>【新北蘆洲】川蜀冒菜，蘆洲特色小吃，蘆洲公車總站旁，特色四川冒菜，受歡迎的酸辣粉，附菜單 @...</td>\n",
       "      <td>9</td>\n",
       "    </tr>\n",
       "    <tr>\n",
       "      <th>82</th>\n",
       "      <td>【新竹美食】犬首燒 新竹店。法鬥造型雞蛋糕，近新竹城隍廟創意甜點小吃。(芋頭麻糬．花生麻糬．...</td>\n",
       "      <td>9</td>\n",
       "    </tr>\n",
       "    <tr>\n",
       "      <th>200</th>\n",
       "      <td>｜﻿台北美食｜Rise Bakery麵包高cp值/信義安和站大馬路旁/巨大司康.肉桂捲.可頌...</td>\n",
       "      <td>9</td>\n",
       "    </tr>\n",
       "  </tbody>\n",
       "</table>\n",
       "<p>201 rows × 2 columns</p>\n",
       "</div>"
      ]
     },
     "metadata": {},
     "execution_count": 124
    }
   ],
   "metadata": {}
  },
  {
   "cell_type": "code",
   "execution_count": 125,
   "source": [
    "all_data_2019_tmp['瀏覽量百分比'] = all_data_2019_tmp['瀏覽量'] / all_data_2019_tmp['瀏覽量'].sum()\r\n",
    "all_data_2019_tmp"
   ],
   "outputs": [
    {
     "output_type": "execute_result",
     "data": {
      "text/plain": [
       "                                                  文章標題  瀏覽量    瀏覽量百分比\n",
       "137                 寫作平台新選擇—WREADIT銳誌，原創作者強烈招募中 – 頭殼總長  153  0.052326\n",
       "58   【台北中山】日暮裏冷藏和牛鍋物放題 台北南京店，個人和牛火鍋吃到飽，冷藏熟成肉品，個人火鍋推...   90  0.030780\n",
       "104                    兩日限定！曜畫廊特獻 風靡歐洲百年的超現實藝術、音樂與美食體驗   72  0.024624\n",
       "40   【TOP10南機場夜市必吃小吃】台北最強夜市懶人包｜阿男麻油雞、山內雞肉、好記刀削麵、八棟圓...   72  0.024624\n",
       "112             台中｜一中街美食｜兩津芙蓉蛋塔為什麼大排長龍 - Ms. Y.C. Luuu   54  0.018468\n",
       "..                                                 ...  ...       ...\n",
       "78                【彰化。二水】Sweego 水水果饌－二水體驗館。下午茶。IG網美咖啡廳    9  0.003078\n",
       "79   【彰化景點推薦】成美文化園，網美必拍打卡景點，兼六園、嘉明湖、落雨松大道、油紙傘巷一次全收齊...    9  0.003078\n",
       "80   【新北蘆洲】川蜀冒菜，蘆洲特色小吃，蘆洲公車總站旁，特色四川冒菜，受歡迎的酸辣粉，附菜單 @...    9  0.003078\n",
       "82   【新竹美食】犬首燒 新竹店。法鬥造型雞蛋糕，近新竹城隍廟創意甜點小吃。(芋頭麻糬．花生麻糬．...    9  0.003078\n",
       "200  ｜﻿台北美食｜Rise Bakery麵包高cp值/信義安和站大馬路旁/巨大司康.肉桂捲.可頌...    9  0.003078\n",
       "\n",
       "[201 rows x 3 columns]"
      ],
      "text/html": [
       "<div>\n",
       "<style scoped>\n",
       "    .dataframe tbody tr th:only-of-type {\n",
       "        vertical-align: middle;\n",
       "    }\n",
       "\n",
       "    .dataframe tbody tr th {\n",
       "        vertical-align: top;\n",
       "    }\n",
       "\n",
       "    .dataframe thead th {\n",
       "        text-align: right;\n",
       "    }\n",
       "</style>\n",
       "<table border=\"1\" class=\"dataframe\">\n",
       "  <thead>\n",
       "    <tr style=\"text-align: right;\">\n",
       "      <th></th>\n",
       "      <th>文章標題</th>\n",
       "      <th>瀏覽量</th>\n",
       "      <th>瀏覽量百分比</th>\n",
       "    </tr>\n",
       "  </thead>\n",
       "  <tbody>\n",
       "    <tr>\n",
       "      <th>137</th>\n",
       "      <td>寫作平台新選擇—WREADIT銳誌，原創作者強烈招募中 – 頭殼總長</td>\n",
       "      <td>153</td>\n",
       "      <td>0.052326</td>\n",
       "    </tr>\n",
       "    <tr>\n",
       "      <th>58</th>\n",
       "      <td>【台北中山】日暮裏冷藏和牛鍋物放題 台北南京店，個人和牛火鍋吃到飽，冷藏熟成肉品，個人火鍋推...</td>\n",
       "      <td>90</td>\n",
       "      <td>0.030780</td>\n",
       "    </tr>\n",
       "    <tr>\n",
       "      <th>104</th>\n",
       "      <td>兩日限定！曜畫廊特獻 風靡歐洲百年的超現實藝術、音樂與美食體驗</td>\n",
       "      <td>72</td>\n",
       "      <td>0.024624</td>\n",
       "    </tr>\n",
       "    <tr>\n",
       "      <th>40</th>\n",
       "      <td>【TOP10南機場夜市必吃小吃】台北最強夜市懶人包｜阿男麻油雞、山內雞肉、好記刀削麵、八棟圓...</td>\n",
       "      <td>72</td>\n",
       "      <td>0.024624</td>\n",
       "    </tr>\n",
       "    <tr>\n",
       "      <th>112</th>\n",
       "      <td>台中｜一中街美食｜兩津芙蓉蛋塔為什麼大排長龍 - Ms. Y.C. Luuu</td>\n",
       "      <td>54</td>\n",
       "      <td>0.018468</td>\n",
       "    </tr>\n",
       "    <tr>\n",
       "      <th>...</th>\n",
       "      <td>...</td>\n",
       "      <td>...</td>\n",
       "      <td>...</td>\n",
       "    </tr>\n",
       "    <tr>\n",
       "      <th>78</th>\n",
       "      <td>【彰化。二水】Sweego 水水果饌－二水體驗館。下午茶。IG網美咖啡廳</td>\n",
       "      <td>9</td>\n",
       "      <td>0.003078</td>\n",
       "    </tr>\n",
       "    <tr>\n",
       "      <th>79</th>\n",
       "      <td>【彰化景點推薦】成美文化園，網美必拍打卡景點，兼六園、嘉明湖、落雨松大道、油紙傘巷一次全收齊...</td>\n",
       "      <td>9</td>\n",
       "      <td>0.003078</td>\n",
       "    </tr>\n",
       "    <tr>\n",
       "      <th>80</th>\n",
       "      <td>【新北蘆洲】川蜀冒菜，蘆洲特色小吃，蘆洲公車總站旁，特色四川冒菜，受歡迎的酸辣粉，附菜單 @...</td>\n",
       "      <td>9</td>\n",
       "      <td>0.003078</td>\n",
       "    </tr>\n",
       "    <tr>\n",
       "      <th>82</th>\n",
       "      <td>【新竹美食】犬首燒 新竹店。法鬥造型雞蛋糕，近新竹城隍廟創意甜點小吃。(芋頭麻糬．花生麻糬．...</td>\n",
       "      <td>9</td>\n",
       "      <td>0.003078</td>\n",
       "    </tr>\n",
       "    <tr>\n",
       "      <th>200</th>\n",
       "      <td>｜﻿台北美食｜Rise Bakery麵包高cp值/信義安和站大馬路旁/巨大司康.肉桂捲.可頌...</td>\n",
       "      <td>9</td>\n",
       "      <td>0.003078</td>\n",
       "    </tr>\n",
       "  </tbody>\n",
       "</table>\n",
       "<p>201 rows × 3 columns</p>\n",
       "</div>"
      ]
     },
     "metadata": {},
     "execution_count": 125
    }
   ],
   "metadata": {}
  },
  {
   "cell_type": "code",
   "execution_count": 126,
   "source": [
    "all_data_2019_tmp[\"頻道\"]= \"美食旅遊\" "
   ],
   "outputs": [],
   "metadata": {}
  },
  {
   "cell_type": "code",
   "execution_count": 127,
   "source": [
    "all_data_2019_tmp = all_data_2019_tmp[[\"頻道\",\"文章標題\",\"瀏覽量\",\"瀏覽量百分比\"]]\r\n",
    "all_data_2019_tmp"
   ],
   "outputs": [
    {
     "output_type": "execute_result",
     "data": {
      "text/plain": [
       "       頻道                                               文章標題  瀏覽量    瀏覽量百分比\n",
       "137  美食旅遊                 寫作平台新選擇—WREADIT銳誌，原創作者強烈招募中 – 頭殼總長  153  0.052326\n",
       "58   美食旅遊  【台北中山】日暮裏冷藏和牛鍋物放題 台北南京店，個人和牛火鍋吃到飽，冷藏熟成肉品，個人火鍋推...   90  0.030780\n",
       "104  美食旅遊                    兩日限定！曜畫廊特獻 風靡歐洲百年的超現實藝術、音樂與美食體驗   72  0.024624\n",
       "40   美食旅遊  【TOP10南機場夜市必吃小吃】台北最強夜市懶人包｜阿男麻油雞、山內雞肉、好記刀削麵、八棟圓...   72  0.024624\n",
       "112  美食旅遊             台中｜一中街美食｜兩津芙蓉蛋塔為什麼大排長龍 - Ms. Y.C. Luuu   54  0.018468\n",
       "..    ...                                                ...  ...       ...\n",
       "78   美食旅遊               【彰化。二水】Sweego 水水果饌－二水體驗館。下午茶。IG網美咖啡廳    9  0.003078\n",
       "79   美食旅遊  【彰化景點推薦】成美文化園，網美必拍打卡景點，兼六園、嘉明湖、落雨松大道、油紙傘巷一次全收齊...    9  0.003078\n",
       "80   美食旅遊  【新北蘆洲】川蜀冒菜，蘆洲特色小吃，蘆洲公車總站旁，特色四川冒菜，受歡迎的酸辣粉，附菜單 @...    9  0.003078\n",
       "82   美食旅遊  【新竹美食】犬首燒 新竹店。法鬥造型雞蛋糕，近新竹城隍廟創意甜點小吃。(芋頭麻糬．花生麻糬．...    9  0.003078\n",
       "200  美食旅遊  ｜﻿台北美食｜Rise Bakery麵包高cp值/信義安和站大馬路旁/巨大司康.肉桂捲.可頌...    9  0.003078\n",
       "\n",
       "[201 rows x 4 columns]"
      ],
      "text/html": [
       "<div>\n",
       "<style scoped>\n",
       "    .dataframe tbody tr th:only-of-type {\n",
       "        vertical-align: middle;\n",
       "    }\n",
       "\n",
       "    .dataframe tbody tr th {\n",
       "        vertical-align: top;\n",
       "    }\n",
       "\n",
       "    .dataframe thead th {\n",
       "        text-align: right;\n",
       "    }\n",
       "</style>\n",
       "<table border=\"1\" class=\"dataframe\">\n",
       "  <thead>\n",
       "    <tr style=\"text-align: right;\">\n",
       "      <th></th>\n",
       "      <th>頻道</th>\n",
       "      <th>文章標題</th>\n",
       "      <th>瀏覽量</th>\n",
       "      <th>瀏覽量百分比</th>\n",
       "    </tr>\n",
       "  </thead>\n",
       "  <tbody>\n",
       "    <tr>\n",
       "      <th>137</th>\n",
       "      <td>美食旅遊</td>\n",
       "      <td>寫作平台新選擇—WREADIT銳誌，原創作者強烈招募中 – 頭殼總長</td>\n",
       "      <td>153</td>\n",
       "      <td>0.052326</td>\n",
       "    </tr>\n",
       "    <tr>\n",
       "      <th>58</th>\n",
       "      <td>美食旅遊</td>\n",
       "      <td>【台北中山】日暮裏冷藏和牛鍋物放題 台北南京店，個人和牛火鍋吃到飽，冷藏熟成肉品，個人火鍋推...</td>\n",
       "      <td>90</td>\n",
       "      <td>0.030780</td>\n",
       "    </tr>\n",
       "    <tr>\n",
       "      <th>104</th>\n",
       "      <td>美食旅遊</td>\n",
       "      <td>兩日限定！曜畫廊特獻 風靡歐洲百年的超現實藝術、音樂與美食體驗</td>\n",
       "      <td>72</td>\n",
       "      <td>0.024624</td>\n",
       "    </tr>\n",
       "    <tr>\n",
       "      <th>40</th>\n",
       "      <td>美食旅遊</td>\n",
       "      <td>【TOP10南機場夜市必吃小吃】台北最強夜市懶人包｜阿男麻油雞、山內雞肉、好記刀削麵、八棟圓...</td>\n",
       "      <td>72</td>\n",
       "      <td>0.024624</td>\n",
       "    </tr>\n",
       "    <tr>\n",
       "      <th>112</th>\n",
       "      <td>美食旅遊</td>\n",
       "      <td>台中｜一中街美食｜兩津芙蓉蛋塔為什麼大排長龍 - Ms. Y.C. Luuu</td>\n",
       "      <td>54</td>\n",
       "      <td>0.018468</td>\n",
       "    </tr>\n",
       "    <tr>\n",
       "      <th>...</th>\n",
       "      <td>...</td>\n",
       "      <td>...</td>\n",
       "      <td>...</td>\n",
       "      <td>...</td>\n",
       "    </tr>\n",
       "    <tr>\n",
       "      <th>78</th>\n",
       "      <td>美食旅遊</td>\n",
       "      <td>【彰化。二水】Sweego 水水果饌－二水體驗館。下午茶。IG網美咖啡廳</td>\n",
       "      <td>9</td>\n",
       "      <td>0.003078</td>\n",
       "    </tr>\n",
       "    <tr>\n",
       "      <th>79</th>\n",
       "      <td>美食旅遊</td>\n",
       "      <td>【彰化景點推薦】成美文化園，網美必拍打卡景點，兼六園、嘉明湖、落雨松大道、油紙傘巷一次全收齊...</td>\n",
       "      <td>9</td>\n",
       "      <td>0.003078</td>\n",
       "    </tr>\n",
       "    <tr>\n",
       "      <th>80</th>\n",
       "      <td>美食旅遊</td>\n",
       "      <td>【新北蘆洲】川蜀冒菜，蘆洲特色小吃，蘆洲公車總站旁，特色四川冒菜，受歡迎的酸辣粉，附菜單 @...</td>\n",
       "      <td>9</td>\n",
       "      <td>0.003078</td>\n",
       "    </tr>\n",
       "    <tr>\n",
       "      <th>82</th>\n",
       "      <td>美食旅遊</td>\n",
       "      <td>【新竹美食】犬首燒 新竹店。法鬥造型雞蛋糕，近新竹城隍廟創意甜點小吃。(芋頭麻糬．花生麻糬．...</td>\n",
       "      <td>9</td>\n",
       "      <td>0.003078</td>\n",
       "    </tr>\n",
       "    <tr>\n",
       "      <th>200</th>\n",
       "      <td>美食旅遊</td>\n",
       "      <td>｜﻿台北美食｜Rise Bakery麵包高cp值/信義安和站大馬路旁/巨大司康.肉桂捲.可頌...</td>\n",
       "      <td>9</td>\n",
       "      <td>0.003078</td>\n",
       "    </tr>\n",
       "  </tbody>\n",
       "</table>\n",
       "<p>201 rows × 4 columns</p>\n",
       "</div>"
      ]
     },
     "metadata": {},
     "execution_count": 127
    }
   ],
   "metadata": {}
  },
  {
   "cell_type": "code",
   "execution_count": 128,
   "source": [
    "print(pv_data)"
   ],
   "outputs": [
    {
     "output_type": "stream",
     "name": "stdout",
     "text": [
      "     頻道   瀏覽量    瀏覽量百分比\n",
      "0  美食旅遊  2924  0.233248\n",
      "1  娛樂遊戲  2682  0.213944\n",
      "2  生活休閒  2403  0.191688\n",
      "3  寰宇綜合  1197  0.095485\n",
      "4  金融理財  1026  0.081844\n",
      "5  3c科技   873  0.069639\n",
      "6  健康運動   594  0.047384\n",
      "7  時尚美妝   531  0.042358\n",
      "8  親子育兒   306  0.024410\n"
     ]
    }
   ],
   "metadata": {}
  },
  {
   "cell_type": "code",
   "execution_count": 129,
   "source": [
    "pv_data_tmp = pv_data[pv_data[\"頻道\"]==\"美食旅遊\"]"
   ],
   "outputs": [],
   "metadata": {}
  },
  {
   "cell_type": "code",
   "execution_count": 130,
   "source": [
    "pv_data_tmp[\"文章標題\"] = \"美食旅遊\""
   ],
   "outputs": [
    {
     "output_type": "stream",
     "name": "stderr",
     "text": [
      "C:\\Users\\aster\\AppData\\Local\\Programs\\Python\\Python37\\lib\\site-packages\\ipykernel_launcher.py:1: SettingWithCopyWarning:\n",
      "\n",
      "\n",
      "A value is trying to be set on a copy of a slice from a DataFrame.\n",
      "Try using .loc[row_indexer,col_indexer] = value instead\n",
      "\n",
      "See the caveats in the documentation: https://pandas.pydata.org/pandas-docs/stable/user_guide/indexing.html#returning-a-view-versus-a-copy\n",
      "\n"
     ]
    }
   ],
   "metadata": {}
  },
  {
   "cell_type": "code",
   "execution_count": 131,
   "source": [
    "pv_data_tmp[\"頻道\"] = \"\""
   ],
   "outputs": [
    {
     "output_type": "stream",
     "name": "stderr",
     "text": [
      "C:\\Users\\aster\\AppData\\Local\\Programs\\Python\\Python37\\lib\\site-packages\\ipykernel_launcher.py:1: SettingWithCopyWarning:\n",
      "\n",
      "\n",
      "A value is trying to be set on a copy of a slice from a DataFrame.\n",
      "Try using .loc[row_indexer,col_indexer] = value instead\n",
      "\n",
      "See the caveats in the documentation: https://pandas.pydata.org/pandas-docs/stable/user_guide/indexing.html#returning-a-view-versus-a-copy\n",
      "\n"
     ]
    }
   ],
   "metadata": {}
  },
  {
   "cell_type": "code",
   "execution_count": 132,
   "source": [
    "pv_data_tmp = pv_data_tmp[[\"頻道\", \"文章標題\", \"瀏覽量\", \"瀏覽量百分比\"]]\r\n",
    "pv_data_tmp"
   ],
   "outputs": [
    {
     "output_type": "execute_result",
     "data": {
      "text/plain": [
       "  頻道  文章標題   瀏覽量    瀏覽量百分比\n",
       "0     美食旅遊  2924  0.233248"
      ],
      "text/html": [
       "<div>\n",
       "<style scoped>\n",
       "    .dataframe tbody tr th:only-of-type {\n",
       "        vertical-align: middle;\n",
       "    }\n",
       "\n",
       "    .dataframe tbody tr th {\n",
       "        vertical-align: top;\n",
       "    }\n",
       "\n",
       "    .dataframe thead th {\n",
       "        text-align: right;\n",
       "    }\n",
       "</style>\n",
       "<table border=\"1\" class=\"dataframe\">\n",
       "  <thead>\n",
       "    <tr style=\"text-align: right;\">\n",
       "      <th></th>\n",
       "      <th>頻道</th>\n",
       "      <th>文章標題</th>\n",
       "      <th>瀏覽量</th>\n",
       "      <th>瀏覽量百分比</th>\n",
       "    </tr>\n",
       "  </thead>\n",
       "  <tbody>\n",
       "    <tr>\n",
       "      <th>0</th>\n",
       "      <td></td>\n",
       "      <td>美食旅遊</td>\n",
       "      <td>2924</td>\n",
       "      <td>0.233248</td>\n",
       "    </tr>\n",
       "  </tbody>\n",
       "</table>\n",
       "</div>"
      ]
     },
     "metadata": {},
     "execution_count": 132
    }
   ],
   "metadata": {}
  },
  {
   "cell_type": "code",
   "execution_count": 133,
   "source": [
    "all_data_2019_concat = pd.concat([pv_data_tmp, all_data_2019_tmp], axis =0)\r\n",
    "all_data_2019_concat"
   ],
   "outputs": [
    {
     "output_type": "execute_result",
     "data": {
      "text/plain": [
       "       頻道                                               文章標題   瀏覽量    瀏覽量百分比\n",
       "0                                                       美食旅遊  2924  0.233248\n",
       "137  美食旅遊                 寫作平台新選擇—WREADIT銳誌，原創作者強烈招募中 – 頭殼總長   153  0.052326\n",
       "58   美食旅遊  【台北中山】日暮裏冷藏和牛鍋物放題 台北南京店，個人和牛火鍋吃到飽，冷藏熟成肉品，個人火鍋推...    90  0.030780\n",
       "104  美食旅遊                    兩日限定！曜畫廊特獻 風靡歐洲百年的超現實藝術、音樂與美食體驗    72  0.024624\n",
       "40   美食旅遊  【TOP10南機場夜市必吃小吃】台北最強夜市懶人包｜阿男麻油雞、山內雞肉、好記刀削麵、八棟圓...    72  0.024624\n",
       "..    ...                                                ...   ...       ...\n",
       "78   美食旅遊               【彰化。二水】Sweego 水水果饌－二水體驗館。下午茶。IG網美咖啡廳     9  0.003078\n",
       "79   美食旅遊  【彰化景點推薦】成美文化園，網美必拍打卡景點，兼六園、嘉明湖、落雨松大道、油紙傘巷一次全收齊...     9  0.003078\n",
       "80   美食旅遊  【新北蘆洲】川蜀冒菜，蘆洲特色小吃，蘆洲公車總站旁，特色四川冒菜，受歡迎的酸辣粉，附菜單 @...     9  0.003078\n",
       "82   美食旅遊  【新竹美食】犬首燒 新竹店。法鬥造型雞蛋糕，近新竹城隍廟創意甜點小吃。(芋頭麻糬．花生麻糬．...     9  0.003078\n",
       "200  美食旅遊  ｜﻿台北美食｜Rise Bakery麵包高cp值/信義安和站大馬路旁/巨大司康.肉桂捲.可頌...     9  0.003078\n",
       "\n",
       "[202 rows x 4 columns]"
      ],
      "text/html": [
       "<div>\n",
       "<style scoped>\n",
       "    .dataframe tbody tr th:only-of-type {\n",
       "        vertical-align: middle;\n",
       "    }\n",
       "\n",
       "    .dataframe tbody tr th {\n",
       "        vertical-align: top;\n",
       "    }\n",
       "\n",
       "    .dataframe thead th {\n",
       "        text-align: right;\n",
       "    }\n",
       "</style>\n",
       "<table border=\"1\" class=\"dataframe\">\n",
       "  <thead>\n",
       "    <tr style=\"text-align: right;\">\n",
       "      <th></th>\n",
       "      <th>頻道</th>\n",
       "      <th>文章標題</th>\n",
       "      <th>瀏覽量</th>\n",
       "      <th>瀏覽量百分比</th>\n",
       "    </tr>\n",
       "  </thead>\n",
       "  <tbody>\n",
       "    <tr>\n",
       "      <th>0</th>\n",
       "      <td></td>\n",
       "      <td>美食旅遊</td>\n",
       "      <td>2924</td>\n",
       "      <td>0.233248</td>\n",
       "    </tr>\n",
       "    <tr>\n",
       "      <th>137</th>\n",
       "      <td>美食旅遊</td>\n",
       "      <td>寫作平台新選擇—WREADIT銳誌，原創作者強烈招募中 – 頭殼總長</td>\n",
       "      <td>153</td>\n",
       "      <td>0.052326</td>\n",
       "    </tr>\n",
       "    <tr>\n",
       "      <th>58</th>\n",
       "      <td>美食旅遊</td>\n",
       "      <td>【台北中山】日暮裏冷藏和牛鍋物放題 台北南京店，個人和牛火鍋吃到飽，冷藏熟成肉品，個人火鍋推...</td>\n",
       "      <td>90</td>\n",
       "      <td>0.030780</td>\n",
       "    </tr>\n",
       "    <tr>\n",
       "      <th>104</th>\n",
       "      <td>美食旅遊</td>\n",
       "      <td>兩日限定！曜畫廊特獻 風靡歐洲百年的超現實藝術、音樂與美食體驗</td>\n",
       "      <td>72</td>\n",
       "      <td>0.024624</td>\n",
       "    </tr>\n",
       "    <tr>\n",
       "      <th>40</th>\n",
       "      <td>美食旅遊</td>\n",
       "      <td>【TOP10南機場夜市必吃小吃】台北最強夜市懶人包｜阿男麻油雞、山內雞肉、好記刀削麵、八棟圓...</td>\n",
       "      <td>72</td>\n",
       "      <td>0.024624</td>\n",
       "    </tr>\n",
       "    <tr>\n",
       "      <th>...</th>\n",
       "      <td>...</td>\n",
       "      <td>...</td>\n",
       "      <td>...</td>\n",
       "      <td>...</td>\n",
       "    </tr>\n",
       "    <tr>\n",
       "      <th>78</th>\n",
       "      <td>美食旅遊</td>\n",
       "      <td>【彰化。二水】Sweego 水水果饌－二水體驗館。下午茶。IG網美咖啡廳</td>\n",
       "      <td>9</td>\n",
       "      <td>0.003078</td>\n",
       "    </tr>\n",
       "    <tr>\n",
       "      <th>79</th>\n",
       "      <td>美食旅遊</td>\n",
       "      <td>【彰化景點推薦】成美文化園，網美必拍打卡景點，兼六園、嘉明湖、落雨松大道、油紙傘巷一次全收齊...</td>\n",
       "      <td>9</td>\n",
       "      <td>0.003078</td>\n",
       "    </tr>\n",
       "    <tr>\n",
       "      <th>80</th>\n",
       "      <td>美食旅遊</td>\n",
       "      <td>【新北蘆洲】川蜀冒菜，蘆洲特色小吃，蘆洲公車總站旁，特色四川冒菜，受歡迎的酸辣粉，附菜單 @...</td>\n",
       "      <td>9</td>\n",
       "      <td>0.003078</td>\n",
       "    </tr>\n",
       "    <tr>\n",
       "      <th>82</th>\n",
       "      <td>美食旅遊</td>\n",
       "      <td>【新竹美食】犬首燒 新竹店。法鬥造型雞蛋糕，近新竹城隍廟創意甜點小吃。(芋頭麻糬．花生麻糬．...</td>\n",
       "      <td>9</td>\n",
       "      <td>0.003078</td>\n",
       "    </tr>\n",
       "    <tr>\n",
       "      <th>200</th>\n",
       "      <td>美食旅遊</td>\n",
       "      <td>｜﻿台北美食｜Rise Bakery麵包高cp值/信義安和站大馬路旁/巨大司康.肉桂捲.可頌...</td>\n",
       "      <td>9</td>\n",
       "      <td>0.003078</td>\n",
       "    </tr>\n",
       "  </tbody>\n",
       "</table>\n",
       "<p>202 rows × 4 columns</p>\n",
       "</div>"
      ]
     },
     "metadata": {},
     "execution_count": 133
    }
   ],
   "metadata": {}
  },
  {
   "cell_type": "code",
   "execution_count": 134,
   "source": [
    "save_all_data = []\r\n",
    "for i in pv_data[\"頻道\"]:\r\n",
    "    print(i)"
   ],
   "outputs": [
    {
     "output_type": "stream",
     "name": "stdout",
     "text": [
      "美食旅遊\n",
      "娛樂遊戲\n",
      "生活休閒\n",
      "寰宇綜合\n",
      "金融理財\n",
      "3c科技\n",
      "健康運動\n",
      "時尚美妝\n",
      "親子育兒\n"
     ]
    }
   ],
   "metadata": {}
  },
  {
   "cell_type": "code",
   "execution_count": 141,
   "source": [
    "save_all_data = []\r\n",
    "for i in pv_data[\"頻道\"]:\r\n",
    "    print(i)\r\n",
    "    #文章標題\r\n",
    "    all_data_2019_tmp = all_data_2019[all_data_2019['頻道']==i]\r\n",
    "    all_data_2019_tmp = all_data_2019_tmp.groupby('文章標題', as_index= False)['瀏覽量'].sum()\r\n",
    "    all_data_2019_tmp = all_data_2019_tmp.sort_values('瀏覽量', ascending= False)\r\n",
    "    all_data_2019_tmp['瀏覽量百分比'] = all_data_2019_tmp['瀏覽量'] / all_data_2019_tmp['瀏覽量'].sum()\r\n",
    "    all_data_2019_tmp[\"頻道\"]= i \r\n",
    "    all_data_2019_tmp = all_data_2019_tmp[[\"頻道\",\"文章標題\",\"瀏覽量\",\"瀏覽量百分比\"]]\r\n",
    "    save_all_data.append(all_data_2019_tmp)\r\n",
    "    #頻道\r\n",
    "    #pv_data_tmp = pv_data[pv_data[\"頻道\"]==i]\r\n",
    "    #pv_data_tmp[\"文章標題\"] = i\r\n",
    "    #pv_data_tmp[\"頻道\"] = \"\"\r\n",
    "    #pv_data_tmp = pv_data_tmp[[\"頻道\", \"文章標題\", \"瀏覽量\", \"瀏覽量百分比\"]]\r\n",
    "    #all_data_2019_concat = pd.concat([pv_data_tmp, all_data_2019_tmp], axis =0)\r\n",
    "    #save_all_data.append( all_data_2019_concat)"
   ],
   "outputs": [
    {
     "output_type": "stream",
     "name": "stdout",
     "text": [
      "美食旅遊\n",
      "娛樂遊戲\n",
      "生活休閒\n",
      "寰宇綜合\n",
      "金融理財\n",
      "3c科技\n",
      "健康運動\n",
      "時尚美妝\n",
      "親子育兒\n"
     ]
    }
   ],
   "metadata": {}
  },
  {
   "cell_type": "code",
   "execution_count": 142,
   "source": [
    "save_all_data"
   ],
   "outputs": [
    {
     "output_type": "execute_result",
     "data": {
      "text/plain": [
       "[       頻道                                               文章標題  瀏覽量    瀏覽量百分比\n",
       " 137  美食旅遊                 寫作平台新選擇—WREADIT銳誌，原創作者強烈招募中 – 頭殼總長  153  0.052326\n",
       " 58   美食旅遊  【台北中山】日暮裏冷藏和牛鍋物放題 台北南京店，個人和牛火鍋吃到飽，冷藏熟成肉品，個人火鍋推...   90  0.030780\n",
       " 104  美食旅遊                    兩日限定！曜畫廊特獻 風靡歐洲百年的超現實藝術、音樂與美食體驗   72  0.024624\n",
       " 40   美食旅遊  【TOP10南機場夜市必吃小吃】台北最強夜市懶人包｜阿男麻油雞、山內雞肉、好記刀削麵、八棟圓...   72  0.024624\n",
       " 112  美食旅遊             台中｜一中街美食｜兩津芙蓉蛋塔為什麼大排長龍 - Ms. Y.C. Luuu   54  0.018468\n",
       " ..    ...                                                ...  ...       ...\n",
       " 78   美食旅遊               【彰化。二水】Sweego 水水果饌－二水體驗館。下午茶。IG網美咖啡廳    9  0.003078\n",
       " 79   美食旅遊  【彰化景點推薦】成美文化園，網美必拍打卡景點，兼六園、嘉明湖、落雨松大道、油紙傘巷一次全收齊...    9  0.003078\n",
       " 80   美食旅遊  【新北蘆洲】川蜀冒菜，蘆洲特色小吃，蘆洲公車總站旁，特色四川冒菜，受歡迎的酸辣粉，附菜單 @...    9  0.003078\n",
       " 82   美食旅遊  【新竹美食】犬首燒 新竹店。法鬥造型雞蛋糕，近新竹城隍廟創意甜點小吃。(芋頭麻糬．花生麻糬．...    9  0.003078\n",
       " 200  美食旅遊  ｜﻿台北美食｜Rise Bakery麵包高cp值/信義安和站大馬路旁/巨大司康.肉桂捲.可頌...    9  0.003078\n",
       " \n",
       " [201 rows x 4 columns],\n",
       "        頻道                                               文章標題  瀏覽量    瀏覽量百分比\n",
       " 50   娛樂遊戲  Switch遊戲免費玩!?動森、薩爾達都免費借玩，GAME'NIR遊戲圖書館，免費14天玩到...  117  0.043624\n",
       " 61   娛樂遊戲                   《柏捷頓家族：名門韻事》（Bridgerton）帥氣男主角是誰？   63  0.023490\n",
       " 118  娛樂遊戲           像素風放置手遊《蜀漢小軍師：像素三國》雙平台正式上線 豐富開服獎勵助玩家征戰沙場   63  0.023490\n",
       " 63   娛樂遊戲            《柏捷頓家族：名門韻事》（Bridgerton）第二季愛情主軸將放在帥大哥身上   45  0.016779\n",
       " 146  娛樂遊戲                   推薦木棉花4部超夯動畫！《PUI PUI 天竺鼠車車》融化你的心   36  0.013423\n",
       " ..    ...                                                ...  ...       ...\n",
       " 81   娛樂遊戲                         【劇評】逆境底下，人類即怪物《Sweet Home》    9  0.003356\n",
       " 83   娛樂遊戲               【動畫】童年回憶！你看過哈姆太郎的母親嗎？盤點25位超可愛的哈姆好友們！    9  0.003356\n",
       " 84   娛樂遊戲  【原神】風神瞳懶人包，完整地點攻略，66個風神瞳通通收集(含成就、顏色區分圖、風神瞳全位置影...    9  0.003356\n",
       " 85   娛樂遊戲                【台劇】《火神的眼淚》與死神抗爭的無名英雄—「消防員」 黑暗中的曙光！    9  0.003356\n",
       " 206  娛樂遊戲  驚悚電影《迴憶》扮夫妻幕後｜徐睿知眼神超殺，金剛于曝光兩人片場互動狀況 | 少女心文室 NE...    9  0.003356\n",
       " \n",
       " [207 rows x 4 columns],\n",
       "       頻道                                               文章標題  瀏覽量    瀏覽量百分比\n",
       " 41  生活休閒        「嘿！服務鈴可不在我身上喔！」幽默應對的空中小故事 — 🌿 AG Girl 艾許娜說書   54  0.022472\n",
       " 36  生活休閒                                  《我不喜歡這世界，我只喜歡你》喬一   54  0.022472\n",
       " 44  生活休閒                       『居家雜貨』除了ikea必買、宜得利推薦，你還會買什麼？   45  0.018727\n",
       " 69  生活休閒                        【自信經營】相信自己值得被愛，別向年齡或他人的眼光妥協   45  0.018727\n",
       " 7   生活休閒                         2021生日運勢排行榜出爐！這幾天出生的人走大運啦🤑   45  0.018727\n",
       " ..   ...                                                ...  ...       ...\n",
       " 84  生活休閒                                別太關注別人的私生活，即使他是公眾人物    9  0.003745\n",
       " 83  生活休閒  兩性專欄｜愛情的本質是殘忍「不愛了的時候，一切歸零不過就是一瞬間的事。」 - Wise Li...    9  0.003745\n",
       " 82  生活休閒  兩性專欄｜僅限熱戀期的爆棚體貼浪漫，對長遠關係來說並不是好事 - Wise Library ...    9  0.003745\n",
       " 81  生活休閒                            免揉手撕餐包食譜 ，柔軟好吃小餐包，免揉最方便    9  0.003745\n",
       " 92  生活休閒                   吃一頓飯就要牽手？無論女生喜不喜歡你都是「必敗」…還有妹不要亂撩    9  0.003745\n",
       " \n",
       " [185 rows x 4 columns],\n",
       "       頻道                                               文章標題  瀏覽量    瀏覽量百分比\n",
       " 5   寰宇綜合       54本肉肉文推薦：老司機想看的肉寵文、現代高辣、古代甜肉、快穿肉文、NP肉文、1V1都有   54  0.045113\n",
       " 0   寰宇綜合  113本主角是軍人+警察小說推薦：古代(將軍)+現代+(雙)軍人+(雙)警察+法醫+刑警+特...   45  0.037594\n",
       " 58  寰宇綜合                    【電玩雜談】從恐怖遊戲的劇情，細談我們的社會是如何看待男性本身   45  0.037594\n",
       " 39  寰宇綜合                 【性別】讓我們用三分鐘的時間整理一下！是時候該認真談談性別運動這件情   36  0.030075\n",
       " 90  寰宇綜合                      蘋果在官網首頁紀念民權運動領袖 – 馬丁路德 | 愛瘋日報   27  0.022556\n",
       " ..   ...                                                ...  ...       ...\n",
       " 10  寰宇綜合       BG現代先婚後愛言情小說 | 《咬紅唇》作者：今様【短篇+現代都市+先婚後愛+豪門世家】    9  0.007519\n",
       " 41  寰宇綜合                     【新莊火鍋】豆品道石頭火鍋 – 貝大小姐與瑞餚姐の囂脂私蜜話    9  0.007519\n",
       " 11  寰宇綜合  BG現代肉多多 |《和聯姻對象做炮友》作者：蜜汁叉燒|【5星原創BG言情小說推薦心得文】| ...    9  0.007519\n",
       " 12  寰宇綜合  BG短篇肉文 | 《男朋友出軌之后》作者：柚子多肉|【5星原創BG言情小說推薦心得文】【短篇...    9  0.007519\n",
       " 97  寰宇綜合                               黃頷の王 -- 南蛇 @ 阿修羅的夜世界    9  0.007519\n",
       " \n",
       " [98 rows x 4 columns],\n",
       "       頻道                                         文章標題  瀏覽量    瀏覽量百分比\n",
       " 51  金融理財                          為何要選擇當選擇權賣方？投資心法大公開   90  0.087719\n",
       " 69  金融理財  通膨風險：依照物價指數調整你的年支出，將使你原有的生活水平下降。 - 易查克的退休對策   45  0.043860\n",
       " 57  金融理財          稿費｜比較台灣國內外8大撰稿平台優缺點＜詳解部落格＆個人網站的神差別＞   27  0.026316\n",
       " 30  金融理財             台積電創新天價，醫師染疫，站在泡沫頂端的我們，只能祈禱一切安好!   27  0.026316\n",
       " 25  金融理財                             台灣人的自制能力遠超過全世界想像   27  0.026316\n",
       " ..   ...                                          ...  ...       ...\n",
       " 38  金融理財                  如何打造屬於自已的加密貨幣被動收入(BTC/USDT)    9  0.008772\n",
       " 1   金融理財                   0056 元大高股息ETF送分題，為自己的投資負責。    9  0.008772\n",
       " 41  金融理財                   庫藏股疑義問答(108年12月修) - 承銷人忙什麼    9  0.008772\n",
       " 42  金融理財                            我如果收到娛樂城傳票我該怎麼辦??    9  0.008772\n",
       " 77  金融理財                        鉅城倒了！？ptt網友說不能登入、不理人？    9  0.008772\n",
       " \n",
       " [78 rows x 4 columns],\n",
       "       頻道                                               文章標題  瀏覽量    瀏覽量百分比\n",
       " 36  3c科技             全新部落格平台！WREADIT讓線上寫作，變得超簡單！｜WREADIT 銳誌  117  0.134021\n",
       " 16  3c科技         Telegram 老司機群組去哪找？33 個頻道和群組讓你一次補齊進度 | 綠色工廠   54  0.061856\n",
       " 25  3c科技  [開箱評測]SENNHEISER IE300 入耳式耳機～細膩情感怎能錯過～ – 『不務正業...   18  0.020619\n",
       " 57  3c科技                          網站如何經營？五招提升自媒體網站流量與關鍵字排名！   18  0.020619\n",
       " 33  3c科技                    中國老司機 – 《尤果圈》APP 大量美女套圖 | 雲爸的私處   18  0.020619\n",
       " ..   ...                                                ...  ...       ...\n",
       " 31  3c科技  不想賺錢，能在無廣告介面寫作的部落格平台：TIMELOG探路客優缺點分析 | 部落格實戰經驗...    9  0.010309\n",
       " 32  3c科技              不管您願不願意！WhatsApp 都要與 FB 共享您的數據 | 愛瘋日報    9  0.010309\n",
       " 34  3c科技                 你開啟 Google 時間軸了嗎？是否與確診者足跡相同？讓科技輔助你    9  0.010309\n",
       " 35  3c科技  使用 Nicegram 代替 Telegram iOS 版，解鎖敏感內容限制可查看老司機群組...    9  0.010309\n",
       " 73  3c科技          高解析度 iPhone 4 半透明圖標主題分享 | iPhone News 愛瘋了    9  0.010309\n",
       " \n",
       " [74 rows x 4 columns],\n",
       "       頻道                                               文章標題  瀏覽量    瀏覽量百分比\n",
       " 35  健康運動                           極限思辨 —— 談球員被高估 (以NBA為題材)   72  0.121212\n",
       " 8   健康運動                                 「遠離焦慮」我們應該如何跟悲傷告別？   45  0.075758\n",
       " 13  健康運動                     三招居家伸展運動，改善肩、頸、背痠痛！累了就靠這招打起精神！   18  0.030303\n",
       " 40  健康運動                                         草莓卡比 ღ 生活誌   18  0.030303\n",
       " 10  健康運動                                 【東京奧運】這是一場運動競技 享受它   18  0.030303\n",
       " 18  健康運動     分享.大研生醫視易適葉黃素，7in1的完整保護，美國專利FloraGLO游離型葉黃素更晶亮!   18  0.030303\n",
       " 17  健康運動        出生季節除了與星座有關　也可能預知疾病及死亡風險 - 1122 health 健康星球   18  0.030303\n",
       " 14  健康運動                                        中職2021賽程總整理   18  0.030303\n",
       " 37  健康運動  田中千繪「時間的過程會讓我們的人生價值觀改變，…兩個人聊天的內容會有溫差」 – Wise L...   18  0.030303\n",
       " 36  健康運動  淺談 NBA 2020~21賽季 MVP 評選：Derrick Rose 獲得「第一名選票」...    9  0.015152\n",
       " 29  健康運動                      寫文章也能賺錢? | Matters (馬特市) 三大功能    9  0.015152\n",
       " 30  健康運動  忘不了的眼神  ~淺談EMDR對婆媳/岳婿問題的協助\\n        | \\n\\n    ...    9  0.015152\n",
       " 31  健康運動                想瘦卻不知道該做哪種運動？盤點六大能瘦能塑身的運動！這一項運動超省時！    9  0.015152\n",
       " 32  健康運動                      戴口罩重要，「脫口罩也很重要」!ICU醫生陳志金教你這麼做    9  0.015152\n",
       " 33  健康運動                       日本300位名醫票選10大健康食材，第一位你絕對猜不到！    9  0.015152\n",
       " 34  健康運動         早就沒有草莓族，早就進入不要命的柳丁族世代！ - Wise Library 1985    9  0.015152\n",
       " 0   健康運動                          1天2包天然酵素的蔬果梅精順暢飲—嗯嗯就是非常順暢    9  0.015152\n",
       " 27  健康運動          在家如何練弓道？也許可以嘗試 Specific Physical Training    9  0.015152\n",
       " 38  健康運動          老司機上車了! Pornhub Premium 2/14 限時免費 | 雲爸的私處    9  0.015152\n",
       " 39  健康運動                    自己就像一塊默默承擔與吸收他人負面情緒的好海綿 - 好想說謝謝    9  0.015152\n",
       " 41  健康運動              萊豬大解密｜擔心萊豬有疑慮？這幾間台灣優質好豬肉讓你呷免驚 - 奧丁丁客棧    9  0.015152\n",
       " 42  健康運動                               角頭浪流連線上看HD完整版動人劇情超淚崩    9  0.015152\n",
       " 43  健康運動  討論完 NBA 的歷史前五人，嘻哈圈的歷史前五人你覺得是誰呢? 紀錄之神 Drake 開出了...    9  0.015152\n",
       " 44  健康運動                         超震撼！李光洙宣布退出RM，病痛纏身告別11年節目！    9  0.015152\n",
       " 45  健康運動       超靈驗～醫院隱藏版守護神，台大醫公醫婆在哪裡？ @ 焦糖綠玫瑰 caramelgreen    9  0.015152\n",
       " 46  健康運動                             鎖鏈の咒 --- 圓斑蝰 @ 阿修羅的夜世界    9  0.015152\n",
       " 28  健康運動                 夏韻芬：最難熬的就是友情變調 – Wise Library 1985    9  0.015152\n",
       " 24  健康運動                              台灣運動彩券｜教你走在運彩套利邊緣不被風控    9  0.015152\n",
       " 26  健康運動                                台灣運彩玩法怎麼玩?超簡單【運彩教學】    9  0.015152\n",
       " 25  健康運動                        台灣運動彩券｜踏入台灣運彩前要不吃虧就必須搞懂的眉角!    9  0.015152\n",
       " 2   健康運動  NBA 最佳防守球員 Rudy Gobert 確診武漢肺炎，NBA將無限期休賽！ - YOL...    9  0.015152\n",
       " 3   健康運動       NBA前球星歐尼爾發聲 支持摩瑞挺港言論 | 民報 Taiwan People News    9  0.015152\n",
       " 4   健康運動                            [轉貼]給想生小孩的已婚婦女求子方法(18禁)    9  0.015152\n",
       " 5   健康運動                                    。貪吃馬麻與愛玩寶的生活日記。    9  0.015152\n",
       " 6   健康運動                             《我的偶像總裁》性恩 @ 天空.過客.一個人    9  0.015152\n",
       " 7   健康運動      「你沒問題，只欠缺找到自己強項」讀書心得：人際關係這樣處理就對了 - 維琪，你的好感度教練    9  0.015152\n",
       " 9   健康運動             【宜蘭遊記】(礁溪) 抹茶山聖母登山步道攻略 (停車、路線、上山時間、廁所)    9  0.015152\n",
       " 11  健康運動  【醫病平台】42歲發現罹癌，同時間發現丈夫外遇，我現在都還好好的，那妳為什麼不能？ | 民報...    9  0.015152\n",
       " 12  健康運動  【魚油保健】歐3加福精萃濃縮EPA(85%omega-3)／歐3加福精萃濃縮DHA(65%o...    9  0.015152\n",
       " 15  健康運動  全民打棒球PRO《模擬聯賽》輕鬆上黃金！掌握技巧隔週再上『鑽石』！每週多10張紅卡抽！戰術攻...    9  0.015152\n",
       " 16  健康運動                             全球糖尿病人數快速增長，顯示出廉價食物的弊端    9  0.015152\n",
       " 19  健康運動                          台北火鍋推薦| 黑毛屋大直店| 精緻日本和牛涮涮鍋    9  0.015152\n",
       " 20  健康運動         台灣運動彩券分析 NBA 太陽 (客) VS 爵士 (主) 12/31 201231    9  0.015152\n",
       " 21  健康運動         台灣運動彩券分析 NBA 拓荒 (客) VS 國王 (主) 01/14 210114    9  0.015152\n",
       " 22  健康運動           台灣運動彩券分析 NBA 金塊(客) VS 籃網(主) 01/13 210113    9  0.015152\n",
       " 23  健康運動      台灣運動彩券分析 籃球 NBA 活塞 (客) VS 老鷹 (主) 12/29 201229    9  0.015152\n",
       " 1   健康運動                       NBA 2K21 三位封面球星揭曉 | NOVA資訊廣場    9  0.015152\n",
       " 47  健康運動  鬼壓床 | 睡眠癱瘓症 | 那些你可以注意的細節\\n        | \\n\\n      ...    9  0.015152,\n",
       "       頻道                                               文章標題  瀏覽量    瀏覽量百分比\n",
       " 2   時尚美妝  2021未來媽媽/廢財闖天關/巡天者等...華劇女主角教你如何從女孩穿到女人~可不能錯過的！...  108  0.203390\n",
       " 28  時尚美妝                 約會穿搭第一印象超重要！成功營造自己的魅力形象  女孩約會穿搭筆記🌿   54  0.101695\n",
       " 21  時尚美妝  暖暖包out！會保暖的辣女孩這樣穿，高領毛衣、翻領毛外套，這些單品讓臉型顯瘦又時尚 ♥寒流實...   45  0.084746\n",
       " 32  時尚美妝                     離開10年的職業OL，規劃人生清單朝目標邁進吧！(首篇紀念)   18  0.033898\n",
       " 31  時尚美妝            這美腿不科學！《梨泰院Class》女神權娜拉「5招」保養逆天長腿 – 頭殼總長   18  0.033898\n",
       " 30  時尚美妝  質感生活 韓國 WONDER MAMA 鈦保溫杯  無毒容器 可盛裝牛奶、咖啡、茶類的保溫杯...   18  0.033898\n",
       " 7   時尚美妝  《Organic Aromas有機香氛》美國香氛品牌，精油擴香儀的專家，釋放壓力，緩解身心靈...   18  0.033898\n",
       " 27  時尚美妝                     眼神打造關鍵好印象!從眼型判斷專屬自己的『命定眼線』趁現在！   18  0.033898\n",
       " 11  時尚美妝              你可以再靠近一點~5款「零負評」開架保養給你過年好氣色，痘痘、暗沉肌退散！   18  0.033898\n",
       " 23  時尚美妝                李向月連燕窩系列保養品 | 逆齡重生煥顏撫紋精華 |旅途中乾燥肌的救星    9  0.016949\n",
       " 20  時尚美妝             日曜天地outlet家電福利品出清 |年前怒省，從大電視、冰箱等直接2折起～    9  0.016949\n",
       " 22  時尚美妝  會上癮的棉花糖三重紗，UCHINO 2021新裝上市5/21~5/31全面85折，自然系雲的...    9  0.016949\n",
       " 26  時尚美妝                                    每個媳婦，都一定有過孤獨的感覺    9  0.016949\n",
       " 24  時尚美妝  棒球外套紅什麼？入門潮流搭配有公式，從梵谷、蒙德里安、草間彌生，這些著名藝術家的代表作教你簡...    9  0.016949\n",
       " 25  時尚美妝  歲末廠拍 ! 刷毛長褲100元、機能外套$298起、內衣買4送1 【FB分享免費抽吸塵器】新...    9  0.016949\n",
       " 18  時尚美妝  平價服飾品牌X日本服飾品牌精選｜許路兒、曾莞婷、隋棠自創品牌｜網購推薦…. – Wise L...    9  0.016949\n",
       " 29  時尚美妝  護膚  ░  【Argiletz安肌泥】法國頂級礦泥粉面膜，肌膚保養敷臉礦泥面膜、髮膜、敷臉...    9  0.016949\n",
       " 19  時尚美妝             想談戀愛先學穿搭！最讓女生心儀的「男生約會穿搭」5要素！超簡單概念筆記起來！    9  0.016949\n",
       " 0   時尚美妝  2020, Apr│海尼根 0.0零酒精│超商買什麼？暢飲海尼根 開車也能喝的 無酒精啤酒風...    9  0.016949\n",
       " 17  時尚美妝         寶島美食圖鑑(下)♡學霸湯、焦糖奶QQ球、台式吐司料理...妳是屬於哪款台灣味女子？    9  0.016949\n",
       " 1   時尚美妝           2021七款按摩神器推薦！上班族眼睛疲勞、家庭主婦肩頸痠痛，通通紓壓「不求人」！    9  0.016949\n",
       " 15  時尚美妝     家庭主婦瘋搶的碗盤特賣會！新店北新路二段13號，只要3個100元起 | 凱西跳跳糖の美食旅遊    9  0.016949\n",
       " 14  時尚美妝    女孩瘋搶的超百搭潮鞋！ IU 李知恩官宣New Balance品牌大使，上腳經典574超勸敗！    9  0.016949\n",
       " 13  時尚美妝  台灣獨家限量NBA STORE TAIWAN x CiPU喜舖 聯名系列浪漫來襲 | NOV...    9  0.016949\n",
       " 12  時尚美妝  公視消防職人劇 火神的眼淚 聯名 Bagrun 二代都會玩家軍事風格瞬開後背包 多層次收納井然有序    9  0.016949\n",
       " 10  時尚美妝                【開箱】POP SOC 波特卡斯‧D‧艾斯 - 漲翻天的POP坐姿系列    9  0.016949\n",
       " 9   時尚美妝  【情侶保溫杯】韓國WONDER MAMA 鈦保溫杯 你的黑我的白 可裝牛奶咖啡 異味不殘留 ...    9  0.016949\n",
       " 8   時尚美妝               【台中】春節前美美造型好過年，ink hair台中一中，設計師超專業建議    9  0.016949\n",
       " 6   時尚美妝       | 保濕推薦 | 米泉釀 青春活妍面膜/青春活妍精華露 讓肌膚柔嫰的小祕密 有機溫泉米糠    9  0.016949\n",
       " 5   時尚美妝                                        ozio蜂王乳試用心得    9  0.016949\n",
       " 4   時尚美妝          ZARA Beauty 2021全新系列純白簡約風太美！130項彩裝單品5月開賣！    9  0.016949\n",
       " 3   時尚美妝        NBA Store嚴選三大機能運動包款 自信探索城市運動摩登質感 | NOVA資訊廣場    9  0.016949\n",
       " 16  時尚美妝  寶島美食圖鑑(上)♡ 這些人氣踩點的特色美食也能變穿搭!!  創意插畫把台灣味變成時下流行的...    9  0.016949,\n",
       "       頻道                                               文章標題  瀏覽量    瀏覽量百分比\n",
       " 6   親子育兒                     【日常】什麼時候怕丟臉是一種顯學了？關於現在年輕人的一點想法   63  0.205882\n",
       " 0   親子育兒  2021 母嬰用品 親子用品福袋懶人包: PUKU藍色企鵝、黃色小鴨等 | 媽咪~爸比~快樂...   18  0.058824\n",
       " 21  親子育兒       禮貌教育／孩子總不敢打招呼？這4步驟成功引導！ @ 焦糖綠玫瑰 caramelgreen   18  0.058824\n",
       " 14  親子育兒  她讓婆婆主動探病照顧…過來人分享婆媳感情加溫4心法 @ 焦糖綠玫瑰 caramelgreen...    9  0.029412\n",
       " 24  親子育兒  解決慣性遲到靠5招／每天遲到的孩子，小一開始早起的原因是… @ 焦糖綠玫瑰 caramelg...    9  0.029412\n",
       " 23  親子育兒       裸師露鳥／校園是不容挑戰之地！引導孩子自保3招 @ 焦糖綠玫瑰 caramelgreen    9  0.029412\n",
       " 22  親子育兒  穩固娘家＝安全感　綠玫瑰說：女兒不是被潑出去的水～ @ 焦糖綠玫瑰 caramelgreen...    9  0.029412\n",
       " 20  親子育兒  白日夢時自動作畫 | 解離性人格疾患者的特殊能力\\n        | \\n\\n      ...    9  0.029412\n",
       " 19  親子育兒  必看！婆媳大戰永無寧日？　老人家都有的教養盲點！ @ 焦糖綠玫瑰 caramelgreen ...    9  0.029412\n",
       " 18  親子育兒     小一新鮮人／女兒不焦慮了～菜鳥家長分析這5點鮮事！ @ 焦糖綠玫瑰 caramelgreen    9  0.029412\n",
       " 17  親子育兒  小一教養／開始頂嘴、冷暴力…陪孩子度過7歲叛逆期的4句話 @ 焦糖綠玫瑰 caramelgreen    9  0.029412\n",
       " 16  親子育兒    小一教養／學齡前後大不同～想出去玩？先努力換旅費吧！ @ 焦糖綠玫瑰 caramelgreen    9  0.029412\n",
       " 15  親子育兒                 家庭清潔推薦｜RafaGo牽著吉娃娃 Home系列 不只有效更加健康    9  0.029412\n",
       " 13  親子育兒                                   大人的急，也急壞了親子之間的關係    9  0.029412\n",
       " 1   親子育兒              [育嬰新手村] 小晴天手作造型饅頭 收涎饅頭 兒童可食用的可愛卡通造型饅頭    9  0.029412\n",
       " 12  親子育兒    單親媽小資幸福心法／收入不多，如何將日子過得有質感？ @ 焦糖綠玫瑰 caramelgreen    9  0.029412\n",
       " 11  親子育兒        單親媽媽｜婚後分手讓她心痛的是孩子的日記... - Wise Library 1985    9  0.029412\n",
       " 10  親子育兒                          任天堂大量NS玩家賬戶異常登錄任天堂疑似遇安全漏洞    9  0.029412\n",
       " 9   親子育兒       不安親／基礎趁寒假打好！小一菜鳥輕鬆補強靠5招 @ 焦糖綠玫瑰 caramelgreen    9  0.029412\n",
       " 8   親子育兒       【這些人】婆媳關係非人性，何苦為難女人？ | 民報 Taiwan People News    9  0.029412\n",
       " 7   親子育兒              【玩具DIY】在家自製感覺統合觸覺箱 | 媽咪~爸比~快樂孕兒、育兒教養經    9  0.029412\n",
       " 5   親子育兒   【婚姻．人際．婆媳】把媳婦疼入心家和萬事興，多有福氣的事 - Wise Library 1985    9  0.029412\n",
       " 4   親子育兒                                【圖文】性教育和品格教育，哪個最重要？    9  0.029412\n",
       " 3   親子育兒     【Remi大小事】寶寶用餐囉！｜餐椅篇｜安貝貝幫寶椅｜Chicco餐椅｜Apramo摺疊餐椅    9  0.029412\n",
       " 2   親子育兒    【Remi大小事】寶寶愛柒投｜夢幻中的媽媽包好難挑唷｜DONE BY DEER 輕量後揹媽媽包    9  0.029412\n",
       " 25  親子育兒                  餐桌閒聊｜鬼滅之刃適合幾歲的孩子觀看？ - 小小的100種任性生活    9  0.029412]"
      ]
     },
     "metadata": {},
     "execution_count": 142
    }
   ],
   "metadata": {}
  },
  {
   "cell_type": "code",
   "execution_count": 143,
   "source": [
    "save_all_data = pd.concat(save_all_data, axis= 0)"
   ],
   "outputs": [],
   "metadata": {}
  },
  {
   "cell_type": "code",
   "execution_count": 144,
   "source": [
    "save_all_data"
   ],
   "outputs": [
    {
     "output_type": "execute_result",
     "data": {
      "text/plain": [
       "       頻道                                               文章標題  瀏覽量    瀏覽量百分比\n",
       "137  美食旅遊                 寫作平台新選擇—WREADIT銳誌，原創作者強烈招募中 – 頭殼總長  153  0.052326\n",
       "58   美食旅遊  【台北中山】日暮裏冷藏和牛鍋物放題 台北南京店，個人和牛火鍋吃到飽，冷藏熟成肉品，個人火鍋推...   90  0.030780\n",
       "104  美食旅遊                    兩日限定！曜畫廊特獻 風靡歐洲百年的超現實藝術、音樂與美食體驗   72  0.024624\n",
       "40   美食旅遊  【TOP10南機場夜市必吃小吃】台北最強夜市懶人包｜阿男麻油雞、山內雞肉、好記刀削麵、八棟圓...   72  0.024624\n",
       "112  美食旅遊             台中｜一中街美食｜兩津芙蓉蛋塔為什麼大排長龍 - Ms. Y.C. Luuu   54  0.018468\n",
       "..    ...                                                ...  ...       ...\n",
       "5    親子育兒   【婚姻．人際．婆媳】把媳婦疼入心家和萬事興，多有福氣的事 - Wise Library 1985    9  0.029412\n",
       "4    親子育兒                                【圖文】性教育和品格教育，哪個最重要？    9  0.029412\n",
       "3    親子育兒     【Remi大小事】寶寶用餐囉！｜餐椅篇｜安貝貝幫寶椅｜Chicco餐椅｜Apramo摺疊餐椅    9  0.029412\n",
       "2    親子育兒    【Remi大小事】寶寶愛柒投｜夢幻中的媽媽包好難挑唷｜DONE BY DEER 輕量後揹媽媽包    9  0.029412\n",
       "25   親子育兒                  餐桌閒聊｜鬼滅之刃適合幾歲的孩子觀看？ - 小小的100種任性生活    9  0.029412\n",
       "\n",
       "[950 rows x 4 columns]"
      ],
      "text/html": [
       "<div>\n",
       "<style scoped>\n",
       "    .dataframe tbody tr th:only-of-type {\n",
       "        vertical-align: middle;\n",
       "    }\n",
       "\n",
       "    .dataframe tbody tr th {\n",
       "        vertical-align: top;\n",
       "    }\n",
       "\n",
       "    .dataframe thead th {\n",
       "        text-align: right;\n",
       "    }\n",
       "</style>\n",
       "<table border=\"1\" class=\"dataframe\">\n",
       "  <thead>\n",
       "    <tr style=\"text-align: right;\">\n",
       "      <th></th>\n",
       "      <th>頻道</th>\n",
       "      <th>文章標題</th>\n",
       "      <th>瀏覽量</th>\n",
       "      <th>瀏覽量百分比</th>\n",
       "    </tr>\n",
       "  </thead>\n",
       "  <tbody>\n",
       "    <tr>\n",
       "      <th>137</th>\n",
       "      <td>美食旅遊</td>\n",
       "      <td>寫作平台新選擇—WREADIT銳誌，原創作者強烈招募中 – 頭殼總長</td>\n",
       "      <td>153</td>\n",
       "      <td>0.052326</td>\n",
       "    </tr>\n",
       "    <tr>\n",
       "      <th>58</th>\n",
       "      <td>美食旅遊</td>\n",
       "      <td>【台北中山】日暮裏冷藏和牛鍋物放題 台北南京店，個人和牛火鍋吃到飽，冷藏熟成肉品，個人火鍋推...</td>\n",
       "      <td>90</td>\n",
       "      <td>0.030780</td>\n",
       "    </tr>\n",
       "    <tr>\n",
       "      <th>104</th>\n",
       "      <td>美食旅遊</td>\n",
       "      <td>兩日限定！曜畫廊特獻 風靡歐洲百年的超現實藝術、音樂與美食體驗</td>\n",
       "      <td>72</td>\n",
       "      <td>0.024624</td>\n",
       "    </tr>\n",
       "    <tr>\n",
       "      <th>40</th>\n",
       "      <td>美食旅遊</td>\n",
       "      <td>【TOP10南機場夜市必吃小吃】台北最強夜市懶人包｜阿男麻油雞、山內雞肉、好記刀削麵、八棟圓...</td>\n",
       "      <td>72</td>\n",
       "      <td>0.024624</td>\n",
       "    </tr>\n",
       "    <tr>\n",
       "      <th>112</th>\n",
       "      <td>美食旅遊</td>\n",
       "      <td>台中｜一中街美食｜兩津芙蓉蛋塔為什麼大排長龍 - Ms. Y.C. Luuu</td>\n",
       "      <td>54</td>\n",
       "      <td>0.018468</td>\n",
       "    </tr>\n",
       "    <tr>\n",
       "      <th>...</th>\n",
       "      <td>...</td>\n",
       "      <td>...</td>\n",
       "      <td>...</td>\n",
       "      <td>...</td>\n",
       "    </tr>\n",
       "    <tr>\n",
       "      <th>5</th>\n",
       "      <td>親子育兒</td>\n",
       "      <td>【婚姻．人際．婆媳】把媳婦疼入心家和萬事興，多有福氣的事 - Wise Library 1985</td>\n",
       "      <td>9</td>\n",
       "      <td>0.029412</td>\n",
       "    </tr>\n",
       "    <tr>\n",
       "      <th>4</th>\n",
       "      <td>親子育兒</td>\n",
       "      <td>【圖文】性教育和品格教育，哪個最重要？</td>\n",
       "      <td>9</td>\n",
       "      <td>0.029412</td>\n",
       "    </tr>\n",
       "    <tr>\n",
       "      <th>3</th>\n",
       "      <td>親子育兒</td>\n",
       "      <td>【Remi大小事】寶寶用餐囉！｜餐椅篇｜安貝貝幫寶椅｜Chicco餐椅｜Apramo摺疊餐椅</td>\n",
       "      <td>9</td>\n",
       "      <td>0.029412</td>\n",
       "    </tr>\n",
       "    <tr>\n",
       "      <th>2</th>\n",
       "      <td>親子育兒</td>\n",
       "      <td>【Remi大小事】寶寶愛柒投｜夢幻中的媽媽包好難挑唷｜DONE BY DEER 輕量後揹媽媽包</td>\n",
       "      <td>9</td>\n",
       "      <td>0.029412</td>\n",
       "    </tr>\n",
       "    <tr>\n",
       "      <th>25</th>\n",
       "      <td>親子育兒</td>\n",
       "      <td>餐桌閒聊｜鬼滅之刃適合幾歲的孩子觀看？ - 小小的100種任性生活</td>\n",
       "      <td>9</td>\n",
       "      <td>0.029412</td>\n",
       "    </tr>\n",
       "  </tbody>\n",
       "</table>\n",
       "<p>950 rows × 4 columns</p>\n",
       "</div>"
      ]
     },
     "metadata": {},
     "execution_count": 144
    }
   ],
   "metadata": {}
  },
  {
   "cell_type": "code",
   "execution_count": null,
   "source": [
    "# sunburst：朝陽圖\r\n",
    "fig2 = px.sunburst(\r\n",
    "    save_all_data, \r\n",
    "    parents = '頻道',\r\n",
    "    names = \"文章標題\", \r\n",
    "    values='瀏覽量百分比',\r\n",
    "    color='瀏覽量百分比',\r\n",
    "    color_continuous_scale='matter',\r\n",
    "    hover_data = ['瀏覽量'],\r\n",
    "    title = '2021_各頻道瀏覽量分佈以及各頻道底下文章瀏覽量比例朝陽圖(WR會員)'\r\n",
    "    )\r\n",
    "\r\n",
    "iplot(fig2)\r\n",
    "plot(fig2, filename ='2021_各頻道瀏覽量分佈以及各頻道底下文章瀏覽量比例朝陽圖(WR會員).html')"
   ],
   "outputs": [],
   "metadata": {}
  },
  {
   "cell_type": "code",
   "execution_count": 147,
   "source": [
    "# sunburst：朝陽圖\r\n",
    "fig2 = px.sunburst(\r\n",
    "    save_all_data, path=[\"頻道\", \"文章標題\"], values='瀏覽量百分比', color='瀏覽量百分比',\r\n",
    "    color_continuous_scale='matter',\r\n",
    "    hover_data = ['瀏覽量'],\r\n",
    "    title = '2021_各頻道瀏覽量分佈以及各頻道底下文章瀏覽量比例朝陽圖(WR會員)_1'\r\n",
    "    )\r\n",
    "\r\n",
    "iplot(fig2)\r\n",
    "plot(fig2, filename ='2021_各頻道瀏覽量分佈以及各頻道底下文章瀏覽量比例朝陽圖(WR會員)_1.html')"
   ],
   "outputs": [
    {
     "output_type": "display_data",
     "data": {
      "application/vnd.plotly.v1+json": {
       "config": {
        "linkText": "Export to plot.ly",
        "plotlyServerURL": "https://plot.ly",
        "showLink": false
       },
       "data": [
        {
         "branchvalues": "total",
         "customdata": [
          [
           9,
           0.008771929824561403
          ],
          [
           18,
           0.006711409395973154
          ],
          [
           18,
           0.006155950752393981
          ],
          [
           9,
           0.0030779753761969904
          ],
          [
           9,
           0.0030779753761969904
          ],
          [
           27,
           0.009233926128590971
          ],
          [
           9,
           0.0030779753761969904
          ],
          [
           9,
           0.008771929824561403
          ],
          [
           9,
           0.008771929824561403
          ],
          [
           27,
           0.010067114093959731
          ],
          [
           9,
           0.003355704697986577
          ],
          [
           45,
           0.03759398496240601
          ],
          [
           18,
           0.00749063670411985
          ],
          [
           18,
           0.015037593984962405
          ],
          [
           9,
           0.008771929824561403
          ],
          [
           9,
           0.003355704697986577
          ],
          [
           9,
           0.007518796992481203
          ],
          [
           9,
           0.015151515151515152
          ],
          [
           9,
           0.003355704697986577
          ],
          [
           9,
           0.003355704697986577
          ],
          [
           9,
           0.003355704697986577
          ],
          [
           9,
           0.003355704697986577
          ],
          [
           9,
           0.003745318352059925
          ],
          [
           9,
           0.0030779753761969904
          ],
          [
           9,
           0.010309278350515464
          ],
          [
           18,
           0.006155950752393981
          ],
          [
           9,
           0.01694915254237288
          ],
          [
           9,
           0.0030779753761969904
          ],
          [
           18,
           0.006711409395973154
          ],
          [
           9,
           0.003355704697986577
          ],
          [
           9,
           0.010309278350515464
          ],
          [
           18,
           0.006711409395973154
          ],
          [
           9,
           0.003355704697986577
          ],
          [
           9,
           0.003355704697986577
          ],
          [
           9,
           0.003355704697986577
          ],
          [
           18,
           0.058823529411764705
          ],
          [
           45,
           0.015389876880984952
          ],
          [
           9,
           0.01694915254237288
          ],
          [
           18,
           0.006711409395973154
          ],
          [
           36,
           0.0149812734082397
          ],
          [
           9,
           0.003355704697986577
          ],
          [
           9,
           0.010309278350515464
          ],
          [
           27,
           0.02631578947368421
          ],
          [
           18,
           0.00749063670411985
          ],
          [
           9,
           0.003355704697986577
          ],
          [
           9,
           0.003355704697986577
          ],
          [
           27,
           0.011235955056179775
          ],
          [
           9,
           0.0030779753761969904
          ],
          [
           9,
           0.003355704697986577
          ],
          [
           108,
           0.20338983050847462
          ],
          [
           9,
           0.0030779753761969904
          ],
          [
           36,
           0.0149812734082397
          ],
          [
           9,
           0.003745318352059925
          ],
          [
           45,
           0.018726591760299626
          ],
          [
           36,
           0.0149812734082397
          ],
          [
           9,
           0.003745318352059925
          ],
          [
           18,
           0.006155950752393981
          ],
          [
           9,
           0.003745318352059925
          ],
          [
           18,
           0.015037593984962405
          ],
          [
           9,
           0.007518796992481203
          ],
          [
           36,
           0.013422818791946308
          ],
          [
           9,
           0.003355704697986577
          ],
          [
           54,
           0.045112781954887216
          ],
          [
           18,
           0.006155950752393981
          ],
          [
           9,
           0.003745318352059925
          ],
          [
           9,
           0.003745318352059925
          ],
          [
           9,
           0.003745318352059925
          ],
          [
           18,
           0.006711409395973154
          ],
          [
           9,
           0.003355704697986577
          ],
          [
           9,
           0.003355704697986577
          ],
          [
           9,
           0.007518796992481203
          ],
          [
           9,
           0.008771929824561403
          ],
          [
           27,
           0.010067114093959731
          ],
          [
           9,
           0.010309278350515464
          ],
          [
           9,
           0.003355704697986577
          ],
          [
           9,
           0.0030779753761969904
          ],
          [
           9,
           0.003355704697986577
          ],
          [
           9,
           0.003355704697986577
          ],
          [
           9,
           0.007518796992481203
          ],
          [
           27,
           0.010067114093959731
          ],
          [
           9,
           0.007518796992481203
          ],
          [
           9,
           0.007518796992481203
          ],
          [
           9,
           0.003355704697986577
          ],
          [
           9,
           0.003355704697986577
          ],
          [
           9,
           0.003355704697986577
          ],
          [
           9,
           0.003355704697986577
          ],
          [
           9,
           0.003355704697986577
          ],
          [
           9,
           0.003355704697986577
          ],
          [
           9,
           0.003355704697986577
          ],
          [
           9,
           0.003355704697986577
          ],
          [
           9,
           0.003355704697986577
          ],
          [
           9,
           0.007518796992481203
          ],
          [
           9,
           0.007518796992481203
          ],
          [
           9,
           0.003355704697986577
          ],
          [
           9,
           0.007518796992481203
          ],
          [
           9,
           0.007518796992481203
          ],
          [
           9,
           0.007518796992481203
          ],
          [
           9,
           0.007518796992481203
          ],
          [
           9,
           0.007518796992481203
          ],
          [
           9,
           0.007518796992481203
          ],
          [
           9,
           0.007518796992481203
          ],
          [
           9,
           0.003355704697986577
          ],
          [
           9,
           0.007518796992481203
          ],
          [
           9,
           0.003355704697986577
          ],
          [
           9,
           0.007518796992481203
          ],
          [
           9,
           0.003355704697986577
          ],
          [
           9,
           0.007518796992481203
          ],
          [
           9,
           0.010309278350515464
          ],
          [
           9,
           0.010309278350515464
          ],
          [
           9,
           0.010309278350515464
          ],
          [
           9,
           0.010309278350515464
          ],
          [
           18,
           0.015037593984962405
          ],
          [
           18,
           0.006711409395973154
          ],
          [
           27,
           0.022556390977443608
          ],
          [
           9,
           0.0030779753761969904
          ],
          [
           36,
           0.012311901504787962
          ],
          [
           9,
           0.010309278350515464
          ],
          [
           9,
           0.003745318352059925
          ],
          [
           9,
           0.003745318352059925
          ],
          [
           9,
           0.003355704697986577
          ],
          [
           9,
           0.003355704697986577
          ],
          [
           9,
           0.003745318352059925
          ],
          [
           9,
           0.010309278350515464
          ],
          [
           9,
           0.007518796992481203
          ],
          [
           9,
           0.010309278350515464
          ],
          [
           9,
           0.003355704697986577
          ],
          [
           9,
           0.015151515151515152
          ],
          [
           9,
           0.01694915254237288
          ],
          [
           9,
           0.015151515151515152
          ],
          [
           9,
           0.015151515151515152
          ],
          [
           9,
           0.003745318352059925
          ],
          [
           9,
           0.003355704697986577
          ],
          [
           9,
           0.010309278350515464
          ],
          [
           9,
           0.003355704697986577
          ],
          [
           9,
           0.003355704697986577
          ],
          [
           18,
           0.006711409395973154
          ],
          [
           9,
           0.010309278350515464
          ],
          [
           18,
           0.017543859649122806
          ],
          [
           9,
           0.010309278350515464
          ],
          [
           9,
           0.0030779753761969904
          ],
          [
           9,
           0.010309278350515464
          ],
          [
           9,
           0.010309278350515464
          ],
          [
           9,
           0.0030779753761969904
          ],
          [
           9,
           0.007518796992481203
          ],
          [
           117,
           0.0436241610738255
          ],
          [
           54,
           0.061855670103092786
          ],
          [
           9,
           0.003745318352059925
          ],
          [
           9,
           0.010309278350515464
          ],
          [
           9,
           0.010309278350515464
          ],
          [
           9,
           0.01694915254237288
          ],
          [
           9,
           0.010309278350515464
          ],
          [
           9,
           0.010309278350515464
          ],
          [
           9,
           0.010309278350515464
          ],
          [
           9,
           0.010309278350515464
          ],
          [
           9,
           0.0030779753761969904
          ],
          [
           9,
           0.0030779753761969904
          ],
          [
           9,
           0.003745318352059925
          ],
          [
           18,
           0.006155950752393981
          ],
          [
           9,
           0.0030779753761969904
          ],
          [
           9,
           0.003355704697986577
          ],
          [
           18,
           0.00749063670411985
          ],
          [
           9,
           0.0030779753761969904
          ],
          [
           9,
           0.0030779753761969904
          ],
          [
           9,
           0.0030779753761969904
          ],
          [
           9,
           0.003745318352059925
          ],
          [
           9,
           0.010309278350515464
          ],
          [
           18,
           0.017543859649122806
          ],
          [
           9,
           0.008771929824561403
          ],
          [
           9,
           0.008771929824561403
          ],
          [
           9,
           0.008771929824561403
          ],
          [
           9,
           0.029411764705882353
          ],
          [
           9,
           0.007518796992481203
          ],
          [
           9,
           0.007518796992481203
          ],
          [
           9,
           0.003745318352059925
          ],
          [
           9,
           0.015151515151515152
          ],
          [
           9,
           0.010309278350515464
          ],
          [
           18,
           0.020618556701030927
          ],
          [
           18,
           0.006155950752393981
          ],
          [
           9,
           0.0030779753761969904
          ],
          [
           9,
           0.003745318352059925
          ],
          [
           9,
           0.0030779753761969904
          ],
          [
           9,
           0.008771929824561403
          ],
          [
           9,
           0.010309278350515464
          ],
          [
           9,
           0.0030779753761969904
          ],
          [
           9,
           0.01694915254237288
          ],
          [
           9,
           0.0030779753761969904
          ],
          [
           9,
           0.01694915254237288
          ],
          [
           9,
           0.0030779753761969904
          ],
          [
           9,
           0.0030779753761969904
          ],
          [
           9,
           0.003745318352059925
          ],
          [
           9,
           0.003745318352059925
          ],
          [
           9,
           0.0030779753761969904
          ],
          [
           9,
           0.015151515151515152
          ],
          [
           9,
           0.003745318352059925
          ],
          [
           9,
           0.003745318352059925
          ],
          [
           18,
           0.00749063670411985
          ],
          [
           18,
           0.03389830508474576
          ],
          [
           9,
           0.003745318352059925
          ],
          [
           27,
           0.010067114093959731
          ],
          [
           9,
           0.003745318352059925
          ],
          [
           9,
           0.003745318352059925
          ],
          [
           9,
           0.007518796992481203
          ],
          [
           9,
           0.003745318352059925
          ],
          [
           9,
           0.003355704697986577
          ],
          [
           9,
           0.003355704697986577
          ],
          [
           9,
           0.003355704697986577
          ],
          [
           9,
           0.003355704697986577
          ],
          [
           9,
           0.007518796992481203
          ],
          [
           18,
           0.00749063670411985
          ],
          [
           9,
           0.003745318352059925
          ],
          [
           9,
           0.003355704697986577
          ],
          [
           9,
           0.003355704697986577
          ],
          [
           9,
           0.003355704697986577
          ],
          [
           18,
           0.00749063670411985
          ],
          [
           54,
           0.02247191011235955
          ],
          [
           9,
           0.015151515151515152
          ],
          [
           27,
           0.010067114093959731
          ],
          [
           63,
           0.023489932885906038
          ],
          [
           18,
           0.006711409395973154
          ],
          [
           45,
           0.016778523489932886
          ],
          [
           9,
           0.003355704697986577
          ],
          [
           9,
           0.003745318352059925
          ],
          [
           9,
           0.003355704697986577
          ],
          [
           9,
           0.003355704697986577
          ],
          [
           9,
           0.003745318352059925
          ],
          [
           27,
           0.010067114093959731
          ],
          [
           9,
           0.003355704697986577
          ],
          [
           9,
           0.003745318352059925
          ],
          [
           9,
           0.003355704697986577
          ],
          [
           9,
           0.007518796992481203
          ],
          [
           18,
           0.00749063670411985
          ],
          [
           9,
           0.003355704697986577
          ],
          [
           9,
           0.003355704697986577
          ],
          [
           9,
           0.015151515151515152
          ],
          [
           54,
           0.02247191011235955
          ],
          [
           9,
           0.003745318352059925
          ],
          [
           9,
           0.003355704697986577
          ],
          [
           9,
           0.003745318352059925
          ],
          [
           18,
           0.006711409395973154
          ],
          [
           9,
           0.010309278350515464
          ],
          [
           45,
           0.07575757575757576
          ],
          [
           9,
           0.003355704697986577
          ],
          [
           9,
           0.008771929824561403
          ],
          [
           45,
           0.018726591760299626
          ],
          [
           9,
           0.0030779753761969904
          ],
          [
           9,
           0.007518796992481203
          ],
          [
           9,
           0.003355704697986577
          ],
          [
           9,
           0.0030779753761969904
          ],
          [
           18,
           0.017543859649122806
          ],
          [
           9,
           0.0030779753761969904
          ],
          [
           9,
           0.0030779753761969904
          ],
          [
           18,
           0.006155950752393981
          ],
          [
           9,
           0.0030779753761969904
          ],
          [
           9,
           0.0030779753761969904
          ],
          [
           9,
           0.003745318352059925
          ],
          [
           9,
           0.007518796992481203
          ],
          [
           9,
           0.003355704697986577
          ],
          [
           9,
           0.003745318352059925
          ],
          [
           18,
           0.006711409395973154
          ],
          [
           9,
           0.029411764705882353
          ],
          [
           9,
           0.029411764705882353
          ],
          [
           9,
           0.003355704697986577
          ],
          [
           72,
           0.024623803009575923
          ],
          [
           9,
           0.003355704697986577
          ],
          [
           9,
           0.003745318352059925
          ],
          [
           9,
           0.003745318352059925
          ],
          [
           9,
           0.007518796992481203
          ],
          [
           9,
           0.003745318352059925
          ],
          [
           9,
           0.003745318352059925
          ],
          [
           9,
           0.003745318352059925
          ],
          [
           9,
           0.010309278350515464
          ],
          [
           27,
           0.022556390977443608
          ],
          [
           9,
           0.003355704697986577
          ],
          [
           9,
           0.0030779753761969904
          ],
          [
           9,
           0.0030779753761969904
          ],
          [
           9,
           0.0030779753761969904
          ],
          [
           18,
           0.00749063670411985
          ],
          [
           9,
           0.0030779753761969904
          ],
          [
           9,
           0.0030779753761969904
          ],
          [
           18,
           0.00749063670411985
          ],
          [
           9,
           0.003745318352059925
          ],
          [
           9,
           0.003355704697986577
          ],
          [
           18,
           0.006711409395973154
          ],
          [
           9,
           0.003355704697986577
          ],
          [
           9,
           0.0030779753761969904
          ],
          [
           9,
           0.0030779753761969904
          ],
          [
           9,
           0.003355704697986577
          ],
          [
           9,
           0.0030779753761969904
          ],
          [
           9,
           0.01694915254237288
          ],
          [
           9,
           0.0030779753761969904
          ],
          [
           9,
           0.0030779753761969904
          ],
          [
           36,
           0.012311901504787962
          ],
          [
           27,
           0.009233926128590971
          ],
          [
           9,
           0.0030779753761969904
          ],
          [
           9,
           0.0030779753761969904
          ],
          [
           18,
           0.006155950752393981
          ],
          [
           9,
           0.003355704697986577
          ],
          [
           9,
           0.0030779753761969904
          ],
          [
           18,
           0.006155950752393981
          ],
          [
           90,
           0.030779753761969904
          ],
          [
           27,
           0.009233926128590971
          ],
          [
           9,
           0.0030779753761969904
          ],
          [
           9,
           0.0030779753761969904
          ],
          [
           18,
           0.006155950752393981
          ],
          [
           9,
           0.0030779753761969904
          ],
          [
           9,
           0.0030779753761969904
          ],
          [
           9,
           0.0030779753761969904
          ],
          [
           18,
           0.006155950752393981
          ],
          [
           9,
           0.007518796992481203
          ],
          [
           9,
           0.003355704697986577
          ],
          [
           9,
           0.003355704697986577
          ],
          [
           9,
           0.029411764705882353
          ],
          [
           9,
           0.003745318352059925
          ],
          [
           9,
           0.0030779753761969904
          ],
          [
           9,
           0.0030779753761969904
          ],
          [
           9,
           0.003745318352059925
          ],
          [
           9,
           0.029411764705882353
          ],
          [
           9,
           0.003745318352059925
          ],
          [
           9,
           0.003745318352059925
          ],
          [
           9,
           0.0030779753761969904
          ],
          [
           9,
           0.0030779753761969904
          ],
          [
           18,
           0.006155950752393981
          ],
          [
           45,
           0.015389876880984952
          ],
          [
           9,
           0.0030779753761969904
          ],
          [
           18,
           0.00749063670411985
          ],
          [
           9,
           0.0030779753761969904
          ],
          [
           9,
           0.015151515151515152
          ],
          [
           9,
           0.010309278350515464
          ],
          [
           9,
           0.003745318352059925
          ],
          [
           9,
           0.007518796992481203
          ],
          [
           9,
           0.007518796992481203
          ],
          [
           9,
           0.008771929824561403
          ],
          [
           9,
           0.0030779753761969904
          ],
          [
           9,
           0.0030779753761969904
          ],
          [
           9,
           0.0030779753761969904
          ],
          [
           9,
           0.007518796992481203
          ],
          [
           9,
           0.0030779753761969904
          ],
          [
           9,
           0.0030779753761969904
          ],
          [
           9,
           0.003745318352059925
          ],
          [
           9,
           0.003355704697986577
          ],
          [
           9,
           0.003355704697986577
          ],
          [
           9,
           0.003355704697986577
          ],
          [
           9,
           0.003745318352059925
          ],
          [
           9,
           0.003355704697986577
          ],
          [
           36,
           0.03007518796992481
          ],
          [
           9,
           0.01694915254237288
          ],
          [
           18,
           0.015037593984962405
          ],
          [
           9,
           0.003745318352059925
          ],
          [
           9,
           0.003745318352059925
          ],
          [
           9,
           0.0030779753761969904
          ],
          [
           27,
           0.009233926128590971
          ],
          [
           9,
           0.0030779753761969904
          ],
          [
           9,
           0.007518796992481203
          ],
          [
           9,
           0.0030779753761969904
          ],
          [
           18,
           0.006155950752393981
          ],
          [
           9,
           0.0030779753761969904
          ],
          [
           9,
           0.003355704697986577
          ],
          [
           63,
           0.20588235294117646
          ],
          [
           27,
           0.022556390977443608
          ],
          [
           9,
           0.007518796992481203
          ],
          [
           9,
           0.007518796992481203
          ],
          [
           18,
           0.006711409395973154
          ],
          [
           9,
           0.003355704697986577
          ],
          [
           18,
           0.030303030303030304
          ],
          [
           9,
           0.0030779753761969904
          ],
          [
           9,
           0.0030779753761969904
          ],
          [
           27,
           0.009233926128590971
          ],
          [
           9,
           0.007518796992481203
          ],
          [
           9,
           0.003355704697986577
          ],
          [
           9,
           0.007518796992481203
          ],
          [
           9,
           0.007518796992481203
          ],
          [
           18,
           0.015037593984962405
          ],
          [
           9,
           0.003355704697986577
          ],
          [
           18,
           0.015037593984962405
          ],
          [
           18,
           0.00749063670411985
          ],
          [
           9,
           0.003745318352059925
          ],
          [
           9,
           0.003745318352059925
          ],
          [
           9,
           0.029411764705882353
          ],
          [
           18,
           0.00749063670411985
          ],
          [
           9,
           0.007518796992481203
          ],
          [
           27,
           0.010067114093959731
          ],
          [
           9,
           0.003355704697986577
          ],
          [
           27,
           0.022556390977443608
          ],
          [
           9,
           0.008771929824561403
          ],
          [
           18,
           0.017543859649122806
          ],
          [
           18,
           0.006711409395973154
          ],
          [
           9,
           0.0030779753761969904
          ],
          [
           9,
           0.0030779753761969904
          ],
          [
           9,
           0.007518796992481203
          ],
          [
           45,
           0.018726591760299626
          ],
          [
           9,
           0.0030779753761969904
          ],
          [
           18,
           0.006711409395973154
          ],
          [
           18,
           0.006155950752393981
          ],
          [
           9,
           0.003745318352059925
          ],
          [
           27,
           0.022556390977443608
          ],
          [
           9,
           0.029411764705882353
          ],
          [
           9,
           0.003745318352059925
          ],
          [
           9,
           0.003355704697986577
          ],
          [
           9,
           0.015151515151515152
          ],
          [
           9,
           0.010309278350515464
          ],
          [
           9,
           0.007518796992481203
          ],
          [
           9,
           0.007518796992481203
          ],
          [
           9,
           0.01694915254237288
          ],
          [
           9,
           0.007518796992481203
          ],
          [
           9,
           0.007518796992481203
          ],
          [
           9,
           0.003745318352059925
          ],
          [
           9,
           0.003355704697986577
          ],
          [
           9,
           0.003355704697986577
          ],
          [
           45,
           0.03759398496240601
          ],
          [
           9,
           0.003355704697986577
          ],
          [
           9,
           0.003355704697986577
          ],
          [
           9,
           0.003355704697986577
          ],
          [
           9,
           0.003355704697986577
          ],
          [
           9,
           0.0030779753761969904
          ],
          [
           9,
           0.0030779753761969904
          ],
          [
           9,
           0.015151515151515152
          ],
          [
           9,
           0.003355704697986577
          ],
          [
           18,
           0.006155950752393981
          ],
          [
           18,
           0.030303030303030304
          ],
          [
           9,
           0.003745318352059925
          ],
          [
           9,
           0.0030779753761969904
          ],
          [
           27,
           0.011235955056179775
          ],
          [
           9,
           0.003355704697986577
          ],
          [
           9,
           0.0030779753761969904
          ],
          [
           18,
           0.006155950752393981
          ],
          [
           9,
           0.003355704697986577
          ],
          [
           9,
           0.029411764705882353
          ],
          [
           9,
           0.010309278350515464
          ],
          [
           9,
           0.003355704697986577
          ],
          [
           9,
           0.010309278350515464
          ],
          [
           9,
           0.008771929824561403
          ],
          [
           18,
           0.00749063670411985
          ],
          [
           9,
           0.003355704697986577
          ],
          [
           18,
           0.020618556701030927
          ],
          [
           9,
           0.0030779753761969904
          ],
          [
           18,
           0.030303030303030304
          ],
          [
           9,
           0.003355704697986577
          ],
          [
           9,
           0.008771929824561403
          ],
          [
           27,
           0.011235955056179775
          ],
          [
           9,
           0.003745318352059925
          ],
          [
           9,
           0.0030779753761969904
          ],
          [
           9,
           0.003355704697986577
          ],
          [
           9,
           0.0030779753761969904
          ],
          [
           9,
           0.003745318352059925
          ],
          [
           9,
           0.003355704697986577
          ],
          [
           9,
           0.003745318352059925
          ],
          [
           9,
           0.029411764705882353
          ],
          [
           18,
           0.03389830508474576
          ],
          [
           18,
           0.006711409395973154
          ],
          [
           9,
           0.003355704697986577
          ],
          [
           9,
           0.010309278350515464
          ],
          [
           9,
           0.010309278350515464
          ],
          [
           18,
           0.017543859649122806
          ],
          [
           9,
           0.008771929824561403
          ],
          [
           27,
           0.02631578947368421
          ],
          [
           9,
           0.0030779753761969904
          ],
          [
           63,
           0.023489932885906038
          ],
          [
           9,
           0.003745318352059925
          ],
          [
           9,
           0.003745318352059925
          ],
          [
           9,
           0.007518796992481203
          ],
          [
           117,
           0.13402061855670103
          ],
          [
           9,
           0.015151515151515152
          ],
          [
           9,
           0.015151515151515152
          ],
          [
           9,
           0.0030779753761969904
          ],
          [
           9,
           0.003745318352059925
          ],
          [
           9,
           0.003745318352059925
          ],
          [
           72,
           0.024623803009575923
          ],
          [
           9,
           0.008771929824561403
          ],
          [
           9,
           0.01694915254237288
          ],
          [
           9,
           0.003355704697986577
          ],
          [
           9,
           0.003355704697986577
          ],
          [
           9,
           0.0030779753761969904
          ],
          [
           9,
           0.003355704697986577
          ],
          [
           18,
           0.030303030303030304
          ],
          [
           18,
           0.030303030303030304
          ],
          [
           27,
           0.009233926128590971
          ],
          [
           9,
           0.007518796992481203
          ],
          [
           9,
           0.003745318352059925
          ],
          [
           9,
           0.010309278350515464
          ],
          [
           9,
           0.003745318352059925
          ],
          [
           9,
           0.010309278350515464
          ],
          [
           9,
           0.010309278350515464
          ],
          [
           9,
           0.003355704697986577
          ],
          [
           9,
           0.008771929824561403
          ],
          [
           9,
           0.003355704697986577
          ],
          [
           18,
           0.006711409395973154
          ],
          [
           9,
           0.003745318352059925
          ],
          [
           9,
           0.0030779753761969904
          ],
          [
           9,
           0.0030779753761969904
          ],
          [
           9,
           0.003355704697986577
          ],
          [
           9,
           0.003745318352059925
          ],
          [
           9,
           0.007518796992481203
          ],
          [
           9,
           0.007518796992481203
          ],
          [
           27,
           0.010067114093959731
          ],
          [
           9,
           0.003745318352059925
          ],
          [
           9,
           0.0030779753761969904
          ],
          [
           9,
           0.0030779753761969904
          ],
          [
           9,
           0.0030779753761969904
          ],
          [
           54,
           0.018467852257181942
          ],
          [
           36,
           0.012311901504787962
          ],
          [
           36,
           0.012311901504787962
          ],
          [
           9,
           0.0030779753761969904
          ],
          [
           9,
           0.0030779753761969904
          ],
          [
           9,
           0.0030779753761969904
          ],
          [
           18,
           0.006155950752393981
          ],
          [
           27,
           0.009233926128590971
          ],
          [
           18,
           0.00749063670411985
          ],
          [
           9,
           0.0030779753761969904
          ],
          [
           9,
           0.0030779753761969904
          ],
          [
           9,
           0.015151515151515152
          ],
          [
           9,
           0.0030779753761969904
          ],
          [
           9,
           0.008771929824561403
          ],
          [
           27,
           0.02631578947368421
          ],
          [
           9,
           0.01694915254237288
          ],
          [
           9,
           0.003745318352059925
          ],
          [
           9,
           0.008771929824561403
          ],
          [
           9,
           0.008771929824561403
          ],
          [
           9,
           0.015151515151515152
          ],
          [
           9,
           0.015151515151515152
          ],
          [
           9,
           0.008771929824561403
          ],
          [
           9,
           0.015151515151515152
          ],
          [
           9,
           0.008771929824561403
          ],
          [
           9,
           0.015151515151515152
          ],
          [
           9,
           0.003745318352059925
          ],
          [
           9,
           0.015151515151515152
          ],
          [
           9,
           0.015151515151515152
          ],
          [
           9,
           0.015151515151515152
          ],
          [
           27,
           0.02631578947368421
          ],
          [
           9,
           0.008771929824561403
          ],
          [
           9,
           0.003745318352059925
          ],
          [
           9,
           0.003355704697986577
          ],
          [
           9,
           0.003745318352059925
          ],
          [
           9,
           0.003745318352059925
          ],
          [
           9,
           0.003355704697986577
          ],
          [
           18,
           0.017543859649122806
          ],
          [
           9,
           0.010309278350515464
          ],
          [
           9,
           0.0030779753761969904
          ],
          [
           9,
           0.003355704697986577
          ],
          [
           9,
           0.029411764705882353
          ],
          [
           9,
           0.029411764705882353
          ],
          [
           9,
           0.003745318352059925
          ],
          [
           9,
           0.0030779753761969904
          ],
          [
           9,
           0.0030779753761969904
          ],
          [
           26,
           0.008891928864569083
          ],
          [
           9,
           0.0030779753761969904
          ],
          [
           9,
           0.0030779753761969904
          ],
          [
           9,
           0.015151515151515152
          ],
          [
           9,
           0.003355704697986577
          ],
          [
           9,
           0.003745318352059925
          ],
          [
           9,
           0.003355704697986577
          ],
          [
           27,
           0.02631578947368421
          ],
          [
           9,
           0.008771929824561403
          ],
          [
           18,
           0.00749063670411985
          ],
          [
           9,
           0.015151515151515152
          ],
          [
           9,
           0.0030779753761969904
          ],
          [
           9,
           0.029411764705882353
          ],
          [
           9,
           0.003745318352059925
          ],
          [
           9,
           0.0030779753761969904
          ],
          [
           9,
           0.003745318352059925
          ],
          [
           9,
           0.0030779753761969904
          ],
          [
           9,
           0.003355704697986577
          ],
          [
           9,
           0.0030779753761969904
          ],
          [
           9,
           0.008771929824561403
          ],
          [
           9,
           0.008771929824561403
          ],
          [
           9,
           0.010309278350515464
          ],
          [
           27,
           0.009233926128590971
          ],
          [
           9,
           0.007518796992481203
          ],
          [
           9,
           0.003745318352059925
          ],
          [
           9,
           0.003745318352059925
          ],
          [
           9,
           0.003745318352059925
          ],
          [
           9,
           0.01694915254237288
          ],
          [
           9,
           0.029411764705882353
          ],
          [
           18,
           0.00749063670411985
          ],
          [
           18,
           0.017543859649122806
          ],
          [
           9,
           0.008771929824561403
          ],
          [
           27,
           0.010067114093959731
          ],
          [
           9,
           0.008771929824561403
          ],
          [
           27,
           0.010067114093959731
          ],
          [
           18,
           0.017543859649122806
          ],
          [
           9,
           0.003745318352059925
          ],
          [
           9,
           0.0030779753761969904
          ],
          [
           9,
           0.003745318352059925
          ],
          [
           9,
           0.010309278350515464
          ],
          [
           9,
           0.0030779753761969904
          ],
          [
           9,
           0.0030779753761969904
          ],
          [
           9,
           0.01694915254237288
          ],
          [
           9,
           0.029411764705882353
          ],
          [
           9,
           0.003745318352059925
          ],
          [
           9,
           0.003745318352059925
          ],
          [
           153,
           0.05232558139534884
          ],
          [
           27,
           0.011235955056179775
          ],
          [
           9,
           0.015151515151515152
          ],
          [
           9,
           0.01694915254237288
          ],
          [
           9,
           0.01694915254237288
          ],
          [
           9,
           0.007518796992481203
          ],
          [
           9,
           0.007518796992481203
          ],
          [
           9,
           0.003355704697986577
          ],
          [
           9,
           0.029411764705882353
          ],
          [
           9,
           0.029411764705882353
          ],
          [
           9,
           0.029411764705882353
          ],
          [
           9,
           0.0030779753761969904
          ],
          [
           9,
           0.0030779753761969904
          ],
          [
           9,
           0.003745318352059925
          ],
          [
           9,
           0.0030779753761969904
          ],
          [
           9,
           0.003745318352059925
          ],
          [
           9,
           0.003745318352059925
          ],
          [
           9,
           0.003355704697986577
          ],
          [
           9,
           0.007518796992481203
          ],
          [
           9,
           0.003745318352059925
          ],
          [
           9,
           0.0030779753761969904
          ],
          [
           9,
           0.003745318352059925
          ],
          [
           9,
           0.003745318352059925
          ],
          [
           9,
           0.01694915254237288
          ],
          [
           18,
           0.006155950752393981
          ],
          [
           9,
           0.008771929824561403
          ],
          [
           9,
           0.0030779753761969904
          ],
          [
           18,
           0.006711409395973154
          ],
          [
           9,
           0.010309278350515464
          ],
          [
           18,
           0.006155950752393981
          ],
          [
           9,
           0.003745318352059925
          ],
          [
           9,
           0.003355704697986577
          ],
          [
           9,
           0.003745318352059925
          ],
          [
           18,
           0.00749063670411985
          ],
          [
           9,
           0.029411764705882353
          ],
          [
           9,
           0.015151515151515152
          ],
          [
           9,
           0.003745318352059925
          ],
          [
           9,
           0.003745318352059925
          ],
          [
           18,
           0.00749063670411985
          ],
          [
           36,
           0.0149812734082397
          ],
          [
           27,
           0.010067114093959731
          ],
          [
           9,
           0.015151515151515152
          ],
          [
           9,
           0.003745318352059925
          ],
          [
           18,
           0.006711409395973154
          ],
          [
           9,
           0.01694915254237288
          ],
          [
           9,
           0.003745318352059925
          ],
          [
           9,
           0.003745318352059925
          ],
          [
           9,
           0.0030779753761969904
          ],
          [
           9,
           0.007518796992481203
          ],
          [
           9,
           0.008771929824561403
          ],
          [
           9,
           0.003745318352059925
          ],
          [
           9,
           0.003745318352059925
          ],
          [
           9,
           0.015151515151515152
          ],
          [
           9,
           0.007518796992481203
          ],
          [
           18,
           0.006711409395973154
          ],
          [
           9,
           0.003745318352059925
          ],
          [
           9,
           0.003745318352059925
          ],
          [
           9,
           0.003355704697986577
          ],
          [
           9,
           0.008771929824561403
          ],
          [
           18,
           0.006711409395973154
          ],
          [
           9,
           0.003355704697986577
          ],
          [
           9,
           0.007518796992481203
          ],
          [
           9,
           0.003355704697986577
          ],
          [
           9,
           0.007518796992481203
          ],
          [
           9,
           0.007518796992481203
          ],
          [
           36,
           0.013422818791946308
          ],
          [
           18,
           0.017543859649122806
          ],
          [
           9,
           0.008771929824561403
          ],
          [
           9,
           0.003355704697986577
          ],
          [
           9,
           0.003745318352059925
          ],
          [
           9,
           0.010309278350515464
          ],
          [
           18,
           0.006155950752393981
          ],
          [
           9,
           0.0030779753761969904
          ],
          [
           9,
           0.003355704697986577
          ],
          [
           9,
           0.010309278350515464
          ],
          [
           18,
           0.017543859649122806
          ],
          [
           18,
           0.00749063670411985
          ],
          [
           9,
           0.0030779753761969904
          ],
          [
           9,
           0.0030779753761969904
          ],
          [
           9,
           0.0030779753761969904
          ],
          [
           9,
           0.0030779753761969904
          ],
          [
           9,
           0.007518796992481203
          ],
          [
           9,
           0.0030779753761969904
          ],
          [
           18,
           0.006155950752393981
          ],
          [
           9,
           0.0030779753761969904
          ],
          [
           18,
           0.017543859649122806
          ],
          [
           18,
           0.006711409395973154
          ],
          [
           9,
           0.01694915254237288
          ],
          [
           9,
           0.015151515151515152
          ],
          [
           18,
           0.00749063670411985
          ],
          [
           9,
           0.0030779753761969904
          ],
          [
           9,
           0.007518796992481203
          ],
          [
           9,
           0.003745318352059925
          ],
          [
           9,
           0.015151515151515152
          ],
          [
           9,
           0.008771929824561403
          ],
          [
           9,
           0.0030779753761969904
          ],
          [
           45,
           0.0847457627118644
          ],
          [
           9,
           0.003745318352059925
          ],
          [
           9,
           0.0030779753761969904
          ],
          [
           9,
           0.0030779753761969904
          ],
          [
           9,
           0.003355704697986577
          ],
          [
           9,
           0.01694915254237288
          ],
          [
           9,
           0.010309278350515464
          ],
          [
           9,
           0.007518796992481203
          ],
          [
           9,
           0.01694915254237288
          ],
          [
           9,
           0.0030779753761969904
          ],
          [
           9,
           0.003355704697986577
          ],
          [
           9,
           0.003355704697986577
          ],
          [
           9,
           0.0030779753761969904
          ],
          [
           9,
           0.0030779753761969904
          ],
          [
           9,
           0.003745318352059925
          ],
          [
           9,
           0.0030779753761969904
          ],
          [
           9,
           0.0030779753761969904
          ],
          [
           9,
           0.01694915254237288
          ],
          [
           18,
           0.006155950752393981
          ],
          [
           9,
           0.003745318352059925
          ],
          [
           72,
           0.12121212121212122
          ],
          [
           9,
           0.0030779753761969904
          ],
          [
           9,
           0.003745318352059925
          ],
          [
           9,
           0.010309278350515464
          ],
          [
           9,
           0.010309278350515464
          ],
          [
           9,
           0.01694915254237288
          ],
          [
           9,
           0.01694915254237288
          ],
          [
           9,
           0.0030779753761969904
          ],
          [
           9,
           0.003355704697986577
          ],
          [
           18,
           0.00749063670411985
          ],
          [
           9,
           0.0030779753761969904
          ],
          [
           9,
           0.007518796992481203
          ],
          [
           9,
           0.007518796992481203
          ],
          [
           9,
           0.0030779753761969904
          ],
          [
           9,
           0.003745318352059925
          ],
          [
           9,
           0.010309278350515464
          ],
          [
           9,
           0.007518796992481203
          ],
          [
           9,
           0.008771929824561403
          ],
          [
           9,
           0.008771929824561403
          ],
          [
           9,
           0.015151515151515152
          ],
          [
           18,
           0.006155950752393981
          ],
          [
           9,
           0.003745318352059925
          ],
          [
           27,
           0.011235955056179775
          ],
          [
           9,
           0.010309278350515464
          ],
          [
           9,
           0.010309278350515464
          ],
          [
           90,
           0.08771929824561403
          ],
          [
           9,
           0.003355704697986577
          ],
          [
           27,
           0.009233926128590971
          ],
          [
           9,
           0.008771929824561403
          ],
          [
           18,
           0.006711409395973154
          ],
          [
           9,
           0.007518796992481203
          ],
          [
           9,
           0.003355704697986577
          ],
          [
           9,
           0.003355704697986577
          ],
          [
           18,
           0.006155950752393981
          ],
          [
           9,
           0.0030779753761969904
          ],
          [
           9,
           0.003355704697986577
          ],
          [
           9,
           0.008771929824561403
          ],
          [
           18,
           0.006711409395973154
          ],
          [
           9,
           0.003355704697986577
          ],
          [
           9,
           0.003745318352059925
          ],
          [
           9,
           0.003355704697986577
          ],
          [
           9,
           0.007518796992481203
          ],
          [
           9,
           0.003355704697986577
          ],
          [
           9,
           0.008771929824561403
          ],
          [
           9,
           0.008771929824561403
          ],
          [
           18,
           0.030303030303030304
          ],
          [
           9,
           0.003745318352059925
          ],
          [
           18,
           0.00749063670411985
          ],
          [
           9,
           0.003355704697986577
          ],
          [
           9,
           0.003745318352059925
          ],
          [
           9,
           0.003355704697986577
          ],
          [
           9,
           0.003355704697986577
          ],
          [
           9,
           0.003745318352059925
          ],
          [
           9,
           0.003745318352059925
          ],
          [
           9,
           0.029411764705882353
          ],
          [
           18,
           0.006711409395973154
          ],
          [
           9,
           0.003355704697986577
          ],
          [
           9,
           0.008771929824561403
          ],
          [
           9,
           0.003745318352059925
          ],
          [
           9,
           0.003355704697986577
          ],
          [
           9,
           0.003355704697986577
          ],
          [
           18,
           0.03389830508474576
          ],
          [
           9,
           0.003355704697986577
          ],
          [
           9,
           0.010309278350515464
          ],
          [
           9,
           0.007518796992481203
          ],
          [
           9,
           0.003745318352059925
          ],
          [
           18,
           0.058823529411764705
          ],
          [
           27,
           0.02631578947368421
          ],
          [
           9,
           0.029411764705882353
          ],
          [
           9,
           0.007518796992481203
          ],
          [
           18,
           0.00749063670411985
          ],
          [
           9,
           0.007518796992481203
          ],
          [
           9,
           0.003355704697986577
          ],
          [
           18,
           0.006711409395973154
          ],
          [
           9,
           0.007518796992481203
          ],
          [
           18,
           0.00749063670411985
          ],
          [
           18,
           0.006711409395973154
          ],
          [
           9,
           0.003355704697986577
          ],
          [
           54,
           0.10169491525423731
          ],
          [
           9,
           0.010309278350515464
          ],
          [
           27,
           0.011235955056179775
          ],
          [
           9,
           0.010309278350515464
          ],
          [
           9,
           0.010309278350515464
          ],
          [
           9,
           0.010309278350515464
          ],
          [
           9,
           0.003745318352059925
          ],
          [
           18,
           0.020618556701030927
          ],
          [
           9,
           0.010309278350515464
          ],
          [
           9,
           0.003355704697986577
          ],
          [
           9,
           0.010309278350515464
          ],
          [
           9,
           0.003745318352059925
          ],
          [
           9,
           0.0030779753761969904
          ],
          [
           9,
           0.008771929824561403
          ],
          [
           9,
           0.007518796992481203
          ],
          [
           18,
           0.015037593984962405
          ],
          [
           9,
           0.008771929824561403
          ],
          [
           9,
           0.008771929824561403
          ],
          [
           9,
           0.0030779753761969904
          ],
          [
           9,
           0.015151515151515152
          ],
          [
           9,
           0.003355704697986577
          ],
          [
           9,
           0.003355704697986577
          ],
          [
           9,
           0.003745318352059925
          ],
          [
           27,
           0.011235955056179775
          ],
          [
           18,
           0.020618556701030927
          ],
          [
           9,
           0.003745318352059925
          ],
          [
           9,
           0.010309278350515464
          ],
          [
           9,
           0.015151515151515152
          ],
          [
           9,
           0.003745318352059925
          ],
          [
           9,
           0.007518796992481203
          ],
          [
           9,
           0.003745318352059925
          ],
          [
           9,
           0.003355704697986577
          ],
          [
           36,
           0.012311901504787962
          ],
          [
           18,
           0.006155950752393981
          ],
          [
           9,
           0.007518796992481203
          ],
          [
           9,
           0.003745318352059925
          ],
          [
           9,
           0.0030779753761969904
          ],
          [
           9,
           0.0030779753761969904
          ],
          [
           9,
           0.0030779753761969904
          ],
          [
           9,
           0.0030779753761969904
          ],
          [
           9,
           0.003355704697986577
          ],
          [
           9,
           0.010309278350515464
          ],
          [
           9,
           0.0030779753761969904
          ],
          [
           18,
           0.030303030303030304
          ],
          [
           9,
           0.0030779753761969904
          ],
          [
           9,
           0.0030779753761969904
          ],
          [
           9,
           0.007518796992481203
          ],
          [
           9,
           0.008771929824561403
          ],
          [
           9,
           0.003355704697986577
          ],
          [
           9,
           0.003355704697986577
          ],
          [
           9,
           0.003355704697986577
          ],
          [
           27,
           0.010067114093959731
          ],
          [
           18,
           0.006711409395973154
          ],
          [
           9,
           0.015151515151515152
          ],
          [
           9,
           0.008771929824561403
          ],
          [
           9,
           0.007518796992481203
          ],
          [
           9,
           0.003745318352059925
          ],
          [
           9,
           0.010309278350515464
          ],
          [
           27,
           0.022556390977443608
          ],
          [
           18,
           0.020618556701030927
          ],
          [
           18,
           0.020618556701030927
          ],
          [
           9,
           0.010309278350515464
          ],
          [
           9,
           0.010309278350515464
          ],
          [
           9,
           0.003745318352059925
          ],
          [
           9,
           0.007518796992481203
          ],
          [
           36,
           0.0149812734082397
          ],
          [
           9,
           0.029411764705882353
          ],
          [
           9,
           0.003355704697986577
          ],
          [
           9,
           0.015151515151515152
          ],
          [
           9,
           0.010309278350515464
          ],
          [
           9,
           0.029411764705882353
          ],
          [
           9,
           0.015151515151515152
          ],
          [
           9,
           0.008771929824561403
          ],
          [
           9,
           0.003355704697986577
          ],
          [
           9,
           0.01694915254237288
          ],
          [
           36,
           0.0149812734082397
          ],
          [
           9,
           0.008771929824561403
          ],
          [
           9,
           0.003355704697986577
          ],
          [
           18,
           0.03389830508474576
          ],
          [
           9,
           0.008771929824561403
          ],
          [
           9,
           0.008771929824561403
          ],
          [
           9,
           0.003745318352059925
          ],
          [
           9,
           0.003745318352059925
          ],
          [
           9,
           0.010309278350515464
          ],
          [
           9,
           0.015151515151515152
          ],
          [
           9,
           0.015151515151515152
          ],
          [
           9,
           0.003745318352059925
          ],
          [
           9,
           0.003745318352059925
          ],
          [
           54,
           0.018467852257181942
          ],
          [
           9,
           0.010309278350515464
          ],
          [
           9,
           0.008771929824561403
          ],
          [
           9,
           0.008771929824561403
          ],
          [
           18,
           0.03389830508474576
          ],
          [
           9,
           0.0030779753761969904
          ],
          [
           9,
           0.003355704697986577
          ],
          [
           45,
           0.043859649122807015
          ],
          [
           18,
           0.006155950752393981
          ],
          [
           18,
           0.006155950752393981
          ],
          [
           9,
           0.008771929824561403
          ],
          [
           9,
           0.003355704697986577
          ],
          [
           9,
           0.008771929824561403
          ],
          [
           9,
           0.008771929824561403
          ],
          [
           18,
           0.006711409395973154
          ],
          [
           18,
           0.006155950752393981
          ],
          [
           9,
           0.0030779753761969904
          ],
          [
           9,
           0.0030779753761969904
          ],
          [
           9,
           0.008771929824561403
          ],
          [
           9,
           0.003355704697986577
          ],
          [
           9,
           0.008771929824561403
          ],
          [
           9,
           0.003355704697986577
          ],
          [
           18,
           0.006711409395973154
          ],
          [
           9,
           0.003745318352059925
          ],
          [
           18,
           0.00749063670411985
          ],
          [
           9,
           0.003355704697986577
          ],
          [
           9,
           0.003355704697986577
          ],
          [
           9,
           0.003355704697986577
          ],
          [
           9,
           0.008771929824561403
          ],
          [
           9,
           0.0030779753761969904
          ],
          [
           9,
           0.003745318352059925
          ],
          [
           9,
           0.008771929824561403
          ],
          [
           9,
           0.008771929824561403
          ],
          [
           9,
           0.0030779753761969904
          ],
          [
           9,
           0.003745318352059925
          ],
          [
           9,
           0.015151515151515152
          ],
          [
           9,
           0.010309278350515464
          ],
          [
           9,
           0.003745318352059925
          ],
          [
           9,
           0.007518796992481203
          ],
          [
           9,
           0.010309278350515464
          ],
          [
           9,
           0.003745318352059925
          ],
          [
           9,
           0.0030779753761969904
          ],
          [
           18,
           0.03389830508474576
          ],
          [
           9,
           0.003355704697986577
          ],
          [
           9,
           0.003355704697986577
          ],
          [
           36,
           0.013422818791946308
          ],
          [
           18,
           0.00749063670411985
          ],
          [
           9,
           0.003355704697986577
          ],
          [
           9,
           0.003355704697986577
          ],
          [
           45,
           0.015389876880984952
          ],
          [
           9,
           0.003745318352059925
          ],
          [
           9,
           0.003745318352059925
          ],
          [
           9,
           0.003355704697986577
          ],
          [
           9,
           0.003355704697986577
          ],
          [
           9,
           0.003355704697986577
          ],
          [
           9,
           0.003745318352059925
          ],
          [
           9,
           0.007518796992481203
          ],
          [
           18,
           0.006711409395973154
          ],
          [
           9,
           0.003745318352059925
          ],
          [
           9,
           0.003745318352059925
          ],
          [
           9,
           0.007518796992481203
          ],
          [
           9,
           0.003745318352059925
          ],
          [
           9,
           0.029411764705882353
          ],
          [
           9,
           0.0030779753761969904
          ],
          [
           9,
           0.007518796992481203
          ],
          [
           9,
           0.003745318352059925
          ],
          [
           9,
           0.003355704697986577
          ],
          [
           9,
           0.0030779753761969904
          ],
          [
           9,
           0.010309278350515464
          ],
          [
           9,
           0.0030779753761969904
          ],
          [
           9,
           0.015151515151515152
          ],
          [
           9,
           0.007518796992481203
          ],
          [
           9,
           0.003745318352059925
          ],
          [
           9,
           0.0030779753761969904
          ],
          [
           9,
           0.003745318352059925
          ],
          [
           9,
           0.007518796992481203
          ],
          [
           9,
           0.0030779753761969904
          ],
          [
           9,
           0.0030779753761969904
          ],
          [
           27,
           0.011235955056179775
          ],
          [
           "(?)",
           0.031352959931980014
          ],
          [
           "(?)",
           0.03581267217630855
          ],
          [
           "(?)",
           0.008175307418584752
          ],
          [
           "(?)",
           0.01498106167674826
          ],
          [
           "(?)",
           0.07268026429187018
          ],
          [
           "(?)",
           0.00784132194307677
          ],
          [
           "(?)",
           0.010367757003224417
          ],
          [
           "(?)",
           0.06920415224913497
          ],
          [
           "(?)",
           0.021698984302862406
          ]
         ],
         "domain": {
          "x": [
           0,
           1
          ],
          "y": [
           0,
           1
          ]
         },
         "hovertemplate": "labels=%{label}<br>瀏覽量百分比_sum=%{value}<br>parent=%{parent}<br>id=%{id}<br>瀏覽量=%{customdata[0]}<br>瀏覽量百分比=%{color}<extra></extra>",
         "ids": [
          "金融理財/\"賓果賓果預測\"讓你顛覆平凡人生!!",
          "娛樂遊戲/#打一句有聲音的遊戲句子，海德格！救救救救 救救救 救窩～",
          "美食旅遊/(台南)犬首燒雞蛋糕-法鬥月餅禮盒可愛無極限 五種口味包餡還有蝦米!!! 沒預訂還吃不到~ | 高雄美食地圖 - 高雄小吃・高雄景點・高雄優惠・高雄推薦美食",
          "美食旅遊/(府中站)板橋美食-黃石市場內一天只賣二小時的紅燒肉,雞捲(天下牙醫前),紅燒肉真的有厲害，假日僅提供外帶",
          "美食旅遊/(忠孝敦化站/忠孝復興站)東區火鍋吃到飽-火鍋殿,多種肉類,海鮮吃到飽,生啤喝到爽,滿滿貝類的卜卜鍋記得來點上一鍋,東區聚餐地點,約會餐廳",
          "美食旅遊/(高雄美食)蒸鮮腸粉港式飲茶-手工港式素食，自然素吃精緻，素食者必吃港式料理這幾道 | 高雄美食地圖 - 高雄在地小吃・高雄旅遊景點・高雄壽星優惠・高雄推薦美食・高雄人氣餐廳",
          "美食旅遊/- 旅行履行中 / 一日遊、懶人包、景點、美食、住宿",
          "金融理財/0056 元大高股息ETF送分題，為自己的投資負責。",
          "金融理財/0056高股息ETF小資定期定額計畫，這就是開始的第一張。",
          "娛樂遊戲/106本現代重生言情小說推薦：甜文+懸疑推理+爽文+女強男強+娛樂圈+女配文+雙重生",
          "娛樂遊戲/10本好看的娛樂圈甜寵文推薦，有肉文書單推薦",
          "寰宇綜合/113本主角是軍人+警察小說推薦：古代(將軍)+現代+(雙)軍人+(雙)警察+法醫+刑警+特種兵+刑偵隊長+消防員+武警+軍校生+緝毒員警+特警+肉文",
          "生活休閒/12星座偷偷喜歡一個人的跳針表現｜哪個星座冷漠是為了想在對方面前呈現最好的自己? - Wise Library 1985",
          "寰宇綜合/15本高質量的懸疑推理言情小說推薦",
          "金融理財/165博奕詐騙》網路投資95%都詐騙你還不信嗎?",
          "娛樂遊戲/18禁推薦 兩種衝撞一次滿足之爽片：黑吃黑Banshee (台譯:竊盜警長)",
          "寰宇綜合/1995年馬來西亞蟒蛇吞人事件後續回顧 @ 阿修羅的夜世界",
          "健康運動/1天2包天然酵素的蔬果梅精順暢飲—嗯嗯就是非常順暢",
          "娛樂遊戲/2 分鐘快速了解蘋果「家人共享」如何運作 | iPhone News 愛瘋了",
          "娛樂遊戲/2014 年的《遊戲業薪資調查報告》網路考古用",
          "娛樂遊戲/2018 11 25:莎賓娜的顫慄冒險:神廟訴訟案解決,美劇綜合消息(補/訊息多/文長)",
          "娛樂遊戲/2018 12 03:莎賓娜第二季四月回歸,實習醫生、芝加哥、NCIS、Timeless劇情",
          "生活休閒/2019年5★言情推薦–《重生男神凶猛》作者：淡布丁-Chinese Romance Web Novel -【暗戀言情，總裁言情，都市言情，重生言情，二婚言情】—–《重生男神兇猛》作者：淡布丁",
          "美食旅遊/2020 Dec│ 國立臺灣博物館│台北親子景點 互動展覽 台北景點推薦│走吧台北哪裡玩 - FreyaDaily",
          "3c科技/2020 Setting 官網下載在哪裡？Android APK 下載與 iOS 皆可安裝 | 綠色工廠",
          "美食旅遊/2020, Apr│Jana cafe 嚼咖啡餐廳│走吧台北哪裡吃美食：台電大樓好吃三明治軟法 師大夜市義大利麵推薦 內含完整菜單 - FreyaDaily",
          "時尚美妝/2020, Apr│海尼根 0.0零酒精│超商買什麼？暢飲海尼根 開車也能喝的 無酒精啤酒風味飲 - FreyaDaily",
          "美食旅遊/2020, July│花蓮三天兩夜懶人包│花蓮必去景點 三天兩夜自由行│走吧花蓮哪裡玩 - FreyaDaily",
          "娛樂遊戲/2020年前10大盜版電視劇排名揭曉,冠軍:曼達洛人The Mandalorian @ 美劇盒小品｜美劇 歐美影集  簡介時間表",
          "娛樂遊戲/2020年最愛戲劇Top10!哪十部能脫穎而出呢?在家追劇清單! - 艾蜜莉關X吃貨の韓國日常",
          "3c科技/2021 SEO優化怎麼做？標題、內容、關鍵字、內外連結四大關鍵因素",
          "娛樂遊戲/2021 年 NETFLIX 5月上架新片整理",
          "娛樂遊戲/2021 年 NETFLIX 6月上架新片整理 - 每週更新",
          "娛樂遊戲/2021 年 NETFLIX 7月上架新片整理，慢慢整理最快",
          "娛樂遊戲/2021 年 NETFLIX 7月上架新片整理，慢慢整理最快 - 6/22 更新",
          "親子育兒/2021 母嬰用品 親子用品福袋懶人包: PUKU藍色企鵝、黃色小鴨等 | 媽咪~爸比~快樂孕兒、育兒教養經",
          "美食旅遊/2021 牛年迎新春必備！ 5 個開運小物，從長輩送到寶貝一手包辦！",
          "時尚美妝/2021七款按摩神器推薦！上班族眼睛疲勞、家庭主婦肩頸痠痛，通通紓壓「不求人」！",
          "娛樂遊戲/2021刮刮樂中獎率是多少?最好中的竟然是....?",
          "生活休閒/2021地表最強運勢排行榜！「星座x生日x血型」你排行第幾？",
          "娛樂遊戲/2021大陸電影NETFLIX【刺殺小說家A Writer's Odyssey】可是希望一直不來 (雷佳音 楊冪 董子健 于和偉 郭京飛 佟麗婭)",
          "3c科技/2021年 社群行銷最新流量池： Line社群 聚集你的潛在受眾！ | 一起討論吧! 社群x內容行銷經營",
          "金融理財/2021年6月紀錄｜3步驟部落格日流量破2萬8，經營部落格變成我的志業 | 跟著菜鳥人妻搬去匈牙利！",
          "生活休閒/2021年KTV藍芽麥克風排行，第一名竟然是?? 網路超人氣十大好評的k歌神器! - 敗家達人推薦",
          "娛樂遊戲/2021年冬季日劇一覽表",
          "娛樂遊戲/2021年古代言情甜寵小說推薦：穿越文、先婚後愛、純古言文 – starryeagle | 蒼野之鷹：看小說、聊書、聊投資",
          "生活休閒/2021年星座桃花運排行榜💕第一名將熱戀一整年",
          "美食旅遊/2021年桃園除夕景點暫停開放資訊整理 / 因應防疫請減少非必要外出 - 撰風 漫步旅食溫度",
          "娛樂遊戲/2021最新現金版娛樂城評價，保證出金娛樂城是哪家?",
          "時尚美妝/2021未來媽媽/廢財闖天關/巡天者等...華劇女主角教你如何從女孩穿到女人~可不能錯過的！走出劇外的超女人味穿搭",
          "美食旅遊/2021母親節蛋糕推薦🌿 法雅玫瑰荔枝義式冰淇淋蛋糕 給媽咪一個難忘的母親節 — 小瑞拉食旅日記",
          "生活休閒/2021牛年5生肖要當心！破財、血光之災化解攻略告訴你",
          "生活休閒/2021牛年5生肖要當心！破財、血光之災攻略告訴你",
          "生活休閒/2021生日運勢排行榜出爐！這幾天出生的人走大運啦🤑",
          "生活休閒/2021生肖轉運大法！教你趨吉避凶、好運旺旺來",
          "生活休閒/2021跨年在家可以做什麼?打發時間玩遊戲賺現金吧!",
          "美食旅遊/2021連假特輯【連假出遊景點懶人包】過年走春景點/最新打卡景點/推薦連假出遊景點/全台走春景點推薦",
          "生活休閒/2月5本好看的玄幻奇幻小說推薦2021",
          "寰宇綜合/30本肉香四溢的現代肉肉文推薦(有NP文)：老司機必看",
          "寰宇綜合/31本高質量的青梅竹馬現代甜寵文推薦",
          "娛樂遊戲/36本現言腹黑男主有肉的小說合集推薦",
          "娛樂遊戲/3個黃色笑話原來有這層意涵！《腿》楊祐寧、桂綸鎂、導演映後座談",
          "寰宇綜合/54本肉肉文推薦：老司機想看的肉寵文、現代高辣、古代甜肉、快穿肉文、NP肉文、1V1都有",
          "美食旅遊/5個你必須知道的「2021春節、情人節」旅遊大補帖｜旅行提案看過來！",
          "生活休閒/5招打造舒服追劇環境！絕對讓你爬不出沙發，追劇追到拋家棄子！手機取代遙控器竟然只是基本功？",
          "生活休閒/5本好看的神醫文推薦2021",
          "生活休閒/5本好看的穿越重生小說推薦2021",
          "娛樂遊戲/5部不容錯過的恐怖驚悚電影！嚇到你腿軟喊著叫媽媽",
          "娛樂遊戲/5部好看的Netflix動漫推薦",
          "娛樂遊戲/6本女主替身文小說推薦",
          "寰宇綜合/6本高質量的穿書小說推薦 – starryeagle | 蒼野之鷹：看小說、聊書、聊投資",
          "金融理財/911娛樂城評價是詐騙集團?",
          "娛樂遊戲/94本青梅竹馬言情小說推薦",
          "3c科技/ALLPPT 免費下載 PowerPoint 範本，多種主題上千模板可商業使用 - 逍遙の窩",
          "娛樂遊戲/AV帝王影評｜Netflix好戲推薦,被情色耽誤的勵志片",
          "美食旅遊/Aga不專業食記攝影",
          "娛樂遊戲/BG | 解決書荒，盤點好看的各類型言情小說",
          "娛樂遊戲/BG-NP肉文《曲線規則》作者：江山多椒 |【原創言情小說心得文】【肉多多+男主們強取豪奪+NP文(1女N男)】",
          "寰宇綜合/BG古代小說 | 《升官發財死後宮》作者:衣帶雪通| 有心得簡評 |【長篇+古代+女主是女官+古代女公務員+勵志+結局HE+姐弟戀】",
          "娛樂遊戲/BG古代穿越 | 《我成了反派的掛件[穿書]》作者：大茶娓娓 |【5星原創言情小說推薦心得文】| 甜寵言情 | 穿越言情 | 仙俠修真 | 女配言情 | 主角是反派病嬌 | 有肉渣 | 有系統 | 玄幻言情 | 長篇言情 | 古代言情",
          "寰宇綜合/BG古代言情小說 | 《嬌寵》作者：榶酥 | 有心得簡評 | 【古代+青梅竹馬+久別重逢+失憶】 – starryeagle | 蒼野之鷹：看小說、聊書、聊投資",
          "寰宇綜合/BG古代言情小說 | 《鏡中花》作者：薛定諤家裡的貓 |附網友評論 | 【短篇+古代+女配逆襲】 – starryeagle | 蒼野之鷹：看小說、聊書、聊投資",
          "娛樂遊戲/BG書單總表 | 各類型的主角是綠茶的小說推薦：綠茶女主文+綠茶男主文",
          "娛樂遊戲/BG書單總表 | 各類型的女配文言情小說合集書單推薦",
          "娛樂遊戲/BG書單總表 | 各類型的現代言情小說推薦書單",
          "娛樂遊戲/BG書單總表 | 各類型的網戀奔現小說推薦：肉文+1V1+校園+都市+穿越",
          "娛樂遊戲/BG書單總表 | 各類型的養成言情小說合集推薦",
          "娛樂遊戲/BG書單總表 | 各類型腦洞大開，題材新穎的言情小說推薦：古言+現言+校園+西幻+懸疑推理破案+刑偵+靈異恐怖",
          "娛樂遊戲/BG書單總表 | 萌寵文(獸寵文)推薦書單：有萌寵(貓咪…)出沒的言情小說",
          "娛樂遊戲/BG書單總表 | 輕鬆好笑有趣的沙雕言情小說推薦書單，劇情走輕鬆爆笑",
          "娛樂遊戲/BG校園肉肉文 | 《晚州夢華錄》作者：將至景 |【原創BG言情小說推薦心得文】| 短篇言情 | 校園言情 | 青梅竹馬言情 |  高中到大學 | 雙學霸言情 | 肉多多言情 | 有肉有劇情言情 |董朝銘X郁楚",
          "寰宇綜合/BG現代先婚後愛言情小說 | 《咬紅唇》作者：今様【短篇+現代都市+先婚後愛+豪門世家】",
          "寰宇綜合/BG現代肉多多 |《和聯姻對象做炮友》作者：蜜汁叉燒|【5星原創BG言情小說推薦心得文】| 【現代+肉多多+1v1+甜寵+豪門世家+男主是總裁+富家千金】",
          "娛樂遊戲/BG甜寵多肉小說心得 | 《顧先生和顧太太/ 顾先生和顾太太》 作者: 桃子奶蓋 | 原創言情小說推薦心得文 | 肉多多言情 | 年齡差言情 | 有肉有劇情言情 | 都市言情 | 娛樂圈言情 | 包養言情 | 大叔文言情 |   | 短篇有肉有劇情 | 總裁言情",
          "寰宇綜合/BG短篇肉文 | 《男朋友出軌之后》作者：柚子多肉|【5星原創BG言情小說推薦心得文】【短篇+現代+肉多多+第一人稱+姐弟戀+小奶狗+甜寵+結局HE+炮友轉正】",
          "寰宇綜合/BG短篇都市肉寵文 |《嫁給僧侶先生》作者：福祿丸子 |【5星原創BG言情小說推薦心得文】| 短篇言情 | 現代都市言情 | 有肉有劇情言情 | 女追男言情 | 豪門世家言情 | 懸疑言情 | 男主有心理疾病言情 | 甜虐言情 | 追妻火葬場言情 | 有小包子言情 | 男主是和尚言情 | 破鏡重圓言情 | 男撩女言情 | 久別重逢言情",
          "寰宇綜合/BG超肉古言文 | 《掌中雀》作者：棄吳鉤 | 古代言情 | 有肉有劇情言情 | 感情線甜虐",
          "寰宇綜合/BL文 | 10本好看的星際耽美文推薦 | 《拥有AI男友後，再也不怕黑子了》、《限定曖昧》、《天生命犯Alpha[重生]》、《我不做人了》 | 【元帥+ABO+帶球跑+雙Alpha+重生+爽文+主角是蟲族+有肉有劇情】　",
          "寰宇綜合/BL校園ABO | 《借我咬一口》作者：弦三千  | 【5星耽美bl小說推薦心得文】|  短篇言情 | 高中校園耽美 | 甜寵耽美 |  ABO耽美 | 短篇耽美 | 倒敘法 | 雙學霸耽美",
          "寰宇綜合/BL校園甜寵 | 《信息素說我們不可能》作者: 毛球球 | 【5星耽美bl小說推薦心得文】| 校園耽美 | 甜寵耽美 | ABO耽美 | 竹馬耽美 | 有肉渣耽美",
          "寰宇綜合/BL校園甜寵 | 《給校草沖喜的日日夜夜》作者: 溯流回川 | 【5星耽美bl小說推薦心得文】| 短篇耽美 | 輕鬆好笑(爆笑) | 先婚後愛耽美 | 甜寵耽美 | 高中校園耽美 |學神X校霸 | 有肉有劇情 | 假戲真做",
          "娛樂遊戲/BL熱血追夢電競 | 《電競毒瘤集結營》作者：青梅醬 |【5星原創耽美bl小說推薦心得文】| 強強耽美 | 電競耽美 | 都市耽美 | 穿書耽美 | 穿越耽美 | 有肉有劇情耽美 | 長篇耽美",
          "寰宇綜合/BL現代爽文耽美小說 |《爆款創業》作者：清蒸日華 | 有心得簡評 | 【長篇+校園+創業+爽文】苟玳、梁君澈",
          "娛樂遊戲/BL穿越星際耽美小說 | 《我懷了人類的救星》作者：冰城不冷 | 有心得簡評 |【短篇+穿越+星際+帶球跑+爽文+人類復興文】",
          "寰宇綜合/BL耽美好文推薦：好看的古代重生耽美文推薦，有強強、穿書、反派、仙俠修真",
          "娛樂遊戲/BL耽美推文 | 《朕的後宮起火了》作者：龍柒【古代+短篇耽美+帝王受VS權臣攻】 – starryeagle | 蒼野之鷹：看小說、聊書、聊投資",
          "寰宇綜合/BL肉文推薦 | 推薦35本好看的有肉有劇情的耽美文小說書單【BL甜文+BL肉文】",
          "3c科技/Canva教學大補帖｜3分鐘完成精美圖片設計-社群人必備工具",
          "3c科技/DroneDeploy - 目前空拍用過最好用的正射＋建模雲端系統平台",
          "3c科技/FB臉書抓不到網站圖片？用Facebook Debugger強制更新臉書縮圖 | 老貓測3C",
          "3c科技/Facebook 大老闆：現在開始蘋果是敵人不是朋友 | iPhone News 愛瘋了",
          "寰宇綜合/FoOd桃園義式餐廳【洋朵庭園餐廳】桃園美食推薦,義大利麵,披薩,燉飯任你選,搭配套餐划算豐富 - ONLYYUSUKE*吃喝玩樂都最高",
          "娛樂遊戲/Gamine",
          "寰宇綜合/Gamine",
          "美食旅遊/Grand Hotel Cavour Florence | 義大利佛羅倫斯飯店 | 難忘又美好的住宿回憶",
          "美食旅遊/G編愛旅遊~【免費走春景點推薦Part 2】花蓮360環繞森林懸空舞台 @ Gamine",
          "3c科技/Health² 老司機影片不能看？用這招突破封鎖 APK 下載 | 綠色工廠",
          "生活休閒/IPFS for Beginners – Interact With IPFS By Javascript",
          "生活休閒/JＯ在這裡：緊實的魅力，Hold得住的激情！ - 艾姬的情慾故事",
          "娛樂遊戲/KTV 30首經典好聽台語療傷歌單｜ 長輩爺爺奶奶都愛的台語歌｜歌唱比賽歌曲推薦 - Wise Library 1985",
          "娛樂遊戲/LINE WEBTOON特輯系列清單(不定期更新)",
          "生活休閒/LOLI怨念實體化 把LOLI吞入腹中吧~",
          "3c科技/LuTube AV 電視 APP，老司機上車！",
          "寰宇綜合/MTV重磅推出全台首創嘻哈選秀節目「大嘻哈時代」| 集結四大頂尖嘻哈創作人 大支、熊仔、剃刀蔣、Leo王合體 共同打造嘻哈巨星！ - YOLOLab - You Only Live Once",
          "3c科技/Messenger 打字打到一半自動跳掉變注音？用這個方式先降回舊版避免打字中斷 - APlus",
          "娛樂遊戲/Minecraft 玩家離世前以 1,100 萬方塊完成史上最大像素畫作 - 韋恩先生 WayneSan",
          "健康運動/NBA 2K21 三位封面球星揭曉 | NOVA資訊廣場",
          "時尚美妝/NBA Store嚴選三大機能運動包款 自信探索城市運動摩登質感 | NOVA資訊廣場",
          "健康運動/NBA 最佳防守球員 Rudy Gobert 確診武漢肺炎，NBA將無限期休賽！ - YOLOLab - You Only Live Once",
          "健康運動/NBA前球星歐尼爾發聲 支持摩瑞挺港言論 | 民報 Taiwan People News",
          "生活休閒/NETFLIX 原創動畫《伊甸/Eden》評價與心得，分級7+的小朋友動畫",
          "娛樂遊戲/Netflix 原創影集《太陽召喚》劇情概要與心得，IMDB 8.5 分的年度好劇",
          "3c科技/Netflix 有老司機影片？原來是 Netflav 免費觀看謎片網站 | 綠色工廠",
          "娛樂遊戲/Netflix《好醫生 良醫墨非》評價心得(第一季)｜必入坑美劇爆紅不是沒有原因！",
          "娛樂遊戲/Netflix《活屍大軍/不死喪軍》評價，為了 2 億美金你敢進入喪屍之城嗎？",
          "娛樂遊戲/Netflix動畫《詐騙之王/大欺詐師》GREAT PRETENDER心得",
          "3c科技/Notion Template 模版推薦 - 10種必用的模版教學及應用 2020",
          "金融理財/OGSM是什麼?比KPI、OKR更好用的目標績效管理方式 - AKERUE集散地",
          "3c科技/ONEmade Pro 多功能無線投影轉換器",
          "美食旅遊/PANSY FLOWER+CAFE'|韓國釜山 花+咖啡 PANSY FLOWER+CAFE'",
          "3c科技/PPT模板｜超過100套實用款PPT簡報模板免費下載(2020)",
          "3c科技/PttPlay 線上看：免費電影、動漫、日韓歐美電視劇，影片下載說明",
          "美食旅遊/SUP立槳體驗去哪裡玩？宜蘭東澳、花蓮、日月潭、墾丁全台SUP熱門景點懶人包，SUP立槳周邊景點住宿全都包！",
          "寰宇綜合/Sandy珊蒂說",
          "娛樂遊戲/Switch遊戲免費玩!?動森、薩爾達都免費借玩，GAME'NIR遊戲圖書館，免費14天玩到爽，還能無限續借。 - 敗家達人推薦",
          "3c科技/Telegram 老司機群組去哪找？33 個頻道和群組讓你一次補齊進度 | 綠色工廠",
          "生活休閒/Top 5 非清寒也能申請的高額獎學金！快一起朝夢想前進",
          "3c科技/Varmilo 阿米洛中國娘第3波「鴛鴦娘」主題鍵盤，2支鍵盤拼成鴛鴦情侶鍵盤 | 老貓測3C",
          "3c科技/Word文字方塊一次全搞懂，功能解析 - 名偵探小確幸",
          "時尚美妝/ZARA Beauty 2021全新系列純白簡約風太美！130項彩裝單品5月開賣！",
          "3c科技/Zoomee 微網紅新平台 賺取第二分薪水",
          "3c科技/[3C評測-網路通訊]NETGEAR優化天線之翼Wi-Fi 6三頻8串流AX6600夜鷹旗艦級新機RAX70上市，高效能避干擾優性價比2021年同級產品最佳選擇推薦！(開箱評測內含AC與AX網速比較) – 台灣熊部落格",
          "3c科技/[Python爬蟲教學]Python網頁爬蟲動態翻頁的實作技巧",
          "3c科技/[Scrapy教學4]掌握Scrapy框架重要的CSS定位元素方法",
          "美食旅遊/[台北鍋物] 松江自助石頭火鍋城 ~台北行天宮旁老字號石頭火鍋，傳統爆炒鍋底湯頭的好滋味",
          "美食旅遊/[大湖草莓] 古意園草莓農場 |大湖酒莊正後方 |高架草莓園區",
          "生活休閒/[好物分享]媽咪的神隊友~皂匠子馬鈴薯家事皂",
          "美食旅遊/[市政府站義大利餐廳]Cin Cin Osteria 請請：義大利麵不錯．甜點更得我心！ @ Froda生活日記",
          "美食旅遊/[彰化景點] 樂採果溫室觀光農場 |採果、控窯、草莓苗DIY",
          "娛樂遊戲/[影評] 女人碎片 Pieces of a Woman – Vanessa Kirby的演出在Kornél Mundruczó的首部英語作品中無懈可擊 – 米國米Pin Chia: Bilingual Movie & TV Review",
          "生活休閒/[手作料理]用丹麥Arla Cream cheese三種口味簡單料理女兒的三餐~EP.10 (原味、鳳梨、特選香料奶油乳酪一次滿足)",
          "美食旅遊/[新竹北埔]五指山猴洞步道|金龜岩|奇岩巨石一線天|原始森林探訪野餐",
          "美食旅遊/[新竹關西景點] 金勇DIY番茄農場 |甜椒、草莓、小黃瓜、苦瓜、玉米 @ 小玉兒//趴趴走 :: 痞客邦 ::",
          "美食旅遊/[東區早午餐推薦]At•First早寓：精緻早午餐／義大利麵／燉飯套餐．姊妹聚餐首選．可預約包廂（菜單）",
          "生活休閒/[生活筆記]開箱人生第一台車 - Skoda Fabia 2020 配備和菜單大公開 ~ 安淇拉。寫寫生活",
          "3c科技/[痞客邦衝流量、洗流量、衝人氣] 如何成為部落客? 怎麼接案子? 提升部落格觀看、照片修圖剪輯APP",
          "金融理財/[看房筆記] 你一定要懂得建案平面圖-九大步驟分析房屋格局 ~ 安淇拉。寫寫生活",
          "金融理財/[紀錄]六指淵! 用特效玩創意-翻轉社群!六指淵X創力坊交流會",
          "金融理財/[經驗分享]最難開發的牙材業務該怎樣做?",
          "金融理財/[網路賺錢新發現]來自韓國的Zoomee網紅接案平台讓素人也可以輕鬆接案賺好康!",
          "親子育兒/[育嬰新手村] 小晴天手作造型饅頭 收涎饅頭 兒童可食用的可愛卡通造型饅頭",
          "寰宇綜合/[轉貼]一位「康霖直銷-尖峯團隊」成員的告白",
          "寰宇綜合/[轉貼]我與台灣最大詐騙集團交手的經驗",
          "生活休閒/[轉貼]特別注意一種男人【18禁】",
          "健康運動/[轉貼]給想生小孩的已婚婦女求子方法(18禁)",
          "3c科技/[開箱評測]NUARL N6 sports 真無線藍牙耳機～混合式環境音效•低延遲遊戲模式•新機再進化～ – 『不務正業的護理師』",
          "3c科技/[開箱評測]SENNHEISER IE300 入耳式耳機～細膩情感怎能錯過～ – 『不務正業的護理師』",
          "美食旅遊/[食記] 高雄 - Kyomo Pasta義大利麵専売，獨特日式風味義大利麵",
          "美食旅遊/[食評]京都勝牛新光三越A11店晚餐",
          "生活休閒/[食評]美威鮭魚7-11上市~精選鮭魚菲力-義式香草口味",
          "美食旅遊/arTree Hotel阿樹國際旅店 - 台北市中心三星級旅館，彷彿住在美術館，超高生活機能，台北小巨蛋商旅推薦",
          "金融理財/clubhouse的風潮與疑慮",
          "3c科技/iOS 14 開 App 跳出「尋找並連接您區域網路上的裝置」 | iPhone News 愛瘋了",
          "美食旅遊/koti koti 家家｜史上最可愛的手工鐵盒餅乾  喜餅、彌月禮盒最佳推薦",
          "時尚美妝/ozio蜂王乳試用心得",
          "美食旅遊/ptt激推好吃的【低卡便當】與【低熱量零食】全收錄！",
          "時尚美妝/| 保濕推薦 | 米泉釀 青春活妍面膜/青春活妍精華露 讓肌膚柔嫰的小祕密 有機溫泉米糠",
          "美食旅遊/| 台北美食 | 嗨蝦蝦百匯鍋物吃到飽 和牛 天使紅蝦 必點招牌XO辣蝦湯頭 海鮮螃蟹 熱炒 生魚片 壽司 啤酒 上百種食材隨你吃",
          "美食旅遊/| 嘉義景點 | 梅山瑞里竹林茶席體驗 悠走綠色隧道 品茗慢生活",
          "生活休閒/| 茶飲 | 菊賦樂享好茶 初蜜女人茶 台灣銅鑼白雪杭菊 杭菊枸杞紅棗茶 立體茶包 甘醇清香好味道",
          "生活休閒/|DayDreamyGirl Backküche白日夢女孩烘焙廚房|無麩質甜點在家也能輕鬆做(內含食譜)",
          "美食旅遊/||吃。台北|| 小螺波螺螄粉 視覺味覺都很豐富的酸辣享受",
          "健康運動/。貪吃馬麻與愛玩寶的生活日記。",
          "生活休閒/〈塔羅占卜〉未來一個月，我能夠心想事成嗎？",
          "生活休閒/〈心理測驗〉你最受到哪一類異性的青睞呢？",
          "生活休閒/〈心理測驗〉新年伊始，你該如何大展身手？",
          "時尚美妝/《Organic Aromas有機香氛》美國香氛品牌，精油擴香儀的專家，釋放壓力，緩解身心靈的最佳幫手，讓你晚上好好眠",
          "生活休閒/《Summer Breeze》韓景察 @ 天空.過客.一個人",
          "娛樂遊戲/《Sweet Tooth：鹿角男孩》評價與心得，有些故事從頭開始，你的故事從此開始",
          "生活休閒/《初戀30歲》Park Soojung/Kim Ralra",
          "生活休閒/《十九歲二十一歲》約翰/ZHENA @ 天空.過客.一個人",
          "寰宇綜合/《台灣關係法》主要推手籲美國與台灣展開「乒乓外交」 | 民報 Taiwan People News",
          "生活休閒/《哲仁王后》「中殿辭典」誕生！不只「No Touch」一解劇中20個獨創爆笑流行語~ | 少女心文室 NEWS ROOM",
          "娛樂遊戲/《天堂的張望》白血症小女孩真實故事改編，一場社會溫暖與冷漠的博弈",
          "娛樂遊戲/《天橋上的魔術師》37句奇幻台詞金句：「不是每把鑰匙都只能開鎖，有時開的是人心」 | 少女心文室 NEWS ROOM",
          "娛樂遊戲/《奪命殺聲4/Voice4》第10集劇情推理心得：Circus Man現身警局投案？",
          "娛樂遊戲/《女神降臨》修豪出國2年！書竣男友之姿護花，朱靜倒懷裡甜笑｜黃寅燁唱《花盆》歌詞藏心意 | 少女心文室 NEWS ROOM",
          "寰宇綜合/《女神降臨》差1cm吻上去！黃寅燁沙發咚文佳煐：我也是男人！書竣手機女友名字存這個 | 少女心文室 NEWS ROOM",
          "生活休閒/《奶酪陷阱》纯kki @ 天空.過客.一個人",
          "生活休閒/《她的遺願清單》yellow sheep/so-p @ 天空.過客.一個人",
          "娛樂遊戲/《好好拍電影》keeping rolling起起伏伏香港電影的黃金時代",
          "娛樂遊戲/《完全獵魔攻略》，電玩遊戲低配版。",
          "娛樂遊戲/《密探零零發》推出4月代言活動 古裝KID化身新角色「麟博笙」颯爽登場",
          "生活休閒/《微疼姑姑的鬼故事》微疼 @ 天空.過客.一個人",
          "生活休閒/《我不喜歡這世界，我只喜歡你》喬一",
          "健康運動/《我的偶像總裁》性恩 @ 天空.過客.一個人",
          "娛樂遊戲/《柏捷頓家族》（Bridgerton）小說第四集「情聖的戀愛」",
          "娛樂遊戲/《柏捷頓家族：名門韻事》（Bridgerton）帥氣男主角是誰？",
          "娛樂遊戲/《柏捷頓家族：名門韻事》（Bridgerton）第三季小說「紳士與灰姑娘」劇情不負責推測",
          "娛樂遊戲/《柏捷頓家族：名門韻事》（Bridgerton）第二季愛情主軸將放在帥大哥身上",
          "娛樂遊戲/《樂透研究院》擋牌意思是什麼?簽擋牌包中?!",
          "生活休閒/《淵的信件》HYEON A CHO",
          "娛樂遊戲/《煙囪小鎮的普佩》Poupelle of Chimney Town你要繼續相信下去，只要一直相信，就會看見改變世界的星星",
          "娛樂遊戲/《獨居》POGO @ 天空.過客.一個人",
          "生活休閒/《當男人戀愛時》23句對白又哭又笑，許瑋甯虐心金句：「你以為你欠我的是這個嗎？」 | 少女心文室 NEWS ROOM",
          "娛樂遊戲/《當男人戀愛時》Man In Love啥款？！這是只有台灣人才懂，正港的「台式浪漫」愛情！",
          "娛樂遊戲/《羽毛球少年團/RACKET少年團》EP12 劇情與心得，等我少運會拿冠軍",
          "生活休閒/《花府千歲》wbtjieya",
          "娛樂遊戲/《蜀漢小軍師：像素三國》開啟事前預約 公開遊戲玩法介紹和預約獎勵",
          "寰宇綜合/《越做越愛：男女必修性愛學分》新書上市！ - 艾姬的情慾故事",
          "生活休閒/《那個男人的記憶法》語錄 | “你會選擇忘記悲痛，還是永遠記得？”",
          "娛樂遊戲/《阿爾瑪-終極兵器》兵長 @ 天空.過客.一個人",
          "娛樂遊戲/《魅惑》Hongjacga @ 天空.過客.一個人",
          "健康運動/「你沒問題，只欠缺找到自己強項」讀書心得：人際關係這樣處理就對了 - 維琪，你的好感度教練",
          "生活休閒/「嘿！服務鈴可不在我身上喔！」幽默應對的空中小故事 — 🌿 AG Girl 艾許娜說書",
          "生活休閒/「大人世界叫忍耐」《以家人之名》40句台詞大全｜尖尖看透、凌霄甜寵、子秋戳心、李爸最暖 | 少女心文室 NEWS ROOM",
          "娛樂遊戲/「對不起我錯了，我們復合吧！」 不要輕易跟這5個星座分手，再後悔也來不及了！",
          "生活休閒/「最毒蔬果」排行！你都把農藥吃下肚了嗎？",
          "娛樂遊戲/「為什麼對我這麼冷淡？」不愛了？還是為了未來打拼？12星座男變冷淡原因，處女、巨蟹請放心",
          "3c科技/「簡訊實聯制」比快還要更快，掃描即完成實名，快速實名登記 App ( Android )",
          "健康運動/「遠離焦慮」我們應該如何跟悲傷告別？",
          "娛樂遊戲/『人中之龍７　光與闇的去向　國際版』 將於2021年2月25日發售 | NOVA資訊廣場",
          "金融理財/『保險怎麼買?』當過保險業務的真實心得，年輕人必學的保險規劃",
          "生活休閒/『居家雜貨』除了ikea必買、宜得利推薦，你還會買什麼？",
          "美食旅遊/『新北美食』- 電話打78次才接通的【六必居潮州沙鍋粥】 ✖ 吃飽再去逛新北歡樂耶誕城 ✖ 就在新北市政府對面！",
          "寰宇綜合/『新竹美食』-【東門燒肉霸】列入新竹東門市場美食名冊 ✖ 新竹燒肉推薦華麗系擺盤 ✖ 專人擔當幫烤色香味一次滿足 ✖ 上班族下班小酌的秘密基地",
          "娛樂遊戲/『百家樂討論區』新款百家樂玩法你玩過了嗎？！",
          "美食旅遊/『美食@屏東』 屏東市區漫步一日遊、賞燈會、美菊麵包店、一級棒牛肉麵",
          "金融理財/【2%活存＋50次跨轉跨提免費，100元就能開始理財，還有200元首刷禮：聯邦New New Bank數位帳戶】⁣⁣ - 樂狗日常",
          "美食旅遊/【2020台北火鍋懶人包】8間必吃麻辣鍋、網美鍋、涮涮鍋，還有和牛吃到飽！",
          "美食旅遊/【2021台中伴手禮/下午茶/彌月禮盒推薦】1% bakery黎明店。2021草莓季限定，特濃乳酪系列甜點首選，結合在地食材，1%bakery黎明店菜單",
          "美食旅遊/【2021台北火鍋懶人包】8間必吃麻辣鍋、網美鍋、涮涮鍋，還有和牛吃到飽！",
          "美食旅遊/【2021新北三重美食】啊母啊姆鍋燒麵。三重最新浮誇系美食，熔岩小龍蝦、扇貝、九孔、超大蛤蜊、小卷、鮮蝦攏總伍，還有現煎可麗餅，啊母啊姆鍋燒麵菜單",
          "美食旅遊/【2021集集燈會】哞幻光影嘉年華，集集車站華麗變身，漫步璀璨黃金隧道 - 旅行履行中 / 一日遊、懶人包、景點、美食、住宿",
          "生活休閒/【5星耽美bl小說推薦心得文】都巿耽美+甜寵耽美 |《你的距離》作者：公子優",
          "寰宇綜合/【BG】15本男女主雙重生文的言情小說合集推薦",
          "娛樂遊戲/【Netflix電影推薦】2021年超高評價片單都在這, 不看會後悔的超好看電影！",
          "生活休閒/【PPT模板】免費讓你的簡報質感爆棚!8款設計感PPT模板",
          "娛樂遊戲/【R18】2021年1月里番/裏番列表",
          "親子育兒/【Remi大小事】寶寶愛柒投｜夢幻中的媽媽包好難挑唷｜DONE BY DEER 輕量後揹媽媽包",
          "親子育兒/【Remi大小事】寶寶用餐囉！｜餐椅篇｜安貝貝幫寶椅｜Chicco餐椅｜Apramo摺疊餐椅",
          "娛樂遊戲/【TF家族】四季更迭，樓宇卻永遠有少年——熙來攘往",
          "美食旅遊/【TOP10南機場夜市必吃小吃】台北最強夜市懶人包｜阿男麻油雞、山內雞肉、好記刀削麵、八棟圓仔湯、王功鮮蚵",
          "娛樂遊戲/【TW繁體中文】2015年【原創言情小說，重生甜寵文】–《重生之香途》月下金狐",
          "生活休閒/【TW繁體中文】2016年4★不錯【原創言情小說，娛樂圈／再續前緣／炫富求愛】–《高調寵愛》笑佳人",
          "生活休閒/【TW繁體中文】2016年【原創言情小說，婚戀】–《妻奴(婚戀高干)》了了是我 – starryeagle | 蒼野之鷹看小說",
          "寰宇綜合/【TW繁體中文】2018年4★不錯【原創言情小說，重生言情／二婚言情】–《雲鬢衣香》作者：笑佳人",
          "生活休閒/【TW繁體中文】2018年5★推薦【原創言情小說，校園到都會／姐弟戀／甜寵／青春遇上世故】–《小先生》咬春餅",
          "生活休閒/【TW繁體中文】2018年5★推薦【原創言情小說，甜寵／姐弟戀，青梅竹馬／娛樂圈】–《崽崽》川瀾",
          "生活休閒/【ViVa萬歲牌】薯丁小於綜合包｜(杏仁果x辣小魚x薯丁x花生x蝦味米果x醬油風味米果)｜津津有味得一口一口吃不停! @酷比酷比小惡魔 -",
          "3c科技/【Wordpress】14個熱門外掛推薦和6個輕量又美觀主題清單 | 聽May說捷克",
          "寰宇綜合/【ppt模板】八種風格-找到屬於你的自我介紹",
          "娛樂遊戲/【《哈囉，我好嗎？》EP.1：魷魚遇上暴露狂】心得與劇情分析、經典台詞整理",
          "美食旅遊/【世貿101站】Salt & Stone》披薩、義大利麵 OK，服務傻眼的加州義大利餐廳｜信義區 - Kate's Fun Zone 凱特瘋閣.",
          "美食旅遊/【中壢按摩推薦】天川養身會館．桃園中壢／ 天川養生會館／ 腳底按摩／ 全身指壓SPA - 天使馨＆魔鬼嫙",
          "美食旅遊/【中山站美食】馬太郎燒肉 燒肉吃到飽 日式燒肉 炭火燒肉 台北燒肉 台北燒烤 吃到飽推薦 馬太郎燒肉菜單",
          "生活休閒/【交友軟體】遇見真愛 or 感情玩家? 網路交友 你想尋找的是甚麼關係？",
          "美食旅遊/【人像攝影】大溪老街散策人像遊拍",
          "美食旅遊/【全聯】開箱 美味堂涼拌菜 7月限定涼夏即食樂系列",
          "生活休閒/【兩性／相處】愛是牽掛，不是牽絆 - 艾姬的情慾故事",
          "生活休閒/【公告】即日起更新時間＆我的LINE貼圖上架囉！",
          "娛樂遊戲/【劇評】逆境底下，人類即怪物《Sweet Home》",
          "娛樂遊戲/【動畫】盤點10部童年卡通中的女二們，除了「童年卡通三大綠茶婊」外你還知道誰?",
          "娛樂遊戲/【動畫】童年回憶！你看過哈姆太郎的母親嗎？盤點25位超可愛的哈姆好友們！",
          "美食旅遊/【北投 美食】冬至 元宵節就是要吃湯圓跟燒麻糬!北投在地人推薦5家必吃懶人包",
          "美食旅遊/【南機場夜市】阿男麻油雞 : 米其林推薦美食小吃 ! 湯頭好喝，麵線只要20元~ | 凱西跳跳糖の美食旅遊",
          "娛樂遊戲/【原神】風神瞳懶人包，完整地點攻略，66個風神瞳通通收集(含成就、顏色區分圖、風神瞳全位置影片) - 敗家達人推薦",
          "美食旅遊/【台中sogo】ViTO義式日本冰淇淋，SOGO B1全新改裝，超好吃的薑汁撞奶義大利冰淇淋",
          "時尚美妝/【台中】春節前美美造型好過年，ink hair台中一中，設計師超專業建議",
          "美食旅遊/【台中】瑰覓 Gui Mi｜創意與美味兼具的橘醬、蝦醬義大利麵｜逢甲商圈美食",
          "美食旅遊/【台中北區】玩麵pasta，超高CP值平價義大利麵，超濃郁焗烤一定不能錯過。",
          "美食旅遊/【台中景點推薦】不能莓有你，不用到苗栗大湖，台中也有高架式草莓園可以採草莓！ - 旅行履行中 / 一日遊、懶人包、景點、美食、住宿",
          "美食旅遊/【台中景點推薦】北屯狼尾草秘境，漫步在空靈系狼尾草之間，眺望抹茶生乳捲 - 旅行履行中 / 一日遊、懶人包、景點、美食、住宿",
          "美食旅遊/【台中親子景點】台中採草莓｜紅森林高架草莓園～高架種植採草莓不用辛苦彎腰，有慧眼還能採到隱藏版的白草莓 – 史努比遊樂園",
          "美食旅遊/【台中親子景點】台中草莓園｜友田珍鄉有機農場～有機無毒高架採草莓、採蕃茄，還有美味草莓酒香腸，網美打卡景點 – 史努比遊樂園",
          "美食旅遊/【台中這樣玩】福壽山、武陵農場二日遊，秋冬一起上梨山賞楓去！ - 旅行履行中 / 一日遊、懶人包、景點、美食、住宿",
          "娛樂遊戲/【台劇】《火神的眼淚》與死神抗爭的無名英雄—「消防員」 黑暗中的曙光！",
          "美食旅遊/【台北】唐吉訶德西門店｜從美妝保養品到鱈場蟹應有盡有，一進去就讓人失心瘋｜千萬不要帶信用卡(內有超多圖)",
          "美食旅遊/【台北中山】戀戀日光.日光角落烘焙坊 民權店，台北下午茶選擇，嚴選天然食材，無添加沒負擔，健康飲食選擇",
          "美食旅遊/【台北中山】日暮裏冷藏和牛鍋物放題 台北南京店，個人和牛火鍋吃到飽，冷藏熟成肉品，個人火鍋推薦 @ Aga不專業食記攝影",
          "美食旅遊/【台北大同】晶湯匙泰式主題餐廳 京站店，榮獲泰精選Thai Select標章， 官⽅唯一泰國美食指標，泰國菜吃了會上癮，泰國廚房給你全世界的美味，最具代表性的泰式餐廳 @ Aga不專業食記攝影",
          "美食旅遊/【台北大安】三河中川屋 光復南店，附菜單，平價鰻魚三吃，日式料理，道地日本鰻魚飯，大安區美食，新開幕，台北美食，捷運國父紀念館站",
          "美食旅遊/【台北居酒屋】會客室 新大阪 parlour new osaka  80年代 懷舊風 復古風 居酒屋 日式居酒屋",
          "美食旅遊/【台北文華東方酒店】M.O. Bar 跨界聯名曜畫廊，首創調酒結合當代藝術 —— 檳榔葉、芭樂在地食材迸發新滋味",
          "美食旅遊/【台北食記】市民大道居酒屋酌九壽司居酒屋，鄰近捷運忠孝敦化站聚餐小酌的台北松山居酒屋 - Hardaway享樂生活",
          "美食旅遊/【台東這樣玩】太麻里美食景點懶人包，在黃澄澄的金針花海下來趟忘憂之旅 - 旅行履行中 / 一日遊、懶人包、景點、美食、住宿",
          "美食旅遊/【台東這樣玩】市區景點美食懶人包，眺望海景、漫步街景、品嚐美食 - 旅行履行中 / 一日遊、懶人包、景點、美食、住宿",
          "美食旅遊/【台東這樣玩】鹿野景點美食懶人包，望著繽紛熱氣球冉冉升空，光雕煙火秀照亮黑夜 - 旅行履行中 / 一日遊、懶人包、景點、美食、住宿",
          "寰宇綜合/【台灣看天下】數位獨裁時代已經來臨 | 民報 Taiwan People News",
          "娛樂遊戲/【台語歌♬賴慈泓 - 愛講白賊的查某人】台灣閩南語正字／台羅拼音歌詞、翻譯",
          "娛樂遊戲/【國片《怪胎》：奇幻愛情電影？不，它其實很寫實】介紹／心得分析／經典台詞",
          "親子育兒/【圖文】性教育和品格教育，哪個最重要？",
          "生活休閒/【團購】Cutaway｜台北最強聯名肉桂捲禮盒開箱！一次吃到5間超人氣排隊名店",
          "美食旅遊/【基隆景點】望幽谷｜讓人遺忘憂傷的海岸步道",
          "美食旅遊/【基隆這樣玩】基隆廟口夜市美食懶人包，精選6家推薦美食地圖 - 旅行履行中 / 一日遊、懶人包、景點、美食、住宿",
          "生活休閒/【娛樂城電子遊戲】老虎機台這樣選才賺錢!!",
          "親子育兒/【婚姻．人際．婆媳】把媳婦疼入心家和萬事興，多有福氣的事 - Wise Library 1985",
          "生活休閒/【學英文這件事】為了工作？留學？還是交朋友？其實就是自我提升",
          "生活休閒/【宅家解悶良藥】精選四大必看線上展覽 一起chill起來",
          "美食旅遊/【宅配】阿聰師的糕餅主意｜芋頭與乳酪迸出的中西新滋味，用特濃芋頭重乳酪蛋糕征服媽媽的味蕾｜母親節蛋糕首選",
          "美食旅遊/【宅配咖啡】返生工坊鐵窗咖啡咖啡豆運用機器發酵技術，讓大家便宜享用跟麝香貓咖啡豆雷同風味咖啡 - Hardaway享樂生活",
          "美食旅遊/【宅配美食】只要3步驟美味Pizza輕鬆上桌．冷凍庫必備的懶人料理『瑪莉屋』",
          "美食旅遊/【宅配美食】如邑堂餅家，冠軍太陽餅，芋頭控必吃芋頭酥，天然好味檸檬餅，減糖好吃不甜膩 @ Aga不專業食記攝影",
          "美食旅遊/【宅配美食】趁熱吃司康，會爆醬的司康，在家吃下午茶，外酥內鬆軟，宅配甜點，薄型爆醬司康",
          "生活休閒/【安娜心測】結婚後的你會是哪種類型的另一半？",
          "美食旅遊/【宜蘭這樣玩】三星景點美食懶人包，懷舊車站、私房落羽松秘境 - 旅行履行中 / 一日遊、懶人包、景點、美食、住宿",
          "健康運動/【宜蘭遊記】(礁溪) 抹茶山聖母登山步道攻略 (停車、路線、上山時間、廁所)",
          "3c科技/【寫作日常】來談談我覺得《Wreadit銳誌》有點讓人難上手的原因",
          "生活休閒/【專文】婉約山月 | 民報 Taiwan People News",
          "寰宇綜合/【專文】超越平庸 民主最大，問題不在獨裁 | 民報 Taiwan People News",
          "寰宇綜合/【專欄】扁媽簡約家祭卻更讓人由衷尊敬與懷念 | 民報 Taiwan People News",
          "金融理財/【小確幸】即將結束的緣份—要準備把美國運通簽帳白金卡(AMEX Platinum)停掉",
          "美食旅遊/【小確幸】比較像薑母鴨的羊肉爐—板橋阿正師薑母鴨羊肉爐",
          "美食旅遊/【小確幸】粉料就是甜甜的：滿滿台南美食價值的「美好鹹酥雞」",
          "美食旅遊/【屏東活動推薦】《潮巢》潮州地方創生展，打造昔日潮州榮景，創新翻玩地方文化 - 旅行履行中 / 一日遊、懶人包、景點、美食、住宿",
          "寰宇綜合/【市政府捷運站】曼谷新泰式料理/統一時代店/米其林推薦餐廳/Lady nara | 艾咪去哪玩",
          "美食旅遊/【彰化。二水】Sweego 水水果饌－二水體驗館。下午茶。IG網美咖啡廳",
          "美食旅遊/【彰化景點推薦】成美文化園，網美必拍打卡景點，兼六園、嘉明湖、落雨松大道、油紙傘巷一次全收齊！ - 旅行履行中 / 一日遊、懶人包、景點、美食、住宿",
          "生活休閒/【影評】《陪睡大人》老闆我還要",
          "娛樂遊戲/【影評】一個想法轉念，拋開思考過眼雲煙《靈魂急轉彎》",
          "娛樂遊戲/【影評】凌駕於荒謬都會之上的自我認同《妄想代理人》",
          "娛樂遊戲/【影評】越挫越勇！不懼強權，伊朗電影這回拷問死刑體制《無邪》",
          "生活休閒/【影評】電影「明天別再來敲門」｜老去並不可怕",
          "娛樂遊戲/【微書評】 豪門聯姻甜寵文 |《到我身邊來》作者：六盲星 |【5星原創言情小說推薦心得文】 – starryeagle | 蒼野之鷹：看小說、聊書、聊投資",
          "寰宇綜合/【性別】讓我們用三分鐘的時間整理一下！是時候該認真談談性別運動這件情",
          "時尚美妝/【情侶保溫杯】韓國WONDER MAMA 鈦保溫杯 你的黑我的白 可裝牛奶咖啡 異味不殘留 防寒小物",
          "寰宇綜合/【政治議題雜談】談民主前我們應該思考什麼？當代思潮如何影響我們談政治的方式",
          "生活休閒/【文豪】德國文豪-歌德的25句語錄，為你解答人生中的煩惱!",
          "生活休閒/【料理】彩椒燴元寶♥10分鐘端上桌，過年餐桌上的必備佳餚！  　",
          "美食旅遊/【新北蘆洲】川蜀冒菜，蘆洲特色小吃，蘆洲公車總站旁，特色四川冒菜，受歡迎的酸辣粉，附菜單 @ Aga不專業食記攝影",
          "美食旅遊/【新竹美食】 Lady nara曼谷新泰式料理新竹SOGO店，推薦必吃貴婦級網美泰式下午茶，抹茶達克瓦茲＆泰式烤椰米塔超好吃！還有泰式義大利麵、輕食沙拉、開胃菜、外帶美食。內文附詳細菜單價位介紹。 @熊寶小榆の旅遊日記",
          "美食旅遊/【新竹美食】犬首燒 新竹店。法鬥造型雞蛋糕，近新竹城隍廟創意甜點小吃。(芋頭麻糬．花生麻糬．抹茶麻糬．爆漿卡士達) @熊寶小榆の旅遊日記",
          "寰宇綜合/【新莊火鍋】豆品道石頭火鍋 – 貝大小姐與瑞餚姐の囂脂私蜜話",
          "美食旅遊/【新莊火鍋】豆品道石頭火鍋 – 貝大小姐與瑞餚姐の囂脂私蜜話",
          "美食旅遊/【新莊義大利麵】沙夏廚房，平價奢華版的早午餐，食材新鮮、自製的料理醬汁，單品加價49元升級濃湯+紅茶喝到飽",
          "美食旅遊/【旅行】靜居都市叢林的小小仙境：讓我們一起拜訪台中“丸子工作室”",
          "娛樂遊戲/【日劇】《鐵證懸案3 ~真實之門~》| 帶你了解人性與時代、解決懸案!",
          "親子育兒/【日常】什麼時候怕丟臉是一種顯學了？關於現在年輕人的一點想法",
          "寰宇綜合/【時事】從“北一女陪聊事件”來探討社運女權本身的荒謬性",
          "寰宇綜合/【時事】是打壓言論自由？還是我們反省的不夠？從中天關台看這一代台灣人的心靈狀況",
          "寰宇綜合/【時事】瞧不起品格的正義算正義嗎？來談跟蹤騷擾防治法這件事情",
          "娛樂遊戲/【更新】R18泡麵番/表裏番 心得 女性向深夜動畫 TL漫畫 里番 @ 宅宅生存日誌",
          "娛樂遊戲/【月薪嬌妻新春特別篇 - 新垣结衣、星野源】2021日本電視劇",
          "健康運動/【東京奧運】這是一場運動競技 享受它",
          "美食旅遊/【桃園大溪】323溫室精緻農場．北部採草莓景點推薦!免收門票，下雨天也能來享受採果樂趣!",
          "美食旅遊/【桃園美食】中壢。老師傅牛肉麵｜鄰近中原大學的人氣嘻哈牛肉麵，清燉湯頭濃郁好喝 | 熊貓愛吃魚",
          "美食旅遊/【梅花怎麼拍】10招超實用取景法，拍花、拍人一篇搞定，輕鬆捕捉猶如雪景般的夢幻美景 - 旅行履行中 / 一日遊、懶人包、景點、美食、住宿",
          "寰宇綜合/【歐洲之聲】香港的大逮捕仍在持續中 | 民報 Taiwan People News",
          "娛樂遊戲/【歡脫靈異小說推薦】原創BG小說《穿到大佬黑化前》——鬼吃人不可怕，人吃鬼才驚悚｜穿書系統＋靈異鬼怪＋女扮男裝＋黑色幽默",
          "寰宇綜合/【民報書摘】台南莊黃兩個家族—莊維藩與黃京華的故事 | 民報 Taiwan People News",
          "寰宇綜合/【民報書摘】台語片的魔力：從故事、明星、導演到類型與行銷的電影關鍵詞 | 民報 Taiwan People News",
          "寰宇綜合/【民報書摘】驚驚袂著等：劉靜娟的台語時間 | 民報 Taiwan People News",
          "娛樂遊戲/【永垂不朽的影史老片】情人節電影的另類選擇——經典愛情電影",
          "寰宇綜合/【活動通知】端午節快樂！快來分享肉粽不可少的餡料，市價888元金箔拉絲蛋白皂，免費送給你",
          "生活休閒/【海鮮CHILL CHILL】史上最強、最辛辣，最有趣的Podcast介紹！就是要啟蒙你的性愛經驗 - HOLA！CHILL姐酋姐來求解",
          "生活休閒/【溫馨提醒】2021農曆新年期間，Wreadit春節連續假期暫停客服服務！（我們也要放假去囉～）",
          "生活休閒/【物品分類及整理】愛的物品太多?進一步細分愛的深淺!《不丟東西的整理術》 - 賀啦!哇哉",
          "親子育兒/【玩具DIY】在家自製感覺統合觸覺箱 | 媽咪~爸比~快樂孕兒、育兒教養經",
          "生活休閒/【生活】IKEA鯊鯊粉靠過來！鯊魚系列商品彙整，與鯊鯊一起線上購物在家防疫！",
          "寰宇綜合/【生活｜老屋翻新】30年老屋翻新全記錄(家具軟件篇)。挑選適合房子風格的家具軟件很重要，經濟實惠，自行搭配",
          "娛樂遊戲/【碧藍檔案】首抽教學，角色強度排行，強勢S級推薦。(下載、設定、評價攻略) - 敗家達人推薦",
          "娛樂遊戲/【神奇女俠 1984 - 神力女超人 1984 - Wonder Woman 2】2020美電影",
          "寰宇綜合/【系列】論“表演性自由派女權”是如何阻礙真正性別弱勢的發言權的（２）",
          "金融理財/【網賺】比特幣挖擴！一邊上網還能免費賺被動收入－CryptoTab @ 網賺推薦",
          "金融理財/【網路經營】疫情來襲，網購當道！團媽與微電商部落客省荷包技巧公開，熱門常用商品宣傳設計版型一次擁有！",
          "娛樂遊戲/【線上百家樂ptt】江湖傳說百家樂預測是真是假?!",
          "美食旅遊/【美食】信義區下午茶推薦「We & Me Cafe」，捷運市政府站咖啡廳、全日早午餐、燉飯義大利麵",
          "美食旅遊/【美食】新北市新店 意享美式廚房(新店店)｜被美式餐廳耽誤的甜點店（內有菜單）",
          "寰宇綜合/【臨時突發】昨天，我又再次被台灣媒體約稿了",
          "生活休閒/【自信經營】相信自己值得被愛，別向年齡或他人的眼光妥協",
          "美食旅遊/【苗栗大湖】巧合草莓園|佔地面積超廣的地面草莓園 – 丹尼旅遊食記",
          "娛樂遊戲/【菲力國王ptt】菲力國王百家樂好贏嗎?聽說百家樂詐賭很嚴重?!",
          "美食旅遊/【街拍攝影】印象中的萬華街區｜一日街拍體驗",
          "生活休閒/【評測】「收藏家」72L 電子防潮箱，體積更小吸濕效率更高 (AD-72P) – 頭殼總長",
          "寰宇綜合/【身體意識】簡單來說一下我為什麼現在不支持Fat-positive了",
          "親子育兒/【這些人】婆媳關係非人性，何苦為難女人？ | 民報 Taiwan People News",
          "生活休閒/【連載】18禁都會羅曼史：公主徹夜未眠(1-6) - 頁6，共6 - 艾姬的情慾故事",
          "娛樂遊戲/【運彩盤口分析】運彩老司機給想踏入玩運彩新手的忠告!",
          "健康運動/【醫病平台】42歲發現罹癌，同時間發現丈夫外遇，我現在都還好好的，那妳為什麼不能？ | 民報 Taiwan People News",
          "3c科技/【開箱、比較】多款 logitech 羅技 無線 高階滑鼠 MX 系列 大比拚！優、缺點一次曝光，不用再煩惱要買哪一隻！｜2020/08 | 李歐雜記．攝影 x Tech",
          "寰宇綜合/【開箱】GK G5 火拳艾斯 迷你炎帝!!",
          "寰宇綜合/【開箱】JacksDo 艾斯 大炎戒 炎帝 場景地台 -  JacksDo地台系列",
          "時尚美妝/【開箱】POP SOC 波特卡斯‧D‧艾斯 - 漲翻天的POP坐姿系列",
          "寰宇綜合/【開箱】一番賞 兄弟之絆 A賞 - 艾斯 薩波 魯夫 兒時三兄弟",
          "寰宇綜合/【開箱】尋寶之旅 vol.5 艾斯 馬可 - 福爾摩斯 英國貝克街",
          "生活休閒/【關於愛情，你想知道】前任想跟自己複合，我該不該吃回頭草?",
          "娛樂遊戲/【陸劇必追】強攻系「女追男」六大高甜度陸劇必看推薦排行榜",
          "娛樂遊戲/【電影】全家玩到趴 整部戲的重點除了雷神索爾的六塊肌加大GG的雷神之錘外 還有...(有雷慎入) @ 帆帆貓A幸福旅行台 :: 痞客邦 ::",
          "寰宇綜合/【電玩雜談】從恐怖遊戲的劇情，細談我們的社會是如何看待男性本身",
          "娛樂遊戲/【韓劇《哲仁王后》EP.1：張鳳煥夢遊仙境】心得與劇情分析、經典台詞",
          "娛樂遊戲/【韓劇】「不能因為怕世界不會改變，就什麼都不做」《Hush沉默警報》9~16集的14句金句",
          "娛樂遊戲/【韓劇】「骨盆剛才歸位了!」《機智醫生生活2》李翊晙的9個搞笑橋段",
          "娛樂遊戲/【韓劇】羽球少年團 人物介紹+劇情簡介",
          "美食旅遊/【餐廳懶人包】最低只要五折！新冠肺炎疫情期間吃什麼？全台超過100家防疫餐廳報你知，外帶、自取、外送超方便",
          "美食旅遊/【高雄】草衙道鈴鹿賽道樂園-卡丁車初體驗「飆速求生」",
          "健康運動/【魚油保健】歐3加福精萃濃縮EPA(85%omega-3)／歐3加福精萃濃縮DHA(65%omega-3)",
          "娛樂遊戲/一發入魂 18禁神作 鬼作DVD 完熟 出擊",
          "美食旅遊/一銀甜品-神農店 台南市 老街復古的IG打卡點，元寶造型雞蛋糕香氣十足",
          "健康運動/三招居家伸展運動，改善肩、頸、背痠痛！累了就靠這招打起精神！",
          "生活休閒/三色蛋做法 ，用電鍋輕鬆做（電鍋料理） - 職業觀光客 LISA",
          "美食旅遊/三訪興安街早午餐【吐YOU吐ME碳烤吐司專賣】，鳳梨牛肉漢堡、起司金塊雞蛋糕超罪惡，還能外帶當企業餐盒！",
          "生活休閒/上海星巴克限定的星巴克太空熊2021台灣也買得到啦!",
          "娛樂遊戲/下一個超夯被動收入『娛樂城代理』全面開放中!快找朋友一起玩遊戲賺錢!",
          "美食旅遊/下港女子寫有路用的遊記【臺灣台南 •十鼓仁糖文創園區】製糖所再利用的園區，臺灣第一座鼓樂主題的國際藝術村。",
          "美食旅遊/不可思議的台灣之美—在玉山撞見初雪飛舞",
          "娛樂遊戲/不好的五種玩家 你有上榜嗎?",
          "親子育兒/不安親／基礎趁寒假打好！小一菜鳥輕鬆補強靠5招 @ 焦糖綠玫瑰 caramelgreen",
          "3c科技/不想賺錢，能在無廣告介面寫作的部落格平台：TIMELOG探路客優缺點分析 | 部落格實戰經驗和經營想法",
          "娛樂遊戲/不相信愛情的女孩｜電影《戀夏500天》(500 Days Of Summer)劇中台詞中英對照",
          "3c科技/不管您願不願意！WhatsApp 都要與 FB 共享您的數據 | 愛瘋日報",
          "金融理財/不記帳理財法：不記帳也能理財?(Stop tracking your spending)利用心理帳戶概估你每年的消費支出。 - 易查克的退休對策",
          "生活休閒/不離婚太簡單，因為離婚好難｜離婚協議書的範本和相關法律懶人包｜對方不願意簽字離婚怎麼辦….. – Wise Library 1985",
          "娛樂遊戲/世界10大賭場大揭密！一個賭徒玩家的真心告白！",
          "3c科技/中國老司機 – 《尤果圈》APP 大量美女套圖 | 雲爸的私處",
          "美食旅遊/中壢銅板美食 鐘予原味當歸鴨 鴨腿飯是孩子們的最愛 當歸湯天冷喝一碗暖心又暖胃",
          "健康運動/中職2021賽程總整理",
          "娛樂遊戲/九州娛樂城ptt｜為什麼被九州風控收傳票大家還是愛玩tha娛樂城?",
          "金融理財/九牛娛樂城跟leo和九州是同一間？結果意外大翻轉?",
          "生活休閒/也許我們一輩子都在重修寬恕這堂課 – Wise Library 1985",
          "生活休閒/乾煸四季豆食譜 不炸，有烤箱就可以（簡易版本） - 職業觀光客 LISA",
          "美食旅遊/二哥炒鱔魚，海安路宵夜美食，大火快炒的鑊氣，鱔魚跟意麵都很 Q！",
          "娛樂遊戲/亞森羅蘋Lupin(2021冬季新劇)",
          "美食旅遊/人妻實習生 :: 痞客邦 ::",
          "生活休閒/人物誌｜ 徐若瑄：千萬不要一直重複在一個痛苦中… – Wise Library 1985",
          "娛樂遊戲/他是真心愛你嗎？12星座男沒跟你聊「這件事」，代表沒有真的喜歡上你！",
          "生活休閒/他變心了妳是知道的，別再視而不見的5個徵兆 - 艾姬的情慾故事",
          "親子育兒/任天堂大量NS玩家賬戶異常登錄任天堂疑似遇安全漏洞",
          "時尚美妝/你可以再靠近一點~5款「零負評」開架保養給你過年好氣色，痘痘、暗沉肌退散！",
          "娛樂遊戲/你想像不到的『台灣隱形富豪』!靠博弈產業吸金百億身家?!",
          "娛樂遊戲/你知道自己代表著什麼動物嗎？從星座「動物」看你的內心真實個性！摩羯是山羊、處女是蜜蜂！",
          "3c科技/你開啟 Google 時間軸了嗎？是否與確診者足跡相同？讓科技輔助你",
          "3c科技/使用 Nicegram 代替 Telegram iOS 版，解鎖敏感內容限制可查看老司機群組 - 逍遙の窩",
          "金融理財/使用對數座標軸，讓你看待股票市場漲跌幅圖有正確的觀感",
          "金融理財/信保基金申請5項準備|籌措創業資金免煩惱",
          "金融理財/信用貸款挑選評估知多少",
          "美食旅遊/健康年貨 里仁 2021 限定年貨零食禮盒 減少添加保留原味 吃得安心 - 出發吧! 沃爾夫.",
          "娛樂遊戲/像素風放置手遊《蜀漢小軍師：像素三國》雙平台正式上線 豐富開服獎勵助玩家征戰沙場",
          "生活休閒/元宵節來玩成人版燈謎！全部答對只能說太變態了...",
          "生活休閒/免揉手撕餐包食譜 ，柔軟好吃小餐包，免揉最方便",
          "寰宇綜合/全新推出 - WREADIT 銳誌，讓每個人都能是個創作家！",
          "3c科技/全新部落格平台！WREADIT讓線上寫作，變得超簡單！｜WREADIT 銳誌",
          "健康運動/全民打棒球PRO《模擬聯賽》輕鬆上黃金！掌握技巧隔週再上『鑽石』！每週多10張紅卡抽！戰術攻略技巧！ - 敗家達人推薦",
          "健康運動/全球糖尿病人數快速增長，顯示出廉價食物的弊端",
          "美食旅遊/全聯美食推薦！源冠一家人旺餃系列，高麗菜飛魚卵水餃/高麗菜章魚水餃，爆汁大水餃，紅豆珍珠風味金錢餅，甜而不膩，網路熱議美食。",
          "生活休閒/兩性專欄｜僅限熱戀期的爆棚體貼浪漫，對長遠關係來說並不是好事 - Wise Library 1985",
          "生活休閒/兩性專欄｜愛情的本質是殘忍「不愛了的時候，一切歸零不過就是一瞬間的事。」 - Wise Library 1985",
          "美食旅遊/兩日限定！曜畫廊特獻 風靡歐洲百年的超現實藝術、音樂與美食體驗",
          "金融理財/公益娛樂城是做公益還是賺錢的?",
          "時尚美妝/公視消防職人劇 火神的眼淚 聯名 Bagrun 二代都會玩家軍事風格瞬開後背包 多層次收納井然有序",
          "娛樂遊戲/公開彩民不玩今彩539轉玩六合彩的內幕!(539台彩作弊?",
          "娛樂遊戲/六七年級生的青春回憶！10部Netflix必看的動畫動漫推薦《幽遊白書》《攻殼機動隊》，線上看動畫重溫經典劇情",
          "美食旅遊/六合高架牛奶草莓農場 | 苗栗大湖台三線草莓園 | 草莓周邊商品、煉乳草莓、草莓酒",
          "娛樂遊戲/冷知識! 原來【唐伯虎點秋香】書生奪命劍的劍，是用機關拆掉槍頭 | 雲爸的私處",
          "健康運動/出生季節除了與星座有關　也可能預知疾病及死亡風險 - 1122 health 健康星球",
          "健康運動/分享.大研生醫視易適葉黃素，7in1的完整保護，美國專利FloraGLO游離型葉黃素更晶亮!",
          "美食旅遊/初魚料亭│台北日式料理必吃餐廳，推薦初魚鮨泰順店無菜單料理！安靜愜意適合生日聚餐、情侶約會！ @ Sandy珊蒂說",
          "寰宇綜合/別再說 Apple TV+ 沒東西看！蘋果去年共推出了 42 部新劇 | iPhone News 愛瘋了",
          "生活休閒/別太關注別人的私生活，即使他是公眾人物",
          "3c科技/剧迷TV (JuMi.tv) 名稱相同的另一個免費影視網站，線上看電影、戲劇、動漫、綜藝 - 逍遙の窩",
          "生活休閒/創作",
          "3c科技/加入WREADIT銳誌 | 寫部落格輕鬆賺錢 | 被動收入從0到無限大",
          "3c科技/加速逃離中國！蘋果開始在越南組裝 iPad 和 MacBook | 愛瘋日報",
          "娛樂遊戲/動畫《動物狂想曲／BEASTARS》評價＋心得：擬人化動物寫實世界",
          "金融理財/十一月 Data talk / 掌握產業淡旺季，擁抱流量及廣告收益甜蜜點 – Data Talk",
          "娛樂遊戲/十二星座是這樣的閨蜜？ 超精準分析！雙魚是最好的閨蜜？",
          "娛樂遊戲/十二星座被已讀不回？天蠍座失蹤了就沒機會，雙子座覺得話題無聊？",
          "生活休閒/半小時內掃空！麥當勞x小小兵置物籃你搶到了嗎？",
          "美食旅遊/南北大比拼！老饕必吃的10間的魯肉飯、控肉飯！連老外都征服的台灣國民小吃，你吃過幾間?",
          "美食旅遊/南泉冰菓室 滿滿草莓的草莓牛奶冰，光看就覺得幸福～安平超人氣冰店！",
          "娛樂遊戲/印第安那瓊斯遊戲必須向神海和古墓取經的5個方面",
          "生活休閒/又到月底吃土的時候!你需要台中銅板小吃拯救你!",
          "寰宇綜合/反課綱學生：不排除轉佔國民黨部或立法院 | 民報 Taiwan People News",
          "寰宇綜合/古言有肉心得 | 《藏玉納珠》作者：狂上加狂 |【5星原創言情小說推薦心得文】|有肉有劇情 | 強取豪奪 | 古代言情  | 大叔文(年齡差>10歲) | 女強男強 | 腹黑男主 | 二嫁",
          "娛樂遊戲/古言重生 | 《病嬌折我爛桃花（重生）》作者：柚一只梨 |【5星原創言情小說推薦心得文】| 雙向暗戀言情 | 有肉渣 | 雙重生言情 | 甜寵言情 | 古代言情 | 姐弟戀言情 | 男主是病嬌 【微】 – starryeagle | 蒼野之鷹：看小說、聊書、聊投資",
          "生活休閒/台中20號倉庫-充滿藝術的小道 - Fengplay 峰．玩樂旅誌．食旅",
          "美食旅遊/台中住宿開箱｜探索私旅Explore Hotel 極簡系飯店超舒適 近逢甲夜市覓食超便利 - 小小的100種任性生活",
          "美食旅遊/台中烤鴨 | 2021精選台中7間人氣烤鴨，美村烤鴨、村松烤鴨、九合烤鴨等必吃收藏 Nini and Blue 玩樂食記",
          "美食旅遊/台中遠百店|經典北方麵食 老味道 朱記餡餅粥 台中親子家庭聚餐首選 開幕限量好康搶購 國家歌劇院附近美食",
          "美食旅遊/台中｜一中街美食｜兩津芙蓉蛋塔為什麼大排長龍 - Ms. Y.C. Luuu",
          "美食旅遊/台中｜市場美食｜用米其林星星-莆田，款待最親愛的家人 - Ms. Y.C. Luuu",
          "美食旅遊/台中｜市場美食｜第五市場蚵仔粥用鮮甜贏得人心 - Ms. Y.C. Luuu",
          "美食旅遊/台北 南京復興美食「喫茶小豆」巷弄內的日式洋風 不限時咖啡廳 甜點店 文末菜單 | 抹妹。找美食點我",
          "美食旅遊/台北 大安站美食「漫拾泡芙」外帶泡芙小攤車！抹茶、芋泥、巧克力應有盡有 文末菜單 | 抹妹。找美食點我",
          "美食旅遊/台北 忠孝新生美食「蓋子普拉斯小餐館」平價美式餐廳 聚餐推薦 文末菜單 | 抹妹。找美食點我",
          "美食旅遊/台北 東門站美食///刨冰和雞蛋糕都一成不變??那是沒吃過『JinJin金金良甜』文末附菜單 | 抹妹。找美食點我",
          "美食旅遊/台北士林【美食】楊家祖傳胡椒餅 | 新光醫院周邊現做出爐的噴香餅店。 @ 。貪吃馬麻與愛玩寶的生活日記。",
          "生活休閒/台北外送茶留言板籟04389台灣喝茶外約茶莊學生妹兼差外送茶推薦找外約桃園外送茶留言板",
          "美食旅遊/台北文山區景美木柵甜湯圓、鹹湯圓、燒麻糬｜迎冬至、鬧元宵～文山區湯圓6家必吃口袋名單 – 史努比遊樂園",
          "美食旅遊/台北櫻花 / 自來水博物館櫻花盛開！公館年節的盛放 - 撰風 漫步旅食溫度",
          "健康運動/台北火鍋推薦| 黑毛屋大直店| 精緻日本和牛涮涮鍋",
          "美食旅遊/台北麵線吃那家｜別在吃阿宗麵線了！推給你七家破千評價的台北麵線！ - 布雷克的出走旅行視界",
          "金融理財/台灣人壽產物保險「五百變十萬」防疫神單十問 – 儲蓄保險王",
          "金融理財/台灣人的自制能力遠超過全世界想像",
          "時尚美妝/台灣獨家限量NBA STORE TAIWAN x CiPU喜舖 聯名系列浪漫來襲 | NOVA資訊廣場",
          "生活休閒/台灣約會強暴氾濫：雙方對關係沒共識「男生沒開口確認關係….」 – Wise Library 1985",
          "金融理財/台灣運動彩券?投注無效?這樣合理嗎?我很生氣",
          "金融理財/台灣運動彩券一定要投注最高賠率但在哪裡?",
          "健康運動/台灣運動彩券分析 NBA 太陽 (客) VS 爵士 (主) 12/31 201231",
          "健康運動/台灣運動彩券分析 NBA 拓荒 (客) VS 國王 (主) 01/14 210114",
          "金融理財/台灣運動彩券分析 NBA 爵士 (客) VS 籃網 (主) 01/06 210106",
          "健康運動/台灣運動彩券分析 NBA 金塊(客) VS 籃網(主) 01/13 210113",
          "金融理財/台灣運動彩券分析 NBA 鵜鶘 (客) VS 太陽 (主) 12/30 201230",
          "健康運動/台灣運動彩券分析 籃球 NBA 活塞 (客) VS 老鷹 (主) 12/29 201229",
          "生活休閒/台灣運動彩券分析 讓炮爺教你足球分析 足球 英超 白禮頓 (客) VS 曼城 (主) 210113",
          "健康運動/台灣運動彩券｜教你走在運彩套利邊緣不被風控",
          "健康運動/台灣運動彩券｜踏入台灣運彩前要不吃虧就必須搞懂的眉角!",
          "健康運動/台灣運彩玩法怎麼玩?超簡單【運彩教學】",
          "金融理財/台積電創新天價，醫師染疫，站在泡沫頂端的我們，只能祈禱一切安好!",
          "金融理財/台股屢創新高，你該何時走下享樂跑步機? -技術分析 -在財富自由的路上",
          "生活休閒/吃一頓飯就要牽手？無論女生喜不喜歡你都是「必敗」…還有妹不要亂撩",
          "娛樂遊戲/吸血鬼後裔Legacies 第三季第9集 官方簡介/劇照/預告 @ 美劇盒小品｜美劇 歐美影集  簡介時間表",
          "生活休閒/命理大師簡少年解析2021運勢！這些生肖今年鴻運當頭！",
          "生活休閒/哪些狀況顯示他不懂珍惜妳的好，早早放生比較好？",
          "娛樂遊戲/哪個星座最花心？妳相信星座與愛情嗎？ - 艾姬的情慾故事",
          "金融理財/哪種退休金提領策略比較好?一次比較六種退休金提領策略。 - 易查克的退休對策",
          "3c科技/哪裡有備審封面範例可以下載？Pikbest 豐富模板等你挖 | 綠色工廠",
          "美食旅遊/喜歡一個人，先抓住他的胃！情人節餐廳推薦，浪漫約會輕鬆 GET 🍻",
          "娛樂遊戲/單機新遊《Lumione》，帶你奔赴一場深海幻想的冒險！",
          "親子育兒/單親媽媽｜婚後分手讓她心痛的是孩子的日記... - Wise Library 1985",
          "親子育兒/單親媽小資幸福心法／收入不多，如何將日子過得有質感？ @ 焦糖綠玫瑰 caramelgreen",
          "生活休閒/單身節想脫單？妳要先問問自己這5個問題！ - 艾姬的情慾故事",
          "美食旅遊/嘉義│精選老屋系咖啡廳推薦，走進在地人的秘密花園（持續新增）",
          "美食旅遊/嘉義中埔)果然茶香觀光工廠/輕食區/兒童設施免費玩/天然果乾、茶品/小火車、賓士卡丁車、槌球 - 可人之家",
          "美食旅遊/嘉義美食X國民特色排隊小吃",
          "美食旅遊/嘉義西區/老洋房1931-和洋式建築的嘉義老宅餐廳，悠閒享受火鍋、義大利麵、簡餐等美食～泰式椒麻雞腿、南瓜牛奶鍋、蛤蜊培根義大利麵等都很不錯！今天吃什麼/嘉義美食/嘉義旅遊/嘉義小吃/嘉義簡餐/嘉義火鍋/嘉義西餐/嘉義餐廳推薦/老屋餐廳/懷舊復古風/西式鄉村風/藍子愛美食 - 防曬偏執狂藍子",
          "美食旅遊/圖片4 | Paul-旅遊日誌",
          "健康運動/在家如何練弓道？也許可以嘗試 Specific Physical Training",
          "娛樂遊戲/在家防疫看什麼？心情不好、睡不著或是想打發時間的 Netflix 影集推薦",
          "生活休閒/在愛情裡認真就輸了？如何知道對方是認真的？ - 艾姬的情慾故事",
          "娛樂遊戲/地下539玩法-539不出牌賠率好嗎?",
          "金融理財/報酬順序風險(sequence of return risk)：投資年化報酬8.88%的標的，每年固定提領8.5%，竟然提領17年就破產? - 易查克的退休對策",
          "金融理財/填問卷賺錢平台推薦｜2021運用集思網、Rakuten Insight問卷平台賺錢 - Jerry成長駭客",
          "生活休閒/夏季必備【日本藥妝】防曬又防蚊的生活用品推薦!",
          "健康運動/夏韻芬：最難熬的就是友情變調 – Wise Library 1985",
          "美食旅遊/夜森人靜 小酌x燒烤｜長治樹林裡的隱密居酒屋，草皮悠閒吹風發呆 - 甘單共",
          "親子育兒/大人的急，也急壞了親子之間的關係",
          "生活休閒/大型家電冷氣、冰箱、洗衣機 使用須注意？　使用注意事項與日常保養",
          "美食旅遊/大安區公館下午茶推薦｜樂圓咖啡廳，不限時的藝文空間，手作餐點及紓壓課程，自調燈光享受舒服靜謐時光",
          "生活休閒/大年初二只有一天，為什麼媳婦不能回娘家?",
          "美食旅遊/大東夜市 |台南必逛夜市，2020大東夜市美食推薦必吃懶人包| 阿新筆記",
          "娛樂遊戲/大樂透頭獎上看1.8億! 樂透抓牌技巧你學會了嗎?",
          "美食旅遊/大湖一日遊 |除了草莓季，還可以這樣玩！深度體驗文化自然美食 | 阿新筆記",
          "金融理財/大老爺不出金嗎?出來騙錢的喔?",
          "金融理財/大老爺娛樂城背後居然有暗箱操作?",
          "3c科技/大螢幕+4K只是基本 Samsung Q80T QLED電視開箱",
          "美食旅遊/天哪！超少女心爆棚的草屯HERE咖啡廳🌷隱身於城市中的露天秘境... 小瑞拉帶你一起身陷\"醉心\"的美麗聖地吧！",
          "寰宇綜合/天天饅頭 超涮嘴古早味紅豆饅頭，一顆$5元吃不膩！台中第二市場旁小攤",
          "生活休閒/女人像貓最迷人，妳是喵星人女友還是汪星人女友？ - 艾姬的情慾故事",
          "生活休閒/女人的未來，一定是太太、媽媽、媳婦嗎？結婚、生子能不能是2個獨立事件？",
          "生活休閒/女人的禮物，一生必須要體驗的極速快感！ - 艾姬的情慾故事",
          "時尚美妝/女孩瘋搶的超百搭潮鞋！ IU 李知恩官宣New Balance品牌大使，上腳經典574超勸敗！",
          "親子育兒/她讓婆婆主動探病照顧…過來人分享婆媳感情加溫4心法 @ 焦糖綠玫瑰 caramelgreen :: 痞客邦 ::",
          "生活休閒/好的『車用香氛袋』帶你上天堂給你賓至如歸的嗅覺體驗!!",
          "金融理財/好的網站內容規劃讓顧客記住你!2大關鍵因素決定流量",
          "金融理財/如何打造屬於自已的加密貨幣被動收入(BTC/USDT)",
          "娛樂遊戲/娛樂城代理賺什麼?!金大發會是首選嗎?",
          "金融理財/娛樂城怎麼賺錢的呀? 是如何賺?帶你深入了解",
          "娛樂遊戲/娛樂城知識家│洗碼是什麼?流水倍數怎麼算?",
          "金融理財/娛樂城老闆給所有玩家的告白!",
          "生活休閒/婚後分手：兩個人最後分開，比較像一段失戀的故事 – Wise Library 1985",
          "美食旅遊/宅配美食「BoKa」質感芋頭巴斯克蛋糕 濃郁小山園抹茶蛋糕 真正的巴斯克吃過這家才知道！",
          "生活休閒/安得烈慈善協會邀請你用APP愛心捐點幫助弱勢者 | 民報 Taiwan People News",
          "3c科技/宏碁創作者品牌ConceptD概念家創系列筆電，多款可翻轉新品開賣 | NOVA資訊廣場",
          "美食旅遊/宜蘭礁溪聖母山莊抹茶山攻頂紀錄-抹茶山親子行，兩個小朋友用雙腳走上去囉！ – 指揮家的異想世界",
          "美食旅遊/宜蘭自由行 | 四大免費景點 | 一天來回",
          "時尚美妝/家庭主婦瘋搶的碗盤特賣會！新店北新路二段13號，只要3個100元起 | 凱西跳跳糖の美食旅遊",
          "親子育兒/家庭清潔推薦｜RafaGo牽著吉娃娃 Home系列 不只有效更加健康",
          "生活休閒/家長與老師該提供何種閱讀環境給小孩- 14歲，關於年紀與閱讀",
          "生活休閒/寫作平台新選擇—WREADIT銳誌，原創作者強烈招募中 – 頭殼總長",
          "美食旅遊/寫作平台新選擇—WREADIT銳誌，原創作者強烈招募中 – 頭殼總長",
          "生活休閒/寫作平台新選擇—WREADIT銳誌，駐站作者強烈招募中 – 頭殼總長",
          "健康運動/寫文章也能賺錢? | Matters (馬特市) 三大功能",
          "時尚美妝/寶島美食圖鑑(上)♡ 這些人氣踩點的特色美食也能變穿搭!!  創意插畫把台灣味變成時下流行的女性服裝，快看你愛的小吃上榜沒？",
          "時尚美妝/寶島美食圖鑑(下)♡學霸湯、焦糖奶QQ球、台式吐司料理...妳是屬於哪款台灣味女子？",
          "寰宇綜合/尊重兩家庭信仰不同，婚宴這樣應變權衡 - 維琪，你的好感度教練",
          "寰宇綜合/對抗憂鬱症，大S「為什麼一個病會控制我到這個地步呢？」 - Wise Library 1985",
          "娛樂遊戲/對線上老虎機咬很大沒輒?3招老虎機攻略教你贏錢!",
          "親子育兒/小一教養／學齡前後大不同～想出去玩？先努力換旅費吧！ @ 焦糖綠玫瑰 caramelgreen",
          "親子育兒/小一教養／開始頂嘴、冷暴力…陪孩子度過7歲叛逆期的4句話 @ 焦糖綠玫瑰 caramelgreen",
          "親子育兒/小一新鮮人／女兒不焦慮了～菜鳥家長分析這5點鮮事！ @ 焦糖綠玫瑰 caramelgreen",
          "美食旅遊/小仺館 Cafe & Rice - 師大人氣乾咖哩飯、雞腿丼飯，台北咖哩推薦",
          "美食旅遊/小小選物｜CheersJelly 舉杯低卡蒟蒻凍 嘴饞的健康零食新選擇 - 小小的100種任性生活",
          "生活休閒/居家生活你該注意的小細節!保持浴室、廁所清新的小技巧!",
          "美食旅遊/山大 - 甘單共",
          "生活休閒/巧克力布朗尼食譜 ，口感濕潤鬆軟，做法簡單不需技巧 - 職業觀光客 LISA",
          "生活休閒/巧克力麻糬QQ球 ，免預拌粉不失敗小甜點",
          "娛樂遊戲/巨星殞落！2020事件簿「最黑暗的一年」｜老天爺帶走了他們，精神永留世人追憶 | 少女心文室 NEWS ROOM",
          "寰宇綜合/巨齒蜥 - 曾稱霸過地球的最大蜥蜴 @ 阿修羅的夜世界",
          "生活休閒/巴斯克乳酪蛋糕鮮奶版 食譜（氣炸鍋食譜）",
          "美食旅遊/帝一火鍋店 |台中火鍋推這家，在地40年老店，忠孝夜市必吃火鍋！",
          "生活休閒/帶你從睡夢中找到進入幾米童話世界的入口——上品寢具 「超夢幻」4折特賣活動只至5/29前！趕緊啟動你的童話夢境吧！",
          "生活休閒/常見分手難題：一方提了分手，一方覺得我還沒同意分手… – Wise Library 1985",
          "時尚美妝/平價服飾品牌X日本服飾品牌精選｜許路兒、曾莞婷、隋棠自創品牌｜網購推薦…. – Wise Library 1985",
          "美食旅遊/平地好抵達，露營吃到飽的大草地營區｜新竹新豐-新豐休閒農場 | 露境隨俗去露營",
          "金融理財/庫藏股疑義問答(108年12月修) - 承銷人忙什麼",
          "美食旅遊/廍子公園 |台中大坑景點，北屯景賢路黃金風鈴木金色花海 Nini and Blue 玩樂食記",
          "娛樂遊戲/彩幣ptt│玩運彩噱幣怎麼用?彩幣能換錢嗎?",
          "3c科技/彭博社：下一代 MacBook Pro 有 SD 讀卡器沒觸控列 | 愛瘋日報",
          "美食旅遊/彰化田尾景點｜文青系打卡秘境「綠果庭院Green Life Garden 」多肉、乾燥花、小盆栽一次滿足 - 小小的100種任性生活",
          "生活休閒/從遊戲研發到 Kirabase 動漫展演所，遊戲開發商《火星貓》專訪",
          "娛樂遊戲/復仇爽劇《模範計程車》（모범택시）20個金句整理:「不可為惡所勝，反要以善制惡。」",
          "生活休閒/心情語錄 |  “人們只在乎你飛得高不高，卻忘了你飛得累不累。”",
          "生活休閒/心理學：最後能留住男人的不是你的外表，而是你的「本事」！4種留住男人心的高級方式必學！",
          "親子育兒/必看！婆媳大戰永無寧日？　老人家都有的教養盲點！ @ 焦糖綠玫瑰 caramelgreen :: 痞客邦 ::",
          "健康運動/忘不了的眼神  ~淺談EMDR對婆媳/岳婿問題的協助\n        | \n\n        李政洋身心診所",
          "生活休閒/快樂可以練習嗎？2021年就用「1分鐘法則」整理煩躁的心靈 |《過得還不錯的一年》讀書筆記",
          "生活休閒/性幻想好罪惡？關於性幻想的五個祕密 - 艾姬的情慾故事",
          "生活休閒/性，愛妳久久 - 艾姬的情慾故事",
          "生活休閒/情人節、春節就是要吃甜甜 ! 8 間平價甜點讓你用銅板價Get滿滿幸福感！有宅配可到貨",
          "娛樂遊戲/想作詩嗎？看完《郵差》搞懂「隱喻」｜15句動人對白台詞：世界萬物都有它的隱喻 | 少女心文室 NEWS ROOM",
          "健康運動/想瘦卻不知道該做哪種運動？盤點六大能瘦能塑身的運動！這一項運動超省時！",
          "生活休閒/想知道他把妳當什麼？先想想這五個問題 - 艾姬的情慾故事",
          "娛樂遊戲/想知道賓果如何贏錢嗎?那你絕不能不知道這些賓果抓牌法!",
          "時尚美妝/想談戀愛先學穿搭！最讓女生心儀的「男生約會穿搭」5要素！超簡單概念筆記起來！",
          "生活休閒/愛情的最大考驗！五個疫情時代的遠距離關係經營關鍵 - 艾姬的情慾故事",
          "生活休閒/懶人包 | 遇到了車禍怎麼辦 ? | 法律 Q&A  | 鄉鎮市調解 | 保險理賠",
          "美食旅遊/懶人必備、月底救星!【日本沖泡食品網購】天野即時麵線好吃在哪?",
          "寰宇綜合/我們有沒有可能活在一個不需要功成名就也能被溫柔善待的世界? – Wise Library 1985",
          "金融理財/我如果收到娛樂城傳票我該怎麼辦??",
          "生活休閒/我的省錢生活「一」",
          "生活休閒/我的省錢生活「二」",
          "健康運動/戴口罩重要，「脫口罩也很重要」!ICU醫生陳志金教你這麼做",
          "寰宇綜合/手機開箱實拍 | Redmi Note 9 Pro 5G：最便宜的1億像素手機能逆天？全面提升的中階手機 - 撰風 漫步旅食溫度",
          "娛樂遊戲/打球聽什麼歌？Apple Music 與 NBA 獨家合作音樂清單",
          "生活休閒/打麻將別再穿紅內褲啦！2021生肖幸運色、幸運數字全整理",
          "生活休閒/扮演：狂野聖誕夜 - 艾姬的情慾故事",
          "娛樂遊戲/找到愛麗絲Finding Alice(2021冬季新劇) @ 美劇盒小品｜美劇 歐美影集  簡介時間表",
          "金融理財/投資的世界裡，並沒有單一獲利的指標! (本益比、股價淨值比、殖利率) - 空空",
          "娛樂遊戲/拆彈專家2線上看--- 劉德華炸斷一條腿?搏命演出幕後花絮",
          "娛樂遊戲/推理控必看🤩寒假追劇清單，3部超燒腦影集，絕對讓你猜不到結局！",
          "寰宇綜合/推薦11本好看的肉香四溢肉文言情小說：有骨科禁忌文",
          "娛樂遊戲/推薦20本男主暗戀女主的言情小說：單向暗戀系列文，有肉文",
          "寰宇綜合/推薦5本末日言情小說：《男友變喪屍後我把他拐走了》、《末世第十年》",
          "寰宇綜合/推薦6本的肉肉文小說：禁忌文、男二上位",
          "娛樂遊戲/推薦木棉花4部超夯動畫！《PUI PUI 天竺鼠車車》融化你的心",
          "金融理財/收到傳票?還是娛樂城害的?我該怎麼辦!",
          "金融理財/收到博弈娛樂城傳票，我該怎麼辦?(內附解答)",
          "娛樂遊戲/收到娛樂城傳票我應該怎麼辦?",
          "生活休閒/文字好感力到達頁 - 維琪，你的好感度教練",
          "3c科技/文案教學｜想靠寫文案賺錢嗎？告訴你三大絕對要避開的文案地雷！ - TC Sharing",
          "美食旅遊/新北.貢寮-最東邊小漁村的最東邊靠海生活，一望無際的大海，待在令人心曠神怡的海邊一下午，超舒服的啦!",
          "美食旅遊/新北三峽 | 日東山莊 | 不需上山也能有深山氛圍的世外桃源 | 露境隨俗去露營",
          "娛樂遊戲/新北聖誕城暫停，跨年活動是否也喊卡？運彩和台彩高峰在現？",
          "3c科技/新北買賣筆電-優酷3C",
          "金融理財/新型態的直消電商，是時代的趨勢嗎？在疫情下工作受到影響的新轉機嗎？保持樂觀",
          "生活休閒/新年歌語錄 | 2021 大馬必聽新年歌曲 TOP 5",
          "美食旅遊/新店食記 | Le Coucou穀咕咕小館：巷弄裡的中文系套餐（大坪林站） - 撰風 漫步旅食溫度",
          "美食旅遊/新竹市7間「不限時、有wifi/插座」質感咖啡廳推薦，工作、下午茶、早午餐好去處",
          "美食旅遊/新竹美食。Laid Back Cafe｜關新社區不限時質感咖啡廳、千層蛋糕。",
          "美食旅遊/新竹美食。六八鑫村（原六八串燒）｜13道料理，清大將軍村附近的平價居酒屋。",
          "寰宇綜合/新竹美食。太空總薯｜下午茶外送新選擇：不只是馬鈴薯，簡餐選擇多又美味！",
          "美食旅遊/新竹美食。太空總薯｜下午茶外送新選擇：不只是馬鈴薯，簡餐選擇多又美味！",
          "美食旅遊/新竹美食。竹北小院子台食茶館｜迷人的花磚與茶飲，就在索鐵旗下的新台式料理。",
          "美食旅遊/新莊新開火鍋店【莊涮鍋物料理】超浮誇生日大餐│壽星優惠幾歲就送幾隻蝦│新開幕優惠活動│飲品冰淇淋霜淇淋吃到飽",
          "金融理財/方經理之外匯車學堂@2020年20201年最熱門的外匯車是賓士BENZ?BMW?噓~~~不能說的找車秘訣偷偷公開!!!",
          "娛樂遊戲/日劇｜打扮的戀愛是有理由的（為愛妝扮有理）・社群世代下的真實愛戀",
          "時尚美妝/日曜天地outlet家電福利品出清 |年前怒省，從大電視、冰箱等直接2折起～",
          "健康運動/日本300位名醫票選10大健康食材，第一位你絕對猜不到！",
          "生活休閒/日本人都瘋搶的【日本零食】是什麼?! 沒想到日本零食餅乾超下酒!",
          "美食旅遊/日本代購必買｜辦公室團購零食大家都吃什麼呢？",
          "寰宇綜合/日本最受歡迎104歲奶奶笹本恒子（Tsuneko Sasamoto）的養生法則和名言 – Wise Library 1985",
          "生活休閒/日本生活用品｜居家生活必備小物，讓你防疫期間也很舒適！",
          "健康運動/早就沒有草莓族，早就進入不要命的柳丁族世代！ - Wise Library 1985",
          "金融理財/易查克的退休對策 - 退休金計畫X指數化投資",
          "美食旅遊/星大王甜品專賣-桃園/不只有芋頭冰!冬季限定甜湯品暖到心坎裡 - 潔絲蜜愛生活",
          "時尚美妝/暖暖包out！會保暖的辣女孩這樣穿，高領毛衣、翻領毛外套，這些單品讓臉型顯瘦又時尚 ♥寒流實用穿搭♥",
          "生活休閒/曖昧哪裡有問題？最好別和5種對象搞曖昧",
          "美食旅遊/最新2021谷關溫泉懶人包｜一次看懂13間谷關溫泉飯店推薦、湯屋、大眾池比價、裸湯、溫泉住宿推薦之旅，還有來自日本神祕吉祥物 - Mayday 麥帶先生．愛美食、愛旅行、愛3C開箱 -",
          "美食旅遊/最新！2021年(110年)行事曆，中小學生寒暑假開學日，八次連假、農曆春節放七天。人事行政局公告連續假期 - 蘋果話日常",
          "娛樂遊戲/最深厚的純友情往往暗藏愛情的成分 – Wise Library 1985",
          "時尚美妝/會上癮的棉花糖三重紗，UCHINO 2021新裝上市5/21~5/31全面85折，自然系雲的織物打造身心舒適的居家時光",
          "3c科技/有上班時推薦聽的音樂嗎？Treefm 來自森林的大自然聲音 | 綠色工廠",
          "寰宇綜合/有肉有劇情bl | 《永見夏》作者：魚不知 | 【5星耽美bl小說推薦心得文】| 都市耽美 | 重組家庭 | 肉多多 | 甜寵耽美 | 年下耽美 | 短篇耽美",
          "時尚美妝/李向月連燕窩系列保養品 | 逆齡重生煥顏撫紋精華 |旅途中乾燥肌的救星",
          "美食旅遊/東門永康商圈-松薇PINE&ROSE, 最接近日本的日式洋菓子在這裡!",
          "娛樂遊戲/柏捷頓家族:名門韻事Bridgerton 第二季的角色故事線會如何展開? @ 美劇盒小品｜美劇 歐美影集  簡介時間表",
          "娛樂遊戲/柏捷頓家族:名門韻事Bridgerton第一季 【你該知道的一切都在這】 @ 美劇盒小品｜美劇 歐美影集  簡介時間表",
          "美食旅遊/桃園 義大利麵●義匠義式湯麵-藝文特區美食 @跟著Julie一起走吧",
          "美食旅遊/桃園冬至元宵湯圓懶人包美食推薦2021更新 - 阿綿吃Fun最大",
          "生活休閒/桃園復健科推薦您幾招肩頸自我舒緩方法！",
          "美食旅遊/桃園採草莓|草菓農場|溫室智慧草莓園晴天雨天都可以來|新鮮草莓不使用農藥天然的尚好|採預約採果制|觀音採草莓美食一日遊",
          "美食旅遊/桃園｜美食｜Maccanti馬卡諦義大利冰淇淋讓人幸福感爆棚! - Ms. Y.C. Luuu",
          "時尚美妝/棒球外套紅什麼？入門潮流搭配有公式，從梵谷、蒙德里安、草間彌生，這些著名藝術家的代表作教你簡單穿上身，用私服向大師致敬！",
          "美食旅遊/森林食堂&野餐市集 | 新竹市立動物園旁的白色玻璃屋餐廳 | 小栗子雞蛋糕、輕餐、日式定食、甜點、霜淇淋",
          "生活休閒/極精彩~人生最難啟齒的兩件事: 便秘、陽痿 | 雲爸的私處",
          "健康運動/極限思辨 —— 談球員被高估 (以NBA為題材)",
          "美食旅遊/樂時光｜平價關東煮,炒泡麵,就在大里益民路 - 達人Emily的播報台",
          "生活休閒/檸檬磅蛋糕食譜 ，用手搓出檸檬香 - 職業觀光客 LISA",
          "3c科技/歡迎創作者加入，網站使用與發表文章教學! - 敗家達人推薦",
          "3c科技/正確「手機消毒方法」！這3點錯誤不要做，尤其不要拿酒精噴手機！",
          "時尚美妝/歲末廠拍 ! 刷毛長褲100元、機能外套$298起、內衣買4送1 【FB分享免費抽吸塵器】新莊五工路92-1號 | 凱西跳跳糖の美食旅遊",
          "時尚美妝/每個媳婦，都一定有過孤獨的感覺",
          "美食旅遊/水明漾活蝦景觀餐廳~超美峇里島湖岸度假風餐廳讓你照片拍不停 - Fengplay 峰．玩樂旅誌．食旅",
          "娛樂遊戲/汪達與幻視WandaVision(2021冬季新劇)",
          "生活休閒/沙の魚雷 --- 砂魚蜥 @ 阿修羅的夜世界",
          "美食旅遊/沙仔地麵線焿(高雄鹽埕)在地人口袋名單30年麵線焿老店 | 高雄美食地圖 - 高雄在地小吃・高雄旅遊景點・高雄壽星優惠・高雄推薦美食・高雄人氣餐廳",
          "寰宇綜合/沙地健將 --- 棘趾蜥 @ 阿修羅的夜世界",
          "寰宇綜合/沙漠の萌 --- 角膨蝰 @ 阿修羅的夜世界",
          "美食旅遊/法點法食 FA DEN FA SAï - 傳統法式鹹派，必吃焦糖烤布蕾，台北公館甜點、咖啡廳推薦",
          "生活休閒/泡泡龍4 夥伴舉辦新年感謝活動",
          "3c科技/海兔影院 - 影片資源豐富更新快，免費線上看電影、戲劇、動漫、開車了 - 逍遙の窩",
          "寰宇綜合/消失87年婆羅洲彩虹蟾蜍重現 @ 阿修羅的夜世界",
          "金融理財/淘金娛樂城網友們這次又爆料了！",
          "金融理財/淘金有不出款的問題或是情況嗎?",
          "健康運動/淺談 NBA 2020~21賽季 MVP 評選：Derrick Rose 獲得「第一名選票」之荒謬事件",
          "美食旅遊/澎湖最萌最狂澎湖龜 鮮奶雞蛋糕，一天只賣4小時的散步甜點 - 跟著尼力吃喝玩樂＆親子生活",
          "生活休閒/炸豬排丼飯做法 ，台式口味豬排飯超美味",
          "生活休閒/為了愛，你願意付出多少代價？",
          "3c科技/為什麼 iPhone 的 Telegram 無法觀看成人內容？Nicegram 讓你突破限制觀看 | 綠色工廠",
          "3c科技/為什麼對一般讀者而言，內容有價的概念不容易實現？(下) - 好想說謝謝",
          "金融理財/為何要選擇當選擇權賣方？投資心法大公開",
          "娛樂遊戲/無限流爽文言情小說 | 《別看我，我只是來修水管的！[無限]》作者：撕枕猶眠",
          "美食旅遊/燉品食堂｜蘆洲的湯品專賣店，冬天驅寒暖胃燉湯！實力派湯頭鮮甜美味，滷肉飯口齒留香，溫馨小店絕對是饕客的最愛！（內含菜單）／蘆洲小吃／蘆洲美食／蘆洲在地推薦／原盅燉湯／雞湯／鮮魚湯推薦 @ Sandy珊蒂說",
          "金融理財/爆紅貼文的流量衰減有多快？實際經驗分享 | AKERUE集散地",
          "娛樂遊戲/牧場物語橄欖鎮與希望的大地釣魚玩法介紹",
          "寰宇綜合/特殊經歷：聯合國，我為什麼選擇離開了你",
          "娛樂遊戲/獨立遊戲",
          "娛樂遊戲/玄幻穿越推文 | 《我的老公是凶獸》作者：妖霏 | 男主不是人類 | 女主穿越 | 長篇言情(全文字數>40萬字)",
          "美食旅遊/玉井 - 甘單共",
          "美食旅遊/玉仙草(高雄苓雅)吃著是冰但卻會感到內心溫暖的手工仙草愛玉 | 高雄美食地圖 - 高雄在地小吃・高雄旅遊景點・高雄壽星優惠・高雄推薦美食・高雄人氣餐廳",
          "娛樂遊戲/王者一決勝負！【哥吉拉大戰金剛】超熱血預告曝光 | NOVA資訊廣場",
          "金融理財/王者｜網上鄉民評價如何呢？教會你如何揭穿詐騙黑網!",
          "娛樂遊戲/現代婚戀 | 《完美離婚[娛樂圈]》作者：五軍 | 【5星耽美bl小說推薦心得文】| 現代耽美 | 強強耽美 | 戀愛合約 | 娛樂圈耽美 | 甜寵耽美 | 先婚後愛耽美 | 假戲真做",
          "娛樂遊戲/現代耽美 | 《我覺得我們要分手了》作者：賀一天 | 【5星耽美bl小說推薦心得文】 | 短篇耽美 | 分分合合 | 破鏡重圓耽美 – starryeagle | 蒼野之鷹：看小說、聊書、聊投資",
          "生活休閒/現代耽美 |《City of Angels》 作者：靜安路1號 | 【5星耽美bl小說推薦心得文】| 短篇耽美 | 異國情緣 | 甜寵耽美 | 受追攻 | 酸甜 | 公路文學 | 有肉有劇情【微】",
          "娛樂遊戲/現代言情 | 《師姐，我真的一滴都沒有了》作者：喵嘰喵 | 甜中帶笑  | 輕喜劇 | 主角是醫生 | 有肉有劇情 | 一夜情 | 沙雕爆笑(好笑) | 甜寵言情 | 姐弟戀言情 | 短篇言情",
          "寰宇綜合/現代言情 | 《誘我深入》作者：聞笙 | 【5星原創言情小說推薦心得文】 | 行業文言情 | 追妻火葬場 | 男強女強 | 男女主互相征服 | 破鏡重圓 【微】",
          "娛樂遊戲/現代言情 | 《這個綠茶我不當了》作者：西淅 | 【5星原創言情小說推薦心得文】 | 女配言情 | 總裁言情 | 女強 – starryeagle | 蒼野之鷹：看小說、聊書、聊投資",
          "金融理財/理財 》投資從0歲開始，幫小朋友開證券戶存股票，從小開始累積第一桶金(未成年開戶、新生兒開戶) – M i n 理財生活札記",
          "金融理財/理財心得: 聯邦賴點卡&amp;數位帳戶NEW NEW BANK申辦過程",
          "健康運動/田中千繪「時間的過程會讓我們的人生價值觀改變，…兩個人聊天的內容會有溫差」 – Wise Library 1985",
          "生活休閒/男人真心話：男人最討厭女人的七種行為 - 艾姬的情慾故事",
          "生活休閒/男人自己打手槍，就是不愛妳了嗎？ - 艾姬的情慾故事",
          "娛樂遊戲/當世界對於「優秀」「好的人生」的認定或想像是那麼單一那麼絕對，那麼，住在這個世界的人們… – Wise Library 1985",
          "生活休閒/當他愛上妳以後，妳就失去興趣？ - 艾姬的情慾故事",
          "娛樂遊戲/疫情傳出博弈公司被抄..「線上博弈」合法嗎?",
          "娛樂遊戲/疫情當前在家看電影，2021年電影推薦",
          "生活休閒/療癒的端午節禮盒、企業端午節員工禮品，石安牧場x有肉療癒心口端午禮盒、中興米x有肉家自在端午禮盒、好空氣植栽禮盒",
          "生活休閒/發明讓生活美好-蹦克說品牌設計",
          "親子育兒/白日夢時自動作畫 | 解離性人格疾患者的特殊能力\n        | \n\n        李政洋身心診所",
          "娛樂遊戲/百家樂ptt｜百家樂預測程式有用嗎?",
          "娛樂遊戲/百家樂必勝法十大招你聽過嗎?",
          "金融理財/百家樂賺錢｜百家樂最強公式學會大數定律,讓你少奮鬥十年！",
          "生活休閒/百家樂贏錢｜要知道原來百家樂一定要學會的籌碼控制技巧",
          "娛樂遊戲/看完《格雷的五十道陰影》還不過癮？推薦3部大尺度電影讓你臉紅心跳、面紅耳赤",
          "娛樂遊戲/真實歷史改編，台劇《斯卡羅》SEQALU：Formosa 1867 介紹，8 月 14 日起於多平台上架",
          "時尚美妝/眼神打造關鍵好印象!從眼型判斷專屬自己的『命定眼線』趁現在！",
          "娛樂遊戲/短篇甜寵多肉文 | 《不小心睡了年下怎麽辦》作者：蛋撻皮 |【5星原創言情小說推薦心得文】| 一夜情 | 姐弟戀言情 | 有肉有劇情言情 | 短篇言情 | 甜寵言情 | 肉多多",
          "3c科技/研究 iPhone 12 比 iPhone 11 貴的原因，成本被轉嫁給消費者｜Tech NERvX",
          "寰宇綜合/祖克柏槓上美國總統？川普FB和IG帳號「無限期」停權",
          "生活休閒/福原愛事件／神話破滅後的婚姻6大啟示 @ 焦糖綠玫瑰 caramelgreen :: 痞客邦 ::",
          "親子育兒/禮貌教育／孩子總不敢打招呼？這4步驟成功引導！ @ 焦糖綠玫瑰 caramelgreen",
          "金融理財/稿費｜比較台灣國內外8大撰稿平台優缺點＜詳解部落格＆個人網站的神差別＞",
          "親子育兒/穩固娘家＝安全感　綠玫瑰說：女兒不是被潑出去的水～ @ 焦糖綠玫瑰 caramelgreen :: 痞客邦 ::",
          "寰宇綜合/窩在家防疫，看Netflix，嗑瓜子喝奶茶耍廢",
          "生活休閒/童話裡都是騙人的…5個超暗黑《格林童話》絕對讓你雞皮疙瘩掉滿地！",
          "寰宇綜合/端午節快樂！宅在家就是防疫，三件事讓WREADIT幫你發揮創意，居家防疫不無聊！",
          "娛樂遊戲/第78屆金球獎Golden Globes Award 得獎名單",
          "娛樂遊戲/第一次買運彩?這些『運彩術語』你不能不知道!",
          "寰宇綜合/精神科醫生的建議「女人千萬別以為婚姻或感情能保障自己…」 – Wise Library 1985",
          "生活休閒/精神科醫生的建議「女人千萬別以為婚姻或感情能保障自己…」 – Wise Library 1985",
          "娛樂遊戲/精選 | 8本不可錯過的高質量肉文小說推薦，都是肉多文(肉香四溢)，老司機的最愛",
          "娛樂遊戲/精選 | 8本不可錯過的高質量肉文小說推薦，都是肉多文(肉香四溢)，老司機的最愛 – starryeagle | 蒼野之鷹：看小說、聊書、聊投資",
          "時尚美妝/約會穿搭第一印象超重要！成功營造自己的魅力形象  女孩約會穿搭筆記🌿",
          "3c科技/紫色風潮來襲 Avier COLOR MIX PD3.0 雙孔電源供應器 莫蘭迪紫 | NOVA資訊廣場",
          "生活休閒/終於有地方一同緬懷了！Kobe Bryant 逝世一週年，可可幫找來 DJ Afro 一同感謝這個永不言棄的男人。 - YOLOLab - You Only Live Once",
          "3c科技/經典Anycall摺疊機造型Buds Pro耳機殼在台推出！還有針對耳機與S21的新款Kakao Friends保護殼 – LPComment 科技生活雜談",
          "3c科技/經營「YouTube SEO」行銷！10個技巧提高 YouTube 排名和翻倍流量 | 老貓測3C",
          "3c科技/綠色工廠 Ghosty View Hidden Instagram Profile 1.4.5.apk File Download 下載（免空下載）",
          "生活休閒/綠葡萄生乳酪蛋糕 食譜，免烤生乳酪蛋糕，漂亮又好吃",
          "3c科技/網站如何經營？五招提升自媒體網站流量與關鍵字排名！",
          "3c科技/網路速度怎麼看？就讓 Speedcheck 網路連線速度幫你測試一下！ | 綠色工廠",
          "娛樂遊戲/緊急呼救：孤星9-1-1: Lone Star 第二季第1集 劇情提示/新角色/劇照(更新)/預告(更新) @ 美劇盒小品｜美劇 歐美影集  簡介時間表",
          "3c科技/線上英文免費試用一個月-Native Camp線上英語會話",
          "生活休閒/總是莫名其妙被討厭？異性交往的5個禁忌 - 艾姬的情慾故事",
          "美食旅遊/總站夜市 | 台中最新夜市，占地1800坪、破百攤逛到腿軟，台中捷運總站、北屯區Costco二店旁 Nini and Blue 玩樂食記",
          "金融理財/美元利變保單 掀升息潮",
          "寰宇綜合/美國務卿提名人布林肯：若中國對台動武將是「嚴重錯誤」 | 民報 Taiwan People News",
          "寰宇綜合/美國國會確認拜登勝選 川普表異議但承諾有序交接 | 民報 Taiwan People News",
          "金融理財/美國天天樂,天天中3.4星? 30秒帶你讀懂!",
          "金融理財/美國的樂透遊戲怎麼玩?(合法)",
          "美食旅遊/美食  ░  冬天必吃豐富海鮮 淡水九濤石頭火鍋  Sukiyaki",
          "健康運動/老司機上車了! Pornhub Premium 2/14 限時免費 | 雲爸的私處",
          "娛樂遊戲/老媽駕到Call Your Mother(2021冬季新劇) @ 美劇盒小品｜美劇 歐美影集  簡介時間表",
          "娛樂遊戲/老是愛毛手毛腳！戀愛時最好色的四大星座！",
          "生活休閒/老虎機賺錢│想開大分怎麼選?不想輸錢這款機型不准碰?",
          "生活休閒/聽25分鐘英文廣播劇 | The Way to the Castle | 學50個英文單字片語 | 附上英語文字稿連結",
          "3c科技/臉書把粉絲專頁按讚功能取消，有什麼影響? | 一起討論吧! 社群x內容行銷經營",
          "生活休閒/自地自建低成本房屋的5種方法",
          "3c科技/自媒體如何經營網站提升網站流量與關鍵字排名？ - Jerry成長駭客",
          "健康運動/自己就像一塊默默承擔與吸收他人負面情緒的好海綿 - 好想說謝謝",
          "生活休閒/自製無糖豆漿 instant pot 壓力鍋做豆漿免顧火，超簡單",
          "寰宇綜合/臺灣是中文自由作家的心靈家園 | 民報 Taiwan People News",
          "生活休閒/艾姬答客問：他是愛上妳還是愛「上」妳？ - 艾姬的情慾故事",
          "娛樂遊戲/艾蜜莉在巴黎Emily In Paris(2020秋季新劇) @ 美劇盒小品｜美劇 歐美影集  簡介時間表",
          "美食旅遊/花蓮.新城-台肥海礦探索館，讓你一秒到日本!還有超沁涼海洋深層水~立刻消除全身暑氣，冷到會發抖炎炎夏日來這就對了",
          "美食旅遊/花蓮必去網美景點～海崖谷～每個角落都超好拍的！！！也是假日露營放風的好地方！",
          "寰宇綜合/花蓮早午餐【阿秀奶奶】招牌必點用蒸籠盛裝拼盤有碗粥│像家一樣溫暖│寒冬暖胃的傳統早點│簡單的幸福味道",
          "生活休閒/花雕雞做法 ，一鍋到底超下飯，湯汁還能做成花雕雞麵",
          "美食旅遊/苗栗 大湖●草莓季怎能錯過～品嚐甜美滋味～趁此時節來趟大湖踏青採草莓吧！",
          "美食旅遊/苗栗公館【景點 / 美食】荷塘居【景點篇】 | 隱藏在鄉間小徑裡的童話仙境。",
          "美食旅遊/苗栗景點。草莓小農場｜大湖草莓，只種豐香草莓的草莓小農場，採草莓前先吃草莓。(2020年大湖草莓季)",
          "美食旅遊/苗栗超夯景點│三義舊山線鐵道自行車搭乘攻略│勝興車站必遊景點│搭Rail Bike賞楓、芒花、採草莓吃美食一日遊",
          "娛樂遊戲/英國變種病毒入侵台灣?! 鎖國在家無聊玩遊戲解悶首選!",
          "3c科技/英文聽力UP | 10個不藏私的英文Podcast 推薦 (下) | 附上相關網址和收聽心得",
          "美食旅遊/草莓世界 | 台中草莓園，採草莓不用跑大湖草莓園，台中潭子市區也採的到/慈濟醫院旁 Nini and Blue 玩樂食記",
          "健康運動/草莓卡比 ღ 生活誌",
          "美食旅遊/草莓季甜食來襲！牛軋糖推薦！福波食品，限定款草莓牛軋糖，使用整顆草莓手工製成的甜美滋味／草莓季／草莓季甜點／宅配甜點／伴手禮推薦",
          "美食旅遊/草莓季｜苗栗大湖10個泡湯,採果,住宿及客家菜推薦 - 達人Emily的播報台",
          "寰宇綜合/荒漠の角 --- 砂膨蝰 @ 阿修羅的夜世界",
          "金融理財/莊家殺手怎麼上?有什麼技巧?",
          "娛樂遊戲/莎賓娜的顫慄冒險Chilling Adventures of Sabrina(2018秋季新劇)站長推薦 @ 美劇盒小品｜美劇 歐美影集  簡介時間表",
          "娛樂遊戲/莎賓娜的顫慄冒險Chilling Adventures of Sabrina(聖誕特別集)",
          "娛樂遊戲/莎賓娜的顫慄冒險Chilling Adventures of Sabrina第三季 劇情/新角色/預告(更新)/劇照(更新) @ 美劇盒小品｜美劇 歐美影集  簡介時間表 :: 痞客邦 ::",
          "娛樂遊戲/莎賓娜的顫慄冒險Chilling Adventures of Sabrina第四季 劇情/劇照(更新)/預告(最終季)",
          "娛樂遊戲/菲力國王ptt|你知道電子遊藝場百家樂和網路百家樂遊戲差在哪嗎?",
          "健康運動/萊豬大解密｜擔心萊豬有疑慮？這幾間台灣優質好豬肉讓你呷免驚 - 奧丁丁客棧",
          "金融理財/落入『存摺換現金』陷阱!你將萬劫不復?看看過來人都怎麼說",
          "寰宇綜合/落實學生身體自主權! 台中女中開放短褲進出校門 | 民報 Taiwan People News",
          "生活休閒/蔥燒豆腐 一鍋到底超容易，簡易懶人料理",
          "3c科技/蘋果公佈 2020 年各項服務成績單：非比尋常的一年 | 愛瘋日報",
          "寰宇綜合/蘋果在官網首頁紀念民權運動領袖 – 馬丁路德 | 愛瘋日報",
          "3c科技/蘋果宣布！投入 1 億美元推動種族平等和正義倡議計劃 | 愛瘋日報",
          "3c科技/蘋果承認iPhone 11 觸控問題，提供免費更換，快檢查自己有沒有中招 | 雲爸的私處",
          "3c科技/蘋果新專利！iPhone 螢幕可向內折疊和向外折疊 | 愛瘋日報",
          "3c科技/蘋果考慮推出優質播客訂閱服務？與 Spotify 競爭 | 愛瘋日報",
          "生活休閒/蛋黃酥做法 （無鹽奶油版），沒有無水奶油也可以做",
          "寰宇綜合/被打壓下，照樣紅！廣播教父石川：對台語傳承有著使命感….. | 民報 Taiwan People News",
          "生活休閒/被遺忘的神祕色彩故事集 — 🌿 AG Girl 艾許娜說書",
          "親子育兒/裸師露鳥／校園是不容挑戰之地！引導孩子自保3招 @ 焦糖綠玫瑰 caramelgreen",
          "娛樂遊戲/要怎麼判定運彩單場的無效投注？台灣運動彩券判定合理嗎？",
          "健康運動/角頭浪流連線上看HD完整版動人劇情超淚崩",
          "3c科技/解決居家空汙、過敏問題！過濾至0.0024微米懸浮微粒，目前市面上最一勞永逸的空氣清淨機Atmosphere SKY！",
          "親子育兒/解決慣性遲到靠5招／每天遲到的孩子，小一開始早起的原因是… @ 焦糖綠玫瑰 caramelgreen",
          "健康運動/討論完 NBA 的歷史前五人，嘻哈圈的歷史前五人你覺得是誰呢? 紀錄之神 Drake 開出了心目中的五位巨頭！ - YOLOLab - You Only Live Once",
          "金融理財/詳解Podcast （播客）上架、收入、 代管服務商 – 第 3 頁",
          "娛樂遊戲/談戀愛最想要被照顧！3星座女容易喜歡上成熟大叔！",
          "時尚美妝/護膚  ░  【Argiletz安肌泥】法國頂級礦泥粉面膜，肌膚保養敷臉礦泥面膜、髮膜、敷臉SPA、泡澡泥粉♡",
          "生活休閒/讓『海』帶走我的煩惱、洗滌我的思緒",
          "金融理財/豪神娛樂城手遊出了外掛?換現金一點也不難?假的?",
          "娛樂遊戲/買了『運彩分析』結果變成需要『救紅』？！",
          "時尚美妝/質感生活 韓國 WONDER MAMA 鈦保溫杯  無毒容器 可盛裝牛奶、咖啡、茶類的保溫杯 2021 人手必備的保溫杯",
          "金融理財/購買基金要選哪個計價幣別呢? (美元、歐元、新臺幣、人民幣、南非幣) - 空空",
          "金融理財/贏多輸少讓你一次解鎖百家樂贏錢密技",
          "生活休閒/走在自己的時區裡 | 不遲不早，一切剛剛好",
          "生活休閒/走進愛情，將面臨哪些難處？戀愛前你必須知道的事 – Wise Library 1985",
          "3c科技/超級馬力歐3D世界酷霸王之怒提升至1080P",
          "健康運動/超震撼！李光洙宣布退出RM，病痛纏身告別11年節目！",
          "健康運動/超靈驗～醫院隱藏版守護神，台大醫公醫婆在哪裡？ @ 焦糖綠玫瑰 caramelgreen",
          "生活休閒/輕乳酪蛋糕食譜 口感綿密欲罷不能，低溫坐水烤 - 職業觀光客 LISA",
          "生活休閒/輕鬆做魚料理！【海鷗漁村】午仔魚一夜乾、龍膽石斑等現撈鮮味，冷凍宅配到家，三去處理簡單料理就好吃！",
          "美食旅遊/近南庄老街，寧靜、神祕任你選，草地、碎石隨你搭 | 苗栗南庄-麒麟山露營區 | 露境隨俗去露營",
          "3c科技/迷你臭氧機推薦-GP抑疾棒mini活氧抑菌除味棒，輕巧好攜帶、免耗材無汙染且能幫食材保鮮的小型臭氧機，一機多用守護健康維持空氣清新",
          "金融理財/退休金動態提領策略：什麼是蓋頓·克林格法則(What is the Guyton-Klinger rule?)",
          "金融理財/退休金提領策略比較",
          "時尚美妝/這美腿不科學！《梨泰院Class》女神權娜拉「5招」保養逆天長腿 – 頭殼總長",
          "美食旅遊/這裏勿瘋 |霧峰新店超美，藍色居家風格網美拍照咖啡館，草莓季開始啦！",
          "娛樂遊戲/這麼好康電腦幫你選出539明牌?! 『539擋牌通知』中獎機率高嗎?",
          "金融理財/通膨風險：依照物價指數調整你的年支出，將使你原有的生活水平下降。 - 易查克的退休對策",
          "美食旅遊/逢甲夜市好吃的小吃巡禮，小小乖交作業囉！古早味手工米血糕+素食地瓜球+全國大雞腿排，讚讚！👍 – 指揮家的異想世界",
          "美食旅遊/遊來遊去82：新北景點！老梅綠石槽季節限定，漁村彩繪超好拍，來看小梅的異想世界，石花凍喝到飽。",
          "金融理財/運動彩券是最適合學生的一個賺錢方式?",
          "娛樂遊戲/運彩NBA 2021 西區 NBA球員名單大公開",
          "金融理財/運彩單場如何判定無效投注？台灣運動彩券判定合理嗎？",
          "金融理財/運彩單場預測在玩運彩兩週就上殺手了?",
          "娛樂遊戲/運彩賺錢│遇到假日鬼場別驚慌，運彩分析師告訴你怎麼玩運彩國際盤!",
          "美食旅遊/過年伴手禮8大推薦| 超銷魂熔岩巧克力、起司豬肉乾、嚴選高山茶，讓你面子裡子都送足！",
          "美食旅遊/過年伴手禮9大推薦| 超銷魂熔岩巧克力、起司豬肉乾、嚴選高山茶，讓你面子裡子都送足！",
          "美食旅遊/過年春節連假怎麼放?全台旅遊補助 精選20家飯店住宿攻略懶人包 超前部署 規劃假期真的好easy",
          "金融理財/過年經典年菜集合！逾百項台灣好食迎新春 年節圍爐就上奧丁丁市集 - 奧丁丁客棧",
          "娛樂遊戲/還原人生/無所作為 The Undoing(2020秋季新劇) @ 美劇盒小品｜美劇 歐美影集  簡介時間表",
          "金融理財/還在煩惱如何賺錢嗎？讓你秒懂得百家樂學問 !",
          "娛樂遊戲/還在瞎玩老虎機台?3分鐘教你提高老虎機機率贏大錢!",
          "娛樂遊戲/還在絞盡腦汁想『539怎麼玩才會贏』?聰明人都跳槽改玩六合彩線上投注啦!",
          "生活休閒/那一夜，三人行（上） - 艾姬的情慾故事",
          "生活休閒/那一夜，三人行（下） - 艾姬的情慾故事",
          "娛樂遊戲/郭富城、許瑋甯電影《秘密訪客》評價，每個家庭都有秘密",
          "娛樂遊戲/酷映直播APP",
          "娛樂遊戲/重啟/衍生劇訊息: 慾望城市、眼鏡蛇道館、曼達洛人、龍之家族(多劇) @ 美劇盒小品｜美劇 歐美影集  簡介時間表",
          "金融理財/金合發評價怎麼樣?網友心裡實話是什麼?",
          "美食旅遊/金山景點懶人包 ~金山溫泉美食景點住宿大整理，親子、團體出遊都能玩得開心- 阿MON世界趴趴走",
          "生活休閒/金牛年換新鈔！時間、地點、怎麼換一次告訴你👌",
          "金融理財/金禾跟金禾泰娛樂城到底是什麼關係？一起看看吧!",
          "金融理財/鉅城倒了！？ptt網友說不能登入、不理人？",
          "美食旅遊/錫古爾達Siguldas 上帝的花園．圖雷達城堡．拉脫維亞自由行 - 甘單共",
          "生活休閒/錯的愛，不會因為堅持就變成對的！ - 艾姬的情慾故事",
          "健康運動/鎖鏈の咒 --- 圓斑蝰 @ 阿修羅的夜世界",
          "3c科技/開箱 OVO 不累音響S3，專為Podcast而聲 | 雲爸的私處",
          "生活休閒/關係問答題：知道自己要什麼，是面對感情的第一步！ - 艾姬的情慾故事",
          "寰宇綜合/關於菈喜大叔 - 【減法生活】您的減法大叔 - 菈喜",
          "3c科技/關鍵字規劃大幅提升文章曝光率! 3分鐘就能學會SEO軟體Ubersuggest",
          "生活休閒/阿公kah 我：認bat 母語文學ê熱--人 | 民報 Taiwan People News",
          "美食旅遊/隔代教養｜我的阿嬤是作家!我也要一本《勇氣阿嬤的美好熟齡時代》.親愛的Lucas…… – LUCAS阿嬤愛旅行",
          "時尚美妝/離開10年的職業OL，規劃人生清單朝目標邁進吧！(首篇紀念)",
          "娛樂遊戲/難搞男友的十大惡行是什麼？男生終結戀愛的6大NG特質..... - Wise Library 1985",
          "娛樂遊戲/電影《屍戰朝鮮：雅信傳》評價與心得，看完沒有下一集可以按真的慘",
          "娛樂遊戲/電影《活屍大軍/不死喪軍》評價，為了兩億美金你敢進入喪屍之城嗎？",
          "生活休閒/電影《酸酸甜甜愛上你》結局評價，用時間線分析到底從那開始出錯",
          "娛樂遊戲/電視劇《我可能不會愛你》劇中經典台詞懶人包｜輸給了深愛的你，好值得",
          "娛樂遊戲/電馭叛客 2077 評價兩極，Steam 版本不到 1 個月流失 90% 玩家｜Tech NERvX",
          "美食旅遊/露營不用大包小包~6家超狂「豪華露營」白天泡溫泉，晚上聽海入睡-過年親子、情人節出遊",
          "生活休閒/露營到夜半，帳篷裡竟多1人…苗栗香格里拉靈異事件簿",
          "生活休閒/靈異｜東吳D棟電梯驚悚傳說 竟和40年前景美女學生有關？",
          "娛樂遊戲/青春校園 |《耀眼》作者：時玖遠 |【5星原創言情小說推薦心得文】| 校園言情 | 甜寵言情 | 姐弟戀言情 | 學霸言情 | 雙向救贖｜有肉有劇情言情 | 市井生活 | 甜爽文 | 勵志言情 | 女強男強 – starryeagle | 蒼野之鷹：看小說、聊書、聊投資",
          "娛樂遊戲/韓劇《Move to Heaven：我是遺物整理師》評價，面紙是你與這部影集的連結",
          "娛樂遊戲/韓劇《你是我的春天》第3集劇情＋心得：「摸妳頭的人不是我」，那會是誰？",
          "生活休閒/韓國人中秋節一定會做的事!韓國媳婦的噩夢?!韓國人妻跟韓國婆婆一起做8種煎餅! - 艾蜜莉關X吃貨の韓國日常",
          "寰宇綜合/韓國大規模犯罪｜震驚韓國社會的N號房事件（Nth Room case）全國公開嫌犯長相 – Wise Library 1985",
          "娛樂遊戲/韓綜｜推理迷必看！高質感推理韓綜推薦！(上)犯罪現場crime scene、大逃出Great Escape",
          "生活休閒/韭菜盒子做法 ，自己做韭菜盒子皮薄餡多（半燙麵）",
          "生活休閒/頂大畢業，然後呢？給大學新鮮人的4個忠告：初衷只是口號，你需要的是變通",
          "寰宇綜合/顏值、演技、綜藝一次滿足！南韓新生代男演員『宋江』入坑指南！",
          "生活休閒/食物與性感有關係？女人吃什麼食物會引人遐想？ - 艾姬的情慾故事",
          "親子育兒/餐桌閒聊｜鬼滅之刃適合幾歲的孩子觀看？ - 小小的100種任性生活",
          "美食旅遊/饗牛二館火鍋鮮牛肉火鍋專賣店/新北新莊美食台灣牛餐廳推薦 價位菜單",
          "寰宇綜合/首談台灣人口負成長的危險性.. – Wise Library 1985",
          "生活休閒/馬鈴薯蛋沙拉做法 ，超容易電鍋料理 - 職業觀光客 LISA",
          "娛樂遊戲/驚悚電影《迴憶》扮夫妻幕後｜徐睿知眼神超殺，金剛于曝光兩人片場互動狀況 | 少女心文室 NEWS ROOM",
          "美食旅遊/高海拔好抵達，露營還可探祕境 | 苗栗泰安 | 鑽石林露營區 | 露境隨俗去露營",
          "3c科技/高解析度 iPhone 4 半透明圖標主題分享 | iPhone News 愛瘋了",
          "美食旅遊/高雄【CHIC CAFE &pastry 奇可手作】漢神百貨 B3 夢幻義式美食料理.令人驚豔的義大利麵與PIZZA料理！ - 大眼電台 DaYan talk",
          "健康運動/鬼壓床 | 睡眠癱瘓症 | 那些你可以注意的細節\n        | \n\n        李政洋身心診所",
          "寰宇綜合/鬼故事大全 - 有沒有覺得肩膀很重 ! 看完讓你不敢睡 !",
          "生活休閒/鮮蝦粉絲煲食譜 ，電鍋料理輕鬆上菜，新手料理推薦 - 職業觀光客 LISA",
          "美食旅遊/鹽埕區 新糖庄之韓國雞蛋糕｜俏皮可愛花生燒、核桃燒 X 隱藏版下午茶點心 - 跟著尼力吃喝玩樂＆親子生活",
          "生活休閒/鹽水雞做法 ，在家變出夜市鹹水雞，衛生乾淨又好吃",
          "寰宇綜合/黃頷の王 -- 南蛇 @ 阿修羅的夜世界",
          "美食旅遊/﹝新竹市北區食記﹞北門炸粿　傳承四代、百年老店的古早味銅板美食，卡滋作響不膩口的傳統簡單炸物好滋味　／有如一朵花的炸蒜頭(苗)／新竹國民銅板美食／新竹城隍廟周邊銅板美食／新竹百年老店",
          "美食旅遊/｜﻿台北美食｜Rise Bakery麵包高cp值/信義安和站大馬路旁/巨大司康.肉桂捲.可頌/很搶手的麵包很快就賣完/建議先打電話預留! @ 𝙎𝙪 𝙀𝙀𝙖𝙩♘",
          "生活休閒/💰2021財運滾滾來！這星座只要躺著大把鈔票都會向他湧入",
          "3c科技",
          "健康運動",
          "娛樂遊戲",
          "寰宇綜合",
          "時尚美妝",
          "生活休閒",
          "美食旅遊",
          "親子育兒",
          "金融理財"
         ],
         "labels": [
          "\"賓果賓果預測\"讓你顛覆平凡人生!!",
          "#打一句有聲音的遊戲句子，海德格！救救救救 救救救 救窩～",
          "(台南)犬首燒雞蛋糕-法鬥月餅禮盒可愛無極限 五種口味包餡還有蝦米!!! 沒預訂還吃不到~ | 高雄美食地圖 - 高雄小吃・高雄景點・高雄優惠・高雄推薦美食",
          "(府中站)板橋美食-黃石市場內一天只賣二小時的紅燒肉,雞捲(天下牙醫前),紅燒肉真的有厲害，假日僅提供外帶",
          "(忠孝敦化站/忠孝復興站)東區火鍋吃到飽-火鍋殿,多種肉類,海鮮吃到飽,生啤喝到爽,滿滿貝類的卜卜鍋記得來點上一鍋,東區聚餐地點,約會餐廳",
          "(高雄美食)蒸鮮腸粉港式飲茶-手工港式素食，自然素吃精緻，素食者必吃港式料理這幾道 | 高雄美食地圖 - 高雄在地小吃・高雄旅遊景點・高雄壽星優惠・高雄推薦美食・高雄人氣餐廳",
          "- 旅行履行中 / 一日遊、懶人包、景點、美食、住宿",
          "0056 元大高股息ETF送分題，為自己的投資負責。",
          "0056高股息ETF小資定期定額計畫，這就是開始的第一張。",
          "106本現代重生言情小說推薦：甜文+懸疑推理+爽文+女強男強+娛樂圈+女配文+雙重生",
          "10本好看的娛樂圈甜寵文推薦，有肉文書單推薦",
          "113本主角是軍人+警察小說推薦：古代(將軍)+現代+(雙)軍人+(雙)警察+法醫+刑警+特種兵+刑偵隊長+消防員+武警+軍校生+緝毒員警+特警+肉文",
          "12星座偷偷喜歡一個人的跳針表現｜哪個星座冷漠是為了想在對方面前呈現最好的自己? - Wise Library 1985",
          "15本高質量的懸疑推理言情小說推薦",
          "165博奕詐騙》網路投資95%都詐騙你還不信嗎?",
          "18禁推薦 兩種衝撞一次滿足之爽片：黑吃黑Banshee (台譯:竊盜警長)",
          "1995年馬來西亞蟒蛇吞人事件後續回顧 @ 阿修羅的夜世界",
          "1天2包天然酵素的蔬果梅精順暢飲—嗯嗯就是非常順暢",
          "2 分鐘快速了解蘋果「家人共享」如何運作 | iPhone News 愛瘋了",
          "2014 年的《遊戲業薪資調查報告》網路考古用",
          "2018 11 25:莎賓娜的顫慄冒險:神廟訴訟案解決,美劇綜合消息(補/訊息多/文長)",
          "2018 12 03:莎賓娜第二季四月回歸,實習醫生、芝加哥、NCIS、Timeless劇情",
          "2019年5★言情推薦–《重生男神凶猛》作者：淡布丁-Chinese Romance Web Novel -【暗戀言情，總裁言情，都市言情，重生言情，二婚言情】—–《重生男神兇猛》作者：淡布丁",
          "2020 Dec│ 國立臺灣博物館│台北親子景點 互動展覽 台北景點推薦│走吧台北哪裡玩 - FreyaDaily",
          "2020 Setting 官網下載在哪裡？Android APK 下載與 iOS 皆可安裝 | 綠色工廠",
          "2020, Apr│Jana cafe 嚼咖啡餐廳│走吧台北哪裡吃美食：台電大樓好吃三明治軟法 師大夜市義大利麵推薦 內含完整菜單 - FreyaDaily",
          "2020, Apr│海尼根 0.0零酒精│超商買什麼？暢飲海尼根 開車也能喝的 無酒精啤酒風味飲 - FreyaDaily",
          "2020, July│花蓮三天兩夜懶人包│花蓮必去景點 三天兩夜自由行│走吧花蓮哪裡玩 - FreyaDaily",
          "2020年前10大盜版電視劇排名揭曉,冠軍:曼達洛人The Mandalorian @ 美劇盒小品｜美劇 歐美影集  簡介時間表",
          "2020年最愛戲劇Top10!哪十部能脫穎而出呢?在家追劇清單! - 艾蜜莉關X吃貨の韓國日常",
          "2021 SEO優化怎麼做？標題、內容、關鍵字、內外連結四大關鍵因素",
          "2021 年 NETFLIX 5月上架新片整理",
          "2021 年 NETFLIX 6月上架新片整理 - 每週更新",
          "2021 年 NETFLIX 7月上架新片整理，慢慢整理最快",
          "2021 年 NETFLIX 7月上架新片整理，慢慢整理最快 - 6/22 更新",
          "2021 母嬰用品 親子用品福袋懶人包: PUKU藍色企鵝、黃色小鴨等 | 媽咪~爸比~快樂孕兒、育兒教養經",
          "2021 牛年迎新春必備！ 5 個開運小物，從長輩送到寶貝一手包辦！",
          "2021七款按摩神器推薦！上班族眼睛疲勞、家庭主婦肩頸痠痛，通通紓壓「不求人」！",
          "2021刮刮樂中獎率是多少?最好中的竟然是....?",
          "2021地表最強運勢排行榜！「星座x生日x血型」你排行第幾？",
          "2021大陸電影NETFLIX【刺殺小說家A Writer's Odyssey】可是希望一直不來 (雷佳音 楊冪 董子健 于和偉 郭京飛 佟麗婭)",
          "2021年 社群行銷最新流量池： Line社群 聚集你的潛在受眾！ | 一起討論吧! 社群x內容行銷經營",
          "2021年6月紀錄｜3步驟部落格日流量破2萬8，經營部落格變成我的志業 | 跟著菜鳥人妻搬去匈牙利！",
          "2021年KTV藍芽麥克風排行，第一名竟然是?? 網路超人氣十大好評的k歌神器! - 敗家達人推薦",
          "2021年冬季日劇一覽表",
          "2021年古代言情甜寵小說推薦：穿越文、先婚後愛、純古言文 – starryeagle | 蒼野之鷹：看小說、聊書、聊投資",
          "2021年星座桃花運排行榜💕第一名將熱戀一整年",
          "2021年桃園除夕景點暫停開放資訊整理 / 因應防疫請減少非必要外出 - 撰風 漫步旅食溫度",
          "2021最新現金版娛樂城評價，保證出金娛樂城是哪家?",
          "2021未來媽媽/廢財闖天關/巡天者等...華劇女主角教你如何從女孩穿到女人~可不能錯過的！走出劇外的超女人味穿搭",
          "2021母親節蛋糕推薦🌿 法雅玫瑰荔枝義式冰淇淋蛋糕 給媽咪一個難忘的母親節 — 小瑞拉食旅日記",
          "2021牛年5生肖要當心！破財、血光之災化解攻略告訴你",
          "2021牛年5生肖要當心！破財、血光之災攻略告訴你",
          "2021生日運勢排行榜出爐！這幾天出生的人走大運啦🤑",
          "2021生肖轉運大法！教你趨吉避凶、好運旺旺來",
          "2021跨年在家可以做什麼?打發時間玩遊戲賺現金吧!",
          "2021連假特輯【連假出遊景點懶人包】過年走春景點/最新打卡景點/推薦連假出遊景點/全台走春景點推薦",
          "2月5本好看的玄幻奇幻小說推薦2021",
          "30本肉香四溢的現代肉肉文推薦(有NP文)：老司機必看",
          "31本高質量的青梅竹馬現代甜寵文推薦",
          "36本現言腹黑男主有肉的小說合集推薦",
          "3個黃色笑話原來有這層意涵！《腿》楊祐寧、桂綸鎂、導演映後座談",
          "54本肉肉文推薦：老司機想看的肉寵文、現代高辣、古代甜肉、快穿肉文、NP肉文、1V1都有",
          "5個你必須知道的「2021春節、情人節」旅遊大補帖｜旅行提案看過來！",
          "5招打造舒服追劇環境！絕對讓你爬不出沙發，追劇追到拋家棄子！手機取代遙控器竟然只是基本功？",
          "5本好看的神醫文推薦2021",
          "5本好看的穿越重生小說推薦2021",
          "5部不容錯過的恐怖驚悚電影！嚇到你腿軟喊著叫媽媽",
          "5部好看的Netflix動漫推薦",
          "6本女主替身文小說推薦",
          "6本高質量的穿書小說推薦 – starryeagle | 蒼野之鷹：看小說、聊書、聊投資",
          "911娛樂城評價是詐騙集團?",
          "94本青梅竹馬言情小說推薦",
          "ALLPPT 免費下載 PowerPoint 範本，多種主題上千模板可商業使用 - 逍遙の窩",
          "AV帝王影評｜Netflix好戲推薦,被情色耽誤的勵志片",
          "Aga不專業食記攝影",
          "BG | 解決書荒，盤點好看的各類型言情小說",
          "BG-NP肉文《曲線規則》作者：江山多椒 |【原創言情小說心得文】【肉多多+男主們強取豪奪+NP文(1女N男)】",
          "BG古代小說 | 《升官發財死後宮》作者:衣帶雪通| 有心得簡評 |【長篇+古代+女主是女官+古代女公務員+勵志+結局HE+姐弟戀】",
          "BG古代穿越 | 《我成了反派的掛件[穿書]》作者：大茶娓娓 |【5星原創言情小說推薦心得文】| 甜寵言情 | 穿越言情 | 仙俠修真 | 女配言情 | 主角是反派病嬌 | 有肉渣 | 有系統 | 玄幻言情 | 長篇言情 | 古代言情",
          "BG古代言情小說 | 《嬌寵》作者：榶酥 | 有心得簡評 | 【古代+青梅竹馬+久別重逢+失憶】 – starryeagle | 蒼野之鷹：看小說、聊書、聊投資",
          "BG古代言情小說 | 《鏡中花》作者：薛定諤家裡的貓 |附網友評論 | 【短篇+古代+女配逆襲】 – starryeagle | 蒼野之鷹：看小說、聊書、聊投資",
          "BG書單總表 | 各類型的主角是綠茶的小說推薦：綠茶女主文+綠茶男主文",
          "BG書單總表 | 各類型的女配文言情小說合集書單推薦",
          "BG書單總表 | 各類型的現代言情小說推薦書單",
          "BG書單總表 | 各類型的網戀奔現小說推薦：肉文+1V1+校園+都市+穿越",
          "BG書單總表 | 各類型的養成言情小說合集推薦",
          "BG書單總表 | 各類型腦洞大開，題材新穎的言情小說推薦：古言+現言+校園+西幻+懸疑推理破案+刑偵+靈異恐怖",
          "BG書單總表 | 萌寵文(獸寵文)推薦書單：有萌寵(貓咪…)出沒的言情小說",
          "BG書單總表 | 輕鬆好笑有趣的沙雕言情小說推薦書單，劇情走輕鬆爆笑",
          "BG校園肉肉文 | 《晚州夢華錄》作者：將至景 |【原創BG言情小說推薦心得文】| 短篇言情 | 校園言情 | 青梅竹馬言情 |  高中到大學 | 雙學霸言情 | 肉多多言情 | 有肉有劇情言情 |董朝銘X郁楚",
          "BG現代先婚後愛言情小說 | 《咬紅唇》作者：今様【短篇+現代都市+先婚後愛+豪門世家】",
          "BG現代肉多多 |《和聯姻對象做炮友》作者：蜜汁叉燒|【5星原創BG言情小說推薦心得文】| 【現代+肉多多+1v1+甜寵+豪門世家+男主是總裁+富家千金】",
          "BG甜寵多肉小說心得 | 《顧先生和顧太太/ 顾先生和顾太太》 作者: 桃子奶蓋 | 原創言情小說推薦心得文 | 肉多多言情 | 年齡差言情 | 有肉有劇情言情 | 都市言情 | 娛樂圈言情 | 包養言情 | 大叔文言情 |   | 短篇有肉有劇情 | 總裁言情",
          "BG短篇肉文 | 《男朋友出軌之后》作者：柚子多肉|【5星原創BG言情小說推薦心得文】【短篇+現代+肉多多+第一人稱+姐弟戀+小奶狗+甜寵+結局HE+炮友轉正】",
          "BG短篇都市肉寵文 |《嫁給僧侶先生》作者：福祿丸子 |【5星原創BG言情小說推薦心得文】| 短篇言情 | 現代都市言情 | 有肉有劇情言情 | 女追男言情 | 豪門世家言情 | 懸疑言情 | 男主有心理疾病言情 | 甜虐言情 | 追妻火葬場言情 | 有小包子言情 | 男主是和尚言情 | 破鏡重圓言情 | 男撩女言情 | 久別重逢言情",
          "BG超肉古言文 | 《掌中雀》作者：棄吳鉤 | 古代言情 | 有肉有劇情言情 | 感情線甜虐",
          "BL文 | 10本好看的星際耽美文推薦 | 《拥有AI男友後，再也不怕黑子了》、《限定曖昧》、《天生命犯Alpha[重生]》、《我不做人了》 | 【元帥+ABO+帶球跑+雙Alpha+重生+爽文+主角是蟲族+有肉有劇情】　",
          "BL校園ABO | 《借我咬一口》作者：弦三千  | 【5星耽美bl小說推薦心得文】|  短篇言情 | 高中校園耽美 | 甜寵耽美 |  ABO耽美 | 短篇耽美 | 倒敘法 | 雙學霸耽美",
          "BL校園甜寵 | 《信息素說我們不可能》作者: 毛球球 | 【5星耽美bl小說推薦心得文】| 校園耽美 | 甜寵耽美 | ABO耽美 | 竹馬耽美 | 有肉渣耽美",
          "BL校園甜寵 | 《給校草沖喜的日日夜夜》作者: 溯流回川 | 【5星耽美bl小說推薦心得文】| 短篇耽美 | 輕鬆好笑(爆笑) | 先婚後愛耽美 | 甜寵耽美 | 高中校園耽美 |學神X校霸 | 有肉有劇情 | 假戲真做",
          "BL熱血追夢電競 | 《電競毒瘤集結營》作者：青梅醬 |【5星原創耽美bl小說推薦心得文】| 強強耽美 | 電競耽美 | 都市耽美 | 穿書耽美 | 穿越耽美 | 有肉有劇情耽美 | 長篇耽美",
          "BL現代爽文耽美小說 |《爆款創業》作者：清蒸日華 | 有心得簡評 | 【長篇+校園+創業+爽文】苟玳、梁君澈",
          "BL穿越星際耽美小說 | 《我懷了人類的救星》作者：冰城不冷 | 有心得簡評 |【短篇+穿越+星際+帶球跑+爽文+人類復興文】",
          "BL耽美好文推薦：好看的古代重生耽美文推薦，有強強、穿書、反派、仙俠修真",
          "BL耽美推文 | 《朕的後宮起火了》作者：龍柒【古代+短篇耽美+帝王受VS權臣攻】 – starryeagle | 蒼野之鷹：看小說、聊書、聊投資",
          "BL肉文推薦 | 推薦35本好看的有肉有劇情的耽美文小說書單【BL甜文+BL肉文】",
          "Canva教學大補帖｜3分鐘完成精美圖片設計-社群人必備工具",
          "DroneDeploy - 目前空拍用過最好用的正射＋建模雲端系統平台",
          "FB臉書抓不到網站圖片？用Facebook Debugger強制更新臉書縮圖 | 老貓測3C",
          "Facebook 大老闆：現在開始蘋果是敵人不是朋友 | iPhone News 愛瘋了",
          "FoOd桃園義式餐廳【洋朵庭園餐廳】桃園美食推薦,義大利麵,披薩,燉飯任你選,搭配套餐划算豐富 - ONLYYUSUKE*吃喝玩樂都最高",
          "Gamine",
          "Gamine",
          "Grand Hotel Cavour Florence | 義大利佛羅倫斯飯店 | 難忘又美好的住宿回憶",
          "G編愛旅遊~【免費走春景點推薦Part 2】花蓮360環繞森林懸空舞台 @ Gamine",
          "Health² 老司機影片不能看？用這招突破封鎖 APK 下載 | 綠色工廠",
          "IPFS for Beginners – Interact With IPFS By Javascript",
          "JＯ在這裡：緊實的魅力，Hold得住的激情！ - 艾姬的情慾故事",
          "KTV 30首經典好聽台語療傷歌單｜ 長輩爺爺奶奶都愛的台語歌｜歌唱比賽歌曲推薦 - Wise Library 1985",
          "LINE WEBTOON特輯系列清單(不定期更新)",
          "LOLI怨念實體化 把LOLI吞入腹中吧~",
          "LuTube AV 電視 APP，老司機上車！",
          "MTV重磅推出全台首創嘻哈選秀節目「大嘻哈時代」| 集結四大頂尖嘻哈創作人 大支、熊仔、剃刀蔣、Leo王合體 共同打造嘻哈巨星！ - YOLOLab - You Only Live Once",
          "Messenger 打字打到一半自動跳掉變注音？用這個方式先降回舊版避免打字中斷 - APlus",
          "Minecraft 玩家離世前以 1,100 萬方塊完成史上最大像素畫作 - 韋恩先生 WayneSan",
          "NBA 2K21 三位封面球星揭曉 | NOVA資訊廣場",
          "NBA Store嚴選三大機能運動包款 自信探索城市運動摩登質感 | NOVA資訊廣場",
          "NBA 最佳防守球員 Rudy Gobert 確診武漢肺炎，NBA將無限期休賽！ - YOLOLab - You Only Live Once",
          "NBA前球星歐尼爾發聲 支持摩瑞挺港言論 | 民報 Taiwan People News",
          "NETFLIX 原創動畫《伊甸/Eden》評價與心得，分級7+的小朋友動畫",
          "Netflix 原創影集《太陽召喚》劇情概要與心得，IMDB 8.5 分的年度好劇",
          "Netflix 有老司機影片？原來是 Netflav 免費觀看謎片網站 | 綠色工廠",
          "Netflix《好醫生 良醫墨非》評價心得(第一季)｜必入坑美劇爆紅不是沒有原因！",
          "Netflix《活屍大軍/不死喪軍》評價，為了 2 億美金你敢進入喪屍之城嗎？",
          "Netflix動畫《詐騙之王/大欺詐師》GREAT PRETENDER心得",
          "Notion Template 模版推薦 - 10種必用的模版教學及應用 2020",
          "OGSM是什麼?比KPI、OKR更好用的目標績效管理方式 - AKERUE集散地",
          "ONEmade Pro 多功能無線投影轉換器",
          "PANSY FLOWER+CAFE'|韓國釜山 花+咖啡 PANSY FLOWER+CAFE'",
          "PPT模板｜超過100套實用款PPT簡報模板免費下載(2020)",
          "PttPlay 線上看：免費電影、動漫、日韓歐美電視劇，影片下載說明",
          "SUP立槳體驗去哪裡玩？宜蘭東澳、花蓮、日月潭、墾丁全台SUP熱門景點懶人包，SUP立槳周邊景點住宿全都包！",
          "Sandy珊蒂說",
          "Switch遊戲免費玩!?動森、薩爾達都免費借玩，GAME'NIR遊戲圖書館，免費14天玩到爽，還能無限續借。 - 敗家達人推薦",
          "Telegram 老司機群組去哪找？33 個頻道和群組讓你一次補齊進度 | 綠色工廠",
          "Top 5 非清寒也能申請的高額獎學金！快一起朝夢想前進",
          "Varmilo 阿米洛中國娘第3波「鴛鴦娘」主題鍵盤，2支鍵盤拼成鴛鴦情侶鍵盤 | 老貓測3C",
          "Word文字方塊一次全搞懂，功能解析 - 名偵探小確幸",
          "ZARA Beauty 2021全新系列純白簡約風太美！130項彩裝單品5月開賣！",
          "Zoomee 微網紅新平台 賺取第二分薪水",
          "[3C評測-網路通訊]NETGEAR優化天線之翼Wi-Fi 6三頻8串流AX6600夜鷹旗艦級新機RAX70上市，高效能避干擾優性價比2021年同級產品最佳選擇推薦！(開箱評測內含AC與AX網速比較) – 台灣熊部落格",
          "[Python爬蟲教學]Python網頁爬蟲動態翻頁的實作技巧",
          "[Scrapy教學4]掌握Scrapy框架重要的CSS定位元素方法",
          "[台北鍋物] 松江自助石頭火鍋城 ~台北行天宮旁老字號石頭火鍋，傳統爆炒鍋底湯頭的好滋味",
          "[大湖草莓] 古意園草莓農場 |大湖酒莊正後方 |高架草莓園區",
          "[好物分享]媽咪的神隊友~皂匠子馬鈴薯家事皂",
          "[市政府站義大利餐廳]Cin Cin Osteria 請請：義大利麵不錯．甜點更得我心！ @ Froda生活日記",
          "[彰化景點] 樂採果溫室觀光農場 |採果、控窯、草莓苗DIY",
          "[影評] 女人碎片 Pieces of a Woman – Vanessa Kirby的演出在Kornél Mundruczó的首部英語作品中無懈可擊 – 米國米Pin Chia: Bilingual Movie & TV Review",
          "[手作料理]用丹麥Arla Cream cheese三種口味簡單料理女兒的三餐~EP.10 (原味、鳳梨、特選香料奶油乳酪一次滿足)",
          "[新竹北埔]五指山猴洞步道|金龜岩|奇岩巨石一線天|原始森林探訪野餐",
          "[新竹關西景點] 金勇DIY番茄農場 |甜椒、草莓、小黃瓜、苦瓜、玉米 @ 小玉兒//趴趴走 :: 痞客邦 ::",
          "[東區早午餐推薦]At•First早寓：精緻早午餐／義大利麵／燉飯套餐．姊妹聚餐首選．可預約包廂（菜單）",
          "[生活筆記]開箱人生第一台車 - Skoda Fabia 2020 配備和菜單大公開 ~ 安淇拉。寫寫生活",
          "[痞客邦衝流量、洗流量、衝人氣] 如何成為部落客? 怎麼接案子? 提升部落格觀看、照片修圖剪輯APP",
          "[看房筆記] 你一定要懂得建案平面圖-九大步驟分析房屋格局 ~ 安淇拉。寫寫生活",
          "[紀錄]六指淵! 用特效玩創意-翻轉社群!六指淵X創力坊交流會",
          "[經驗分享]最難開發的牙材業務該怎樣做?",
          "[網路賺錢新發現]來自韓國的Zoomee網紅接案平台讓素人也可以輕鬆接案賺好康!",
          "[育嬰新手村] 小晴天手作造型饅頭 收涎饅頭 兒童可食用的可愛卡通造型饅頭",
          "[轉貼]一位「康霖直銷-尖峯團隊」成員的告白",
          "[轉貼]我與台灣最大詐騙集團交手的經驗",
          "[轉貼]特別注意一種男人【18禁】",
          "[轉貼]給想生小孩的已婚婦女求子方法(18禁)",
          "[開箱評測]NUARL N6 sports 真無線藍牙耳機～混合式環境音效•低延遲遊戲模式•新機再進化～ – 『不務正業的護理師』",
          "[開箱評測]SENNHEISER IE300 入耳式耳機～細膩情感怎能錯過～ – 『不務正業的護理師』",
          "[食記] 高雄 - Kyomo Pasta義大利麵専売，獨特日式風味義大利麵",
          "[食評]京都勝牛新光三越A11店晚餐",
          "[食評]美威鮭魚7-11上市~精選鮭魚菲力-義式香草口味",
          "arTree Hotel阿樹國際旅店 - 台北市中心三星級旅館，彷彿住在美術館，超高生活機能，台北小巨蛋商旅推薦",
          "clubhouse的風潮與疑慮",
          "iOS 14 開 App 跳出「尋找並連接您區域網路上的裝置」 | iPhone News 愛瘋了",
          "koti koti 家家｜史上最可愛的手工鐵盒餅乾  喜餅、彌月禮盒最佳推薦",
          "ozio蜂王乳試用心得",
          "ptt激推好吃的【低卡便當】與【低熱量零食】全收錄！",
          "| 保濕推薦 | 米泉釀 青春活妍面膜/青春活妍精華露 讓肌膚柔嫰的小祕密 有機溫泉米糠",
          "| 台北美食 | 嗨蝦蝦百匯鍋物吃到飽 和牛 天使紅蝦 必點招牌XO辣蝦湯頭 海鮮螃蟹 熱炒 生魚片 壽司 啤酒 上百種食材隨你吃",
          "| 嘉義景點 | 梅山瑞里竹林茶席體驗 悠走綠色隧道 品茗慢生活",
          "| 茶飲 | 菊賦樂享好茶 初蜜女人茶 台灣銅鑼白雪杭菊 杭菊枸杞紅棗茶 立體茶包 甘醇清香好味道",
          "|DayDreamyGirl Backküche白日夢女孩烘焙廚房|無麩質甜點在家也能輕鬆做(內含食譜)",
          "||吃。台北|| 小螺波螺螄粉 視覺味覺都很豐富的酸辣享受",
          "。貪吃馬麻與愛玩寶的生活日記。",
          "〈塔羅占卜〉未來一個月，我能夠心想事成嗎？",
          "〈心理測驗〉你最受到哪一類異性的青睞呢？",
          "〈心理測驗〉新年伊始，你該如何大展身手？",
          "《Organic Aromas有機香氛》美國香氛品牌，精油擴香儀的專家，釋放壓力，緩解身心靈的最佳幫手，讓你晚上好好眠",
          "《Summer Breeze》韓景察 @ 天空.過客.一個人",
          "《Sweet Tooth：鹿角男孩》評價與心得，有些故事從頭開始，你的故事從此開始",
          "《初戀30歲》Park Soojung/Kim Ralra",
          "《十九歲二十一歲》約翰/ZHENA @ 天空.過客.一個人",
          "《台灣關係法》主要推手籲美國與台灣展開「乒乓外交」 | 民報 Taiwan People News",
          "《哲仁王后》「中殿辭典」誕生！不只「No Touch」一解劇中20個獨創爆笑流行語~ | 少女心文室 NEWS ROOM",
          "《天堂的張望》白血症小女孩真實故事改編，一場社會溫暖與冷漠的博弈",
          "《天橋上的魔術師》37句奇幻台詞金句：「不是每把鑰匙都只能開鎖，有時開的是人心」 | 少女心文室 NEWS ROOM",
          "《奪命殺聲4/Voice4》第10集劇情推理心得：Circus Man現身警局投案？",
          "《女神降臨》修豪出國2年！書竣男友之姿護花，朱靜倒懷裡甜笑｜黃寅燁唱《花盆》歌詞藏心意 | 少女心文室 NEWS ROOM",
          "《女神降臨》差1cm吻上去！黃寅燁沙發咚文佳煐：我也是男人！書竣手機女友名字存這個 | 少女心文室 NEWS ROOM",
          "《奶酪陷阱》纯kki @ 天空.過客.一個人",
          "《她的遺願清單》yellow sheep/so-p @ 天空.過客.一個人",
          "《好好拍電影》keeping rolling起起伏伏香港電影的黃金時代",
          "《完全獵魔攻略》，電玩遊戲低配版。",
          "《密探零零發》推出4月代言活動 古裝KID化身新角色「麟博笙」颯爽登場",
          "《微疼姑姑的鬼故事》微疼 @ 天空.過客.一個人",
          "《我不喜歡這世界，我只喜歡你》喬一",
          "《我的偶像總裁》性恩 @ 天空.過客.一個人",
          "《柏捷頓家族》（Bridgerton）小說第四集「情聖的戀愛」",
          "《柏捷頓家族：名門韻事》（Bridgerton）帥氣男主角是誰？",
          "《柏捷頓家族：名門韻事》（Bridgerton）第三季小說「紳士與灰姑娘」劇情不負責推測",
          "《柏捷頓家族：名門韻事》（Bridgerton）第二季愛情主軸將放在帥大哥身上",
          "《樂透研究院》擋牌意思是什麼?簽擋牌包中?!",
          "《淵的信件》HYEON A CHO",
          "《煙囪小鎮的普佩》Poupelle of Chimney Town你要繼續相信下去，只要一直相信，就會看見改變世界的星星",
          "《獨居》POGO @ 天空.過客.一個人",
          "《當男人戀愛時》23句對白又哭又笑，許瑋甯虐心金句：「你以為你欠我的是這個嗎？」 | 少女心文室 NEWS ROOM",
          "《當男人戀愛時》Man In Love啥款？！這是只有台灣人才懂，正港的「台式浪漫」愛情！",
          "《羽毛球少年團/RACKET少年團》EP12 劇情與心得，等我少運會拿冠軍",
          "《花府千歲》wbtjieya",
          "《蜀漢小軍師：像素三國》開啟事前預約 公開遊戲玩法介紹和預約獎勵",
          "《越做越愛：男女必修性愛學分》新書上市！ - 艾姬的情慾故事",
          "《那個男人的記憶法》語錄 | “你會選擇忘記悲痛，還是永遠記得？”",
          "《阿爾瑪-終極兵器》兵長 @ 天空.過客.一個人",
          "《魅惑》Hongjacga @ 天空.過客.一個人",
          "「你沒問題，只欠缺找到自己強項」讀書心得：人際關係這樣處理就對了 - 維琪，你的好感度教練",
          "「嘿！服務鈴可不在我身上喔！」幽默應對的空中小故事 — 🌿 AG Girl 艾許娜說書",
          "「大人世界叫忍耐」《以家人之名》40句台詞大全｜尖尖看透、凌霄甜寵、子秋戳心、李爸最暖 | 少女心文室 NEWS ROOM",
          "「對不起我錯了，我們復合吧！」 不要輕易跟這5個星座分手，再後悔也來不及了！",
          "「最毒蔬果」排行！你都把農藥吃下肚了嗎？",
          "「為什麼對我這麼冷淡？」不愛了？還是為了未來打拼？12星座男變冷淡原因，處女、巨蟹請放心",
          "「簡訊實聯制」比快還要更快，掃描即完成實名，快速實名登記 App ( Android )",
          "「遠離焦慮」我們應該如何跟悲傷告別？",
          "『人中之龍７　光與闇的去向　國際版』 將於2021年2月25日發售 | NOVA資訊廣場",
          "『保險怎麼買?』當過保險業務的真實心得，年輕人必學的保險規劃",
          "『居家雜貨』除了ikea必買、宜得利推薦，你還會買什麼？",
          "『新北美食』- 電話打78次才接通的【六必居潮州沙鍋粥】 ✖ 吃飽再去逛新北歡樂耶誕城 ✖ 就在新北市政府對面！",
          "『新竹美食』-【東門燒肉霸】列入新竹東門市場美食名冊 ✖ 新竹燒肉推薦華麗系擺盤 ✖ 專人擔當幫烤色香味一次滿足 ✖ 上班族下班小酌的秘密基地",
          "『百家樂討論區』新款百家樂玩法你玩過了嗎？！",
          "『美食@屏東』 屏東市區漫步一日遊、賞燈會、美菊麵包店、一級棒牛肉麵",
          "【2%活存＋50次跨轉跨提免費，100元就能開始理財，還有200元首刷禮：聯邦New New Bank數位帳戶】⁣⁣ - 樂狗日常",
          "【2020台北火鍋懶人包】8間必吃麻辣鍋、網美鍋、涮涮鍋，還有和牛吃到飽！",
          "【2021台中伴手禮/下午茶/彌月禮盒推薦】1% bakery黎明店。2021草莓季限定，特濃乳酪系列甜點首選，結合在地食材，1%bakery黎明店菜單",
          "【2021台北火鍋懶人包】8間必吃麻辣鍋、網美鍋、涮涮鍋，還有和牛吃到飽！",
          "【2021新北三重美食】啊母啊姆鍋燒麵。三重最新浮誇系美食，熔岩小龍蝦、扇貝、九孔、超大蛤蜊、小卷、鮮蝦攏總伍，還有現煎可麗餅，啊母啊姆鍋燒麵菜單",
          "【2021集集燈會】哞幻光影嘉年華，集集車站華麗變身，漫步璀璨黃金隧道 - 旅行履行中 / 一日遊、懶人包、景點、美食、住宿",
          "【5星耽美bl小說推薦心得文】都巿耽美+甜寵耽美 |《你的距離》作者：公子優",
          "【BG】15本男女主雙重生文的言情小說合集推薦",
          "【Netflix電影推薦】2021年超高評價片單都在這, 不看會後悔的超好看電影！",
          "【PPT模板】免費讓你的簡報質感爆棚!8款設計感PPT模板",
          "【R18】2021年1月里番/裏番列表",
          "【Remi大小事】寶寶愛柒投｜夢幻中的媽媽包好難挑唷｜DONE BY DEER 輕量後揹媽媽包",
          "【Remi大小事】寶寶用餐囉！｜餐椅篇｜安貝貝幫寶椅｜Chicco餐椅｜Apramo摺疊餐椅",
          "【TF家族】四季更迭，樓宇卻永遠有少年——熙來攘往",
          "【TOP10南機場夜市必吃小吃】台北最強夜市懶人包｜阿男麻油雞、山內雞肉、好記刀削麵、八棟圓仔湯、王功鮮蚵",
          "【TW繁體中文】2015年【原創言情小說，重生甜寵文】–《重生之香途》月下金狐",
          "【TW繁體中文】2016年4★不錯【原創言情小說，娛樂圈／再續前緣／炫富求愛】–《高調寵愛》笑佳人",
          "【TW繁體中文】2016年【原創言情小說，婚戀】–《妻奴(婚戀高干)》了了是我 – starryeagle | 蒼野之鷹看小說",
          "【TW繁體中文】2018年4★不錯【原創言情小說，重生言情／二婚言情】–《雲鬢衣香》作者：笑佳人",
          "【TW繁體中文】2018年5★推薦【原創言情小說，校園到都會／姐弟戀／甜寵／青春遇上世故】–《小先生》咬春餅",
          "【TW繁體中文】2018年5★推薦【原創言情小說，甜寵／姐弟戀，青梅竹馬／娛樂圈】–《崽崽》川瀾",
          "【ViVa萬歲牌】薯丁小於綜合包｜(杏仁果x辣小魚x薯丁x花生x蝦味米果x醬油風味米果)｜津津有味得一口一口吃不停! @酷比酷比小惡魔 -",
          "【Wordpress】14個熱門外掛推薦和6個輕量又美觀主題清單 | 聽May說捷克",
          "【ppt模板】八種風格-找到屬於你的自我介紹",
          "【《哈囉，我好嗎？》EP.1：魷魚遇上暴露狂】心得與劇情分析、經典台詞整理",
          "【世貿101站】Salt & Stone》披薩、義大利麵 OK，服務傻眼的加州義大利餐廳｜信義區 - Kate's Fun Zone 凱特瘋閣.",
          "【中壢按摩推薦】天川養身會館．桃園中壢／ 天川養生會館／ 腳底按摩／ 全身指壓SPA - 天使馨＆魔鬼嫙",
          "【中山站美食】馬太郎燒肉 燒肉吃到飽 日式燒肉 炭火燒肉 台北燒肉 台北燒烤 吃到飽推薦 馬太郎燒肉菜單",
          "【交友軟體】遇見真愛 or 感情玩家? 網路交友 你想尋找的是甚麼關係？",
          "【人像攝影】大溪老街散策人像遊拍",
          "【全聯】開箱 美味堂涼拌菜 7月限定涼夏即食樂系列",
          "【兩性／相處】愛是牽掛，不是牽絆 - 艾姬的情慾故事",
          "【公告】即日起更新時間＆我的LINE貼圖上架囉！",
          "【劇評】逆境底下，人類即怪物《Sweet Home》",
          "【動畫】盤點10部童年卡通中的女二們，除了「童年卡通三大綠茶婊」外你還知道誰?",
          "【動畫】童年回憶！你看過哈姆太郎的母親嗎？盤點25位超可愛的哈姆好友們！",
          "【北投 美食】冬至 元宵節就是要吃湯圓跟燒麻糬!北投在地人推薦5家必吃懶人包",
          "【南機場夜市】阿男麻油雞 : 米其林推薦美食小吃 ! 湯頭好喝，麵線只要20元~ | 凱西跳跳糖の美食旅遊",
          "【原神】風神瞳懶人包，完整地點攻略，66個風神瞳通通收集(含成就、顏色區分圖、風神瞳全位置影片) - 敗家達人推薦",
          "【台中sogo】ViTO義式日本冰淇淋，SOGO B1全新改裝，超好吃的薑汁撞奶義大利冰淇淋",
          "【台中】春節前美美造型好過年，ink hair台中一中，設計師超專業建議",
          "【台中】瑰覓 Gui Mi｜創意與美味兼具的橘醬、蝦醬義大利麵｜逢甲商圈美食",
          "【台中北區】玩麵pasta，超高CP值平價義大利麵，超濃郁焗烤一定不能錯過。",
          "【台中景點推薦】不能莓有你，不用到苗栗大湖，台中也有高架式草莓園可以採草莓！ - 旅行履行中 / 一日遊、懶人包、景點、美食、住宿",
          "【台中景點推薦】北屯狼尾草秘境，漫步在空靈系狼尾草之間，眺望抹茶生乳捲 - 旅行履行中 / 一日遊、懶人包、景點、美食、住宿",
          "【台中親子景點】台中採草莓｜紅森林高架草莓園～高架種植採草莓不用辛苦彎腰，有慧眼還能採到隱藏版的白草莓 – 史努比遊樂園",
          "【台中親子景點】台中草莓園｜友田珍鄉有機農場～有機無毒高架採草莓、採蕃茄，還有美味草莓酒香腸，網美打卡景點 – 史努比遊樂園",
          "【台中這樣玩】福壽山、武陵農場二日遊，秋冬一起上梨山賞楓去！ - 旅行履行中 / 一日遊、懶人包、景點、美食、住宿",
          "【台劇】《火神的眼淚》與死神抗爭的無名英雄—「消防員」 黑暗中的曙光！",
          "【台北】唐吉訶德西門店｜從美妝保養品到鱈場蟹應有盡有，一進去就讓人失心瘋｜千萬不要帶信用卡(內有超多圖)",
          "【台北中山】戀戀日光.日光角落烘焙坊 民權店，台北下午茶選擇，嚴選天然食材，無添加沒負擔，健康飲食選擇",
          "【台北中山】日暮裏冷藏和牛鍋物放題 台北南京店，個人和牛火鍋吃到飽，冷藏熟成肉品，個人火鍋推薦 @ Aga不專業食記攝影",
          "【台北大同】晶湯匙泰式主題餐廳 京站店，榮獲泰精選Thai Select標章， 官⽅唯一泰國美食指標，泰國菜吃了會上癮，泰國廚房給你全世界的美味，最具代表性的泰式餐廳 @ Aga不專業食記攝影",
          "【台北大安】三河中川屋 光復南店，附菜單，平價鰻魚三吃，日式料理，道地日本鰻魚飯，大安區美食，新開幕，台北美食，捷運國父紀念館站",
          "【台北居酒屋】會客室 新大阪 parlour new osaka  80年代 懷舊風 復古風 居酒屋 日式居酒屋",
          "【台北文華東方酒店】M.O. Bar 跨界聯名曜畫廊，首創調酒結合當代藝術 —— 檳榔葉、芭樂在地食材迸發新滋味",
          "【台北食記】市民大道居酒屋酌九壽司居酒屋，鄰近捷運忠孝敦化站聚餐小酌的台北松山居酒屋 - Hardaway享樂生活",
          "【台東這樣玩】太麻里美食景點懶人包，在黃澄澄的金針花海下來趟忘憂之旅 - 旅行履行中 / 一日遊、懶人包、景點、美食、住宿",
          "【台東這樣玩】市區景點美食懶人包，眺望海景、漫步街景、品嚐美食 - 旅行履行中 / 一日遊、懶人包、景點、美食、住宿",
          "【台東這樣玩】鹿野景點美食懶人包，望著繽紛熱氣球冉冉升空，光雕煙火秀照亮黑夜 - 旅行履行中 / 一日遊、懶人包、景點、美食、住宿",
          "【台灣看天下】數位獨裁時代已經來臨 | 民報 Taiwan People News",
          "【台語歌♬賴慈泓 - 愛講白賊的查某人】台灣閩南語正字／台羅拼音歌詞、翻譯",
          "【國片《怪胎》：奇幻愛情電影？不，它其實很寫實】介紹／心得分析／經典台詞",
          "【圖文】性教育和品格教育，哪個最重要？",
          "【團購】Cutaway｜台北最強聯名肉桂捲禮盒開箱！一次吃到5間超人氣排隊名店",
          "【基隆景點】望幽谷｜讓人遺忘憂傷的海岸步道",
          "【基隆這樣玩】基隆廟口夜市美食懶人包，精選6家推薦美食地圖 - 旅行履行中 / 一日遊、懶人包、景點、美食、住宿",
          "【娛樂城電子遊戲】老虎機台這樣選才賺錢!!",
          "【婚姻．人際．婆媳】把媳婦疼入心家和萬事興，多有福氣的事 - Wise Library 1985",
          "【學英文這件事】為了工作？留學？還是交朋友？其實就是自我提升",
          "【宅家解悶良藥】精選四大必看線上展覽 一起chill起來",
          "【宅配】阿聰師的糕餅主意｜芋頭與乳酪迸出的中西新滋味，用特濃芋頭重乳酪蛋糕征服媽媽的味蕾｜母親節蛋糕首選",
          "【宅配咖啡】返生工坊鐵窗咖啡咖啡豆運用機器發酵技術，讓大家便宜享用跟麝香貓咖啡豆雷同風味咖啡 - Hardaway享樂生活",
          "【宅配美食】只要3步驟美味Pizza輕鬆上桌．冷凍庫必備的懶人料理『瑪莉屋』",
          "【宅配美食】如邑堂餅家，冠軍太陽餅，芋頭控必吃芋頭酥，天然好味檸檬餅，減糖好吃不甜膩 @ Aga不專業食記攝影",
          "【宅配美食】趁熱吃司康，會爆醬的司康，在家吃下午茶，外酥內鬆軟，宅配甜點，薄型爆醬司康",
          "【安娜心測】結婚後的你會是哪種類型的另一半？",
          "【宜蘭這樣玩】三星景點美食懶人包，懷舊車站、私房落羽松秘境 - 旅行履行中 / 一日遊、懶人包、景點、美食、住宿",
          "【宜蘭遊記】(礁溪) 抹茶山聖母登山步道攻略 (停車、路線、上山時間、廁所)",
          "【寫作日常】來談談我覺得《Wreadit銳誌》有點讓人難上手的原因",
          "【專文】婉約山月 | 民報 Taiwan People News",
          "【專文】超越平庸 民主最大，問題不在獨裁 | 民報 Taiwan People News",
          "【專欄】扁媽簡約家祭卻更讓人由衷尊敬與懷念 | 民報 Taiwan People News",
          "【小確幸】即將結束的緣份—要準備把美國運通簽帳白金卡(AMEX Platinum)停掉",
          "【小確幸】比較像薑母鴨的羊肉爐—板橋阿正師薑母鴨羊肉爐",
          "【小確幸】粉料就是甜甜的：滿滿台南美食價值的「美好鹹酥雞」",
          "【屏東活動推薦】《潮巢》潮州地方創生展，打造昔日潮州榮景，創新翻玩地方文化 - 旅行履行中 / 一日遊、懶人包、景點、美食、住宿",
          "【市政府捷運站】曼谷新泰式料理/統一時代店/米其林推薦餐廳/Lady nara | 艾咪去哪玩",
          "【彰化。二水】Sweego 水水果饌－二水體驗館。下午茶。IG網美咖啡廳",
          "【彰化景點推薦】成美文化園，網美必拍打卡景點，兼六園、嘉明湖、落雨松大道、油紙傘巷一次全收齊！ - 旅行履行中 / 一日遊、懶人包、景點、美食、住宿",
          "【影評】《陪睡大人》老闆我還要",
          "【影評】一個想法轉念，拋開思考過眼雲煙《靈魂急轉彎》",
          "【影評】凌駕於荒謬都會之上的自我認同《妄想代理人》",
          "【影評】越挫越勇！不懼強權，伊朗電影這回拷問死刑體制《無邪》",
          "【影評】電影「明天別再來敲門」｜老去並不可怕",
          "【微書評】 豪門聯姻甜寵文 |《到我身邊來》作者：六盲星 |【5星原創言情小說推薦心得文】 – starryeagle | 蒼野之鷹：看小說、聊書、聊投資",
          "【性別】讓我們用三分鐘的時間整理一下！是時候該認真談談性別運動這件情",
          "【情侶保溫杯】韓國WONDER MAMA 鈦保溫杯 你的黑我的白 可裝牛奶咖啡 異味不殘留 防寒小物",
          "【政治議題雜談】談民主前我們應該思考什麼？當代思潮如何影響我們談政治的方式",
          "【文豪】德國文豪-歌德的25句語錄，為你解答人生中的煩惱!",
          "【料理】彩椒燴元寶♥10分鐘端上桌，過年餐桌上的必備佳餚！  　",
          "【新北蘆洲】川蜀冒菜，蘆洲特色小吃，蘆洲公車總站旁，特色四川冒菜，受歡迎的酸辣粉，附菜單 @ Aga不專業食記攝影",
          "【新竹美食】 Lady nara曼谷新泰式料理新竹SOGO店，推薦必吃貴婦級網美泰式下午茶，抹茶達克瓦茲＆泰式烤椰米塔超好吃！還有泰式義大利麵、輕食沙拉、開胃菜、外帶美食。內文附詳細菜單價位介紹。 @熊寶小榆の旅遊日記",
          "【新竹美食】犬首燒 新竹店。法鬥造型雞蛋糕，近新竹城隍廟創意甜點小吃。(芋頭麻糬．花生麻糬．抹茶麻糬．爆漿卡士達) @熊寶小榆の旅遊日記",
          "【新莊火鍋】豆品道石頭火鍋 – 貝大小姐與瑞餚姐の囂脂私蜜話",
          "【新莊火鍋】豆品道石頭火鍋 – 貝大小姐與瑞餚姐の囂脂私蜜話",
          "【新莊義大利麵】沙夏廚房，平價奢華版的早午餐，食材新鮮、自製的料理醬汁，單品加價49元升級濃湯+紅茶喝到飽",
          "【旅行】靜居都市叢林的小小仙境：讓我們一起拜訪台中“丸子工作室”",
          "【日劇】《鐵證懸案3 ~真實之門~》| 帶你了解人性與時代、解決懸案!",
          "【日常】什麼時候怕丟臉是一種顯學了？關於現在年輕人的一點想法",
          "【時事】從“北一女陪聊事件”來探討社運女權本身的荒謬性",
          "【時事】是打壓言論自由？還是我們反省的不夠？從中天關台看這一代台灣人的心靈狀況",
          "【時事】瞧不起品格的正義算正義嗎？來談跟蹤騷擾防治法這件事情",
          "【更新】R18泡麵番/表裏番 心得 女性向深夜動畫 TL漫畫 里番 @ 宅宅生存日誌",
          "【月薪嬌妻新春特別篇 - 新垣结衣、星野源】2021日本電視劇",
          "【東京奧運】這是一場運動競技 享受它",
          "【桃園大溪】323溫室精緻農場．北部採草莓景點推薦!免收門票，下雨天也能來享受採果樂趣!",
          "【桃園美食】中壢。老師傅牛肉麵｜鄰近中原大學的人氣嘻哈牛肉麵，清燉湯頭濃郁好喝 | 熊貓愛吃魚",
          "【梅花怎麼拍】10招超實用取景法，拍花、拍人一篇搞定，輕鬆捕捉猶如雪景般的夢幻美景 - 旅行履行中 / 一日遊、懶人包、景點、美食、住宿",
          "【歐洲之聲】香港的大逮捕仍在持續中 | 民報 Taiwan People News",
          "【歡脫靈異小說推薦】原創BG小說《穿到大佬黑化前》——鬼吃人不可怕，人吃鬼才驚悚｜穿書系統＋靈異鬼怪＋女扮男裝＋黑色幽默",
          "【民報書摘】台南莊黃兩個家族—莊維藩與黃京華的故事 | 民報 Taiwan People News",
          "【民報書摘】台語片的魔力：從故事、明星、導演到類型與行銷的電影關鍵詞 | 民報 Taiwan People News",
          "【民報書摘】驚驚袂著等：劉靜娟的台語時間 | 民報 Taiwan People News",
          "【永垂不朽的影史老片】情人節電影的另類選擇——經典愛情電影",
          "【活動通知】端午節快樂！快來分享肉粽不可少的餡料，市價888元金箔拉絲蛋白皂，免費送給你",
          "【海鮮CHILL CHILL】史上最強、最辛辣，最有趣的Podcast介紹！就是要啟蒙你的性愛經驗 - HOLA！CHILL姐酋姐來求解",
          "【溫馨提醒】2021農曆新年期間，Wreadit春節連續假期暫停客服服務！（我們也要放假去囉～）",
          "【物品分類及整理】愛的物品太多?進一步細分愛的深淺!《不丟東西的整理術》 - 賀啦!哇哉",
          "【玩具DIY】在家自製感覺統合觸覺箱 | 媽咪~爸比~快樂孕兒、育兒教養經",
          "【生活】IKEA鯊鯊粉靠過來！鯊魚系列商品彙整，與鯊鯊一起線上購物在家防疫！",
          "【生活｜老屋翻新】30年老屋翻新全記錄(家具軟件篇)。挑選適合房子風格的家具軟件很重要，經濟實惠，自行搭配",
          "【碧藍檔案】首抽教學，角色強度排行，強勢S級推薦。(下載、設定、評價攻略) - 敗家達人推薦",
          "【神奇女俠 1984 - 神力女超人 1984 - Wonder Woman 2】2020美電影",
          "【系列】論“表演性自由派女權”是如何阻礙真正性別弱勢的發言權的（２）",
          "【網賺】比特幣挖擴！一邊上網還能免費賺被動收入－CryptoTab @ 網賺推薦",
          "【網路經營】疫情來襲，網購當道！團媽與微電商部落客省荷包技巧公開，熱門常用商品宣傳設計版型一次擁有！",
          "【線上百家樂ptt】江湖傳說百家樂預測是真是假?!",
          "【美食】信義區下午茶推薦「We & Me Cafe」，捷運市政府站咖啡廳、全日早午餐、燉飯義大利麵",
          "【美食】新北市新店 意享美式廚房(新店店)｜被美式餐廳耽誤的甜點店（內有菜單）",
          "【臨時突發】昨天，我又再次被台灣媒體約稿了",
          "【自信經營】相信自己值得被愛，別向年齡或他人的眼光妥協",
          "【苗栗大湖】巧合草莓園|佔地面積超廣的地面草莓園 – 丹尼旅遊食記",
          "【菲力國王ptt】菲力國王百家樂好贏嗎?聽說百家樂詐賭很嚴重?!",
          "【街拍攝影】印象中的萬華街區｜一日街拍體驗",
          "【評測】「收藏家」72L 電子防潮箱，體積更小吸濕效率更高 (AD-72P) – 頭殼總長",
          "【身體意識】簡單來說一下我為什麼現在不支持Fat-positive了",
          "【這些人】婆媳關係非人性，何苦為難女人？ | 民報 Taiwan People News",
          "【連載】18禁都會羅曼史：公主徹夜未眠(1-6) - 頁6，共6 - 艾姬的情慾故事",
          "【運彩盤口分析】運彩老司機給想踏入玩運彩新手的忠告!",
          "【醫病平台】42歲發現罹癌，同時間發現丈夫外遇，我現在都還好好的，那妳為什麼不能？ | 民報 Taiwan People News",
          "【開箱、比較】多款 logitech 羅技 無線 高階滑鼠 MX 系列 大比拚！優、缺點一次曝光，不用再煩惱要買哪一隻！｜2020/08 | 李歐雜記．攝影 x Tech",
          "【開箱】GK G5 火拳艾斯 迷你炎帝!!",
          "【開箱】JacksDo 艾斯 大炎戒 炎帝 場景地台 -  JacksDo地台系列",
          "【開箱】POP SOC 波特卡斯‧D‧艾斯 - 漲翻天的POP坐姿系列",
          "【開箱】一番賞 兄弟之絆 A賞 - 艾斯 薩波 魯夫 兒時三兄弟",
          "【開箱】尋寶之旅 vol.5 艾斯 馬可 - 福爾摩斯 英國貝克街",
          "【關於愛情，你想知道】前任想跟自己複合，我該不該吃回頭草?",
          "【陸劇必追】強攻系「女追男」六大高甜度陸劇必看推薦排行榜",
          "【電影】全家玩到趴 整部戲的重點除了雷神索爾的六塊肌加大GG的雷神之錘外 還有...(有雷慎入) @ 帆帆貓A幸福旅行台 :: 痞客邦 ::",
          "【電玩雜談】從恐怖遊戲的劇情，細談我們的社會是如何看待男性本身",
          "【韓劇《哲仁王后》EP.1：張鳳煥夢遊仙境】心得與劇情分析、經典台詞",
          "【韓劇】「不能因為怕世界不會改變，就什麼都不做」《Hush沉默警報》9~16集的14句金句",
          "【韓劇】「骨盆剛才歸位了!」《機智醫生生活2》李翊晙的9個搞笑橋段",
          "【韓劇】羽球少年團 人物介紹+劇情簡介",
          "【餐廳懶人包】最低只要五折！新冠肺炎疫情期間吃什麼？全台超過100家防疫餐廳報你知，外帶、自取、外送超方便",
          "【高雄】草衙道鈴鹿賽道樂園-卡丁車初體驗「飆速求生」",
          "【魚油保健】歐3加福精萃濃縮EPA(85%omega-3)／歐3加福精萃濃縮DHA(65%omega-3)",
          "一發入魂 18禁神作 鬼作DVD 完熟 出擊",
          "一銀甜品-神農店 台南市 老街復古的IG打卡點，元寶造型雞蛋糕香氣十足",
          "三招居家伸展運動，改善肩、頸、背痠痛！累了就靠這招打起精神！",
          "三色蛋做法 ，用電鍋輕鬆做（電鍋料理） - 職業觀光客 LISA",
          "三訪興安街早午餐【吐YOU吐ME碳烤吐司專賣】，鳳梨牛肉漢堡、起司金塊雞蛋糕超罪惡，還能外帶當企業餐盒！",
          "上海星巴克限定的星巴克太空熊2021台灣也買得到啦!",
          "下一個超夯被動收入『娛樂城代理』全面開放中!快找朋友一起玩遊戲賺錢!",
          "下港女子寫有路用的遊記【臺灣台南 •十鼓仁糖文創園區】製糖所再利用的園區，臺灣第一座鼓樂主題的國際藝術村。",
          "不可思議的台灣之美—在玉山撞見初雪飛舞",
          "不好的五種玩家 你有上榜嗎?",
          "不安親／基礎趁寒假打好！小一菜鳥輕鬆補強靠5招 @ 焦糖綠玫瑰 caramelgreen",
          "不想賺錢，能在無廣告介面寫作的部落格平台：TIMELOG探路客優缺點分析 | 部落格實戰經驗和經營想法",
          "不相信愛情的女孩｜電影《戀夏500天》(500 Days Of Summer)劇中台詞中英對照",
          "不管您願不願意！WhatsApp 都要與 FB 共享您的數據 | 愛瘋日報",
          "不記帳理財法：不記帳也能理財?(Stop tracking your spending)利用心理帳戶概估你每年的消費支出。 - 易查克的退休對策",
          "不離婚太簡單，因為離婚好難｜離婚協議書的範本和相關法律懶人包｜對方不願意簽字離婚怎麼辦….. – Wise Library 1985",
          "世界10大賭場大揭密！一個賭徒玩家的真心告白！",
          "中國老司機 – 《尤果圈》APP 大量美女套圖 | 雲爸的私處",
          "中壢銅板美食 鐘予原味當歸鴨 鴨腿飯是孩子們的最愛 當歸湯天冷喝一碗暖心又暖胃",
          "中職2021賽程總整理",
          "九州娛樂城ptt｜為什麼被九州風控收傳票大家還是愛玩tha娛樂城?",
          "九牛娛樂城跟leo和九州是同一間？結果意外大翻轉?",
          "也許我們一輩子都在重修寬恕這堂課 – Wise Library 1985",
          "乾煸四季豆食譜 不炸，有烤箱就可以（簡易版本） - 職業觀光客 LISA",
          "二哥炒鱔魚，海安路宵夜美食，大火快炒的鑊氣，鱔魚跟意麵都很 Q！",
          "亞森羅蘋Lupin(2021冬季新劇)",
          "人妻實習生 :: 痞客邦 ::",
          "人物誌｜ 徐若瑄：千萬不要一直重複在一個痛苦中… – Wise Library 1985",
          "他是真心愛你嗎？12星座男沒跟你聊「這件事」，代表沒有真的喜歡上你！",
          "他變心了妳是知道的，別再視而不見的5個徵兆 - 艾姬的情慾故事",
          "任天堂大量NS玩家賬戶異常登錄任天堂疑似遇安全漏洞",
          "你可以再靠近一點~5款「零負評」開架保養給你過年好氣色，痘痘、暗沉肌退散！",
          "你想像不到的『台灣隱形富豪』!靠博弈產業吸金百億身家?!",
          "你知道自己代表著什麼動物嗎？從星座「動物」看你的內心真實個性！摩羯是山羊、處女是蜜蜂！",
          "你開啟 Google 時間軸了嗎？是否與確診者足跡相同？讓科技輔助你",
          "使用 Nicegram 代替 Telegram iOS 版，解鎖敏感內容限制可查看老司機群組 - 逍遙の窩",
          "使用對數座標軸，讓你看待股票市場漲跌幅圖有正確的觀感",
          "信保基金申請5項準備|籌措創業資金免煩惱",
          "信用貸款挑選評估知多少",
          "健康年貨 里仁 2021 限定年貨零食禮盒 減少添加保留原味 吃得安心 - 出發吧! 沃爾夫.",
          "像素風放置手遊《蜀漢小軍師：像素三國》雙平台正式上線 豐富開服獎勵助玩家征戰沙場",
          "元宵節來玩成人版燈謎！全部答對只能說太變態了...",
          "免揉手撕餐包食譜 ，柔軟好吃小餐包，免揉最方便",
          "全新推出 - WREADIT 銳誌，讓每個人都能是個創作家！",
          "全新部落格平台！WREADIT讓線上寫作，變得超簡單！｜WREADIT 銳誌",
          "全民打棒球PRO《模擬聯賽》輕鬆上黃金！掌握技巧隔週再上『鑽石』！每週多10張紅卡抽！戰術攻略技巧！ - 敗家達人推薦",
          "全球糖尿病人數快速增長，顯示出廉價食物的弊端",
          "全聯美食推薦！源冠一家人旺餃系列，高麗菜飛魚卵水餃/高麗菜章魚水餃，爆汁大水餃，紅豆珍珠風味金錢餅，甜而不膩，網路熱議美食。",
          "兩性專欄｜僅限熱戀期的爆棚體貼浪漫，對長遠關係來說並不是好事 - Wise Library 1985",
          "兩性專欄｜愛情的本質是殘忍「不愛了的時候，一切歸零不過就是一瞬間的事。」 - Wise Library 1985",
          "兩日限定！曜畫廊特獻 風靡歐洲百年的超現實藝術、音樂與美食體驗",
          "公益娛樂城是做公益還是賺錢的?",
          "公視消防職人劇 火神的眼淚 聯名 Bagrun 二代都會玩家軍事風格瞬開後背包 多層次收納井然有序",
          "公開彩民不玩今彩539轉玩六合彩的內幕!(539台彩作弊?",
          "六七年級生的青春回憶！10部Netflix必看的動畫動漫推薦《幽遊白書》《攻殼機動隊》，線上看動畫重溫經典劇情",
          "六合高架牛奶草莓農場 | 苗栗大湖台三線草莓園 | 草莓周邊商品、煉乳草莓、草莓酒",
          "冷知識! 原來【唐伯虎點秋香】書生奪命劍的劍，是用機關拆掉槍頭 | 雲爸的私處",
          "出生季節除了與星座有關　也可能預知疾病及死亡風險 - 1122 health 健康星球",
          "分享.大研生醫視易適葉黃素，7in1的完整保護，美國專利FloraGLO游離型葉黃素更晶亮!",
          "初魚料亭│台北日式料理必吃餐廳，推薦初魚鮨泰順店無菜單料理！安靜愜意適合生日聚餐、情侶約會！ @ Sandy珊蒂說",
          "別再說 Apple TV+ 沒東西看！蘋果去年共推出了 42 部新劇 | iPhone News 愛瘋了",
          "別太關注別人的私生活，即使他是公眾人物",
          "剧迷TV (JuMi.tv) 名稱相同的另一個免費影視網站，線上看電影、戲劇、動漫、綜藝 - 逍遙の窩",
          "創作",
          "加入WREADIT銳誌 | 寫部落格輕鬆賺錢 | 被動收入從0到無限大",
          "加速逃離中國！蘋果開始在越南組裝 iPad 和 MacBook | 愛瘋日報",
          "動畫《動物狂想曲／BEASTARS》評價＋心得：擬人化動物寫實世界",
          "十一月 Data talk / 掌握產業淡旺季，擁抱流量及廣告收益甜蜜點 – Data Talk",
          "十二星座是這樣的閨蜜？ 超精準分析！雙魚是最好的閨蜜？",
          "十二星座被已讀不回？天蠍座失蹤了就沒機會，雙子座覺得話題無聊？",
          "半小時內掃空！麥當勞x小小兵置物籃你搶到了嗎？",
          "南北大比拼！老饕必吃的10間的魯肉飯、控肉飯！連老外都征服的台灣國民小吃，你吃過幾間?",
          "南泉冰菓室 滿滿草莓的草莓牛奶冰，光看就覺得幸福～安平超人氣冰店！",
          "印第安那瓊斯遊戲必須向神海和古墓取經的5個方面",
          "又到月底吃土的時候!你需要台中銅板小吃拯救你!",
          "反課綱學生：不排除轉佔國民黨部或立法院 | 民報 Taiwan People News",
          "古言有肉心得 | 《藏玉納珠》作者：狂上加狂 |【5星原創言情小說推薦心得文】|有肉有劇情 | 強取豪奪 | 古代言情  | 大叔文(年齡差>10歲) | 女強男強 | 腹黑男主 | 二嫁",
          "古言重生 | 《病嬌折我爛桃花（重生）》作者：柚一只梨 |【5星原創言情小說推薦心得文】| 雙向暗戀言情 | 有肉渣 | 雙重生言情 | 甜寵言情 | 古代言情 | 姐弟戀言情 | 男主是病嬌 【微】 – starryeagle | 蒼野之鷹：看小說、聊書、聊投資",
          "台中20號倉庫-充滿藝術的小道 - Fengplay 峰．玩樂旅誌．食旅",
          "台中住宿開箱｜探索私旅Explore Hotel 極簡系飯店超舒適 近逢甲夜市覓食超便利 - 小小的100種任性生活",
          "台中烤鴨 | 2021精選台中7間人氣烤鴨，美村烤鴨、村松烤鴨、九合烤鴨等必吃收藏 Nini and Blue 玩樂食記",
          "台中遠百店|經典北方麵食 老味道 朱記餡餅粥 台中親子家庭聚餐首選 開幕限量好康搶購 國家歌劇院附近美食",
          "台中｜一中街美食｜兩津芙蓉蛋塔為什麼大排長龍 - Ms. Y.C. Luuu",
          "台中｜市場美食｜用米其林星星-莆田，款待最親愛的家人 - Ms. Y.C. Luuu",
          "台中｜市場美食｜第五市場蚵仔粥用鮮甜贏得人心 - Ms. Y.C. Luuu",
          "台北 南京復興美食「喫茶小豆」巷弄內的日式洋風 不限時咖啡廳 甜點店 文末菜單 | 抹妹。找美食點我",
          "台北 大安站美食「漫拾泡芙」外帶泡芙小攤車！抹茶、芋泥、巧克力應有盡有 文末菜單 | 抹妹。找美食點我",
          "台北 忠孝新生美食「蓋子普拉斯小餐館」平價美式餐廳 聚餐推薦 文末菜單 | 抹妹。找美食點我",
          "台北 東門站美食///刨冰和雞蛋糕都一成不變??那是沒吃過『JinJin金金良甜』文末附菜單 | 抹妹。找美食點我",
          "台北士林【美食】楊家祖傳胡椒餅 | 新光醫院周邊現做出爐的噴香餅店。 @ 。貪吃馬麻與愛玩寶的生活日記。",
          "台北外送茶留言板籟04389台灣喝茶外約茶莊學生妹兼差外送茶推薦找外約桃園外送茶留言板",
          "台北文山區景美木柵甜湯圓、鹹湯圓、燒麻糬｜迎冬至、鬧元宵～文山區湯圓6家必吃口袋名單 – 史努比遊樂園",
          "台北櫻花 / 自來水博物館櫻花盛開！公館年節的盛放 - 撰風 漫步旅食溫度",
          "台北火鍋推薦| 黑毛屋大直店| 精緻日本和牛涮涮鍋",
          "台北麵線吃那家｜別在吃阿宗麵線了！推給你七家破千評價的台北麵線！ - 布雷克的出走旅行視界",
          "台灣人壽產物保險「五百變十萬」防疫神單十問 – 儲蓄保險王",
          "台灣人的自制能力遠超過全世界想像",
          "台灣獨家限量NBA STORE TAIWAN x CiPU喜舖 聯名系列浪漫來襲 | NOVA資訊廣場",
          "台灣約會強暴氾濫：雙方對關係沒共識「男生沒開口確認關係….」 – Wise Library 1985",
          "台灣運動彩券?投注無效?這樣合理嗎?我很生氣",
          "台灣運動彩券一定要投注最高賠率但在哪裡?",
          "台灣運動彩券分析 NBA 太陽 (客) VS 爵士 (主) 12/31 201231",
          "台灣運動彩券分析 NBA 拓荒 (客) VS 國王 (主) 01/14 210114",
          "台灣運動彩券分析 NBA 爵士 (客) VS 籃網 (主) 01/06 210106",
          "台灣運動彩券分析 NBA 金塊(客) VS 籃網(主) 01/13 210113",
          "台灣運動彩券分析 NBA 鵜鶘 (客) VS 太陽 (主) 12/30 201230",
          "台灣運動彩券分析 籃球 NBA 活塞 (客) VS 老鷹 (主) 12/29 201229",
          "台灣運動彩券分析 讓炮爺教你足球分析 足球 英超 白禮頓 (客) VS 曼城 (主) 210113",
          "台灣運動彩券｜教你走在運彩套利邊緣不被風控",
          "台灣運動彩券｜踏入台灣運彩前要不吃虧就必須搞懂的眉角!",
          "台灣運彩玩法怎麼玩?超簡單【運彩教學】",
          "台積電創新天價，醫師染疫，站在泡沫頂端的我們，只能祈禱一切安好!",
          "台股屢創新高，你該何時走下享樂跑步機? -技術分析 -在財富自由的路上",
          "吃一頓飯就要牽手？無論女生喜不喜歡你都是「必敗」…還有妹不要亂撩",
          "吸血鬼後裔Legacies 第三季第9集 官方簡介/劇照/預告 @ 美劇盒小品｜美劇 歐美影集  簡介時間表",
          "命理大師簡少年解析2021運勢！這些生肖今年鴻運當頭！",
          "哪些狀況顯示他不懂珍惜妳的好，早早放生比較好？",
          "哪個星座最花心？妳相信星座與愛情嗎？ - 艾姬的情慾故事",
          "哪種退休金提領策略比較好?一次比較六種退休金提領策略。 - 易查克的退休對策",
          "哪裡有備審封面範例可以下載？Pikbest 豐富模板等你挖 | 綠色工廠",
          "喜歡一個人，先抓住他的胃！情人節餐廳推薦，浪漫約會輕鬆 GET 🍻",
          "單機新遊《Lumione》，帶你奔赴一場深海幻想的冒險！",
          "單親媽媽｜婚後分手讓她心痛的是孩子的日記... - Wise Library 1985",
          "單親媽小資幸福心法／收入不多，如何將日子過得有質感？ @ 焦糖綠玫瑰 caramelgreen",
          "單身節想脫單？妳要先問問自己這5個問題！ - 艾姬的情慾故事",
          "嘉義│精選老屋系咖啡廳推薦，走進在地人的秘密花園（持續新增）",
          "嘉義中埔)果然茶香觀光工廠/輕食區/兒童設施免費玩/天然果乾、茶品/小火車、賓士卡丁車、槌球 - 可人之家",
          "嘉義美食X國民特色排隊小吃",
          "嘉義西區/老洋房1931-和洋式建築的嘉義老宅餐廳，悠閒享受火鍋、義大利麵、簡餐等美食～泰式椒麻雞腿、南瓜牛奶鍋、蛤蜊培根義大利麵等都很不錯！今天吃什麼/嘉義美食/嘉義旅遊/嘉義小吃/嘉義簡餐/嘉義火鍋/嘉義西餐/嘉義餐廳推薦/老屋餐廳/懷舊復古風/西式鄉村風/藍子愛美食 - 防曬偏執狂藍子",
          "圖片4 | Paul-旅遊日誌",
          "在家如何練弓道？也許可以嘗試 Specific Physical Training",
          "在家防疫看什麼？心情不好、睡不著或是想打發時間的 Netflix 影集推薦",
          "在愛情裡認真就輸了？如何知道對方是認真的？ - 艾姬的情慾故事",
          "地下539玩法-539不出牌賠率好嗎?",
          "報酬順序風險(sequence of return risk)：投資年化報酬8.88%的標的，每年固定提領8.5%，竟然提領17年就破產? - 易查克的退休對策",
          "填問卷賺錢平台推薦｜2021運用集思網、Rakuten Insight問卷平台賺錢 - Jerry成長駭客",
          "夏季必備【日本藥妝】防曬又防蚊的生活用品推薦!",
          "夏韻芬：最難熬的就是友情變調 – Wise Library 1985",
          "夜森人靜 小酌x燒烤｜長治樹林裡的隱密居酒屋，草皮悠閒吹風發呆 - 甘單共",
          "大人的急，也急壞了親子之間的關係",
          "大型家電冷氣、冰箱、洗衣機 使用須注意？　使用注意事項與日常保養",
          "大安區公館下午茶推薦｜樂圓咖啡廳，不限時的藝文空間，手作餐點及紓壓課程，自調燈光享受舒服靜謐時光",
          "大年初二只有一天，為什麼媳婦不能回娘家?",
          "大東夜市 |台南必逛夜市，2020大東夜市美食推薦必吃懶人包| 阿新筆記",
          "大樂透頭獎上看1.8億! 樂透抓牌技巧你學會了嗎?",
          "大湖一日遊 |除了草莓季，還可以這樣玩！深度體驗文化自然美食 | 阿新筆記",
          "大老爺不出金嗎?出來騙錢的喔?",
          "大老爺娛樂城背後居然有暗箱操作?",
          "大螢幕+4K只是基本 Samsung Q80T QLED電視開箱",
          "天哪！超少女心爆棚的草屯HERE咖啡廳🌷隱身於城市中的露天秘境... 小瑞拉帶你一起身陷\"醉心\"的美麗聖地吧！",
          "天天饅頭 超涮嘴古早味紅豆饅頭，一顆$5元吃不膩！台中第二市場旁小攤",
          "女人像貓最迷人，妳是喵星人女友還是汪星人女友？ - 艾姬的情慾故事",
          "女人的未來，一定是太太、媽媽、媳婦嗎？結婚、生子能不能是2個獨立事件？",
          "女人的禮物，一生必須要體驗的極速快感！ - 艾姬的情慾故事",
          "女孩瘋搶的超百搭潮鞋！ IU 李知恩官宣New Balance品牌大使，上腳經典574超勸敗！",
          "她讓婆婆主動探病照顧…過來人分享婆媳感情加溫4心法 @ 焦糖綠玫瑰 caramelgreen :: 痞客邦 ::",
          "好的『車用香氛袋』帶你上天堂給你賓至如歸的嗅覺體驗!!",
          "好的網站內容規劃讓顧客記住你!2大關鍵因素決定流量",
          "如何打造屬於自已的加密貨幣被動收入(BTC/USDT)",
          "娛樂城代理賺什麼?!金大發會是首選嗎?",
          "娛樂城怎麼賺錢的呀? 是如何賺?帶你深入了解",
          "娛樂城知識家│洗碼是什麼?流水倍數怎麼算?",
          "娛樂城老闆給所有玩家的告白!",
          "婚後分手：兩個人最後分開，比較像一段失戀的故事 – Wise Library 1985",
          "宅配美食「BoKa」質感芋頭巴斯克蛋糕 濃郁小山園抹茶蛋糕 真正的巴斯克吃過這家才知道！",
          "安得烈慈善協會邀請你用APP愛心捐點幫助弱勢者 | 民報 Taiwan People News",
          "宏碁創作者品牌ConceptD概念家創系列筆電，多款可翻轉新品開賣 | NOVA資訊廣場",
          "宜蘭礁溪聖母山莊抹茶山攻頂紀錄-抹茶山親子行，兩個小朋友用雙腳走上去囉！ – 指揮家的異想世界",
          "宜蘭自由行 | 四大免費景點 | 一天來回",
          "家庭主婦瘋搶的碗盤特賣會！新店北新路二段13號，只要3個100元起 | 凱西跳跳糖の美食旅遊",
          "家庭清潔推薦｜RafaGo牽著吉娃娃 Home系列 不只有效更加健康",
          "家長與老師該提供何種閱讀環境給小孩- 14歲，關於年紀與閱讀",
          "寫作平台新選擇—WREADIT銳誌，原創作者強烈招募中 – 頭殼總長",
          "寫作平台新選擇—WREADIT銳誌，原創作者強烈招募中 – 頭殼總長",
          "寫作平台新選擇—WREADIT銳誌，駐站作者強烈招募中 – 頭殼總長",
          "寫文章也能賺錢? | Matters (馬特市) 三大功能",
          "寶島美食圖鑑(上)♡ 這些人氣踩點的特色美食也能變穿搭!!  創意插畫把台灣味變成時下流行的女性服裝，快看你愛的小吃上榜沒？",
          "寶島美食圖鑑(下)♡學霸湯、焦糖奶QQ球、台式吐司料理...妳是屬於哪款台灣味女子？",
          "尊重兩家庭信仰不同，婚宴這樣應變權衡 - 維琪，你的好感度教練",
          "對抗憂鬱症，大S「為什麼一個病會控制我到這個地步呢？」 - Wise Library 1985",
          "對線上老虎機咬很大沒輒?3招老虎機攻略教你贏錢!",
          "小一教養／學齡前後大不同～想出去玩？先努力換旅費吧！ @ 焦糖綠玫瑰 caramelgreen",
          "小一教養／開始頂嘴、冷暴力…陪孩子度過7歲叛逆期的4句話 @ 焦糖綠玫瑰 caramelgreen",
          "小一新鮮人／女兒不焦慮了～菜鳥家長分析這5點鮮事！ @ 焦糖綠玫瑰 caramelgreen",
          "小仺館 Cafe & Rice - 師大人氣乾咖哩飯、雞腿丼飯，台北咖哩推薦",
          "小小選物｜CheersJelly 舉杯低卡蒟蒻凍 嘴饞的健康零食新選擇 - 小小的100種任性生活",
          "居家生活你該注意的小細節!保持浴室、廁所清新的小技巧!",
          "山大 - 甘單共",
          "巧克力布朗尼食譜 ，口感濕潤鬆軟，做法簡單不需技巧 - 職業觀光客 LISA",
          "巧克力麻糬QQ球 ，免預拌粉不失敗小甜點",
          "巨星殞落！2020事件簿「最黑暗的一年」｜老天爺帶走了他們，精神永留世人追憶 | 少女心文室 NEWS ROOM",
          "巨齒蜥 - 曾稱霸過地球的最大蜥蜴 @ 阿修羅的夜世界",
          "巴斯克乳酪蛋糕鮮奶版 食譜（氣炸鍋食譜）",
          "帝一火鍋店 |台中火鍋推這家，在地40年老店，忠孝夜市必吃火鍋！",
          "帶你從睡夢中找到進入幾米童話世界的入口——上品寢具 「超夢幻」4折特賣活動只至5/29前！趕緊啟動你的童話夢境吧！",
          "常見分手難題：一方提了分手，一方覺得我還沒同意分手… – Wise Library 1985",
          "平價服飾品牌X日本服飾品牌精選｜許路兒、曾莞婷、隋棠自創品牌｜網購推薦…. – Wise Library 1985",
          "平地好抵達，露營吃到飽的大草地營區｜新竹新豐-新豐休閒農場 | 露境隨俗去露營",
          "庫藏股疑義問答(108年12月修) - 承銷人忙什麼",
          "廍子公園 |台中大坑景點，北屯景賢路黃金風鈴木金色花海 Nini and Blue 玩樂食記",
          "彩幣ptt│玩運彩噱幣怎麼用?彩幣能換錢嗎?",
          "彭博社：下一代 MacBook Pro 有 SD 讀卡器沒觸控列 | 愛瘋日報",
          "彰化田尾景點｜文青系打卡秘境「綠果庭院Green Life Garden 」多肉、乾燥花、小盆栽一次滿足 - 小小的100種任性生活",
          "從遊戲研發到 Kirabase 動漫展演所，遊戲開發商《火星貓》專訪",
          "復仇爽劇《模範計程車》（모범택시）20個金句整理:「不可為惡所勝，反要以善制惡。」",
          "心情語錄 |  “人們只在乎你飛得高不高，卻忘了你飛得累不累。”",
          "心理學：最後能留住男人的不是你的外表，而是你的「本事」！4種留住男人心的高級方式必學！",
          "必看！婆媳大戰永無寧日？　老人家都有的教養盲點！ @ 焦糖綠玫瑰 caramelgreen :: 痞客邦 ::",
          "忘不了的眼神  ~淺談EMDR對婆媳/岳婿問題的協助\n        | \n\n        李政洋身心診所",
          "快樂可以練習嗎？2021年就用「1分鐘法則」整理煩躁的心靈 |《過得還不錯的一年》讀書筆記",
          "性幻想好罪惡？關於性幻想的五個祕密 - 艾姬的情慾故事",
          "性，愛妳久久 - 艾姬的情慾故事",
          "情人節、春節就是要吃甜甜 ! 8 間平價甜點讓你用銅板價Get滿滿幸福感！有宅配可到貨",
          "想作詩嗎？看完《郵差》搞懂「隱喻」｜15句動人對白台詞：世界萬物都有它的隱喻 | 少女心文室 NEWS ROOM",
          "想瘦卻不知道該做哪種運動？盤點六大能瘦能塑身的運動！這一項運動超省時！",
          "想知道他把妳當什麼？先想想這五個問題 - 艾姬的情慾故事",
          "想知道賓果如何贏錢嗎?那你絕不能不知道這些賓果抓牌法!",
          "想談戀愛先學穿搭！最讓女生心儀的「男生約會穿搭」5要素！超簡單概念筆記起來！",
          "愛情的最大考驗！五個疫情時代的遠距離關係經營關鍵 - 艾姬的情慾故事",
          "懶人包 | 遇到了車禍怎麼辦 ? | 法律 Q&A  | 鄉鎮市調解 | 保險理賠",
          "懶人必備、月底救星!【日本沖泡食品網購】天野即時麵線好吃在哪?",
          "我們有沒有可能活在一個不需要功成名就也能被溫柔善待的世界? – Wise Library 1985",
          "我如果收到娛樂城傳票我該怎麼辦??",
          "我的省錢生活「一」",
          "我的省錢生活「二」",
          "戴口罩重要，「脫口罩也很重要」!ICU醫生陳志金教你這麼做",
          "手機開箱實拍 | Redmi Note 9 Pro 5G：最便宜的1億像素手機能逆天？全面提升的中階手機 - 撰風 漫步旅食溫度",
          "打球聽什麼歌？Apple Music 與 NBA 獨家合作音樂清單",
          "打麻將別再穿紅內褲啦！2021生肖幸運色、幸運數字全整理",
          "扮演：狂野聖誕夜 - 艾姬的情慾故事",
          "找到愛麗絲Finding Alice(2021冬季新劇) @ 美劇盒小品｜美劇 歐美影集  簡介時間表",
          "投資的世界裡，並沒有單一獲利的指標! (本益比、股價淨值比、殖利率) - 空空",
          "拆彈專家2線上看--- 劉德華炸斷一條腿?搏命演出幕後花絮",
          "推理控必看🤩寒假追劇清單，3部超燒腦影集，絕對讓你猜不到結局！",
          "推薦11本好看的肉香四溢肉文言情小說：有骨科禁忌文",
          "推薦20本男主暗戀女主的言情小說：單向暗戀系列文，有肉文",
          "推薦5本末日言情小說：《男友變喪屍後我把他拐走了》、《末世第十年》",
          "推薦6本的肉肉文小說：禁忌文、男二上位",
          "推薦木棉花4部超夯動畫！《PUI PUI 天竺鼠車車》融化你的心",
          "收到傳票?還是娛樂城害的?我該怎麼辦!",
          "收到博弈娛樂城傳票，我該怎麼辦?(內附解答)",
          "收到娛樂城傳票我應該怎麼辦?",
          "文字好感力到達頁 - 維琪，你的好感度教練",
          "文案教學｜想靠寫文案賺錢嗎？告訴你三大絕對要避開的文案地雷！ - TC Sharing",
          "新北.貢寮-最東邊小漁村的最東邊靠海生活，一望無際的大海，待在令人心曠神怡的海邊一下午，超舒服的啦!",
          "新北三峽 | 日東山莊 | 不需上山也能有深山氛圍的世外桃源 | 露境隨俗去露營",
          "新北聖誕城暫停，跨年活動是否也喊卡？運彩和台彩高峰在現？",
          "新北買賣筆電-優酷3C",
          "新型態的直消電商，是時代的趨勢嗎？在疫情下工作受到影響的新轉機嗎？保持樂觀",
          "新年歌語錄 | 2021 大馬必聽新年歌曲 TOP 5",
          "新店食記 | Le Coucou穀咕咕小館：巷弄裡的中文系套餐（大坪林站） - 撰風 漫步旅食溫度",
          "新竹市7間「不限時、有wifi/插座」質感咖啡廳推薦，工作、下午茶、早午餐好去處",
          "新竹美食。Laid Back Cafe｜關新社區不限時質感咖啡廳、千層蛋糕。",
          "新竹美食。六八鑫村（原六八串燒）｜13道料理，清大將軍村附近的平價居酒屋。",
          "新竹美食。太空總薯｜下午茶外送新選擇：不只是馬鈴薯，簡餐選擇多又美味！",
          "新竹美食。太空總薯｜下午茶外送新選擇：不只是馬鈴薯，簡餐選擇多又美味！",
          "新竹美食。竹北小院子台食茶館｜迷人的花磚與茶飲，就在索鐵旗下的新台式料理。",
          "新莊新開火鍋店【莊涮鍋物料理】超浮誇生日大餐│壽星優惠幾歲就送幾隻蝦│新開幕優惠活動│飲品冰淇淋霜淇淋吃到飽",
          "方經理之外匯車學堂@2020年20201年最熱門的外匯車是賓士BENZ?BMW?噓~~~不能說的找車秘訣偷偷公開!!!",
          "日劇｜打扮的戀愛是有理由的（為愛妝扮有理）・社群世代下的真實愛戀",
          "日曜天地outlet家電福利品出清 |年前怒省，從大電視、冰箱等直接2折起～",
          "日本300位名醫票選10大健康食材，第一位你絕對猜不到！",
          "日本人都瘋搶的【日本零食】是什麼?! 沒想到日本零食餅乾超下酒!",
          "日本代購必買｜辦公室團購零食大家都吃什麼呢？",
          "日本最受歡迎104歲奶奶笹本恒子（Tsuneko Sasamoto）的養生法則和名言 – Wise Library 1985",
          "日本生活用品｜居家生活必備小物，讓你防疫期間也很舒適！",
          "早就沒有草莓族，早就進入不要命的柳丁族世代！ - Wise Library 1985",
          "易查克的退休對策 - 退休金計畫X指數化投資",
          "星大王甜品專賣-桃園/不只有芋頭冰!冬季限定甜湯品暖到心坎裡 - 潔絲蜜愛生活",
          "暖暖包out！會保暖的辣女孩這樣穿，高領毛衣、翻領毛外套，這些單品讓臉型顯瘦又時尚 ♥寒流實用穿搭♥",
          "曖昧哪裡有問題？最好別和5種對象搞曖昧",
          "最新2021谷關溫泉懶人包｜一次看懂13間谷關溫泉飯店推薦、湯屋、大眾池比價、裸湯、溫泉住宿推薦之旅，還有來自日本神祕吉祥物 - Mayday 麥帶先生．愛美食、愛旅行、愛3C開箱 -",
          "最新！2021年(110年)行事曆，中小學生寒暑假開學日，八次連假、農曆春節放七天。人事行政局公告連續假期 - 蘋果話日常",
          "最深厚的純友情往往暗藏愛情的成分 – Wise Library 1985",
          "會上癮的棉花糖三重紗，UCHINO 2021新裝上市5/21~5/31全面85折，自然系雲的織物打造身心舒適的居家時光",
          "有上班時推薦聽的音樂嗎？Treefm 來自森林的大自然聲音 | 綠色工廠",
          "有肉有劇情bl | 《永見夏》作者：魚不知 | 【5星耽美bl小說推薦心得文】| 都市耽美 | 重組家庭 | 肉多多 | 甜寵耽美 | 年下耽美 | 短篇耽美",
          "李向月連燕窩系列保養品 | 逆齡重生煥顏撫紋精華 |旅途中乾燥肌的救星",
          "東門永康商圈-松薇PINE&ROSE, 最接近日本的日式洋菓子在這裡!",
          "柏捷頓家族:名門韻事Bridgerton 第二季的角色故事線會如何展開? @ 美劇盒小品｜美劇 歐美影集  簡介時間表",
          "柏捷頓家族:名門韻事Bridgerton第一季 【你該知道的一切都在這】 @ 美劇盒小品｜美劇 歐美影集  簡介時間表",
          "桃園 義大利麵●義匠義式湯麵-藝文特區美食 @跟著Julie一起走吧",
          "桃園冬至元宵湯圓懶人包美食推薦2021更新 - 阿綿吃Fun最大",
          "桃園復健科推薦您幾招肩頸自我舒緩方法！",
          "桃園採草莓|草菓農場|溫室智慧草莓園晴天雨天都可以來|新鮮草莓不使用農藥天然的尚好|採預約採果制|觀音採草莓美食一日遊",
          "桃園｜美食｜Maccanti馬卡諦義大利冰淇淋讓人幸福感爆棚! - Ms. Y.C. Luuu",
          "棒球外套紅什麼？入門潮流搭配有公式，從梵谷、蒙德里安、草間彌生，這些著名藝術家的代表作教你簡單穿上身，用私服向大師致敬！",
          "森林食堂&野餐市集 | 新竹市立動物園旁的白色玻璃屋餐廳 | 小栗子雞蛋糕、輕餐、日式定食、甜點、霜淇淋",
          "極精彩~人生最難啟齒的兩件事: 便秘、陽痿 | 雲爸的私處",
          "極限思辨 —— 談球員被高估 (以NBA為題材)",
          "樂時光｜平價關東煮,炒泡麵,就在大里益民路 - 達人Emily的播報台",
          "檸檬磅蛋糕食譜 ，用手搓出檸檬香 - 職業觀光客 LISA",
          "歡迎創作者加入，網站使用與發表文章教學! - 敗家達人推薦",
          "正確「手機消毒方法」！這3點錯誤不要做，尤其不要拿酒精噴手機！",
          "歲末廠拍 ! 刷毛長褲100元、機能外套$298起、內衣買4送1 【FB分享免費抽吸塵器】新莊五工路92-1號 | 凱西跳跳糖の美食旅遊",
          "每個媳婦，都一定有過孤獨的感覺",
          "水明漾活蝦景觀餐廳~超美峇里島湖岸度假風餐廳讓你照片拍不停 - Fengplay 峰．玩樂旅誌．食旅",
          "汪達與幻視WandaVision(2021冬季新劇)",
          "沙の魚雷 --- 砂魚蜥 @ 阿修羅的夜世界",
          "沙仔地麵線焿(高雄鹽埕)在地人口袋名單30年麵線焿老店 | 高雄美食地圖 - 高雄在地小吃・高雄旅遊景點・高雄壽星優惠・高雄推薦美食・高雄人氣餐廳",
          "沙地健將 --- 棘趾蜥 @ 阿修羅的夜世界",
          "沙漠の萌 --- 角膨蝰 @ 阿修羅的夜世界",
          "法點法食 FA DEN FA SAï - 傳統法式鹹派，必吃焦糖烤布蕾，台北公館甜點、咖啡廳推薦",
          "泡泡龍4 夥伴舉辦新年感謝活動",
          "海兔影院 - 影片資源豐富更新快，免費線上看電影、戲劇、動漫、開車了 - 逍遙の窩",
          "消失87年婆羅洲彩虹蟾蜍重現 @ 阿修羅的夜世界",
          "淘金娛樂城網友們這次又爆料了！",
          "淘金有不出款的問題或是情況嗎?",
          "淺談 NBA 2020~21賽季 MVP 評選：Derrick Rose 獲得「第一名選票」之荒謬事件",
          "澎湖最萌最狂澎湖龜 鮮奶雞蛋糕，一天只賣4小時的散步甜點 - 跟著尼力吃喝玩樂＆親子生活",
          "炸豬排丼飯做法 ，台式口味豬排飯超美味",
          "為了愛，你願意付出多少代價？",
          "為什麼 iPhone 的 Telegram 無法觀看成人內容？Nicegram 讓你突破限制觀看 | 綠色工廠",
          "為什麼對一般讀者而言，內容有價的概念不容易實現？(下) - 好想說謝謝",
          "為何要選擇當選擇權賣方？投資心法大公開",
          "無限流爽文言情小說 | 《別看我，我只是來修水管的！[無限]》作者：撕枕猶眠",
          "燉品食堂｜蘆洲的湯品專賣店，冬天驅寒暖胃燉湯！實力派湯頭鮮甜美味，滷肉飯口齒留香，溫馨小店絕對是饕客的最愛！（內含菜單）／蘆洲小吃／蘆洲美食／蘆洲在地推薦／原盅燉湯／雞湯／鮮魚湯推薦 @ Sandy珊蒂說",
          "爆紅貼文的流量衰減有多快？實際經驗分享 | AKERUE集散地",
          "牧場物語橄欖鎮與希望的大地釣魚玩法介紹",
          "特殊經歷：聯合國，我為什麼選擇離開了你",
          "獨立遊戲",
          "玄幻穿越推文 | 《我的老公是凶獸》作者：妖霏 | 男主不是人類 | 女主穿越 | 長篇言情(全文字數>40萬字)",
          "玉井 - 甘單共",
          "玉仙草(高雄苓雅)吃著是冰但卻會感到內心溫暖的手工仙草愛玉 | 高雄美食地圖 - 高雄在地小吃・高雄旅遊景點・高雄壽星優惠・高雄推薦美食・高雄人氣餐廳",
          "王者一決勝負！【哥吉拉大戰金剛】超熱血預告曝光 | NOVA資訊廣場",
          "王者｜網上鄉民評價如何呢？教會你如何揭穿詐騙黑網!",
          "現代婚戀 | 《完美離婚[娛樂圈]》作者：五軍 | 【5星耽美bl小說推薦心得文】| 現代耽美 | 強強耽美 | 戀愛合約 | 娛樂圈耽美 | 甜寵耽美 | 先婚後愛耽美 | 假戲真做",
          "現代耽美 | 《我覺得我們要分手了》作者：賀一天 | 【5星耽美bl小說推薦心得文】 | 短篇耽美 | 分分合合 | 破鏡重圓耽美 – starryeagle | 蒼野之鷹：看小說、聊書、聊投資",
          "現代耽美 |《City of Angels》 作者：靜安路1號 | 【5星耽美bl小說推薦心得文】| 短篇耽美 | 異國情緣 | 甜寵耽美 | 受追攻 | 酸甜 | 公路文學 | 有肉有劇情【微】",
          "現代言情 | 《師姐，我真的一滴都沒有了》作者：喵嘰喵 | 甜中帶笑  | 輕喜劇 | 主角是醫生 | 有肉有劇情 | 一夜情 | 沙雕爆笑(好笑) | 甜寵言情 | 姐弟戀言情 | 短篇言情",
          "現代言情 | 《誘我深入》作者：聞笙 | 【5星原創言情小說推薦心得文】 | 行業文言情 | 追妻火葬場 | 男強女強 | 男女主互相征服 | 破鏡重圓 【微】",
          "現代言情 | 《這個綠茶我不當了》作者：西淅 | 【5星原創言情小說推薦心得文】 | 女配言情 | 總裁言情 | 女強 – starryeagle | 蒼野之鷹：看小說、聊書、聊投資",
          "理財 》投資從0歲開始，幫小朋友開證券戶存股票，從小開始累積第一桶金(未成年開戶、新生兒開戶) – M i n 理財生活札記",
          "理財心得: 聯邦賴點卡&amp;數位帳戶NEW NEW BANK申辦過程",
          "田中千繪「時間的過程會讓我們的人生價值觀改變，…兩個人聊天的內容會有溫差」 – Wise Library 1985",
          "男人真心話：男人最討厭女人的七種行為 - 艾姬的情慾故事",
          "男人自己打手槍，就是不愛妳了嗎？ - 艾姬的情慾故事",
          "當世界對於「優秀」「好的人生」的認定或想像是那麼單一那麼絕對，那麼，住在這個世界的人們… – Wise Library 1985",
          "當他愛上妳以後，妳就失去興趣？ - 艾姬的情慾故事",
          "疫情傳出博弈公司被抄..「線上博弈」合法嗎?",
          "疫情當前在家看電影，2021年電影推薦",
          "療癒的端午節禮盒、企業端午節員工禮品，石安牧場x有肉療癒心口端午禮盒、中興米x有肉家自在端午禮盒、好空氣植栽禮盒",
          "發明讓生活美好-蹦克說品牌設計",
          "白日夢時自動作畫 | 解離性人格疾患者的特殊能力\n        | \n\n        李政洋身心診所",
          "百家樂ptt｜百家樂預測程式有用嗎?",
          "百家樂必勝法十大招你聽過嗎?",
          "百家樂賺錢｜百家樂最強公式學會大數定律,讓你少奮鬥十年！",
          "百家樂贏錢｜要知道原來百家樂一定要學會的籌碼控制技巧",
          "看完《格雷的五十道陰影》還不過癮？推薦3部大尺度電影讓你臉紅心跳、面紅耳赤",
          "真實歷史改編，台劇《斯卡羅》SEQALU：Formosa 1867 介紹，8 月 14 日起於多平台上架",
          "眼神打造關鍵好印象!從眼型判斷專屬自己的『命定眼線』趁現在！",
          "短篇甜寵多肉文 | 《不小心睡了年下怎麽辦》作者：蛋撻皮 |【5星原創言情小說推薦心得文】| 一夜情 | 姐弟戀言情 | 有肉有劇情言情 | 短篇言情 | 甜寵言情 | 肉多多",
          "研究 iPhone 12 比 iPhone 11 貴的原因，成本被轉嫁給消費者｜Tech NERvX",
          "祖克柏槓上美國總統？川普FB和IG帳號「無限期」停權",
          "福原愛事件／神話破滅後的婚姻6大啟示 @ 焦糖綠玫瑰 caramelgreen :: 痞客邦 ::",
          "禮貌教育／孩子總不敢打招呼？這4步驟成功引導！ @ 焦糖綠玫瑰 caramelgreen",
          "稿費｜比較台灣國內外8大撰稿平台優缺點＜詳解部落格＆個人網站的神差別＞",
          "穩固娘家＝安全感　綠玫瑰說：女兒不是被潑出去的水～ @ 焦糖綠玫瑰 caramelgreen :: 痞客邦 ::",
          "窩在家防疫，看Netflix，嗑瓜子喝奶茶耍廢",
          "童話裡都是騙人的…5個超暗黑《格林童話》絕對讓你雞皮疙瘩掉滿地！",
          "端午節快樂！宅在家就是防疫，三件事讓WREADIT幫你發揮創意，居家防疫不無聊！",
          "第78屆金球獎Golden Globes Award 得獎名單",
          "第一次買運彩?這些『運彩術語』你不能不知道!",
          "精神科醫生的建議「女人千萬別以為婚姻或感情能保障自己…」 – Wise Library 1985",
          "精神科醫生的建議「女人千萬別以為婚姻或感情能保障自己…」 – Wise Library 1985",
          "精選 | 8本不可錯過的高質量肉文小說推薦，都是肉多文(肉香四溢)，老司機的最愛",
          "精選 | 8本不可錯過的高質量肉文小說推薦，都是肉多文(肉香四溢)，老司機的最愛 – starryeagle | 蒼野之鷹：看小說、聊書、聊投資",
          "約會穿搭第一印象超重要！成功營造自己的魅力形象  女孩約會穿搭筆記🌿",
          "紫色風潮來襲 Avier COLOR MIX PD3.0 雙孔電源供應器 莫蘭迪紫 | NOVA資訊廣場",
          "終於有地方一同緬懷了！Kobe Bryant 逝世一週年，可可幫找來 DJ Afro 一同感謝這個永不言棄的男人。 - YOLOLab - You Only Live Once",
          "經典Anycall摺疊機造型Buds Pro耳機殼在台推出！還有針對耳機與S21的新款Kakao Friends保護殼 – LPComment 科技生活雜談",
          "經營「YouTube SEO」行銷！10個技巧提高 YouTube 排名和翻倍流量 | 老貓測3C",
          "綠色工廠 Ghosty View Hidden Instagram Profile 1.4.5.apk File Download 下載（免空下載）",
          "綠葡萄生乳酪蛋糕 食譜，免烤生乳酪蛋糕，漂亮又好吃",
          "網站如何經營？五招提升自媒體網站流量與關鍵字排名！",
          "網路速度怎麼看？就讓 Speedcheck 網路連線速度幫你測試一下！ | 綠色工廠",
          "緊急呼救：孤星9-1-1: Lone Star 第二季第1集 劇情提示/新角色/劇照(更新)/預告(更新) @ 美劇盒小品｜美劇 歐美影集  簡介時間表",
          "線上英文免費試用一個月-Native Camp線上英語會話",
          "總是莫名其妙被討厭？異性交往的5個禁忌 - 艾姬的情慾故事",
          "總站夜市 | 台中最新夜市，占地1800坪、破百攤逛到腿軟，台中捷運總站、北屯區Costco二店旁 Nini and Blue 玩樂食記",
          "美元利變保單 掀升息潮",
          "美國務卿提名人布林肯：若中國對台動武將是「嚴重錯誤」 | 民報 Taiwan People News",
          "美國國會確認拜登勝選 川普表異議但承諾有序交接 | 民報 Taiwan People News",
          "美國天天樂,天天中3.4星? 30秒帶你讀懂!",
          "美國的樂透遊戲怎麼玩?(合法)",
          "美食  ░  冬天必吃豐富海鮮 淡水九濤石頭火鍋  Sukiyaki",
          "老司機上車了! Pornhub Premium 2/14 限時免費 | 雲爸的私處",
          "老媽駕到Call Your Mother(2021冬季新劇) @ 美劇盒小品｜美劇 歐美影集  簡介時間表",
          "老是愛毛手毛腳！戀愛時最好色的四大星座！",
          "老虎機賺錢│想開大分怎麼選?不想輸錢這款機型不准碰?",
          "聽25分鐘英文廣播劇 | The Way to the Castle | 學50個英文單字片語 | 附上英語文字稿連結",
          "臉書把粉絲專頁按讚功能取消，有什麼影響? | 一起討論吧! 社群x內容行銷經營",
          "自地自建低成本房屋的5種方法",
          "自媒體如何經營網站提升網站流量與關鍵字排名？ - Jerry成長駭客",
          "自己就像一塊默默承擔與吸收他人負面情緒的好海綿 - 好想說謝謝",
          "自製無糖豆漿 instant pot 壓力鍋做豆漿免顧火，超簡單",
          "臺灣是中文自由作家的心靈家園 | 民報 Taiwan People News",
          "艾姬答客問：他是愛上妳還是愛「上」妳？ - 艾姬的情慾故事",
          "艾蜜莉在巴黎Emily In Paris(2020秋季新劇) @ 美劇盒小品｜美劇 歐美影集  簡介時間表",
          "花蓮.新城-台肥海礦探索館，讓你一秒到日本!還有超沁涼海洋深層水~立刻消除全身暑氣，冷到會發抖炎炎夏日來這就對了",
          "花蓮必去網美景點～海崖谷～每個角落都超好拍的！！！也是假日露營放風的好地方！",
          "花蓮早午餐【阿秀奶奶】招牌必點用蒸籠盛裝拼盤有碗粥│像家一樣溫暖│寒冬暖胃的傳統早點│簡單的幸福味道",
          "花雕雞做法 ，一鍋到底超下飯，湯汁還能做成花雕雞麵",
          "苗栗 大湖●草莓季怎能錯過～品嚐甜美滋味～趁此時節來趟大湖踏青採草莓吧！",
          "苗栗公館【景點 / 美食】荷塘居【景點篇】 | 隱藏在鄉間小徑裡的童話仙境。",
          "苗栗景點。草莓小農場｜大湖草莓，只種豐香草莓的草莓小農場，採草莓前先吃草莓。(2020年大湖草莓季)",
          "苗栗超夯景點│三義舊山線鐵道自行車搭乘攻略│勝興車站必遊景點│搭Rail Bike賞楓、芒花、採草莓吃美食一日遊",
          "英國變種病毒入侵台灣?! 鎖國在家無聊玩遊戲解悶首選!",
          "英文聽力UP | 10個不藏私的英文Podcast 推薦 (下) | 附上相關網址和收聽心得",
          "草莓世界 | 台中草莓園，採草莓不用跑大湖草莓園，台中潭子市區也採的到/慈濟醫院旁 Nini and Blue 玩樂食記",
          "草莓卡比 ღ 生活誌",
          "草莓季甜食來襲！牛軋糖推薦！福波食品，限定款草莓牛軋糖，使用整顆草莓手工製成的甜美滋味／草莓季／草莓季甜點／宅配甜點／伴手禮推薦",
          "草莓季｜苗栗大湖10個泡湯,採果,住宿及客家菜推薦 - 達人Emily的播報台",
          "荒漠の角 --- 砂膨蝰 @ 阿修羅的夜世界",
          "莊家殺手怎麼上?有什麼技巧?",
          "莎賓娜的顫慄冒險Chilling Adventures of Sabrina(2018秋季新劇)站長推薦 @ 美劇盒小品｜美劇 歐美影集  簡介時間表",
          "莎賓娜的顫慄冒險Chilling Adventures of Sabrina(聖誕特別集)",
          "莎賓娜的顫慄冒險Chilling Adventures of Sabrina第三季 劇情/新角色/預告(更新)/劇照(更新) @ 美劇盒小品｜美劇 歐美影集  簡介時間表 :: 痞客邦 ::",
          "莎賓娜的顫慄冒險Chilling Adventures of Sabrina第四季 劇情/劇照(更新)/預告(最終季)",
          "菲力國王ptt|你知道電子遊藝場百家樂和網路百家樂遊戲差在哪嗎?",
          "萊豬大解密｜擔心萊豬有疑慮？這幾間台灣優質好豬肉讓你呷免驚 - 奧丁丁客棧",
          "落入『存摺換現金』陷阱!你將萬劫不復?看看過來人都怎麼說",
          "落實學生身體自主權! 台中女中開放短褲進出校門 | 民報 Taiwan People News",
          "蔥燒豆腐 一鍋到底超容易，簡易懶人料理",
          "蘋果公佈 2020 年各項服務成績單：非比尋常的一年 | 愛瘋日報",
          "蘋果在官網首頁紀念民權運動領袖 – 馬丁路德 | 愛瘋日報",
          "蘋果宣布！投入 1 億美元推動種族平等和正義倡議計劃 | 愛瘋日報",
          "蘋果承認iPhone 11 觸控問題，提供免費更換，快檢查自己有沒有中招 | 雲爸的私處",
          "蘋果新專利！iPhone 螢幕可向內折疊和向外折疊 | 愛瘋日報",
          "蘋果考慮推出優質播客訂閱服務？與 Spotify 競爭 | 愛瘋日報",
          "蛋黃酥做法 （無鹽奶油版），沒有無水奶油也可以做",
          "被打壓下，照樣紅！廣播教父石川：對台語傳承有著使命感….. | 民報 Taiwan People News",
          "被遺忘的神祕色彩故事集 — 🌿 AG Girl 艾許娜說書",
          "裸師露鳥／校園是不容挑戰之地！引導孩子自保3招 @ 焦糖綠玫瑰 caramelgreen",
          "要怎麼判定運彩單場的無效投注？台灣運動彩券判定合理嗎？",
          "角頭浪流連線上看HD完整版動人劇情超淚崩",
          "解決居家空汙、過敏問題！過濾至0.0024微米懸浮微粒，目前市面上最一勞永逸的空氣清淨機Atmosphere SKY！",
          "解決慣性遲到靠5招／每天遲到的孩子，小一開始早起的原因是… @ 焦糖綠玫瑰 caramelgreen",
          "討論完 NBA 的歷史前五人，嘻哈圈的歷史前五人你覺得是誰呢? 紀錄之神 Drake 開出了心目中的五位巨頭！ - YOLOLab - You Only Live Once",
          "詳解Podcast （播客）上架、收入、 代管服務商 – 第 3 頁",
          "談戀愛最想要被照顧！3星座女容易喜歡上成熟大叔！",
          "護膚  ░  【Argiletz安肌泥】法國頂級礦泥粉面膜，肌膚保養敷臉礦泥面膜、髮膜、敷臉SPA、泡澡泥粉♡",
          "讓『海』帶走我的煩惱、洗滌我的思緒",
          "豪神娛樂城手遊出了外掛?換現金一點也不難?假的?",
          "買了『運彩分析』結果變成需要『救紅』？！",
          "質感生活 韓國 WONDER MAMA 鈦保溫杯  無毒容器 可盛裝牛奶、咖啡、茶類的保溫杯 2021 人手必備的保溫杯",
          "購買基金要選哪個計價幣別呢? (美元、歐元、新臺幣、人民幣、南非幣) - 空空",
          "贏多輸少讓你一次解鎖百家樂贏錢密技",
          "走在自己的時區裡 | 不遲不早，一切剛剛好",
          "走進愛情，將面臨哪些難處？戀愛前你必須知道的事 – Wise Library 1985",
          "超級馬力歐3D世界酷霸王之怒提升至1080P",
          "超震撼！李光洙宣布退出RM，病痛纏身告別11年節目！",
          "超靈驗～醫院隱藏版守護神，台大醫公醫婆在哪裡？ @ 焦糖綠玫瑰 caramelgreen",
          "輕乳酪蛋糕食譜 口感綿密欲罷不能，低溫坐水烤 - 職業觀光客 LISA",
          "輕鬆做魚料理！【海鷗漁村】午仔魚一夜乾、龍膽石斑等現撈鮮味，冷凍宅配到家，三去處理簡單料理就好吃！",
          "近南庄老街，寧靜、神祕任你選，草地、碎石隨你搭 | 苗栗南庄-麒麟山露營區 | 露境隨俗去露營",
          "迷你臭氧機推薦-GP抑疾棒mini活氧抑菌除味棒，輕巧好攜帶、免耗材無汙染且能幫食材保鮮的小型臭氧機，一機多用守護健康維持空氣清新",
          "退休金動態提領策略：什麼是蓋頓·克林格法則(What is the Guyton-Klinger rule?)",
          "退休金提領策略比較",
          "這美腿不科學！《梨泰院Class》女神權娜拉「5招」保養逆天長腿 – 頭殼總長",
          "這裏勿瘋 |霧峰新店超美，藍色居家風格網美拍照咖啡館，草莓季開始啦！",
          "這麼好康電腦幫你選出539明牌?! 『539擋牌通知』中獎機率高嗎?",
          "通膨風險：依照物價指數調整你的年支出，將使你原有的生活水平下降。 - 易查克的退休對策",
          "逢甲夜市好吃的小吃巡禮，小小乖交作業囉！古早味手工米血糕+素食地瓜球+全國大雞腿排，讚讚！👍 – 指揮家的異想世界",
          "遊來遊去82：新北景點！老梅綠石槽季節限定，漁村彩繪超好拍，來看小梅的異想世界，石花凍喝到飽。",
          "運動彩券是最適合學生的一個賺錢方式?",
          "運彩NBA 2021 西區 NBA球員名單大公開",
          "運彩單場如何判定無效投注？台灣運動彩券判定合理嗎？",
          "運彩單場預測在玩運彩兩週就上殺手了?",
          "運彩賺錢│遇到假日鬼場別驚慌，運彩分析師告訴你怎麼玩運彩國際盤!",
          "過年伴手禮8大推薦| 超銷魂熔岩巧克力、起司豬肉乾、嚴選高山茶，讓你面子裡子都送足！",
          "過年伴手禮9大推薦| 超銷魂熔岩巧克力、起司豬肉乾、嚴選高山茶，讓你面子裡子都送足！",
          "過年春節連假怎麼放?全台旅遊補助 精選20家飯店住宿攻略懶人包 超前部署 規劃假期真的好easy",
          "過年經典年菜集合！逾百項台灣好食迎新春 年節圍爐就上奧丁丁市集 - 奧丁丁客棧",
          "還原人生/無所作為 The Undoing(2020秋季新劇) @ 美劇盒小品｜美劇 歐美影集  簡介時間表",
          "還在煩惱如何賺錢嗎？讓你秒懂得百家樂學問 !",
          "還在瞎玩老虎機台?3分鐘教你提高老虎機機率贏大錢!",
          "還在絞盡腦汁想『539怎麼玩才會贏』?聰明人都跳槽改玩六合彩線上投注啦!",
          "那一夜，三人行（上） - 艾姬的情慾故事",
          "那一夜，三人行（下） - 艾姬的情慾故事",
          "郭富城、許瑋甯電影《秘密訪客》評價，每個家庭都有秘密",
          "酷映直播APP",
          "重啟/衍生劇訊息: 慾望城市、眼鏡蛇道館、曼達洛人、龍之家族(多劇) @ 美劇盒小品｜美劇 歐美影集  簡介時間表",
          "金合發評價怎麼樣?網友心裡實話是什麼?",
          "金山景點懶人包 ~金山溫泉美食景點住宿大整理，親子、團體出遊都能玩得開心- 阿MON世界趴趴走",
          "金牛年換新鈔！時間、地點、怎麼換一次告訴你👌",
          "金禾跟金禾泰娛樂城到底是什麼關係？一起看看吧!",
          "鉅城倒了！？ptt網友說不能登入、不理人？",
          "錫古爾達Siguldas 上帝的花園．圖雷達城堡．拉脫維亞自由行 - 甘單共",
          "錯的愛，不會因為堅持就變成對的！ - 艾姬的情慾故事",
          "鎖鏈の咒 --- 圓斑蝰 @ 阿修羅的夜世界",
          "開箱 OVO 不累音響S3，專為Podcast而聲 | 雲爸的私處",
          "關係問答題：知道自己要什麼，是面對感情的第一步！ - 艾姬的情慾故事",
          "關於菈喜大叔 - 【減法生活】您的減法大叔 - 菈喜",
          "關鍵字規劃大幅提升文章曝光率! 3分鐘就能學會SEO軟體Ubersuggest",
          "阿公kah 我：認bat 母語文學ê熱--人 | 民報 Taiwan People News",
          "隔代教養｜我的阿嬤是作家!我也要一本《勇氣阿嬤的美好熟齡時代》.親愛的Lucas…… – LUCAS阿嬤愛旅行",
          "離開10年的職業OL，規劃人生清單朝目標邁進吧！(首篇紀念)",
          "難搞男友的十大惡行是什麼？男生終結戀愛的6大NG特質..... - Wise Library 1985",
          "電影《屍戰朝鮮：雅信傳》評價與心得，看完沒有下一集可以按真的慘",
          "電影《活屍大軍/不死喪軍》評價，為了兩億美金你敢進入喪屍之城嗎？",
          "電影《酸酸甜甜愛上你》結局評價，用時間線分析到底從那開始出錯",
          "電視劇《我可能不會愛你》劇中經典台詞懶人包｜輸給了深愛的你，好值得",
          "電馭叛客 2077 評價兩極，Steam 版本不到 1 個月流失 90% 玩家｜Tech NERvX",
          "露營不用大包小包~6家超狂「豪華露營」白天泡溫泉，晚上聽海入睡-過年親子、情人節出遊",
          "露營到夜半，帳篷裡竟多1人…苗栗香格里拉靈異事件簿",
          "靈異｜東吳D棟電梯驚悚傳說 竟和40年前景美女學生有關？",
          "青春校園 |《耀眼》作者：時玖遠 |【5星原創言情小說推薦心得文】| 校園言情 | 甜寵言情 | 姐弟戀言情 | 學霸言情 | 雙向救贖｜有肉有劇情言情 | 市井生活 | 甜爽文 | 勵志言情 | 女強男強 – starryeagle | 蒼野之鷹：看小說、聊書、聊投資",
          "韓劇《Move to Heaven：我是遺物整理師》評價，面紙是你與這部影集的連結",
          "韓劇《你是我的春天》第3集劇情＋心得：「摸妳頭的人不是我」，那會是誰？",
          "韓國人中秋節一定會做的事!韓國媳婦的噩夢?!韓國人妻跟韓國婆婆一起做8種煎餅! - 艾蜜莉關X吃貨の韓國日常",
          "韓國大規模犯罪｜震驚韓國社會的N號房事件（Nth Room case）全國公開嫌犯長相 – Wise Library 1985",
          "韓綜｜推理迷必看！高質感推理韓綜推薦！(上)犯罪現場crime scene、大逃出Great Escape",
          "韭菜盒子做法 ，自己做韭菜盒子皮薄餡多（半燙麵）",
          "頂大畢業，然後呢？給大學新鮮人的4個忠告：初衷只是口號，你需要的是變通",
          "顏值、演技、綜藝一次滿足！南韓新生代男演員『宋江』入坑指南！",
          "食物與性感有關係？女人吃什麼食物會引人遐想？ - 艾姬的情慾故事",
          "餐桌閒聊｜鬼滅之刃適合幾歲的孩子觀看？ - 小小的100種任性生活",
          "饗牛二館火鍋鮮牛肉火鍋專賣店/新北新莊美食台灣牛餐廳推薦 價位菜單",
          "首談台灣人口負成長的危險性.. – Wise Library 1985",
          "馬鈴薯蛋沙拉做法 ，超容易電鍋料理 - 職業觀光客 LISA",
          "驚悚電影《迴憶》扮夫妻幕後｜徐睿知眼神超殺，金剛于曝光兩人片場互動狀況 | 少女心文室 NEWS ROOM",
          "高海拔好抵達，露營還可探祕境 | 苗栗泰安 | 鑽石林露營區 | 露境隨俗去露營",
          "高解析度 iPhone 4 半透明圖標主題分享 | iPhone News 愛瘋了",
          "高雄【CHIC CAFE &pastry 奇可手作】漢神百貨 B3 夢幻義式美食料理.令人驚豔的義大利麵與PIZZA料理！ - 大眼電台 DaYan talk",
          "鬼壓床 | 睡眠癱瘓症 | 那些你可以注意的細節\n        | \n\n        李政洋身心診所",
          "鬼故事大全 - 有沒有覺得肩膀很重 ! 看完讓你不敢睡 !",
          "鮮蝦粉絲煲食譜 ，電鍋料理輕鬆上菜，新手料理推薦 - 職業觀光客 LISA",
          "鹽埕區 新糖庄之韓國雞蛋糕｜俏皮可愛花生燒、核桃燒 X 隱藏版下午茶點心 - 跟著尼力吃喝玩樂＆親子生活",
          "鹽水雞做法 ，在家變出夜市鹹水雞，衛生乾淨又好吃",
          "黃頷の王 -- 南蛇 @ 阿修羅的夜世界",
          "﹝新竹市北區食記﹞北門炸粿　傳承四代、百年老店的古早味銅板美食，卡滋作響不膩口的傳統簡單炸物好滋味　／有如一朵花的炸蒜頭(苗)／新竹國民銅板美食／新竹城隍廟周邊銅板美食／新竹百年老店",
          "｜﻿台北美食｜Rise Bakery麵包高cp值/信義安和站大馬路旁/巨大司康.肉桂捲.可頌/很搶手的麵包很快就賣完/建議先打電話預留! @ 𝙎𝙪 𝙀𝙀𝙖𝙩♘",
          "💰2021財運滾滾來！這星座只要躺著大把鈔票都會向他湧入",
          "3c科技",
          "健康運動",
          "娛樂遊戲",
          "寰宇綜合",
          "時尚美妝",
          "生活休閒",
          "美食旅遊",
          "親子育兒",
          "金融理財"
         ],
         "marker": {
          "coloraxis": "coloraxis",
          "colors": [
           0.008771929824561403,
           0.006711409395973154,
           0.006155950752393981,
           0.0030779753761969904,
           0.0030779753761969904,
           0.009233926128590971,
           0.0030779753761969904,
           0.008771929824561403,
           0.008771929824561403,
           0.010067114093959731,
           0.003355704697986577,
           0.03759398496240601,
           0.00749063670411985,
           0.015037593984962405,
           0.008771929824561403,
           0.003355704697986577,
           0.007518796992481203,
           0.015151515151515152,
           0.003355704697986577,
           0.003355704697986577,
           0.003355704697986577,
           0.003355704697986577,
           0.003745318352059925,
           0.0030779753761969904,
           0.010309278350515464,
           0.006155950752393981,
           0.01694915254237288,
           0.0030779753761969904,
           0.006711409395973154,
           0.003355704697986577,
           0.010309278350515464,
           0.006711409395973154,
           0.003355704697986577,
           0.003355704697986577,
           0.003355704697986577,
           0.058823529411764705,
           0.015389876880984952,
           0.01694915254237288,
           0.006711409395973154,
           0.0149812734082397,
           0.003355704697986577,
           0.010309278350515464,
           0.02631578947368421,
           0.00749063670411985,
           0.003355704697986577,
           0.003355704697986577,
           0.011235955056179775,
           0.0030779753761969904,
           0.003355704697986577,
           0.20338983050847462,
           0.0030779753761969904,
           0.0149812734082397,
           0.003745318352059925,
           0.018726591760299626,
           0.0149812734082397,
           0.003745318352059925,
           0.006155950752393981,
           0.003745318352059925,
           0.015037593984962405,
           0.007518796992481203,
           0.013422818791946308,
           0.003355704697986577,
           0.045112781954887216,
           0.006155950752393981,
           0.003745318352059925,
           0.003745318352059925,
           0.003745318352059925,
           0.006711409395973154,
           0.003355704697986577,
           0.003355704697986577,
           0.007518796992481203,
           0.008771929824561403,
           0.010067114093959731,
           0.010309278350515464,
           0.003355704697986577,
           0.0030779753761969904,
           0.003355704697986577,
           0.003355704697986577,
           0.007518796992481203,
           0.010067114093959731,
           0.007518796992481203,
           0.007518796992481203,
           0.003355704697986577,
           0.003355704697986577,
           0.003355704697986577,
           0.003355704697986577,
           0.003355704697986577,
           0.003355704697986577,
           0.003355704697986577,
           0.003355704697986577,
           0.003355704697986577,
           0.007518796992481203,
           0.007518796992481203,
           0.003355704697986577,
           0.007518796992481203,
           0.007518796992481203,
           0.007518796992481203,
           0.007518796992481203,
           0.007518796992481203,
           0.007518796992481203,
           0.007518796992481203,
           0.003355704697986577,
           0.007518796992481203,
           0.003355704697986577,
           0.007518796992481203,
           0.003355704697986577,
           0.007518796992481203,
           0.010309278350515464,
           0.010309278350515464,
           0.010309278350515464,
           0.010309278350515464,
           0.015037593984962405,
           0.006711409395973154,
           0.022556390977443608,
           0.0030779753761969904,
           0.012311901504787962,
           0.010309278350515464,
           0.003745318352059925,
           0.003745318352059925,
           0.003355704697986577,
           0.003355704697986577,
           0.003745318352059925,
           0.010309278350515464,
           0.007518796992481203,
           0.010309278350515464,
           0.003355704697986577,
           0.015151515151515152,
           0.01694915254237288,
           0.015151515151515152,
           0.015151515151515152,
           0.003745318352059925,
           0.003355704697986577,
           0.010309278350515464,
           0.003355704697986577,
           0.003355704697986577,
           0.006711409395973154,
           0.010309278350515464,
           0.017543859649122806,
           0.010309278350515464,
           0.0030779753761969904,
           0.010309278350515464,
           0.010309278350515464,
           0.0030779753761969904,
           0.007518796992481203,
           0.0436241610738255,
           0.061855670103092786,
           0.003745318352059925,
           0.010309278350515464,
           0.010309278350515464,
           0.01694915254237288,
           0.010309278350515464,
           0.010309278350515464,
           0.010309278350515464,
           0.010309278350515464,
           0.0030779753761969904,
           0.0030779753761969904,
           0.003745318352059925,
           0.006155950752393981,
           0.0030779753761969904,
           0.003355704697986577,
           0.00749063670411985,
           0.0030779753761969904,
           0.0030779753761969904,
           0.0030779753761969904,
           0.003745318352059925,
           0.010309278350515464,
           0.017543859649122806,
           0.008771929824561403,
           0.008771929824561403,
           0.008771929824561403,
           0.029411764705882353,
           0.007518796992481203,
           0.007518796992481203,
           0.003745318352059925,
           0.015151515151515152,
           0.010309278350515464,
           0.020618556701030927,
           0.006155950752393981,
           0.0030779753761969904,
           0.003745318352059925,
           0.0030779753761969904,
           0.008771929824561403,
           0.010309278350515464,
           0.0030779753761969904,
           0.01694915254237288,
           0.0030779753761969904,
           0.01694915254237288,
           0.0030779753761969904,
           0.0030779753761969904,
           0.003745318352059925,
           0.003745318352059925,
           0.0030779753761969904,
           0.015151515151515152,
           0.003745318352059925,
           0.003745318352059925,
           0.00749063670411985,
           0.03389830508474576,
           0.003745318352059925,
           0.010067114093959731,
           0.003745318352059925,
           0.003745318352059925,
           0.007518796992481203,
           0.003745318352059925,
           0.003355704697986577,
           0.003355704697986577,
           0.003355704697986577,
           0.003355704697986577,
           0.007518796992481203,
           0.00749063670411985,
           0.003745318352059925,
           0.003355704697986577,
           0.003355704697986577,
           0.003355704697986577,
           0.00749063670411985,
           0.02247191011235955,
           0.015151515151515152,
           0.010067114093959731,
           0.023489932885906038,
           0.006711409395973154,
           0.016778523489932886,
           0.003355704697986577,
           0.003745318352059925,
           0.003355704697986577,
           0.003355704697986577,
           0.003745318352059925,
           0.010067114093959731,
           0.003355704697986577,
           0.003745318352059925,
           0.003355704697986577,
           0.007518796992481203,
           0.00749063670411985,
           0.003355704697986577,
           0.003355704697986577,
           0.015151515151515152,
           0.02247191011235955,
           0.003745318352059925,
           0.003355704697986577,
           0.003745318352059925,
           0.006711409395973154,
           0.010309278350515464,
           0.07575757575757576,
           0.003355704697986577,
           0.008771929824561403,
           0.018726591760299626,
           0.0030779753761969904,
           0.007518796992481203,
           0.003355704697986577,
           0.0030779753761969904,
           0.017543859649122806,
           0.0030779753761969904,
           0.0030779753761969904,
           0.006155950752393981,
           0.0030779753761969904,
           0.0030779753761969904,
           0.003745318352059925,
           0.007518796992481203,
           0.003355704697986577,
           0.003745318352059925,
           0.006711409395973154,
           0.029411764705882353,
           0.029411764705882353,
           0.003355704697986577,
           0.024623803009575923,
           0.003355704697986577,
           0.003745318352059925,
           0.003745318352059925,
           0.007518796992481203,
           0.003745318352059925,
           0.003745318352059925,
           0.003745318352059925,
           0.010309278350515464,
           0.022556390977443608,
           0.003355704697986577,
           0.0030779753761969904,
           0.0030779753761969904,
           0.0030779753761969904,
           0.00749063670411985,
           0.0030779753761969904,
           0.0030779753761969904,
           0.00749063670411985,
           0.003745318352059925,
           0.003355704697986577,
           0.006711409395973154,
           0.003355704697986577,
           0.0030779753761969904,
           0.0030779753761969904,
           0.003355704697986577,
           0.0030779753761969904,
           0.01694915254237288,
           0.0030779753761969904,
           0.0030779753761969904,
           0.012311901504787962,
           0.009233926128590971,
           0.0030779753761969904,
           0.0030779753761969904,
           0.006155950752393981,
           0.003355704697986577,
           0.0030779753761969904,
           0.006155950752393981,
           0.030779753761969904,
           0.009233926128590971,
           0.0030779753761969904,
           0.0030779753761969904,
           0.006155950752393981,
           0.0030779753761969904,
           0.0030779753761969904,
           0.0030779753761969904,
           0.006155950752393981,
           0.007518796992481203,
           0.003355704697986577,
           0.003355704697986577,
           0.029411764705882353,
           0.003745318352059925,
           0.0030779753761969904,
           0.0030779753761969904,
           0.003745318352059925,
           0.029411764705882353,
           0.003745318352059925,
           0.003745318352059925,
           0.0030779753761969904,
           0.0030779753761969904,
           0.006155950752393981,
           0.015389876880984952,
           0.0030779753761969904,
           0.00749063670411985,
           0.0030779753761969904,
           0.015151515151515152,
           0.010309278350515464,
           0.003745318352059925,
           0.007518796992481203,
           0.007518796992481203,
           0.008771929824561403,
           0.0030779753761969904,
           0.0030779753761969904,
           0.0030779753761969904,
           0.007518796992481203,
           0.0030779753761969904,
           0.0030779753761969904,
           0.003745318352059925,
           0.003355704697986577,
           0.003355704697986577,
           0.003355704697986577,
           0.003745318352059925,
           0.003355704697986577,
           0.03007518796992481,
           0.01694915254237288,
           0.015037593984962405,
           0.003745318352059925,
           0.003745318352059925,
           0.0030779753761969904,
           0.009233926128590971,
           0.0030779753761969904,
           0.007518796992481203,
           0.0030779753761969904,
           0.006155950752393981,
           0.0030779753761969904,
           0.003355704697986577,
           0.20588235294117646,
           0.022556390977443608,
           0.007518796992481203,
           0.007518796992481203,
           0.006711409395973154,
           0.003355704697986577,
           0.030303030303030304,
           0.0030779753761969904,
           0.0030779753761969904,
           0.009233926128590971,
           0.007518796992481203,
           0.003355704697986577,
           0.007518796992481203,
           0.007518796992481203,
           0.015037593984962405,
           0.003355704697986577,
           0.015037593984962405,
           0.00749063670411985,
           0.003745318352059925,
           0.003745318352059925,
           0.029411764705882353,
           0.00749063670411985,
           0.007518796992481203,
           0.010067114093959731,
           0.003355704697986577,
           0.022556390977443608,
           0.008771929824561403,
           0.017543859649122806,
           0.006711409395973154,
           0.0030779753761969904,
           0.0030779753761969904,
           0.007518796992481203,
           0.018726591760299626,
           0.0030779753761969904,
           0.006711409395973154,
           0.006155950752393981,
           0.003745318352059925,
           0.022556390977443608,
           0.029411764705882353,
           0.003745318352059925,
           0.003355704697986577,
           0.015151515151515152,
           0.010309278350515464,
           0.007518796992481203,
           0.007518796992481203,
           0.01694915254237288,
           0.007518796992481203,
           0.007518796992481203,
           0.003745318352059925,
           0.003355704697986577,
           0.003355704697986577,
           0.03759398496240601,
           0.003355704697986577,
           0.003355704697986577,
           0.003355704697986577,
           0.003355704697986577,
           0.0030779753761969904,
           0.0030779753761969904,
           0.015151515151515152,
           0.003355704697986577,
           0.006155950752393981,
           0.030303030303030304,
           0.003745318352059925,
           0.0030779753761969904,
           0.011235955056179775,
           0.003355704697986577,
           0.0030779753761969904,
           0.006155950752393981,
           0.003355704697986577,
           0.029411764705882353,
           0.010309278350515464,
           0.003355704697986577,
           0.010309278350515464,
           0.008771929824561403,
           0.00749063670411985,
           0.003355704697986577,
           0.020618556701030927,
           0.0030779753761969904,
           0.030303030303030304,
           0.003355704697986577,
           0.008771929824561403,
           0.011235955056179775,
           0.003745318352059925,
           0.0030779753761969904,
           0.003355704697986577,
           0.0030779753761969904,
           0.003745318352059925,
           0.003355704697986577,
           0.003745318352059925,
           0.029411764705882353,
           0.03389830508474576,
           0.006711409395973154,
           0.003355704697986577,
           0.010309278350515464,
           0.010309278350515464,
           0.017543859649122806,
           0.008771929824561403,
           0.02631578947368421,
           0.0030779753761969904,
           0.023489932885906038,
           0.003745318352059925,
           0.003745318352059925,
           0.007518796992481203,
           0.13402061855670103,
           0.015151515151515152,
           0.015151515151515152,
           0.0030779753761969904,
           0.003745318352059925,
           0.003745318352059925,
           0.024623803009575923,
           0.008771929824561403,
           0.01694915254237288,
           0.003355704697986577,
           0.003355704697986577,
           0.0030779753761969904,
           0.003355704697986577,
           0.030303030303030304,
           0.030303030303030304,
           0.009233926128590971,
           0.007518796992481203,
           0.003745318352059925,
           0.010309278350515464,
           0.003745318352059925,
           0.010309278350515464,
           0.010309278350515464,
           0.003355704697986577,
           0.008771929824561403,
           0.003355704697986577,
           0.006711409395973154,
           0.003745318352059925,
           0.0030779753761969904,
           0.0030779753761969904,
           0.003355704697986577,
           0.003745318352059925,
           0.007518796992481203,
           0.007518796992481203,
           0.010067114093959731,
           0.003745318352059925,
           0.0030779753761969904,
           0.0030779753761969904,
           0.0030779753761969904,
           0.018467852257181942,
           0.012311901504787962,
           0.012311901504787962,
           0.0030779753761969904,
           0.0030779753761969904,
           0.0030779753761969904,
           0.006155950752393981,
           0.009233926128590971,
           0.00749063670411985,
           0.0030779753761969904,
           0.0030779753761969904,
           0.015151515151515152,
           0.0030779753761969904,
           0.008771929824561403,
           0.02631578947368421,
           0.01694915254237288,
           0.003745318352059925,
           0.008771929824561403,
           0.008771929824561403,
           0.015151515151515152,
           0.015151515151515152,
           0.008771929824561403,
           0.015151515151515152,
           0.008771929824561403,
           0.015151515151515152,
           0.003745318352059925,
           0.015151515151515152,
           0.015151515151515152,
           0.015151515151515152,
           0.02631578947368421,
           0.008771929824561403,
           0.003745318352059925,
           0.003355704697986577,
           0.003745318352059925,
           0.003745318352059925,
           0.003355704697986577,
           0.017543859649122806,
           0.010309278350515464,
           0.0030779753761969904,
           0.003355704697986577,
           0.029411764705882353,
           0.029411764705882353,
           0.003745318352059925,
           0.0030779753761969904,
           0.0030779753761969904,
           0.008891928864569083,
           0.0030779753761969904,
           0.0030779753761969904,
           0.015151515151515152,
           0.003355704697986577,
           0.003745318352059925,
           0.003355704697986577,
           0.02631578947368421,
           0.008771929824561403,
           0.00749063670411985,
           0.015151515151515152,
           0.0030779753761969904,
           0.029411764705882353,
           0.003745318352059925,
           0.0030779753761969904,
           0.003745318352059925,
           0.0030779753761969904,
           0.003355704697986577,
           0.0030779753761969904,
           0.008771929824561403,
           0.008771929824561403,
           0.010309278350515464,
           0.009233926128590971,
           0.007518796992481203,
           0.003745318352059925,
           0.003745318352059925,
           0.003745318352059925,
           0.01694915254237288,
           0.029411764705882353,
           0.00749063670411985,
           0.017543859649122806,
           0.008771929824561403,
           0.010067114093959731,
           0.008771929824561403,
           0.010067114093959731,
           0.017543859649122806,
           0.003745318352059925,
           0.0030779753761969904,
           0.003745318352059925,
           0.010309278350515464,
           0.0030779753761969904,
           0.0030779753761969904,
           0.01694915254237288,
           0.029411764705882353,
           0.003745318352059925,
           0.003745318352059925,
           0.05232558139534884,
           0.011235955056179775,
           0.015151515151515152,
           0.01694915254237288,
           0.01694915254237288,
           0.007518796992481203,
           0.007518796992481203,
           0.003355704697986577,
           0.029411764705882353,
           0.029411764705882353,
           0.029411764705882353,
           0.0030779753761969904,
           0.0030779753761969904,
           0.003745318352059925,
           0.0030779753761969904,
           0.003745318352059925,
           0.003745318352059925,
           0.003355704697986577,
           0.007518796992481203,
           0.003745318352059925,
           0.0030779753761969904,
           0.003745318352059925,
           0.003745318352059925,
           0.01694915254237288,
           0.006155950752393981,
           0.008771929824561403,
           0.0030779753761969904,
           0.006711409395973154,
           0.010309278350515464,
           0.006155950752393981,
           0.003745318352059925,
           0.003355704697986577,
           0.003745318352059925,
           0.00749063670411985,
           0.029411764705882353,
           0.015151515151515152,
           0.003745318352059925,
           0.003745318352059925,
           0.00749063670411985,
           0.0149812734082397,
           0.010067114093959731,
           0.015151515151515152,
           0.003745318352059925,
           0.006711409395973154,
           0.01694915254237288,
           0.003745318352059925,
           0.003745318352059925,
           0.0030779753761969904,
           0.007518796992481203,
           0.008771929824561403,
           0.003745318352059925,
           0.003745318352059925,
           0.015151515151515152,
           0.007518796992481203,
           0.006711409395973154,
           0.003745318352059925,
           0.003745318352059925,
           0.003355704697986577,
           0.008771929824561403,
           0.006711409395973154,
           0.003355704697986577,
           0.007518796992481203,
           0.003355704697986577,
           0.007518796992481203,
           0.007518796992481203,
           0.013422818791946308,
           0.017543859649122806,
           0.008771929824561403,
           0.003355704697986577,
           0.003745318352059925,
           0.010309278350515464,
           0.006155950752393981,
           0.0030779753761969904,
           0.003355704697986577,
           0.010309278350515464,
           0.017543859649122806,
           0.00749063670411985,
           0.0030779753761969904,
           0.0030779753761969904,
           0.0030779753761969904,
           0.0030779753761969904,
           0.007518796992481203,
           0.0030779753761969904,
           0.006155950752393981,
           0.0030779753761969904,
           0.017543859649122806,
           0.006711409395973154,
           0.01694915254237288,
           0.015151515151515152,
           0.00749063670411985,
           0.0030779753761969904,
           0.007518796992481203,
           0.003745318352059925,
           0.015151515151515152,
           0.008771929824561403,
           0.0030779753761969904,
           0.0847457627118644,
           0.003745318352059925,
           0.0030779753761969904,
           0.0030779753761969904,
           0.003355704697986577,
           0.01694915254237288,
           0.010309278350515464,
           0.007518796992481203,
           0.01694915254237288,
           0.0030779753761969904,
           0.003355704697986577,
           0.003355704697986577,
           0.0030779753761969904,
           0.0030779753761969904,
           0.003745318352059925,
           0.0030779753761969904,
           0.0030779753761969904,
           0.01694915254237288,
           0.006155950752393981,
           0.003745318352059925,
           0.12121212121212122,
           0.0030779753761969904,
           0.003745318352059925,
           0.010309278350515464,
           0.010309278350515464,
           0.01694915254237288,
           0.01694915254237288,
           0.0030779753761969904,
           0.003355704697986577,
           0.00749063670411985,
           0.0030779753761969904,
           0.007518796992481203,
           0.007518796992481203,
           0.0030779753761969904,
           0.003745318352059925,
           0.010309278350515464,
           0.007518796992481203,
           0.008771929824561403,
           0.008771929824561403,
           0.015151515151515152,
           0.006155950752393981,
           0.003745318352059925,
           0.011235955056179775,
           0.010309278350515464,
           0.010309278350515464,
           0.08771929824561403,
           0.003355704697986577,
           0.009233926128590971,
           0.008771929824561403,
           0.006711409395973154,
           0.007518796992481203,
           0.003355704697986577,
           0.003355704697986577,
           0.006155950752393981,
           0.0030779753761969904,
           0.003355704697986577,
           0.008771929824561403,
           0.006711409395973154,
           0.003355704697986577,
           0.003745318352059925,
           0.003355704697986577,
           0.007518796992481203,
           0.003355704697986577,
           0.008771929824561403,
           0.008771929824561403,
           0.030303030303030304,
           0.003745318352059925,
           0.00749063670411985,
           0.003355704697986577,
           0.003745318352059925,
           0.003355704697986577,
           0.003355704697986577,
           0.003745318352059925,
           0.003745318352059925,
           0.029411764705882353,
           0.006711409395973154,
           0.003355704697986577,
           0.008771929824561403,
           0.003745318352059925,
           0.003355704697986577,
           0.003355704697986577,
           0.03389830508474576,
           0.003355704697986577,
           0.010309278350515464,
           0.007518796992481203,
           0.003745318352059925,
           0.058823529411764705,
           0.02631578947368421,
           0.029411764705882353,
           0.007518796992481203,
           0.00749063670411985,
           0.007518796992481203,
           0.003355704697986577,
           0.006711409395973154,
           0.007518796992481203,
           0.00749063670411985,
           0.006711409395973154,
           0.003355704697986577,
           0.10169491525423731,
           0.010309278350515464,
           0.011235955056179775,
           0.010309278350515464,
           0.010309278350515464,
           0.010309278350515464,
           0.003745318352059925,
           0.020618556701030927,
           0.010309278350515464,
           0.003355704697986577,
           0.010309278350515464,
           0.003745318352059925,
           0.0030779753761969904,
           0.008771929824561403,
           0.007518796992481203,
           0.015037593984962405,
           0.008771929824561403,
           0.008771929824561403,
           0.0030779753761969904,
           0.015151515151515152,
           0.003355704697986577,
           0.003355704697986577,
           0.003745318352059925,
           0.011235955056179775,
           0.020618556701030927,
           0.003745318352059925,
           0.010309278350515464,
           0.015151515151515152,
           0.003745318352059925,
           0.007518796992481203,
           0.003745318352059925,
           0.003355704697986577,
           0.012311901504787962,
           0.006155950752393981,
           0.007518796992481203,
           0.003745318352059925,
           0.0030779753761969904,
           0.0030779753761969904,
           0.0030779753761969904,
           0.0030779753761969904,
           0.003355704697986577,
           0.010309278350515464,
           0.0030779753761969904,
           0.030303030303030304,
           0.0030779753761969904,
           0.0030779753761969904,
           0.007518796992481203,
           0.008771929824561403,
           0.003355704697986577,
           0.003355704697986577,
           0.003355704697986577,
           0.010067114093959731,
           0.006711409395973154,
           0.015151515151515152,
           0.008771929824561403,
           0.007518796992481203,
           0.003745318352059925,
           0.010309278350515464,
           0.022556390977443608,
           0.020618556701030927,
           0.020618556701030927,
           0.010309278350515464,
           0.010309278350515464,
           0.003745318352059925,
           0.007518796992481203,
           0.0149812734082397,
           0.029411764705882353,
           0.003355704697986577,
           0.015151515151515152,
           0.010309278350515464,
           0.029411764705882353,
           0.015151515151515152,
           0.008771929824561403,
           0.003355704697986577,
           0.01694915254237288,
           0.0149812734082397,
           0.008771929824561403,
           0.003355704697986577,
           0.03389830508474576,
           0.008771929824561403,
           0.008771929824561403,
           0.003745318352059925,
           0.003745318352059925,
           0.010309278350515464,
           0.015151515151515152,
           0.015151515151515152,
           0.003745318352059925,
           0.003745318352059925,
           0.018467852257181942,
           0.010309278350515464,
           0.008771929824561403,
           0.008771929824561403,
           0.03389830508474576,
           0.0030779753761969904,
           0.003355704697986577,
           0.043859649122807015,
           0.006155950752393981,
           0.006155950752393981,
           0.008771929824561403,
           0.003355704697986577,
           0.008771929824561403,
           0.008771929824561403,
           0.006711409395973154,
           0.006155950752393981,
           0.0030779753761969904,
           0.0030779753761969904,
           0.008771929824561403,
           0.003355704697986577,
           0.008771929824561403,
           0.003355704697986577,
           0.006711409395973154,
           0.003745318352059925,
           0.00749063670411985,
           0.003355704697986577,
           0.003355704697986577,
           0.003355704697986577,
           0.008771929824561403,
           0.0030779753761969904,
           0.003745318352059925,
           0.008771929824561403,
           0.008771929824561403,
           0.0030779753761969904,
           0.003745318352059925,
           0.015151515151515152,
           0.010309278350515464,
           0.003745318352059925,
           0.007518796992481203,
           0.010309278350515464,
           0.003745318352059925,
           0.0030779753761969904,
           0.03389830508474576,
           0.003355704697986577,
           0.003355704697986577,
           0.013422818791946308,
           0.00749063670411985,
           0.003355704697986577,
           0.003355704697986577,
           0.015389876880984952,
           0.003745318352059925,
           0.003745318352059925,
           0.003355704697986577,
           0.003355704697986577,
           0.003355704697986577,
           0.003745318352059925,
           0.007518796992481203,
           0.006711409395973154,
           0.003745318352059925,
           0.003745318352059925,
           0.007518796992481203,
           0.003745318352059925,
           0.029411764705882353,
           0.0030779753761969904,
           0.007518796992481203,
           0.003745318352059925,
           0.003355704697986577,
           0.0030779753761969904,
           0.010309278350515464,
           0.0030779753761969904,
           0.015151515151515152,
           0.007518796992481203,
           0.003745318352059925,
           0.0030779753761969904,
           0.003745318352059925,
           0.007518796992481203,
           0.0030779753761969904,
           0.0030779753761969904,
           0.011235955056179775,
           0.031352959931980014,
           0.03581267217630855,
           0.008175307418584752,
           0.01498106167674826,
           0.07268026429187018,
           0.00784132194307677,
           0.010367757003224417,
           0.06920415224913497,
           0.021698984302862406
          ]
         },
         "name": "",
         "parents": [
          "金融理財",
          "娛樂遊戲",
          "美食旅遊",
          "美食旅遊",
          "美食旅遊",
          "美食旅遊",
          "美食旅遊",
          "金融理財",
          "金融理財",
          "娛樂遊戲",
          "娛樂遊戲",
          "寰宇綜合",
          "生活休閒",
          "寰宇綜合",
          "金融理財",
          "娛樂遊戲",
          "寰宇綜合",
          "健康運動",
          "娛樂遊戲",
          "娛樂遊戲",
          "娛樂遊戲",
          "娛樂遊戲",
          "生活休閒",
          "美食旅遊",
          "3c科技",
          "美食旅遊",
          "時尚美妝",
          "美食旅遊",
          "娛樂遊戲",
          "娛樂遊戲",
          "3c科技",
          "娛樂遊戲",
          "娛樂遊戲",
          "娛樂遊戲",
          "娛樂遊戲",
          "親子育兒",
          "美食旅遊",
          "時尚美妝",
          "娛樂遊戲",
          "生活休閒",
          "娛樂遊戲",
          "3c科技",
          "金融理財",
          "生活休閒",
          "娛樂遊戲",
          "娛樂遊戲",
          "生活休閒",
          "美食旅遊",
          "娛樂遊戲",
          "時尚美妝",
          "美食旅遊",
          "生活休閒",
          "生活休閒",
          "生活休閒",
          "生活休閒",
          "生活休閒",
          "美食旅遊",
          "生活休閒",
          "寰宇綜合",
          "寰宇綜合",
          "娛樂遊戲",
          "娛樂遊戲",
          "寰宇綜合",
          "美食旅遊",
          "生活休閒",
          "生活休閒",
          "生活休閒",
          "娛樂遊戲",
          "娛樂遊戲",
          "娛樂遊戲",
          "寰宇綜合",
          "金融理財",
          "娛樂遊戲",
          "3c科技",
          "娛樂遊戲",
          "美食旅遊",
          "娛樂遊戲",
          "娛樂遊戲",
          "寰宇綜合",
          "娛樂遊戲",
          "寰宇綜合",
          "寰宇綜合",
          "娛樂遊戲",
          "娛樂遊戲",
          "娛樂遊戲",
          "娛樂遊戲",
          "娛樂遊戲",
          "娛樂遊戲",
          "娛樂遊戲",
          "娛樂遊戲",
          "娛樂遊戲",
          "寰宇綜合",
          "寰宇綜合",
          "娛樂遊戲",
          "寰宇綜合",
          "寰宇綜合",
          "寰宇綜合",
          "寰宇綜合",
          "寰宇綜合",
          "寰宇綜合",
          "寰宇綜合",
          "娛樂遊戲",
          "寰宇綜合",
          "娛樂遊戲",
          "寰宇綜合",
          "娛樂遊戲",
          "寰宇綜合",
          "3c科技",
          "3c科技",
          "3c科技",
          "3c科技",
          "寰宇綜合",
          "娛樂遊戲",
          "寰宇綜合",
          "美食旅遊",
          "美食旅遊",
          "3c科技",
          "生活休閒",
          "生活休閒",
          "娛樂遊戲",
          "娛樂遊戲",
          "生活休閒",
          "3c科技",
          "寰宇綜合",
          "3c科技",
          "娛樂遊戲",
          "健康運動",
          "時尚美妝",
          "健康運動",
          "健康運動",
          "生活休閒",
          "娛樂遊戲",
          "3c科技",
          "娛樂遊戲",
          "娛樂遊戲",
          "娛樂遊戲",
          "3c科技",
          "金融理財",
          "3c科技",
          "美食旅遊",
          "3c科技",
          "3c科技",
          "美食旅遊",
          "寰宇綜合",
          "娛樂遊戲",
          "3c科技",
          "生活休閒",
          "3c科技",
          "3c科技",
          "時尚美妝",
          "3c科技",
          "3c科技",
          "3c科技",
          "3c科技",
          "美食旅遊",
          "美食旅遊",
          "生活休閒",
          "美食旅遊",
          "美食旅遊",
          "娛樂遊戲",
          "生活休閒",
          "美食旅遊",
          "美食旅遊",
          "美食旅遊",
          "生活休閒",
          "3c科技",
          "金融理財",
          "金融理財",
          "金融理財",
          "金融理財",
          "親子育兒",
          "寰宇綜合",
          "寰宇綜合",
          "生活休閒",
          "健康運動",
          "3c科技",
          "3c科技",
          "美食旅遊",
          "美食旅遊",
          "生活休閒",
          "美食旅遊",
          "金融理財",
          "3c科技",
          "美食旅遊",
          "時尚美妝",
          "美食旅遊",
          "時尚美妝",
          "美食旅遊",
          "美食旅遊",
          "生活休閒",
          "生活休閒",
          "美食旅遊",
          "健康運動",
          "生活休閒",
          "生活休閒",
          "生活休閒",
          "時尚美妝",
          "生活休閒",
          "娛樂遊戲",
          "生活休閒",
          "生活休閒",
          "寰宇綜合",
          "生活休閒",
          "娛樂遊戲",
          "娛樂遊戲",
          "娛樂遊戲",
          "娛樂遊戲",
          "寰宇綜合",
          "生活休閒",
          "生活休閒",
          "娛樂遊戲",
          "娛樂遊戲",
          "娛樂遊戲",
          "生活休閒",
          "生活休閒",
          "健康運動",
          "娛樂遊戲",
          "娛樂遊戲",
          "娛樂遊戲",
          "娛樂遊戲",
          "娛樂遊戲",
          "生活休閒",
          "娛樂遊戲",
          "娛樂遊戲",
          "生活休閒",
          "娛樂遊戲",
          "娛樂遊戲",
          "生活休閒",
          "娛樂遊戲",
          "寰宇綜合",
          "生活休閒",
          "娛樂遊戲",
          "娛樂遊戲",
          "健康運動",
          "生活休閒",
          "生活休閒",
          "娛樂遊戲",
          "生活休閒",
          "娛樂遊戲",
          "3c科技",
          "健康運動",
          "娛樂遊戲",
          "金融理財",
          "生活休閒",
          "美食旅遊",
          "寰宇綜合",
          "娛樂遊戲",
          "美食旅遊",
          "金融理財",
          "美食旅遊",
          "美食旅遊",
          "美食旅遊",
          "美食旅遊",
          "美食旅遊",
          "生活休閒",
          "寰宇綜合",
          "娛樂遊戲",
          "生活休閒",
          "娛樂遊戲",
          "親子育兒",
          "親子育兒",
          "娛樂遊戲",
          "美食旅遊",
          "娛樂遊戲",
          "生活休閒",
          "生活休閒",
          "寰宇綜合",
          "生活休閒",
          "生活休閒",
          "生活休閒",
          "3c科技",
          "寰宇綜合",
          "娛樂遊戲",
          "美食旅遊",
          "美食旅遊",
          "美食旅遊",
          "生活休閒",
          "美食旅遊",
          "美食旅遊",
          "生活休閒",
          "生活休閒",
          "娛樂遊戲",
          "娛樂遊戲",
          "娛樂遊戲",
          "美食旅遊",
          "美食旅遊",
          "娛樂遊戲",
          "美食旅遊",
          "時尚美妝",
          "美食旅遊",
          "美食旅遊",
          "美食旅遊",
          "美食旅遊",
          "美食旅遊",
          "美食旅遊",
          "美食旅遊",
          "娛樂遊戲",
          "美食旅遊",
          "美食旅遊",
          "美食旅遊",
          "美食旅遊",
          "美食旅遊",
          "美食旅遊",
          "美食旅遊",
          "美食旅遊",
          "美食旅遊",
          "美食旅遊",
          "美食旅遊",
          "寰宇綜合",
          "娛樂遊戲",
          "娛樂遊戲",
          "親子育兒",
          "生活休閒",
          "美食旅遊",
          "美食旅遊",
          "生活休閒",
          "親子育兒",
          "生活休閒",
          "生活休閒",
          "美食旅遊",
          "美食旅遊",
          "美食旅遊",
          "美食旅遊",
          "美食旅遊",
          "生活休閒",
          "美食旅遊",
          "健康運動",
          "3c科技",
          "生活休閒",
          "寰宇綜合",
          "寰宇綜合",
          "金融理財",
          "美食旅遊",
          "美食旅遊",
          "美食旅遊",
          "寰宇綜合",
          "美食旅遊",
          "美食旅遊",
          "生活休閒",
          "娛樂遊戲",
          "娛樂遊戲",
          "娛樂遊戲",
          "生活休閒",
          "娛樂遊戲",
          "寰宇綜合",
          "時尚美妝",
          "寰宇綜合",
          "生活休閒",
          "生活休閒",
          "美食旅遊",
          "美食旅遊",
          "美食旅遊",
          "寰宇綜合",
          "美食旅遊",
          "美食旅遊",
          "美食旅遊",
          "娛樂遊戲",
          "親子育兒",
          "寰宇綜合",
          "寰宇綜合",
          "寰宇綜合",
          "娛樂遊戲",
          "娛樂遊戲",
          "健康運動",
          "美食旅遊",
          "美食旅遊",
          "美食旅遊",
          "寰宇綜合",
          "娛樂遊戲",
          "寰宇綜合",
          "寰宇綜合",
          "寰宇綜合",
          "娛樂遊戲",
          "寰宇綜合",
          "生活休閒",
          "生活休閒",
          "生活休閒",
          "親子育兒",
          "生活休閒",
          "寰宇綜合",
          "娛樂遊戲",
          "娛樂遊戲",
          "寰宇綜合",
          "金融理財",
          "金融理財",
          "娛樂遊戲",
          "美食旅遊",
          "美食旅遊",
          "寰宇綜合",
          "生活休閒",
          "美食旅遊",
          "娛樂遊戲",
          "美食旅遊",
          "生活休閒",
          "寰宇綜合",
          "親子育兒",
          "生活休閒",
          "娛樂遊戲",
          "健康運動",
          "3c科技",
          "寰宇綜合",
          "寰宇綜合",
          "時尚美妝",
          "寰宇綜合",
          "寰宇綜合",
          "生活休閒",
          "娛樂遊戲",
          "娛樂遊戲",
          "寰宇綜合",
          "娛樂遊戲",
          "娛樂遊戲",
          "娛樂遊戲",
          "娛樂遊戲",
          "美食旅遊",
          "美食旅遊",
          "健康運動",
          "娛樂遊戲",
          "美食旅遊",
          "健康運動",
          "生活休閒",
          "美食旅遊",
          "生活休閒",
          "娛樂遊戲",
          "美食旅遊",
          "美食旅遊",
          "娛樂遊戲",
          "親子育兒",
          "3c科技",
          "娛樂遊戲",
          "3c科技",
          "金融理財",
          "生活休閒",
          "娛樂遊戲",
          "3c科技",
          "美食旅遊",
          "健康運動",
          "娛樂遊戲",
          "金融理財",
          "生活休閒",
          "生活休閒",
          "美食旅遊",
          "娛樂遊戲",
          "美食旅遊",
          "生活休閒",
          "娛樂遊戲",
          "生活休閒",
          "親子育兒",
          "時尚美妝",
          "娛樂遊戲",
          "娛樂遊戲",
          "3c科技",
          "3c科技",
          "金融理財",
          "金融理財",
          "金融理財",
          "美食旅遊",
          "娛樂遊戲",
          "生活休閒",
          "生活休閒",
          "寰宇綜合",
          "3c科技",
          "健康運動",
          "健康運動",
          "美食旅遊",
          "生活休閒",
          "生活休閒",
          "美食旅遊",
          "金融理財",
          "時尚美妝",
          "娛樂遊戲",
          "娛樂遊戲",
          "美食旅遊",
          "娛樂遊戲",
          "健康運動",
          "健康運動",
          "美食旅遊",
          "寰宇綜合",
          "生活休閒",
          "3c科技",
          "生活休閒",
          "3c科技",
          "3c科技",
          "娛樂遊戲",
          "金融理財",
          "娛樂遊戲",
          "娛樂遊戲",
          "生活休閒",
          "美食旅遊",
          "美食旅遊",
          "娛樂遊戲",
          "生活休閒",
          "寰宇綜合",
          "寰宇綜合",
          "娛樂遊戲",
          "生活休閒",
          "美食旅遊",
          "美食旅遊",
          "美食旅遊",
          "美食旅遊",
          "美食旅遊",
          "美食旅遊",
          "美食旅遊",
          "美食旅遊",
          "美食旅遊",
          "美食旅遊",
          "美食旅遊",
          "生活休閒",
          "美食旅遊",
          "美食旅遊",
          "健康運動",
          "美食旅遊",
          "金融理財",
          "金融理財",
          "時尚美妝",
          "生活休閒",
          "金融理財",
          "金融理財",
          "健康運動",
          "健康運動",
          "金融理財",
          "健康運動",
          "金融理財",
          "健康運動",
          "生活休閒",
          "健康運動",
          "健康運動",
          "健康運動",
          "金融理財",
          "金融理財",
          "生活休閒",
          "娛樂遊戲",
          "生活休閒",
          "生活休閒",
          "娛樂遊戲",
          "金融理財",
          "3c科技",
          "美食旅遊",
          "娛樂遊戲",
          "親子育兒",
          "親子育兒",
          "生活休閒",
          "美食旅遊",
          "美食旅遊",
          "美食旅遊",
          "美食旅遊",
          "美食旅遊",
          "健康運動",
          "娛樂遊戲",
          "生活休閒",
          "娛樂遊戲",
          "金融理財",
          "金融理財",
          "生活休閒",
          "健康運動",
          "美食旅遊",
          "親子育兒",
          "生活休閒",
          "美食旅遊",
          "生活休閒",
          "美食旅遊",
          "娛樂遊戲",
          "美食旅遊",
          "金融理財",
          "金融理財",
          "3c科技",
          "美食旅遊",
          "寰宇綜合",
          "生活休閒",
          "生活休閒",
          "生活休閒",
          "時尚美妝",
          "親子育兒",
          "生活休閒",
          "金融理財",
          "金融理財",
          "娛樂遊戲",
          "金融理財",
          "娛樂遊戲",
          "金融理財",
          "生活休閒",
          "美食旅遊",
          "生活休閒",
          "3c科技",
          "美食旅遊",
          "美食旅遊",
          "時尚美妝",
          "親子育兒",
          "生活休閒",
          "生活休閒",
          "美食旅遊",
          "生活休閒",
          "健康運動",
          "時尚美妝",
          "時尚美妝",
          "寰宇綜合",
          "寰宇綜合",
          "娛樂遊戲",
          "親子育兒",
          "親子育兒",
          "親子育兒",
          "美食旅遊",
          "美食旅遊",
          "生活休閒",
          "美食旅遊",
          "生活休閒",
          "生活休閒",
          "娛樂遊戲",
          "寰宇綜合",
          "生活休閒",
          "美食旅遊",
          "生活休閒",
          "生活休閒",
          "時尚美妝",
          "美食旅遊",
          "金融理財",
          "美食旅遊",
          "娛樂遊戲",
          "3c科技",
          "美食旅遊",
          "生活休閒",
          "娛樂遊戲",
          "生活休閒",
          "生活休閒",
          "親子育兒",
          "健康運動",
          "生活休閒",
          "生活休閒",
          "生活休閒",
          "生活休閒",
          "娛樂遊戲",
          "健康運動",
          "生活休閒",
          "娛樂遊戲",
          "時尚美妝",
          "生活休閒",
          "生活休閒",
          "美食旅遊",
          "寰宇綜合",
          "金融理財",
          "生活休閒",
          "生活休閒",
          "健康運動",
          "寰宇綜合",
          "娛樂遊戲",
          "生活休閒",
          "生活休閒",
          "娛樂遊戲",
          "金融理財",
          "娛樂遊戲",
          "娛樂遊戲",
          "寰宇綜合",
          "娛樂遊戲",
          "寰宇綜合",
          "寰宇綜合",
          "娛樂遊戲",
          "金融理財",
          "金融理財",
          "娛樂遊戲",
          "生活休閒",
          "3c科技",
          "美食旅遊",
          "美食旅遊",
          "娛樂遊戲",
          "3c科技",
          "金融理財",
          "生活休閒",
          "美食旅遊",
          "美食旅遊",
          "美食旅遊",
          "美食旅遊",
          "寰宇綜合",
          "美食旅遊",
          "美食旅遊",
          "美食旅遊",
          "金融理財",
          "娛樂遊戲",
          "時尚美妝",
          "健康運動",
          "生活休閒",
          "美食旅遊",
          "寰宇綜合",
          "生活休閒",
          "健康運動",
          "金融理財",
          "美食旅遊",
          "時尚美妝",
          "生活休閒",
          "美食旅遊",
          "美食旅遊",
          "娛樂遊戲",
          "時尚美妝",
          "3c科技",
          "寰宇綜合",
          "時尚美妝",
          "美食旅遊",
          "娛樂遊戲",
          "娛樂遊戲",
          "美食旅遊",
          "美食旅遊",
          "生活休閒",
          "美食旅遊",
          "美食旅遊",
          "時尚美妝",
          "美食旅遊",
          "生活休閒",
          "健康運動",
          "美食旅遊",
          "生活休閒",
          "3c科技",
          "3c科技",
          "時尚美妝",
          "時尚美妝",
          "美食旅遊",
          "娛樂遊戲",
          "生活休閒",
          "美食旅遊",
          "寰宇綜合",
          "寰宇綜合",
          "美食旅遊",
          "生活休閒",
          "3c科技",
          "寰宇綜合",
          "金融理財",
          "金融理財",
          "健康運動",
          "美食旅遊",
          "生活休閒",
          "生活休閒",
          "3c科技",
          "3c科技",
          "金融理財",
          "娛樂遊戲",
          "美食旅遊",
          "金融理財",
          "娛樂遊戲",
          "寰宇綜合",
          "娛樂遊戲",
          "娛樂遊戲",
          "美食旅遊",
          "美食旅遊",
          "娛樂遊戲",
          "金融理財",
          "娛樂遊戲",
          "娛樂遊戲",
          "生活休閒",
          "娛樂遊戲",
          "寰宇綜合",
          "娛樂遊戲",
          "金融理財",
          "金融理財",
          "健康運動",
          "生活休閒",
          "生活休閒",
          "娛樂遊戲",
          "生活休閒",
          "娛樂遊戲",
          "娛樂遊戲",
          "生活休閒",
          "生活休閒",
          "親子育兒",
          "娛樂遊戲",
          "娛樂遊戲",
          "金融理財",
          "生活休閒",
          "娛樂遊戲",
          "娛樂遊戲",
          "時尚美妝",
          "娛樂遊戲",
          "3c科技",
          "寰宇綜合",
          "生活休閒",
          "親子育兒",
          "金融理財",
          "親子育兒",
          "寰宇綜合",
          "生活休閒",
          "寰宇綜合",
          "娛樂遊戲",
          "娛樂遊戲",
          "寰宇綜合",
          "生活休閒",
          "娛樂遊戲",
          "娛樂遊戲",
          "時尚美妝",
          "3c科技",
          "生活休閒",
          "3c科技",
          "3c科技",
          "3c科技",
          "生活休閒",
          "3c科技",
          "3c科技",
          "娛樂遊戲",
          "3c科技",
          "生活休閒",
          "美食旅遊",
          "金融理財",
          "寰宇綜合",
          "寰宇綜合",
          "金融理財",
          "金融理財",
          "美食旅遊",
          "健康運動",
          "娛樂遊戲",
          "娛樂遊戲",
          "生活休閒",
          "生活休閒",
          "3c科技",
          "生活休閒",
          "3c科技",
          "健康運動",
          "生活休閒",
          "寰宇綜合",
          "生活休閒",
          "娛樂遊戲",
          "美食旅遊",
          "美食旅遊",
          "寰宇綜合",
          "生活休閒",
          "美食旅遊",
          "美食旅遊",
          "美食旅遊",
          "美食旅遊",
          "娛樂遊戲",
          "3c科技",
          "美食旅遊",
          "健康運動",
          "美食旅遊",
          "美食旅遊",
          "寰宇綜合",
          "金融理財",
          "娛樂遊戲",
          "娛樂遊戲",
          "娛樂遊戲",
          "娛樂遊戲",
          "娛樂遊戲",
          "健康運動",
          "金融理財",
          "寰宇綜合",
          "生活休閒",
          "3c科技",
          "寰宇綜合",
          "3c科技",
          "3c科技",
          "3c科技",
          "3c科技",
          "生活休閒",
          "寰宇綜合",
          "生活休閒",
          "親子育兒",
          "娛樂遊戲",
          "健康運動",
          "3c科技",
          "親子育兒",
          "健康運動",
          "金融理財",
          "娛樂遊戲",
          "時尚美妝",
          "生活休閒",
          "金融理財",
          "娛樂遊戲",
          "時尚美妝",
          "金融理財",
          "金融理財",
          "生活休閒",
          "生活休閒",
          "3c科技",
          "健康運動",
          "健康運動",
          "生活休閒",
          "生活休閒",
          "美食旅遊",
          "3c科技",
          "金融理財",
          "金融理財",
          "時尚美妝",
          "美食旅遊",
          "娛樂遊戲",
          "金融理財",
          "美食旅遊",
          "美食旅遊",
          "金融理財",
          "娛樂遊戲",
          "金融理財",
          "金融理財",
          "娛樂遊戲",
          "美食旅遊",
          "美食旅遊",
          "美食旅遊",
          "金融理財",
          "娛樂遊戲",
          "金融理財",
          "娛樂遊戲",
          "娛樂遊戲",
          "生活休閒",
          "生活休閒",
          "娛樂遊戲",
          "娛樂遊戲",
          "娛樂遊戲",
          "金融理財",
          "美食旅遊",
          "生活休閒",
          "金融理財",
          "金融理財",
          "美食旅遊",
          "生活休閒",
          "健康運動",
          "3c科技",
          "生活休閒",
          "寰宇綜合",
          "3c科技",
          "生活休閒",
          "美食旅遊",
          "時尚美妝",
          "娛樂遊戲",
          "娛樂遊戲",
          "娛樂遊戲",
          "生活休閒",
          "娛樂遊戲",
          "娛樂遊戲",
          "美食旅遊",
          "生活休閒",
          "生活休閒",
          "娛樂遊戲",
          "娛樂遊戲",
          "娛樂遊戲",
          "生活休閒",
          "寰宇綜合",
          "娛樂遊戲",
          "生活休閒",
          "生活休閒",
          "寰宇綜合",
          "生活休閒",
          "親子育兒",
          "美食旅遊",
          "寰宇綜合",
          "生活休閒",
          "娛樂遊戲",
          "美食旅遊",
          "3c科技",
          "美食旅遊",
          "健康運動",
          "寰宇綜合",
          "生活休閒",
          "美食旅遊",
          "生活休閒",
          "寰宇綜合",
          "美食旅遊",
          "美食旅遊",
          "生活休閒",
          "",
          "",
          "",
          "",
          "",
          "",
          "",
          "",
          ""
         ],
         "type": "sunburst",
         "values": [
          0.008771929824561403,
          0.006711409395973154,
          0.006155950752393981,
          0.0030779753761969904,
          0.0030779753761969904,
          0.009233926128590971,
          0.0030779753761969904,
          0.008771929824561403,
          0.008771929824561403,
          0.010067114093959731,
          0.003355704697986577,
          0.03759398496240601,
          0.00749063670411985,
          0.015037593984962405,
          0.008771929824561403,
          0.003355704697986577,
          0.007518796992481203,
          0.015151515151515152,
          0.003355704697986577,
          0.003355704697986577,
          0.003355704697986577,
          0.003355704697986577,
          0.003745318352059925,
          0.0030779753761969904,
          0.010309278350515464,
          0.006155950752393981,
          0.01694915254237288,
          0.0030779753761969904,
          0.006711409395973154,
          0.003355704697986577,
          0.010309278350515464,
          0.006711409395973154,
          0.003355704697986577,
          0.003355704697986577,
          0.003355704697986577,
          0.058823529411764705,
          0.015389876880984952,
          0.01694915254237288,
          0.006711409395973154,
          0.0149812734082397,
          0.003355704697986577,
          0.010309278350515464,
          0.02631578947368421,
          0.00749063670411985,
          0.003355704697986577,
          0.003355704697986577,
          0.011235955056179775,
          0.0030779753761969904,
          0.003355704697986577,
          0.2033898305084746,
          0.0030779753761969904,
          0.0149812734082397,
          0.003745318352059925,
          0.018726591760299626,
          0.0149812734082397,
          0.003745318352059925,
          0.006155950752393981,
          0.003745318352059925,
          0.015037593984962405,
          0.007518796992481203,
          0.013422818791946308,
          0.003355704697986577,
          0.045112781954887216,
          0.006155950752393981,
          0.003745318352059925,
          0.003745318352059925,
          0.003745318352059925,
          0.006711409395973154,
          0.003355704697986577,
          0.003355704697986577,
          0.007518796992481203,
          0.008771929824561403,
          0.010067114093959731,
          0.010309278350515464,
          0.003355704697986577,
          0.0030779753761969904,
          0.003355704697986577,
          0.003355704697986577,
          0.007518796992481203,
          0.010067114093959731,
          0.007518796992481203,
          0.007518796992481203,
          0.003355704697986577,
          0.003355704697986577,
          0.003355704697986577,
          0.003355704697986577,
          0.003355704697986577,
          0.003355704697986577,
          0.003355704697986577,
          0.003355704697986577,
          0.003355704697986577,
          0.007518796992481203,
          0.007518796992481203,
          0.003355704697986577,
          0.007518796992481203,
          0.007518796992481203,
          0.007518796992481203,
          0.007518796992481203,
          0.007518796992481203,
          0.007518796992481203,
          0.007518796992481203,
          0.003355704697986577,
          0.007518796992481203,
          0.003355704697986577,
          0.007518796992481203,
          0.003355704697986577,
          0.007518796992481203,
          0.010309278350515464,
          0.010309278350515464,
          0.010309278350515464,
          0.010309278350515464,
          0.015037593984962405,
          0.006711409395973154,
          0.022556390977443608,
          0.0030779753761969904,
          0.012311901504787962,
          0.010309278350515464,
          0.003745318352059925,
          0.003745318352059925,
          0.003355704697986577,
          0.003355704697986577,
          0.003745318352059925,
          0.010309278350515464,
          0.007518796992481203,
          0.010309278350515464,
          0.003355704697986577,
          0.015151515151515152,
          0.01694915254237288,
          0.015151515151515152,
          0.015151515151515152,
          0.003745318352059925,
          0.003355704697986577,
          0.010309278350515464,
          0.003355704697986577,
          0.003355704697986577,
          0.006711409395973154,
          0.010309278350515464,
          0.017543859649122806,
          0.010309278350515464,
          0.0030779753761969904,
          0.010309278350515464,
          0.010309278350515464,
          0.0030779753761969904,
          0.007518796992481203,
          0.0436241610738255,
          0.061855670103092786,
          0.003745318352059925,
          0.010309278350515464,
          0.010309278350515464,
          0.01694915254237288,
          0.010309278350515464,
          0.010309278350515464,
          0.010309278350515464,
          0.010309278350515464,
          0.0030779753761969904,
          0.0030779753761969904,
          0.003745318352059925,
          0.006155950752393981,
          0.0030779753761969904,
          0.003355704697986577,
          0.00749063670411985,
          0.0030779753761969904,
          0.0030779753761969904,
          0.0030779753761969904,
          0.003745318352059925,
          0.010309278350515464,
          0.017543859649122806,
          0.008771929824561403,
          0.008771929824561403,
          0.008771929824561403,
          0.029411764705882353,
          0.007518796992481203,
          0.007518796992481203,
          0.003745318352059925,
          0.015151515151515152,
          0.010309278350515464,
          0.020618556701030927,
          0.006155950752393981,
          0.0030779753761969904,
          0.003745318352059925,
          0.0030779753761969904,
          0.008771929824561403,
          0.010309278350515464,
          0.0030779753761969904,
          0.01694915254237288,
          0.0030779753761969904,
          0.01694915254237288,
          0.0030779753761969904,
          0.0030779753761969904,
          0.003745318352059925,
          0.003745318352059925,
          0.0030779753761969904,
          0.015151515151515152,
          0.003745318352059925,
          0.003745318352059925,
          0.00749063670411985,
          0.03389830508474576,
          0.003745318352059925,
          0.010067114093959731,
          0.003745318352059925,
          0.003745318352059925,
          0.007518796992481203,
          0.003745318352059925,
          0.003355704697986577,
          0.003355704697986577,
          0.003355704697986577,
          0.003355704697986577,
          0.007518796992481203,
          0.00749063670411985,
          0.003745318352059925,
          0.003355704697986577,
          0.003355704697986577,
          0.003355704697986577,
          0.00749063670411985,
          0.02247191011235955,
          0.015151515151515152,
          0.010067114093959731,
          0.02348993288590604,
          0.006711409395973154,
          0.016778523489932886,
          0.003355704697986577,
          0.003745318352059925,
          0.003355704697986577,
          0.003355704697986577,
          0.003745318352059925,
          0.010067114093959731,
          0.003355704697986577,
          0.003745318352059925,
          0.003355704697986577,
          0.007518796992481203,
          0.00749063670411985,
          0.003355704697986577,
          0.003355704697986577,
          0.015151515151515152,
          0.02247191011235955,
          0.003745318352059925,
          0.003355704697986577,
          0.003745318352059925,
          0.006711409395973154,
          0.010309278350515464,
          0.07575757575757576,
          0.003355704697986577,
          0.008771929824561403,
          0.018726591760299626,
          0.0030779753761969904,
          0.007518796992481203,
          0.003355704697986577,
          0.0030779753761969904,
          0.017543859649122806,
          0.0030779753761969904,
          0.0030779753761969904,
          0.006155950752393981,
          0.0030779753761969904,
          0.0030779753761969904,
          0.003745318352059925,
          0.007518796992481203,
          0.003355704697986577,
          0.003745318352059925,
          0.006711409395973154,
          0.029411764705882353,
          0.029411764705882353,
          0.003355704697986577,
          0.024623803009575923,
          0.003355704697986577,
          0.003745318352059925,
          0.003745318352059925,
          0.007518796992481203,
          0.003745318352059925,
          0.003745318352059925,
          0.003745318352059925,
          0.010309278350515464,
          0.022556390977443608,
          0.003355704697986577,
          0.0030779753761969904,
          0.0030779753761969904,
          0.0030779753761969904,
          0.00749063670411985,
          0.0030779753761969904,
          0.0030779753761969904,
          0.00749063670411985,
          0.003745318352059925,
          0.003355704697986577,
          0.006711409395973154,
          0.003355704697986577,
          0.0030779753761969904,
          0.0030779753761969904,
          0.003355704697986577,
          0.0030779753761969904,
          0.01694915254237288,
          0.0030779753761969904,
          0.0030779753761969904,
          0.012311901504787962,
          0.009233926128590971,
          0.0030779753761969904,
          0.0030779753761969904,
          0.006155950752393981,
          0.003355704697986577,
          0.0030779753761969904,
          0.006155950752393981,
          0.030779753761969904,
          0.009233926128590971,
          0.0030779753761969904,
          0.0030779753761969904,
          0.006155950752393981,
          0.0030779753761969904,
          0.0030779753761969904,
          0.0030779753761969904,
          0.006155950752393981,
          0.007518796992481203,
          0.003355704697986577,
          0.003355704697986577,
          0.029411764705882353,
          0.003745318352059925,
          0.0030779753761969904,
          0.0030779753761969904,
          0.003745318352059925,
          0.029411764705882353,
          0.003745318352059925,
          0.003745318352059925,
          0.0030779753761969904,
          0.0030779753761969904,
          0.006155950752393981,
          0.015389876880984952,
          0.0030779753761969904,
          0.00749063670411985,
          0.0030779753761969904,
          0.015151515151515152,
          0.010309278350515464,
          0.003745318352059925,
          0.007518796992481203,
          0.007518796992481203,
          0.008771929824561403,
          0.0030779753761969904,
          0.0030779753761969904,
          0.0030779753761969904,
          0.007518796992481203,
          0.0030779753761969904,
          0.0030779753761969904,
          0.003745318352059925,
          0.003355704697986577,
          0.003355704697986577,
          0.003355704697986577,
          0.003745318352059925,
          0.003355704697986577,
          0.03007518796992481,
          0.01694915254237288,
          0.015037593984962405,
          0.003745318352059925,
          0.003745318352059925,
          0.0030779753761969904,
          0.009233926128590971,
          0.0030779753761969904,
          0.007518796992481203,
          0.0030779753761969904,
          0.006155950752393981,
          0.0030779753761969904,
          0.003355704697986577,
          0.20588235294117646,
          0.022556390977443608,
          0.007518796992481203,
          0.007518796992481203,
          0.006711409395973154,
          0.003355704697986577,
          0.030303030303030304,
          0.0030779753761969904,
          0.0030779753761969904,
          0.009233926128590971,
          0.007518796992481203,
          0.003355704697986577,
          0.007518796992481203,
          0.007518796992481203,
          0.015037593984962405,
          0.003355704697986577,
          0.015037593984962405,
          0.00749063670411985,
          0.003745318352059925,
          0.003745318352059925,
          0.029411764705882353,
          0.00749063670411985,
          0.007518796992481203,
          0.010067114093959731,
          0.003355704697986577,
          0.022556390977443608,
          0.008771929824561403,
          0.017543859649122806,
          0.006711409395973154,
          0.0030779753761969904,
          0.0030779753761969904,
          0.007518796992481203,
          0.018726591760299626,
          0.0030779753761969904,
          0.006711409395973154,
          0.006155950752393981,
          0.003745318352059925,
          0.022556390977443608,
          0.029411764705882353,
          0.003745318352059925,
          0.003355704697986577,
          0.015151515151515152,
          0.010309278350515464,
          0.007518796992481203,
          0.007518796992481203,
          0.01694915254237288,
          0.007518796992481203,
          0.007518796992481203,
          0.003745318352059925,
          0.003355704697986577,
          0.003355704697986577,
          0.03759398496240601,
          0.003355704697986577,
          0.003355704697986577,
          0.003355704697986577,
          0.003355704697986577,
          0.0030779753761969904,
          0.0030779753761969904,
          0.015151515151515152,
          0.003355704697986577,
          0.006155950752393981,
          0.030303030303030304,
          0.003745318352059925,
          0.0030779753761969904,
          0.011235955056179775,
          0.003355704697986577,
          0.0030779753761969904,
          0.006155950752393981,
          0.003355704697986577,
          0.029411764705882353,
          0.010309278350515464,
          0.003355704697986577,
          0.010309278350515464,
          0.008771929824561403,
          0.00749063670411985,
          0.003355704697986577,
          0.020618556701030927,
          0.0030779753761969904,
          0.030303030303030304,
          0.003355704697986577,
          0.008771929824561403,
          0.011235955056179775,
          0.003745318352059925,
          0.0030779753761969904,
          0.003355704697986577,
          0.0030779753761969904,
          0.003745318352059925,
          0.003355704697986577,
          0.003745318352059925,
          0.029411764705882353,
          0.03389830508474576,
          0.006711409395973154,
          0.003355704697986577,
          0.010309278350515464,
          0.010309278350515464,
          0.017543859649122806,
          0.008771929824561403,
          0.02631578947368421,
          0.0030779753761969904,
          0.02348993288590604,
          0.003745318352059925,
          0.003745318352059925,
          0.007518796992481203,
          0.13402061855670103,
          0.015151515151515152,
          0.015151515151515152,
          0.0030779753761969904,
          0.003745318352059925,
          0.003745318352059925,
          0.024623803009575923,
          0.008771929824561403,
          0.01694915254237288,
          0.003355704697986577,
          0.003355704697986577,
          0.0030779753761969904,
          0.003355704697986577,
          0.030303030303030304,
          0.030303030303030304,
          0.009233926128590971,
          0.007518796992481203,
          0.003745318352059925,
          0.010309278350515464,
          0.003745318352059925,
          0.010309278350515464,
          0.010309278350515464,
          0.003355704697986577,
          0.008771929824561403,
          0.003355704697986577,
          0.006711409395973154,
          0.003745318352059925,
          0.0030779753761969904,
          0.0030779753761969904,
          0.003355704697986577,
          0.003745318352059925,
          0.007518796992481203,
          0.007518796992481203,
          0.010067114093959731,
          0.003745318352059925,
          0.0030779753761969904,
          0.0030779753761969904,
          0.0030779753761969904,
          0.018467852257181942,
          0.012311901504787962,
          0.012311901504787962,
          0.0030779753761969904,
          0.0030779753761969904,
          0.0030779753761969904,
          0.006155950752393981,
          0.009233926128590971,
          0.00749063670411985,
          0.0030779753761969904,
          0.0030779753761969904,
          0.015151515151515152,
          0.0030779753761969904,
          0.008771929824561403,
          0.02631578947368421,
          0.01694915254237288,
          0.003745318352059925,
          0.008771929824561403,
          0.008771929824561403,
          0.015151515151515152,
          0.015151515151515152,
          0.008771929824561403,
          0.015151515151515152,
          0.008771929824561403,
          0.015151515151515152,
          0.003745318352059925,
          0.015151515151515152,
          0.015151515151515152,
          0.015151515151515152,
          0.02631578947368421,
          0.008771929824561403,
          0.003745318352059925,
          0.003355704697986577,
          0.003745318352059925,
          0.003745318352059925,
          0.003355704697986577,
          0.017543859649122806,
          0.010309278350515464,
          0.0030779753761969904,
          0.003355704697986577,
          0.029411764705882353,
          0.029411764705882353,
          0.003745318352059925,
          0.0030779753761969904,
          0.0030779753761969904,
          0.008891928864569083,
          0.0030779753761969904,
          0.0030779753761969904,
          0.015151515151515152,
          0.003355704697986577,
          0.003745318352059925,
          0.003355704697986577,
          0.02631578947368421,
          0.008771929824561403,
          0.00749063670411985,
          0.015151515151515152,
          0.0030779753761969904,
          0.029411764705882353,
          0.003745318352059925,
          0.0030779753761969904,
          0.003745318352059925,
          0.0030779753761969904,
          0.003355704697986577,
          0.0030779753761969904,
          0.008771929824561403,
          0.008771929824561403,
          0.010309278350515464,
          0.009233926128590971,
          0.007518796992481203,
          0.003745318352059925,
          0.003745318352059925,
          0.003745318352059925,
          0.01694915254237288,
          0.029411764705882353,
          0.00749063670411985,
          0.017543859649122806,
          0.008771929824561403,
          0.010067114093959731,
          0.008771929824561403,
          0.010067114093959731,
          0.017543859649122806,
          0.003745318352059925,
          0.0030779753761969904,
          0.003745318352059925,
          0.010309278350515464,
          0.0030779753761969904,
          0.0030779753761969904,
          0.01694915254237288,
          0.029411764705882353,
          0.003745318352059925,
          0.003745318352059925,
          0.05232558139534884,
          0.011235955056179775,
          0.015151515151515152,
          0.01694915254237288,
          0.01694915254237288,
          0.007518796992481203,
          0.007518796992481203,
          0.003355704697986577,
          0.029411764705882353,
          0.029411764705882353,
          0.029411764705882353,
          0.0030779753761969904,
          0.0030779753761969904,
          0.003745318352059925,
          0.0030779753761969904,
          0.003745318352059925,
          0.003745318352059925,
          0.003355704697986577,
          0.007518796992481203,
          0.003745318352059925,
          0.0030779753761969904,
          0.003745318352059925,
          0.003745318352059925,
          0.01694915254237288,
          0.006155950752393981,
          0.008771929824561403,
          0.0030779753761969904,
          0.006711409395973154,
          0.010309278350515464,
          0.006155950752393981,
          0.003745318352059925,
          0.003355704697986577,
          0.003745318352059925,
          0.00749063670411985,
          0.029411764705882353,
          0.015151515151515152,
          0.003745318352059925,
          0.003745318352059925,
          0.00749063670411985,
          0.0149812734082397,
          0.010067114093959731,
          0.015151515151515152,
          0.003745318352059925,
          0.006711409395973154,
          0.01694915254237288,
          0.003745318352059925,
          0.003745318352059925,
          0.0030779753761969904,
          0.007518796992481203,
          0.008771929824561403,
          0.003745318352059925,
          0.003745318352059925,
          0.015151515151515152,
          0.007518796992481203,
          0.006711409395973154,
          0.003745318352059925,
          0.003745318352059925,
          0.003355704697986577,
          0.008771929824561403,
          0.006711409395973154,
          0.003355704697986577,
          0.007518796992481203,
          0.003355704697986577,
          0.007518796992481203,
          0.007518796992481203,
          0.013422818791946308,
          0.017543859649122806,
          0.008771929824561403,
          0.003355704697986577,
          0.003745318352059925,
          0.010309278350515464,
          0.006155950752393981,
          0.0030779753761969904,
          0.003355704697986577,
          0.010309278350515464,
          0.017543859649122806,
          0.00749063670411985,
          0.0030779753761969904,
          0.0030779753761969904,
          0.0030779753761969904,
          0.0030779753761969904,
          0.007518796992481203,
          0.0030779753761969904,
          0.006155950752393981,
          0.0030779753761969904,
          0.017543859649122806,
          0.006711409395973154,
          0.01694915254237288,
          0.015151515151515152,
          0.00749063670411985,
          0.0030779753761969904,
          0.007518796992481203,
          0.003745318352059925,
          0.015151515151515152,
          0.008771929824561403,
          0.0030779753761969904,
          0.0847457627118644,
          0.003745318352059925,
          0.0030779753761969904,
          0.0030779753761969904,
          0.003355704697986577,
          0.01694915254237288,
          0.010309278350515464,
          0.007518796992481203,
          0.01694915254237288,
          0.0030779753761969904,
          0.003355704697986577,
          0.003355704697986577,
          0.0030779753761969904,
          0.0030779753761969904,
          0.003745318352059925,
          0.0030779753761969904,
          0.0030779753761969904,
          0.01694915254237288,
          0.006155950752393981,
          0.003745318352059925,
          0.12121212121212122,
          0.0030779753761969904,
          0.003745318352059925,
          0.010309278350515464,
          0.010309278350515464,
          0.01694915254237288,
          0.01694915254237288,
          0.0030779753761969904,
          0.003355704697986577,
          0.00749063670411985,
          0.0030779753761969904,
          0.007518796992481203,
          0.007518796992481203,
          0.0030779753761969904,
          0.003745318352059925,
          0.010309278350515464,
          0.007518796992481203,
          0.008771929824561403,
          0.008771929824561403,
          0.015151515151515152,
          0.006155950752393981,
          0.003745318352059925,
          0.011235955056179775,
          0.010309278350515464,
          0.010309278350515464,
          0.08771929824561403,
          0.003355704697986577,
          0.009233926128590971,
          0.008771929824561403,
          0.006711409395973154,
          0.007518796992481203,
          0.003355704697986577,
          0.003355704697986577,
          0.006155950752393981,
          0.0030779753761969904,
          0.003355704697986577,
          0.008771929824561403,
          0.006711409395973154,
          0.003355704697986577,
          0.003745318352059925,
          0.003355704697986577,
          0.007518796992481203,
          0.003355704697986577,
          0.008771929824561403,
          0.008771929824561403,
          0.030303030303030304,
          0.003745318352059925,
          0.00749063670411985,
          0.003355704697986577,
          0.003745318352059925,
          0.003355704697986577,
          0.003355704697986577,
          0.003745318352059925,
          0.003745318352059925,
          0.029411764705882353,
          0.006711409395973154,
          0.003355704697986577,
          0.008771929824561403,
          0.003745318352059925,
          0.003355704697986577,
          0.003355704697986577,
          0.03389830508474576,
          0.003355704697986577,
          0.010309278350515464,
          0.007518796992481203,
          0.003745318352059925,
          0.058823529411764705,
          0.02631578947368421,
          0.029411764705882353,
          0.007518796992481203,
          0.00749063670411985,
          0.007518796992481203,
          0.003355704697986577,
          0.006711409395973154,
          0.007518796992481203,
          0.00749063670411985,
          0.006711409395973154,
          0.003355704697986577,
          0.1016949152542373,
          0.010309278350515464,
          0.011235955056179775,
          0.010309278350515464,
          0.010309278350515464,
          0.010309278350515464,
          0.003745318352059925,
          0.020618556701030927,
          0.010309278350515464,
          0.003355704697986577,
          0.010309278350515464,
          0.003745318352059925,
          0.0030779753761969904,
          0.008771929824561403,
          0.007518796992481203,
          0.015037593984962405,
          0.008771929824561403,
          0.008771929824561403,
          0.0030779753761969904,
          0.015151515151515152,
          0.003355704697986577,
          0.003355704697986577,
          0.003745318352059925,
          0.011235955056179775,
          0.020618556701030927,
          0.003745318352059925,
          0.010309278350515464,
          0.015151515151515152,
          0.003745318352059925,
          0.007518796992481203,
          0.003745318352059925,
          0.003355704697986577,
          0.012311901504787962,
          0.006155950752393981,
          0.007518796992481203,
          0.003745318352059925,
          0.0030779753761969904,
          0.0030779753761969904,
          0.0030779753761969904,
          0.0030779753761969904,
          0.003355704697986577,
          0.010309278350515464,
          0.0030779753761969904,
          0.030303030303030304,
          0.0030779753761969904,
          0.0030779753761969904,
          0.007518796992481203,
          0.008771929824561403,
          0.003355704697986577,
          0.003355704697986577,
          0.003355704697986577,
          0.010067114093959731,
          0.006711409395973154,
          0.015151515151515152,
          0.008771929824561403,
          0.007518796992481203,
          0.003745318352059925,
          0.010309278350515464,
          0.022556390977443608,
          0.020618556701030927,
          0.020618556701030927,
          0.010309278350515464,
          0.010309278350515464,
          0.003745318352059925,
          0.007518796992481203,
          0.0149812734082397,
          0.029411764705882353,
          0.003355704697986577,
          0.015151515151515152,
          0.010309278350515464,
          0.029411764705882353,
          0.015151515151515152,
          0.008771929824561403,
          0.003355704697986577,
          0.01694915254237288,
          0.0149812734082397,
          0.008771929824561403,
          0.003355704697986577,
          0.03389830508474576,
          0.008771929824561403,
          0.008771929824561403,
          0.003745318352059925,
          0.003745318352059925,
          0.010309278350515464,
          0.015151515151515152,
          0.015151515151515152,
          0.003745318352059925,
          0.003745318352059925,
          0.018467852257181942,
          0.010309278350515464,
          0.008771929824561403,
          0.008771929824561403,
          0.03389830508474576,
          0.0030779753761969904,
          0.003355704697986577,
          0.043859649122807015,
          0.006155950752393981,
          0.006155950752393981,
          0.008771929824561403,
          0.003355704697986577,
          0.008771929824561403,
          0.008771929824561403,
          0.006711409395973154,
          0.006155950752393981,
          0.0030779753761969904,
          0.0030779753761969904,
          0.008771929824561403,
          0.003355704697986577,
          0.008771929824561403,
          0.003355704697986577,
          0.006711409395973154,
          0.003745318352059925,
          0.00749063670411985,
          0.003355704697986577,
          0.003355704697986577,
          0.003355704697986577,
          0.008771929824561403,
          0.0030779753761969904,
          0.003745318352059925,
          0.008771929824561403,
          0.008771929824561403,
          0.0030779753761969904,
          0.003745318352059925,
          0.015151515151515152,
          0.010309278350515464,
          0.003745318352059925,
          0.007518796992481203,
          0.010309278350515464,
          0.003745318352059925,
          0.0030779753761969904,
          0.03389830508474576,
          0.003355704697986577,
          0.003355704697986577,
          0.013422818791946308,
          0.00749063670411985,
          0.003355704697986577,
          0.003355704697986577,
          0.015389876880984952,
          0.003745318352059925,
          0.003745318352059925,
          0.003355704697986577,
          0.003355704697986577,
          0.003355704697986577,
          0.003745318352059925,
          0.007518796992481203,
          0.006711409395973154,
          0.003745318352059925,
          0.003745318352059925,
          0.007518796992481203,
          0.003745318352059925,
          0.029411764705882353,
          0.0030779753761969904,
          0.007518796992481203,
          0.003745318352059925,
          0.003355704697986577,
          0.0030779753761969904,
          0.010309278350515464,
          0.0030779753761969904,
          0.015151515151515152,
          0.007518796992481203,
          0.003745318352059925,
          0.0030779753761969904,
          0.003745318352059925,
          0.007518796992481203,
          0.0030779753761969904,
          0.0030779753761969904,
          0.011235955056179775,
          1,
          1,
          1,
          1,
          1,
          1,
          1,
          1,
          1
         ]
        }
       ],
       "layout": {
        "coloraxis": {
         "colorbar": {
          "title": {
           "text": "瀏覽量百分比"
          }
         },
         "colorscale": [
          [
           0,
           "rgb(253, 237, 176)"
          ],
          [
           0.09090909090909091,
           "rgb(250, 205, 145)"
          ],
          [
           0.18181818181818182,
           "rgb(246, 173, 119)"
          ],
          [
           0.2727272727272727,
           "rgb(240, 142, 98)"
          ],
          [
           0.36363636363636365,
           "rgb(231, 109, 84)"
          ],
          [
           0.45454545454545453,
           "rgb(216, 80, 83)"
          ],
          [
           0.5454545454545454,
           "rgb(195, 56, 90)"
          ],
          [
           0.6363636363636364,
           "rgb(168, 40, 96)"
          ],
          [
           0.7272727272727273,
           "rgb(138, 29, 99)"
          ],
          [
           0.8181818181818182,
           "rgb(107, 24, 93)"
          ],
          [
           0.9090909090909091,
           "rgb(76, 21, 80)"
          ],
          [
           1,
           "rgb(47, 15, 61)"
          ]
         ]
        },
        "legend": {
         "tracegroupgap": 0
        },
        "template": {
         "data": {
          "bar": [
           {
            "error_x": {
             "color": "#2a3f5f"
            },
            "error_y": {
             "color": "#2a3f5f"
            },
            "marker": {
             "line": {
              "color": "#E5ECF6",
              "width": 0.5
             },
             "pattern": {
              "fillmode": "overlay",
              "size": 10,
              "solidity": 0.2
             }
            },
            "type": "bar"
           }
          ],
          "barpolar": [
           {
            "marker": {
             "line": {
              "color": "#E5ECF6",
              "width": 0.5
             },
             "pattern": {
              "fillmode": "overlay",
              "size": 10,
              "solidity": 0.2
             }
            },
            "type": "barpolar"
           }
          ],
          "carpet": [
           {
            "aaxis": {
             "endlinecolor": "#2a3f5f",
             "gridcolor": "white",
             "linecolor": "white",
             "minorgridcolor": "white",
             "startlinecolor": "#2a3f5f"
            },
            "baxis": {
             "endlinecolor": "#2a3f5f",
             "gridcolor": "white",
             "linecolor": "white",
             "minorgridcolor": "white",
             "startlinecolor": "#2a3f5f"
            },
            "type": "carpet"
           }
          ],
          "choropleth": [
           {
            "colorbar": {
             "outlinewidth": 0,
             "ticks": ""
            },
            "type": "choropleth"
           }
          ],
          "contour": [
           {
            "colorbar": {
             "outlinewidth": 0,
             "ticks": ""
            },
            "colorscale": [
             [
              0,
              "#0d0887"
             ],
             [
              0.1111111111111111,
              "#46039f"
             ],
             [
              0.2222222222222222,
              "#7201a8"
             ],
             [
              0.3333333333333333,
              "#9c179e"
             ],
             [
              0.4444444444444444,
              "#bd3786"
             ],
             [
              0.5555555555555556,
              "#d8576b"
             ],
             [
              0.6666666666666666,
              "#ed7953"
             ],
             [
              0.7777777777777778,
              "#fb9f3a"
             ],
             [
              0.8888888888888888,
              "#fdca26"
             ],
             [
              1,
              "#f0f921"
             ]
            ],
            "type": "contour"
           }
          ],
          "contourcarpet": [
           {
            "colorbar": {
             "outlinewidth": 0,
             "ticks": ""
            },
            "type": "contourcarpet"
           }
          ],
          "heatmap": [
           {
            "colorbar": {
             "outlinewidth": 0,
             "ticks": ""
            },
            "colorscale": [
             [
              0,
              "#0d0887"
             ],
             [
              0.1111111111111111,
              "#46039f"
             ],
             [
              0.2222222222222222,
              "#7201a8"
             ],
             [
              0.3333333333333333,
              "#9c179e"
             ],
             [
              0.4444444444444444,
              "#bd3786"
             ],
             [
              0.5555555555555556,
              "#d8576b"
             ],
             [
              0.6666666666666666,
              "#ed7953"
             ],
             [
              0.7777777777777778,
              "#fb9f3a"
             ],
             [
              0.8888888888888888,
              "#fdca26"
             ],
             [
              1,
              "#f0f921"
             ]
            ],
            "type": "heatmap"
           }
          ],
          "heatmapgl": [
           {
            "colorbar": {
             "outlinewidth": 0,
             "ticks": ""
            },
            "colorscale": [
             [
              0,
              "#0d0887"
             ],
             [
              0.1111111111111111,
              "#46039f"
             ],
             [
              0.2222222222222222,
              "#7201a8"
             ],
             [
              0.3333333333333333,
              "#9c179e"
             ],
             [
              0.4444444444444444,
              "#bd3786"
             ],
             [
              0.5555555555555556,
              "#d8576b"
             ],
             [
              0.6666666666666666,
              "#ed7953"
             ],
             [
              0.7777777777777778,
              "#fb9f3a"
             ],
             [
              0.8888888888888888,
              "#fdca26"
             ],
             [
              1,
              "#f0f921"
             ]
            ],
            "type": "heatmapgl"
           }
          ],
          "histogram": [
           {
            "marker": {
             "pattern": {
              "fillmode": "overlay",
              "size": 10,
              "solidity": 0.2
             }
            },
            "type": "histogram"
           }
          ],
          "histogram2d": [
           {
            "colorbar": {
             "outlinewidth": 0,
             "ticks": ""
            },
            "colorscale": [
             [
              0,
              "#0d0887"
             ],
             [
              0.1111111111111111,
              "#46039f"
             ],
             [
              0.2222222222222222,
              "#7201a8"
             ],
             [
              0.3333333333333333,
              "#9c179e"
             ],
             [
              0.4444444444444444,
              "#bd3786"
             ],
             [
              0.5555555555555556,
              "#d8576b"
             ],
             [
              0.6666666666666666,
              "#ed7953"
             ],
             [
              0.7777777777777778,
              "#fb9f3a"
             ],
             [
              0.8888888888888888,
              "#fdca26"
             ],
             [
              1,
              "#f0f921"
             ]
            ],
            "type": "histogram2d"
           }
          ],
          "histogram2dcontour": [
           {
            "colorbar": {
             "outlinewidth": 0,
             "ticks": ""
            },
            "colorscale": [
             [
              0,
              "#0d0887"
             ],
             [
              0.1111111111111111,
              "#46039f"
             ],
             [
              0.2222222222222222,
              "#7201a8"
             ],
             [
              0.3333333333333333,
              "#9c179e"
             ],
             [
              0.4444444444444444,
              "#bd3786"
             ],
             [
              0.5555555555555556,
              "#d8576b"
             ],
             [
              0.6666666666666666,
              "#ed7953"
             ],
             [
              0.7777777777777778,
              "#fb9f3a"
             ],
             [
              0.8888888888888888,
              "#fdca26"
             ],
             [
              1,
              "#f0f921"
             ]
            ],
            "type": "histogram2dcontour"
           }
          ],
          "mesh3d": [
           {
            "colorbar": {
             "outlinewidth": 0,
             "ticks": ""
            },
            "type": "mesh3d"
           }
          ],
          "parcoords": [
           {
            "line": {
             "colorbar": {
              "outlinewidth": 0,
              "ticks": ""
             }
            },
            "type": "parcoords"
           }
          ],
          "pie": [
           {
            "automargin": true,
            "type": "pie"
           }
          ],
          "scatter": [
           {
            "marker": {
             "colorbar": {
              "outlinewidth": 0,
              "ticks": ""
             }
            },
            "type": "scatter"
           }
          ],
          "scatter3d": [
           {
            "line": {
             "colorbar": {
              "outlinewidth": 0,
              "ticks": ""
             }
            },
            "marker": {
             "colorbar": {
              "outlinewidth": 0,
              "ticks": ""
             }
            },
            "type": "scatter3d"
           }
          ],
          "scattercarpet": [
           {
            "marker": {
             "colorbar": {
              "outlinewidth": 0,
              "ticks": ""
             }
            },
            "type": "scattercarpet"
           }
          ],
          "scattergeo": [
           {
            "marker": {
             "colorbar": {
              "outlinewidth": 0,
              "ticks": ""
             }
            },
            "type": "scattergeo"
           }
          ],
          "scattergl": [
           {
            "marker": {
             "colorbar": {
              "outlinewidth": 0,
              "ticks": ""
             }
            },
            "type": "scattergl"
           }
          ],
          "scattermapbox": [
           {
            "marker": {
             "colorbar": {
              "outlinewidth": 0,
              "ticks": ""
             }
            },
            "type": "scattermapbox"
           }
          ],
          "scatterpolar": [
           {
            "marker": {
             "colorbar": {
              "outlinewidth": 0,
              "ticks": ""
             }
            },
            "type": "scatterpolar"
           }
          ],
          "scatterpolargl": [
           {
            "marker": {
             "colorbar": {
              "outlinewidth": 0,
              "ticks": ""
             }
            },
            "type": "scatterpolargl"
           }
          ],
          "scatterternary": [
           {
            "marker": {
             "colorbar": {
              "outlinewidth": 0,
              "ticks": ""
             }
            },
            "type": "scatterternary"
           }
          ],
          "surface": [
           {
            "colorbar": {
             "outlinewidth": 0,
             "ticks": ""
            },
            "colorscale": [
             [
              0,
              "#0d0887"
             ],
             [
              0.1111111111111111,
              "#46039f"
             ],
             [
              0.2222222222222222,
              "#7201a8"
             ],
             [
              0.3333333333333333,
              "#9c179e"
             ],
             [
              0.4444444444444444,
              "#bd3786"
             ],
             [
              0.5555555555555556,
              "#d8576b"
             ],
             [
              0.6666666666666666,
              "#ed7953"
             ],
             [
              0.7777777777777778,
              "#fb9f3a"
             ],
             [
              0.8888888888888888,
              "#fdca26"
             ],
             [
              1,
              "#f0f921"
             ]
            ],
            "type": "surface"
           }
          ],
          "table": [
           {
            "cells": {
             "fill": {
              "color": "#EBF0F8"
             },
             "line": {
              "color": "white"
             }
            },
            "header": {
             "fill": {
              "color": "#C8D4E3"
             },
             "line": {
              "color": "white"
             }
            },
            "type": "table"
           }
          ]
         },
         "layout": {
          "annotationdefaults": {
           "arrowcolor": "#2a3f5f",
           "arrowhead": 0,
           "arrowwidth": 1
          },
          "autotypenumbers": "strict",
          "coloraxis": {
           "colorbar": {
            "outlinewidth": 0,
            "ticks": ""
           }
          },
          "colorscale": {
           "diverging": [
            [
             0,
             "#8e0152"
            ],
            [
             0.1,
             "#c51b7d"
            ],
            [
             0.2,
             "#de77ae"
            ],
            [
             0.3,
             "#f1b6da"
            ],
            [
             0.4,
             "#fde0ef"
            ],
            [
             0.5,
             "#f7f7f7"
            ],
            [
             0.6,
             "#e6f5d0"
            ],
            [
             0.7,
             "#b8e186"
            ],
            [
             0.8,
             "#7fbc41"
            ],
            [
             0.9,
             "#4d9221"
            ],
            [
             1,
             "#276419"
            ]
           ],
           "sequential": [
            [
             0,
             "#0d0887"
            ],
            [
             0.1111111111111111,
             "#46039f"
            ],
            [
             0.2222222222222222,
             "#7201a8"
            ],
            [
             0.3333333333333333,
             "#9c179e"
            ],
            [
             0.4444444444444444,
             "#bd3786"
            ],
            [
             0.5555555555555556,
             "#d8576b"
            ],
            [
             0.6666666666666666,
             "#ed7953"
            ],
            [
             0.7777777777777778,
             "#fb9f3a"
            ],
            [
             0.8888888888888888,
             "#fdca26"
            ],
            [
             1,
             "#f0f921"
            ]
           ],
           "sequentialminus": [
            [
             0,
             "#0d0887"
            ],
            [
             0.1111111111111111,
             "#46039f"
            ],
            [
             0.2222222222222222,
             "#7201a8"
            ],
            [
             0.3333333333333333,
             "#9c179e"
            ],
            [
             0.4444444444444444,
             "#bd3786"
            ],
            [
             0.5555555555555556,
             "#d8576b"
            ],
            [
             0.6666666666666666,
             "#ed7953"
            ],
            [
             0.7777777777777778,
             "#fb9f3a"
            ],
            [
             0.8888888888888888,
             "#fdca26"
            ],
            [
             1,
             "#f0f921"
            ]
           ]
          },
          "colorway": [
           "#636efa",
           "#EF553B",
           "#00cc96",
           "#ab63fa",
           "#FFA15A",
           "#19d3f3",
           "#FF6692",
           "#B6E880",
           "#FF97FF",
           "#FECB52"
          ],
          "font": {
           "color": "#2a3f5f"
          },
          "geo": {
           "bgcolor": "white",
           "lakecolor": "white",
           "landcolor": "#E5ECF6",
           "showlakes": true,
           "showland": true,
           "subunitcolor": "white"
          },
          "hoverlabel": {
           "align": "left"
          },
          "hovermode": "closest",
          "mapbox": {
           "style": "light"
          },
          "paper_bgcolor": "white",
          "plot_bgcolor": "#E5ECF6",
          "polar": {
           "angularaxis": {
            "gridcolor": "white",
            "linecolor": "white",
            "ticks": ""
           },
           "bgcolor": "#E5ECF6",
           "radialaxis": {
            "gridcolor": "white",
            "linecolor": "white",
            "ticks": ""
           }
          },
          "scene": {
           "xaxis": {
            "backgroundcolor": "#E5ECF6",
            "gridcolor": "white",
            "gridwidth": 2,
            "linecolor": "white",
            "showbackground": true,
            "ticks": "",
            "zerolinecolor": "white"
           },
           "yaxis": {
            "backgroundcolor": "#E5ECF6",
            "gridcolor": "white",
            "gridwidth": 2,
            "linecolor": "white",
            "showbackground": true,
            "ticks": "",
            "zerolinecolor": "white"
           },
           "zaxis": {
            "backgroundcolor": "#E5ECF6",
            "gridcolor": "white",
            "gridwidth": 2,
            "linecolor": "white",
            "showbackground": true,
            "ticks": "",
            "zerolinecolor": "white"
           }
          },
          "shapedefaults": {
           "line": {
            "color": "#2a3f5f"
           }
          },
          "ternary": {
           "aaxis": {
            "gridcolor": "white",
            "linecolor": "white",
            "ticks": ""
           },
           "baxis": {
            "gridcolor": "white",
            "linecolor": "white",
            "ticks": ""
           },
           "bgcolor": "#E5ECF6",
           "caxis": {
            "gridcolor": "white",
            "linecolor": "white",
            "ticks": ""
           }
          },
          "title": {
           "x": 0.05
          },
          "xaxis": {
           "automargin": true,
           "gridcolor": "white",
           "linecolor": "white",
           "ticks": "",
           "title": {
            "standoff": 15
           },
           "zerolinecolor": "white",
           "zerolinewidth": 2
          },
          "yaxis": {
           "automargin": true,
           "gridcolor": "white",
           "linecolor": "white",
           "ticks": "",
           "title": {
            "standoff": 15
           },
           "zerolinecolor": "white",
           "zerolinewidth": 2
          }
         }
        },
        "title": {
         "text": "2021_各頻道瀏覽量分佈以及各頻道底下文章瀏覽量比例朝陽圖(WR會員)_1"
        }
       }
      }
     },
     "metadata": {}
    },
    {
     "output_type": "execute_result",
     "data": {
      "text/plain": [
       "'2021_各頻道瀏覽量分佈以及各頻道底下文章瀏覽量比例朝陽圖(WR會員)_1.html'"
      ]
     },
     "metadata": {},
     "execution_count": 147
    }
   ],
   "metadata": {}
  },
  {
   "cell_type": "code",
   "execution_count": null,
   "source": [],
   "outputs": [],
   "metadata": {}
  }
 ],
 "metadata": {
  "orig_nbformat": 4,
  "language_info": {
   "name": "python",
   "version": "3.7.9",
   "mimetype": "text/x-python",
   "codemirror_mode": {
    "name": "ipython",
    "version": 3
   },
   "pygments_lexer": "ipython3",
   "nbconvert_exporter": "python",
   "file_extension": ".py"
  },
  "kernelspec": {
   "name": "python3",
   "display_name": "Python 3.7.9 64-bit"
  },
  "interpreter": {
   "hash": "959132b49615f13f630dc734f9094f552b96240b5e799cd7fd7b08689b4b82c5"
  }
 },
 "nbformat": 4,
 "nbformat_minor": 2
}